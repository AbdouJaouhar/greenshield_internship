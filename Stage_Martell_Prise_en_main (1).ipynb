{
  "nbformat": 4,
  "nbformat_minor": 0,
  "metadata": {
    "colab": {
      "name": "Stage Martell - Prise en main.ipynb",
      "provenance": [],
      "collapsed_sections": [
        "T68SAxakVy2X",
        "Gjs_bwIemGhY",
        "Y3ZPMelhFE1o"
      ],
      "toc_visible": true
    },
    "kernelspec": {
      "name": "python3",
      "display_name": "Python 3"
    }
  },
  "cells": [
    {
      "cell_type": "markdown",
      "metadata": {
        "id": "oRKKTmJENMU6",
        "colab_type": "text"
      },
      "source": [
        "# Init"
      ]
    },
    {
      "cell_type": "code",
      "metadata": {
        "id": "Ib42zjr28o13",
        "colab_type": "code",
        "outputId": "f9d339a2-4416-4944-e266-d52b0742889c",
        "colab": {
          "base_uri": "https://localhost:8080/",
          "height": 207
        }
      },
      "source": [
        "!gcloud auth login"
      ],
      "execution_count": 1,
      "outputs": [
        {
          "output_type": "stream",
          "text": [
            "Go to the following link in your browser:\n",
            "\n",
            "    https://accounts.google.com/o/oauth2/auth?code_challenge=euYQH5W5vQ5oDumQZ3Sp518CULt9ikt0-e8mnj5YXAk&prompt=select_account&code_challenge_method=S256&access_type=offline&redirect_uri=urn%3Aietf%3Awg%3Aoauth%3A2.0%3Aoob&response_type=code&client_id=32555940559.apps.googleusercontent.com&scope=openid+https%3A%2F%2Fwww.googleapis.com%2Fauth%2Fuserinfo.email+https%3A%2F%2Fwww.googleapis.com%2Fauth%2Fcloud-platform+https%3A%2F%2Fwww.googleapis.com%2Fauth%2Fappengine.admin+https%3A%2F%2Fwww.googleapis.com%2Fauth%2Fcompute+https%3A%2F%2Fwww.googleapis.com%2Fauth%2Faccounts.reauth\n",
            "\n",
            "\n",
            "Enter verification code: 4/ygG-GZyNALAKF5m5kCihL3N4hrEebZOf1B-dFScktAk3-hk0B8Khnmg\n",
            "\n",
            "You are now logged in as [abdou.jaouhar@greenshield.fr].\n",
            "Your current project is [None].  You can change this setting by running:\n",
            "  $ gcloud config set project PROJECT_ID\n"
          ],
          "name": "stdout"
        }
      ]
    },
    {
      "cell_type": "code",
      "metadata": {
        "id": "2nIoV7dyziyd",
        "colab_type": "code",
        "outputId": "25d8b6ed-0240-496c-b9df-2c05a480cc7c",
        "colab": {
          "base_uri": "https://localhost:8080/",
          "height": 204
        }
      },
      "source": [
        "!wget https://dl.google.com/cloudsql/cloud_sql_proxy.linux.amd64 -O cloud_sql_proxy\n",
        "!chmod +x cloud_sql_proxy   "
      ],
      "execution_count": 2,
      "outputs": [
        {
          "output_type": "stream",
          "text": [
            "--2020-04-10 09:23:37--  https://dl.google.com/cloudsql/cloud_sql_proxy.linux.amd64\n",
            "Resolving dl.google.com (dl.google.com)... 74.125.20.190, 74.125.20.136, 74.125.20.91, ...\n",
            "Connecting to dl.google.com (dl.google.com)|74.125.20.190|:443... connected.\n",
            "HTTP request sent, awaiting response... 200 OK\n",
            "Length: 14492253 (14M) [application/octet-stream]\n",
            "Saving to: ‘cloud_sql_proxy’\n",
            "\n",
            "\rcloud_sql_proxy       0%[                    ]       0  --.-KB/s               \rcloud_sql_proxy     100%[===================>]  13.82M  --.-KB/s    in 0.04s   \n",
            "\n",
            "2020-04-10 09:23:37 (327 MB/s) - ‘cloud_sql_proxy’ saved [14492253/14492253]\n",
            "\n"
          ],
          "name": "stdout"
        }
      ]
    },
    {
      "cell_type": "code",
      "metadata": {
        "id": "bV3aaDrRztdR",
        "colab_type": "code",
        "outputId": "85aed86f-1b17-4c5c-caa2-9e192ca9ecd9",
        "colab": {
          "base_uri": "https://localhost:8080/",
          "height": 34
        }
      },
      "source": [
        "!nohup ./cloud_sql_proxy -instances=smooth-maxim-228913:europe-west1:datalex-sql=tcp:3307 &"
      ],
      "execution_count": 3,
      "outputs": [
        {
          "output_type": "stream",
          "text": [
            "nohup: appending output to 'nohup.out'\n"
          ],
          "name": "stdout"
        }
      ]
    },
    {
      "cell_type": "code",
      "metadata": {
        "id": "ZsiyUPSS0GYg",
        "colab_type": "code",
        "outputId": "97efbdd2-e0af-412c-f352-71e0e557e4a9",
        "colab": {
          "base_uri": "https://localhost:8080/",
          "height": 102
        }
      },
      "source": [
        "!pip install pymysql"
      ],
      "execution_count": 7,
      "outputs": [
        {
          "output_type": "stream",
          "text": [
            "Collecting pymysql\n",
            "\u001b[?25l  Downloading https://files.pythonhosted.org/packages/ed/39/15045ae46f2a123019aa968dfcba0396c161c20f855f11dea6796bcaae95/PyMySQL-0.9.3-py2.py3-none-any.whl (47kB)\n",
            "\r\u001b[K     |██████▉                         | 10kB 20.7MB/s eta 0:00:01\r\u001b[K     |█████████████▊                  | 20kB 3.1MB/s eta 0:00:01\r\u001b[K     |████████████████████▋           | 30kB 3.7MB/s eta 0:00:01\r\u001b[K     |███████████████████████████▌    | 40kB 3.0MB/s eta 0:00:01\r\u001b[K     |████████████████████████████████| 51kB 2.6MB/s \n",
            "\u001b[?25hInstalling collected packages: pymysql\n",
            "Successfully installed pymysql-0.9.3\n"
          ],
          "name": "stdout"
        }
      ]
    },
    {
      "cell_type": "code",
      "metadata": {
        "id": "RDIkQ8VGGgeq",
        "colab_type": "code",
        "outputId": "e782e3e2-0489-4a8b-d5d3-bdb049f23ffd",
        "colab": {
          "base_uri": "https://localhost:8080/",
          "height": 170
        }
      },
      "source": [
        "!pip install chart_studio"
      ],
      "execution_count": 8,
      "outputs": [
        {
          "output_type": "stream",
          "text": [
            "Requirement already satisfied: chart_studio in /usr/local/lib/python3.6/dist-packages (1.1.0)\n",
            "Requirement already satisfied: plotly in /usr/local/lib/python3.6/dist-packages (from chart_studio) (4.4.1)\n",
            "Requirement already satisfied: requests in /usr/local/lib/python3.6/dist-packages (from chart_studio) (2.21.0)\n",
            "Requirement already satisfied: six in /usr/local/lib/python3.6/dist-packages (from chart_studio) (1.12.0)\n",
            "Requirement already satisfied: retrying>=1.3.3 in /usr/local/lib/python3.6/dist-packages (from chart_studio) (1.3.3)\n",
            "Requirement already satisfied: chardet<3.1.0,>=3.0.2 in /usr/local/lib/python3.6/dist-packages (from requests->chart_studio) (3.0.4)\n",
            "Requirement already satisfied: idna<2.9,>=2.5 in /usr/local/lib/python3.6/dist-packages (from requests->chart_studio) (2.8)\n",
            "Requirement already satisfied: urllib3<1.25,>=1.21.1 in /usr/local/lib/python3.6/dist-packages (from requests->chart_studio) (1.24.3)\n",
            "Requirement already satisfied: certifi>=2017.4.17 in /usr/local/lib/python3.6/dist-packages (from requests->chart_studio) (2019.11.28)\n"
          ],
          "name": "stdout"
        }
      ]
    },
    {
      "cell_type": "markdown",
      "metadata": {
        "id": "1yKI1YT3NRxQ",
        "colab_type": "text"
      },
      "source": [
        "# DatAlex"
      ]
    },
    {
      "cell_type": "code",
      "metadata": {
        "id": "6rtKiCVSD5tA",
        "colab_type": "code",
        "outputId": "b84e2f42-7175-4c75-9322-958a0a60c23d",
        "colab": {
          "base_uri": "https://localhost:8080/",
          "height": 51
        }
      },
      "source": [
        "import os\n",
        "import pandas as pd\n",
        "import numpy as np\n",
        "import pymysql\n",
        "import matplotlib.pyplot as plt\n",
        "\n",
        "import matplotlib.dates as mdates\n",
        "import datetime\n",
        "import seaborn as sns\n",
        "\n",
        "import chart_studio.plotly as py\n",
        "import plotly.graph_objects as go\n",
        "import plotly.express as px\n",
        "from plotly.offline import download_plotlyjs, init_notebook_mode, plot, iplot\n",
        "\n",
        "init_notebook_mode(connected=True)\n",
        "\n",
        "\n",
        "py.sign_in('jawarbinks', '6JZPr60TfXzxurY9Hc1A')\n",
        "\n",
        "import plotly.io as pio\n",
        "pio.renderers.default = 'colab'"
      ],
      "execution_count": 9,
      "outputs": [
        {
          "output_type": "stream",
          "text": [
            "/usr/local/lib/python3.6/dist-packages/statsmodels/tools/_testing.py:19: FutureWarning: pandas.util.testing is deprecated. Use the functions in the public API at pandas.testing instead.\n",
            "  import pandas.util.testing as tm\n"
          ],
          "name": "stderr"
        },
        {
          "output_type": "display_data",
          "data": {
            "text/html": [
              "        <script type=\"text/javascript\">\n",
              "        window.PlotlyConfig = {MathJaxConfig: 'local'};\n",
              "        if (window.MathJax) {MathJax.Hub.Config({SVG: {font: \"STIX-Web\"}});}\n",
              "        if (typeof require !== 'undefined') {\n",
              "        require.undef(\"plotly\");\n",
              "        requirejs.config({\n",
              "            paths: {\n",
              "                'plotly': ['https://cdn.plot.ly/plotly-latest.min']\n",
              "            }\n",
              "        });\n",
              "        require(['plotly'], function(Plotly) {\n",
              "            window._Plotly = Plotly;\n",
              "        });\n",
              "        }\n",
              "        </script>\n",
              "        "
            ]
          },
          "metadata": {
            "tags": []
          }
        }
      ]
    },
    {
      "cell_type": "code",
      "metadata": {
        "id": "uZ4SkYWN0-SA",
        "colab_type": "code",
        "colab": {}
      },
      "source": [
        "class DatAlex(object):\n",
        "    def __init__(self):\n",
        "        pass\n",
        "\n",
        "    def connect(self):\n",
        "        os.system('nohup ./cloud_sql_proxy -instances=smooth-maxim-228913:europe-west1:datalex-sql=tcp:3307 &')\n",
        "        self.connection = pymysql.connect(host='127.0.0.1', port=3307, user='greenshield', password='bnghty56', db='DatAlex_v3_5')\n",
        "        self.cursor = self.connection.cursor()\n",
        "\n",
        "    def get_answer(self, query):\n",
        "        self.cursor.execute(query)\n",
        "        answer = self.cursor.fetchall()\n",
        "\n",
        "        # print(query.split(\"SELECT\")[1].split(\"FROM\")[0].split(','))\n",
        "        return answer\n",
        "\n",
        "    def get_all_datas(self):\n",
        "        query = \"SELECT A3.name, A4.name, A2.date, A2.stage FROM bioagr_measures A1, pheno_measures A2, parcels A3, domains A4 WHERE A3.id_parc=A1.id_parc AND A2.id_pheno=A1.id_pheno AND A4.id_domain=A3.id_domain ORDER BY A2.date;\"\n",
        "        self.cursor.execute(query)\n",
        "        answers = np.array(self.cursor.fetchall())\n",
        "\n",
        "        return answers\n",
        "\n",
        "\n",
        "    def get_parcel_history(self, parcel_name):\n",
        "        query = \"SELECT A3.name, A2.date, A2.stage, A1.mildew_leaves, A1.mildew_bunches FROM bioagr_measures A1, pheno_measures A2, parcels A3 WHERE YEAR(A2.date)=\"+str(annee)+\" AND A3.id_parc=A1.id_parc AND A2.id_pheno=A1.id_pheno AND A3.name LIKE '%\"+parcel_name+\"%' ORDER BY A2.date;\"\n",
        "        return self.get_answer(query)\n",
        "\n",
        "\n",
        "datalex = DatAlex()\n",
        "datalex.connect()"
      ],
      "execution_count": 0,
      "outputs": []
    },
    {
      "cell_type": "markdown",
      "metadata": {
        "id": "T68SAxakVy2X",
        "colab_type": "text"
      },
      "source": [
        "# First Try"
      ]
    },
    {
      "cell_type": "code",
      "metadata": {
        "id": "yivx2Fb8S4Mg",
        "colab_type": "code",
        "cellView": "both",
        "outputId": "8671e13e-7b89-4e97-a15c-7acbeef0097f",
        "colab": {
          "base_uri": "https://localhost:8080/",
          "height": 1000
        }
      },
      "source": [
        "all_datas = datalex.get_all_datas()\n",
        "all_parc_names = np.unique(np.array(all_datas)[:,0])\n",
        "all_parc_domains = {}\n",
        "\n",
        "def getAllParcelNamesWithAGivenString(name):\n",
        "    return all_parc_names[np.array([name in s for s in all_parc_names])]\n",
        "\n",
        "for n in all_parc_names:\n",
        "    all_parc_domains[n] = all_datas[all_datas[:,0]==n,1][0]\n",
        "\n",
        "\n",
        "annee = 2019\n",
        "\n",
        "nom = \"gandourie\" \n",
        "\n",
        "query = \"SELECT \\\n",
        "            A3.name, A2.date, A2.stage, A1.mildew_leaves, A1.mildew_bunches, A2.pluvio \\\n",
        "        FROM \\\n",
        "            bioagr_measures A1, pheno_measures A2, parcels A3, gen_measures A4 \\\n",
        "        WHERE \\\n",
        "            A4.date=A2.date \\\n",
        "            AND A4.id_domain=A2.id_dom \\\n",
        "            AND YEAR(A2.date)=\"+ str(annee) +\" \\\n",
        "            AND A3.id_parc=A1.id_parc \\\n",
        "            AND A2.id_pheno=A1.id_pheno \\\n",
        "            AND A3.name LIKE '%\"+nom+\"%' \\\n",
        "        ORDER BY A2.date;\"\n",
        "\n",
        "gandourie = np.array(datalex.get_answer(query))\n",
        "gandourie[:,0] = [nom for i in range(gandourie.shape[0])]\n",
        "print(gandourie.shape)\n",
        "naudin_parc_names = getAllParcelNamesWithAGivenString(nom)\n",
        "naudin_parc_dates = {}\n",
        "naudin_parc_stage = {}\n",
        "naudin_pluvio = {}\n",
        "naudin_mildew_leaves = {}\n",
        "naudin_mildew_bunches = {}\n",
        "\n",
        "for nn in naudin_parc_names:\n",
        "    naudin_parc_dates[nn] = gandourie[gandourie[:,0]==nn,1]    \n",
        "    naudin_parc_stage[nn] = gandourie[gandourie[:,0]==nn,2]\n",
        "    naudin_pluvio[nn] = gandourie[gandourie[:,0]==nn,5]\n",
        "    naudin_mildew_bunches[nn] = gandourie[gandourie[:,0]==nn,4]\n",
        "    naudin_mildew_leaves[nn] = gandourie[gandourie[:,0]==nn,3]\n",
        "\n",
        "\n",
        "\n",
        "\n",
        "weeks = np.zeros((len(naudin_parc_dates),52))\n",
        "parcels_used = []\n",
        "for i, parcel in enumerate(naudin_parc_dates.keys()):\n",
        "    if len(naudin_parc_stage[parcel])!=0:\n",
        "        for stage, date in zip(naudin_parc_stage[parcel], naudin_parc_dates[parcel]):\n",
        "            if \"-\" in stage:\n",
        "                weeks[i,date.isocalendar()[1]] = np.array(stage.split('-')).astype(np.float).mean()\n",
        "            else:\n",
        "                weeks[i,date.isocalendar()[1]] = float(stage)\n",
        "        parcels_used.append(i)\n",
        "\n",
        "min_date, max_date = min(gandourie[:,1]).isocalendar()[1],max(gandourie[:,1]).isocalendar()[1]\n",
        "fig = px.imshow(weeks[parcels_used,min_date:max_date])\n",
        "                # labels=dict(x=\"Week of year \" + str(annee), y=\"Time of Day\", color=\"Productivity\"),\n",
        "                # x = [i for i in range(min_date, max_date)])\n",
        "\n",
        "fig.update_xaxes(side=\"top\")\n",
        "iplot(fig)\n",
        "\n",
        "import re\n",
        "\n",
        "weeks = np.zeros((len(naudin_parc_dates),52))\n",
        "parcels_used = []\n",
        "for i, parcel in enumerate(naudin_parc_dates.keys()):\n",
        "    if len(naudin_parc_stage[parcel])!=0:\n",
        "        for pluvio, date in zip(naudin_pluvio[parcel], naudin_parc_dates[parcel]):\n",
        "            # print(pluvio)\n",
        "            # print(pluvio)\n",
        "            # print(i,pluvio)\n",
        "            # print(\"\\t\",  re.sub(\"[^0-9]\", \" \", pluvio).split(\"-\")[0])\n",
        "            if pluvio == \"nan\":\n",
        "                weeks[i,date.isocalendar()[1]] = np.nan\n",
        "            elif \"touv0\" in pluvio:\n",
        "                weeks[i,date.isocalendar()[1]] = 0\n",
        "            else:\n",
        "                # print(pluvio)\n",
        "                # print(re.sub(\"[^0-9]\", \" \", \"touv0\").split(\" \")[0])\n",
        "                weeks[i,date.isocalendar()[1]] = re.sub(\"[^0-9^]\", \" \", pluvio).split(\" \")[0]\n",
        "        parcels_used.append(i)\n",
        "\n",
        "min_date, max_date = min(gandourie[:,1]).isocalendar()[1],max(gandourie[:,1]).isocalendar()[1]\n",
        "fig = px.imshow(weeks[parcels_used,min_date:max_date])\n",
        "                # labels=dict(x=\"Week of year \" + str(annee), y=\"Time of Day\", color=\"Productivity\"),\n",
        "                # x = [i for i in range(min_date, max_date)])\n",
        "\n",
        "fig.update_xaxes(side=\"top\")\n",
        "iplot(fig)\n",
        "\n",
        "\n",
        "weeks = np.zeros((len(naudin_parc_dates),52))\n",
        "parcels_used = []\n",
        "\n",
        "mildew_to_number = {'RAS' : 0, 'QT' : 1, 'RT' : 2, 'BT' : 3}\n",
        "for i, parcel in enumerate(naudin_parc_dates.keys()):\n",
        "    if len(naudin_mildew_leaves[parcel])!=0:\n",
        "        for stage, date in zip(naudin_mildew_leaves[parcel], naudin_parc_dates[parcel]):\n",
        "            # print(stage)\n",
        "            if 'RAS' in stage:\n",
        "                weeks[i,date.isocalendar()[1]] = 0\n",
        "            elif 'QT' in stage:\n",
        "                weeks[i,date.isocalendar()[1]] = 1\n",
        "            elif 'RT' in stage:\n",
        "                weeks[i,date.isocalendar()[1]] = 2\n",
        "            elif 'BT' in stage:\n",
        "                weeks[i,date.isocalendar()[1]] = 3\n",
        "            elif 'freq' in stage and 'Int' in stage and '2010' not in stage:\n",
        "                freq = np.array(stage.split('%')[0].split(\"=\")[1].split('-')).astype(np.float).mean()/100\n",
        "                inty = np.array(stage.split('%')[1].split(\"=\")[1].split('-')).astype(np.float).mean()/100\n",
        "                weeks[i,date.isocalendar()[1]] = int(4*inty)\n",
        "            elif 'Freq' in stage and 'int' in stage and '2010' not in stage:\n",
        "                # print(stage.split(';')[0].split(\":\")[1].split(\"%\")[0])\n",
        "                freq = np.array(stage.split(';')[0].split(\":\")[1].split(\"%\")[0].split('-')).astype(np.float).mean()/100\n",
        "                inty = np.array(stage.split(';')[1].split(\":\")[1].split(\"%\")[0].split('-')).astype(np.float).mean()/100\n",
        "                weeks[i,date.isocalendar()[1]] = int(4*inty)\n",
        "            elif 'freq' in stage and 'int' in stage and '2010' not in stage:\n",
        "\n",
        "                if \"=\" in stage:\n",
        "                    symb = \"=\"\n",
        "                elif \":\" in stage:\n",
        "                    symb = \":\"\n",
        "                else:\n",
        "                    symb = \":\"\n",
        "                freq = np.array(stage.split('%')[0].split(\"=\")[1].split('-')).astype(np.float).mean()/100\n",
        "                inty = np.array(stage.split('%')[1].split(\"=\")[1].split('-')).astype(np.float).mean()/100\n",
        "                weeks[i,date.isocalendar()[1]] = int(4*inty)\n",
        "                \n",
        "                weeks[i,date.isocalendar()[1]] = int(4*inty)\n",
        "            elif 'freq' in stage and 'int' in stage and '2010' in stage:\n",
        "                inty = np.array(stage.split(';')[0].split(\"/\")[1].split(' ')[1][1:]).astype(np.float).mean()/100\n",
        "                weeks[i,date.isocalendar()[1]] = int(4*inty)\n",
        "            elif \"MFI\" in stage:\n",
        "                inty = float(stage.split('MFI')[1].split('%')[0])/100\n",
        "                weeks[i,date.isocalendar()[1]] = int(4*inty)\n",
        "            elif \"bcp\" in stage:\n",
        "                weeks[i,date.isocalendar()[1]] = 3\n",
        "            elif \" coté chemin blanc\" in stage:\n",
        "                weeks[i,date.isocalendar()[1]] = 2\n",
        "            else:\n",
        "                print(\"Err : \", stage)\n",
        "                weeks[i,date.isocalendar()[1]] = 0\n",
        "        parcels_used.append(i)\n",
        "\n",
        "min_date, max_date = min(gandourie[:,1]).isocalendar()[1],max(gandourie[:,1]).isocalendar()[1]\n",
        "fig = px.imshow(weeks[parcels_used,min_date:max_date])\n",
        "                # labels=dict(x=\"Week of year \" + str(annee), y=\"Time of Day\", color=\"Productivity\"),\n",
        "                # x = [i for i in range(min_date, max_date)])\n",
        "\n",
        "fig.update_xaxes(side=\"top\")\n",
        "iplot(fig)\n",
        "\n",
        "\n",
        "weeks = np.zeros((len(naudin_parc_dates),52))\n",
        "parcels_used = []\n",
        "\n",
        "mildew_to_number = {'RAS' : 0, 'QT' : 1, 'RT' : 2, 'BT' : 3}\n",
        "for i, parcel in enumerate(naudin_parc_dates.keys()):\n",
        "    if len(naudin_mildew_bunches[parcel])!=0:\n",
        "        for stage, date in zip(naudin_mildew_bunches[parcel], naudin_parc_dates[parcel]):\n",
        "            # print(stage)\n",
        "            if 'RAS' in stage:\n",
        "                weeks[i,date.isocalendar()[1]] = 0\n",
        "            elif 'QT' in stage:\n",
        "                weeks[i,date.isocalendar()[1]] = 1\n",
        "            elif 'RT' in stage:\n",
        "                weeks[i,date.isocalendar()[1]] = 2\n",
        "            elif 'BT' in stage:\n",
        "                weeks[i,date.isocalendar()[1]] = 3\n",
        "            elif 'freq' in stage and 'int' in stage and '2010' not in stage:\n",
        "\n",
        "                if \"=\" in stage:\n",
        "                    symb = \"=\"\n",
        "                elif \":\" in stage:\n",
        "                    symb = \":\"\n",
        "                else:\n",
        "                    symb = \":\"\n",
        "                freq = np.array(stage.split('%')[0].split(symb)[1].split('-')).astype(np.float).mean()/100\n",
        "                inty = np.array(stage.split('%')[1].split(symb)[1].split('-')).astype(np.float).mean()/100\n",
        "                weeks[i,date.isocalendar()[1]] = int(4*inty)\n",
        "            elif 'freq' in stage and '2010' in stage:\n",
        "                # print(stage)\n",
        "                # print(stage.split(';')[0].split(':'))\n",
        "                inty = np.array(stage.split(';')[0].split(':')[3].split(\" \")[0]).astype(np.float).mean()/100\n",
        "                weeks[i,date.isocalendar()[1]] = int(4*inty)\n",
        "            elif stage == \" 100 % de grappes touchées sur les 2009 et les 2010 et bois de gandourie\":\n",
        "                weeks[i,date.isocalendar()[1]] = 3\n",
        "            elif stage == \"30 à 50 % de grappes touchées sur les 2009 et les 2010 et bois de gandourie\" or \"20 à 30 % de grappes touchées sur les 2009 partie haute\":\n",
        "                weeks[i,date.isocalendar()[1]] = 2\n",
        "            elif stage == \"90 à 100 % de grappes touchées sur les 2009 et les 2010 et bois de gandourie\":\n",
        "                weeks[i,date.isocalendar()[1]] = 3\n",
        "            else:\n",
        "                print(\"Erreur : \", stage)\n",
        "                weeks[i,date.isocalendar()[1]] = np.nan\n",
        "        parcels_used.append(i)\n",
        "\n",
        "min_date, max_date = min(gandourie[:,1]).isocalendar()[1],max(gandourie[:,1]).isocalendar()[1]\n",
        "fig = px.imshow(weeks[parcels_used,min_date:max_date])\n",
        "                # labels=dict(x=\"Week of year \" + str(annee), y=\"Time of Day\", color=\"Productivity\"),\n",
        "                # x = [i for i in range(min_date, max_date)])\n",
        "\n",
        "fig.update_xaxes(side=\"top\")\n",
        "iplot(fig)\n",
        "\n",
        "# plt.plot(weeks[parcels_used,min_date:max_date][0], \"*\")\n",
        "# plt.show()\n",
        "# weeks[parcels_used,min_date:max_date]"
      ],
      "execution_count": 11,
      "outputs": [
        {
          "output_type": "stream",
          "text": [
            "(22, 6)\n"
          ],
          "name": "stdout"
        },
        {
          "output_type": "display_data",
          "data": {
            "text/html": [
              "<html>\n",
              "<head><meta charset=\"utf-8\" /></head>\n",
              "<body>\n",
              "    <div>\n",
              "            <script src=\"https://cdnjs.cloudflare.com/ajax/libs/mathjax/2.7.5/MathJax.js?config=TeX-AMS-MML_SVG\"></script><script type=\"text/javascript\">if (window.MathJax) {MathJax.Hub.Config({SVG: {font: \"STIX-Web\"}});}</script>\n",
              "                <script type=\"text/javascript\">window.PlotlyConfig = {MathJaxConfig: 'local'};</script>\n",
              "        <script src=\"https://cdn.plot.ly/plotly-latest.min.js\"></script>    \n",
              "            <div id=\"aa9cb637-c7aa-476f-956a-d8966917bf9e\" class=\"plotly-graph-div\" style=\"height:525px; width:100%;\"></div>\n",
              "            <script type=\"text/javascript\">\n",
              "                \n",
              "                    window.PLOTLYENV=window.PLOTLYENV || {};\n",
              "                    \n",
              "                if (document.getElementById(\"aa9cb637-c7aa-476f-956a-d8966917bf9e\")) {\n",
              "                    Plotly.newPlot(\n",
              "                        'aa9cb637-c7aa-476f-956a-d8966917bf9e',\n",
              "                        [{\"coloraxis\": \"coloraxis\", \"type\": \"heatmap\", \"z\": [[6.0, 0.0, 0.0, 0.0, 0.0, 16.5, 17.5, 17.0, 0.0, 19.0, 36.5, 28.0, 30.0, 0.0, 33.0, 33.0, 0.0]]}],\n",
              "                        {\"coloraxis\": {\"colorscale\": [[0.0, \"#0d0887\"], [0.1111111111111111, \"#46039f\"], [0.2222222222222222, \"#7201a8\"], [0.3333333333333333, \"#9c179e\"], [0.4444444444444444, \"#bd3786\"], [0.5555555555555556, \"#d8576b\"], [0.6666666666666666, \"#ed7953\"], [0.7777777777777778, \"#fb9f3a\"], [0.8888888888888888, \"#fdca26\"], [1.0, \"#f0f921\"]]}, \"margin\": {\"t\": 60}, \"template\": {\"data\": {\"bar\": [{\"error_x\": {\"color\": \"#2a3f5f\"}, \"error_y\": {\"color\": \"#2a3f5f\"}, \"marker\": {\"line\": {\"color\": \"#E5ECF6\", \"width\": 0.5}}, \"type\": \"bar\"}], \"barpolar\": [{\"marker\": {\"line\": {\"color\": \"#E5ECF6\", \"width\": 0.5}}, \"type\": \"barpolar\"}], \"carpet\": [{\"aaxis\": {\"endlinecolor\": \"#2a3f5f\", \"gridcolor\": \"white\", \"linecolor\": \"white\", \"minorgridcolor\": \"white\", \"startlinecolor\": \"#2a3f5f\"}, \"baxis\": {\"endlinecolor\": \"#2a3f5f\", \"gridcolor\": \"white\", \"linecolor\": \"white\", \"minorgridcolor\": \"white\", \"startlinecolor\": \"#2a3f5f\"}, \"type\": \"carpet\"}], \"choropleth\": [{\"colorbar\": {\"outlinewidth\": 0, \"ticks\": \"\"}, \"type\": \"choropleth\"}], \"contour\": [{\"colorbar\": {\"outlinewidth\": 0, \"ticks\": \"\"}, \"colorscale\": [[0.0, \"#0d0887\"], [0.1111111111111111, \"#46039f\"], [0.2222222222222222, \"#7201a8\"], [0.3333333333333333, \"#9c179e\"], [0.4444444444444444, \"#bd3786\"], [0.5555555555555556, \"#d8576b\"], [0.6666666666666666, \"#ed7953\"], [0.7777777777777778, \"#fb9f3a\"], [0.8888888888888888, \"#fdca26\"], [1.0, \"#f0f921\"]], \"type\": \"contour\"}], \"contourcarpet\": [{\"colorbar\": {\"outlinewidth\": 0, \"ticks\": \"\"}, \"type\": \"contourcarpet\"}], \"heatmap\": [{\"colorbar\": {\"outlinewidth\": 0, \"ticks\": \"\"}, \"colorscale\": [[0.0, \"#0d0887\"], [0.1111111111111111, \"#46039f\"], [0.2222222222222222, \"#7201a8\"], [0.3333333333333333, \"#9c179e\"], [0.4444444444444444, \"#bd3786\"], [0.5555555555555556, \"#d8576b\"], [0.6666666666666666, \"#ed7953\"], [0.7777777777777778, \"#fb9f3a\"], [0.8888888888888888, \"#fdca26\"], [1.0, \"#f0f921\"]], \"type\": \"heatmap\"}], \"heatmapgl\": [{\"colorbar\": {\"outlinewidth\": 0, \"ticks\": \"\"}, \"colorscale\": [[0.0, \"#0d0887\"], [0.1111111111111111, \"#46039f\"], [0.2222222222222222, \"#7201a8\"], [0.3333333333333333, \"#9c179e\"], [0.4444444444444444, \"#bd3786\"], [0.5555555555555556, \"#d8576b\"], [0.6666666666666666, \"#ed7953\"], [0.7777777777777778, \"#fb9f3a\"], [0.8888888888888888, \"#fdca26\"], [1.0, \"#f0f921\"]], \"type\": \"heatmapgl\"}], \"histogram\": [{\"marker\": {\"colorbar\": {\"outlinewidth\": 0, \"ticks\": \"\"}}, \"type\": \"histogram\"}], \"histogram2d\": [{\"colorbar\": {\"outlinewidth\": 0, \"ticks\": \"\"}, \"colorscale\": [[0.0, \"#0d0887\"], [0.1111111111111111, \"#46039f\"], [0.2222222222222222, \"#7201a8\"], [0.3333333333333333, \"#9c179e\"], [0.4444444444444444, \"#bd3786\"], [0.5555555555555556, \"#d8576b\"], [0.6666666666666666, \"#ed7953\"], [0.7777777777777778, \"#fb9f3a\"], [0.8888888888888888, \"#fdca26\"], [1.0, \"#f0f921\"]], \"type\": \"histogram2d\"}], \"histogram2dcontour\": [{\"colorbar\": {\"outlinewidth\": 0, \"ticks\": \"\"}, \"colorscale\": [[0.0, \"#0d0887\"], [0.1111111111111111, \"#46039f\"], [0.2222222222222222, \"#7201a8\"], [0.3333333333333333, \"#9c179e\"], [0.4444444444444444, \"#bd3786\"], [0.5555555555555556, \"#d8576b\"], [0.6666666666666666, \"#ed7953\"], [0.7777777777777778, \"#fb9f3a\"], [0.8888888888888888, \"#fdca26\"], [1.0, \"#f0f921\"]], \"type\": \"histogram2dcontour\"}], \"mesh3d\": [{\"colorbar\": {\"outlinewidth\": 0, \"ticks\": \"\"}, \"type\": \"mesh3d\"}], \"parcoords\": [{\"line\": {\"colorbar\": {\"outlinewidth\": 0, \"ticks\": \"\"}}, \"type\": \"parcoords\"}], \"pie\": [{\"automargin\": true, \"type\": \"pie\"}], \"scatter\": [{\"marker\": {\"colorbar\": {\"outlinewidth\": 0, \"ticks\": \"\"}}, \"type\": \"scatter\"}], \"scatter3d\": [{\"line\": {\"colorbar\": {\"outlinewidth\": 0, \"ticks\": \"\"}}, \"marker\": {\"colorbar\": {\"outlinewidth\": 0, \"ticks\": \"\"}}, \"type\": \"scatter3d\"}], \"scattercarpet\": [{\"marker\": {\"colorbar\": {\"outlinewidth\": 0, \"ticks\": \"\"}}, \"type\": \"scattercarpet\"}], \"scattergeo\": [{\"marker\": {\"colorbar\": {\"outlinewidth\": 0, \"ticks\": \"\"}}, \"type\": \"scattergeo\"}], \"scattergl\": [{\"marker\": {\"colorbar\": {\"outlinewidth\": 0, \"ticks\": \"\"}}, \"type\": \"scattergl\"}], \"scattermapbox\": [{\"marker\": {\"colorbar\": {\"outlinewidth\": 0, \"ticks\": \"\"}}, \"type\": \"scattermapbox\"}], \"scatterpolar\": [{\"marker\": {\"colorbar\": {\"outlinewidth\": 0, \"ticks\": \"\"}}, \"type\": \"scatterpolar\"}], \"scatterpolargl\": [{\"marker\": {\"colorbar\": {\"outlinewidth\": 0, \"ticks\": \"\"}}, \"type\": \"scatterpolargl\"}], \"scatterternary\": [{\"marker\": {\"colorbar\": {\"outlinewidth\": 0, \"ticks\": \"\"}}, \"type\": \"scatterternary\"}], \"surface\": [{\"colorbar\": {\"outlinewidth\": 0, \"ticks\": \"\"}, \"colorscale\": [[0.0, \"#0d0887\"], [0.1111111111111111, \"#46039f\"], [0.2222222222222222, \"#7201a8\"], [0.3333333333333333, \"#9c179e\"], [0.4444444444444444, \"#bd3786\"], [0.5555555555555556, \"#d8576b\"], [0.6666666666666666, \"#ed7953\"], [0.7777777777777778, \"#fb9f3a\"], [0.8888888888888888, \"#fdca26\"], [1.0, \"#f0f921\"]], \"type\": \"surface\"}], \"table\": [{\"cells\": {\"fill\": {\"color\": \"#EBF0F8\"}, \"line\": {\"color\": \"white\"}}, \"header\": {\"fill\": {\"color\": \"#C8D4E3\"}, \"line\": {\"color\": \"white\"}}, \"type\": \"table\"}]}, \"layout\": {\"annotationdefaults\": {\"arrowcolor\": \"#2a3f5f\", \"arrowhead\": 0, \"arrowwidth\": 1}, \"coloraxis\": {\"colorbar\": {\"outlinewidth\": 0, \"ticks\": \"\"}}, \"colorscale\": {\"diverging\": [[0, \"#8e0152\"], [0.1, \"#c51b7d\"], [0.2, \"#de77ae\"], [0.3, \"#f1b6da\"], [0.4, \"#fde0ef\"], [0.5, \"#f7f7f7\"], [0.6, \"#e6f5d0\"], [0.7, \"#b8e186\"], [0.8, \"#7fbc41\"], [0.9, \"#4d9221\"], [1, \"#276419\"]], \"sequential\": [[0.0, \"#0d0887\"], [0.1111111111111111, \"#46039f\"], [0.2222222222222222, \"#7201a8\"], [0.3333333333333333, \"#9c179e\"], [0.4444444444444444, \"#bd3786\"], [0.5555555555555556, \"#d8576b\"], [0.6666666666666666, \"#ed7953\"], [0.7777777777777778, \"#fb9f3a\"], [0.8888888888888888, \"#fdca26\"], [1.0, \"#f0f921\"]], \"sequentialminus\": [[0.0, \"#0d0887\"], [0.1111111111111111, \"#46039f\"], [0.2222222222222222, \"#7201a8\"], [0.3333333333333333, \"#9c179e\"], [0.4444444444444444, \"#bd3786\"], [0.5555555555555556, \"#d8576b\"], [0.6666666666666666, \"#ed7953\"], [0.7777777777777778, \"#fb9f3a\"], [0.8888888888888888, \"#fdca26\"], [1.0, \"#f0f921\"]]}, \"colorway\": [\"#636efa\", \"#EF553B\", \"#00cc96\", \"#ab63fa\", \"#FFA15A\", \"#19d3f3\", \"#FF6692\", \"#B6E880\", \"#FF97FF\", \"#FECB52\"], \"font\": {\"color\": \"#2a3f5f\"}, \"geo\": {\"bgcolor\": \"white\", \"lakecolor\": \"white\", \"landcolor\": \"#E5ECF6\", \"showlakes\": true, \"showland\": true, \"subunitcolor\": \"white\"}, \"hoverlabel\": {\"align\": \"left\"}, \"hovermode\": \"closest\", \"mapbox\": {\"style\": \"light\"}, \"paper_bgcolor\": \"white\", \"plot_bgcolor\": \"#E5ECF6\", \"polar\": {\"angularaxis\": {\"gridcolor\": \"white\", \"linecolor\": \"white\", \"ticks\": \"\"}, \"bgcolor\": \"#E5ECF6\", \"radialaxis\": {\"gridcolor\": \"white\", \"linecolor\": \"white\", \"ticks\": \"\"}}, \"scene\": {\"xaxis\": {\"backgroundcolor\": \"#E5ECF6\", \"gridcolor\": \"white\", \"gridwidth\": 2, \"linecolor\": \"white\", \"showbackground\": true, \"ticks\": \"\", \"zerolinecolor\": \"white\"}, \"yaxis\": {\"backgroundcolor\": \"#E5ECF6\", \"gridcolor\": \"white\", \"gridwidth\": 2, \"linecolor\": \"white\", \"showbackground\": true, \"ticks\": \"\", \"zerolinecolor\": \"white\"}, \"zaxis\": {\"backgroundcolor\": \"#E5ECF6\", \"gridcolor\": \"white\", \"gridwidth\": 2, \"linecolor\": \"white\", \"showbackground\": true, \"ticks\": \"\", \"zerolinecolor\": \"white\"}}, \"shapedefaults\": {\"line\": {\"color\": \"#2a3f5f\"}}, \"ternary\": {\"aaxis\": {\"gridcolor\": \"white\", \"linecolor\": \"white\", \"ticks\": \"\"}, \"baxis\": {\"gridcolor\": \"white\", \"linecolor\": \"white\", \"ticks\": \"\"}, \"bgcolor\": \"#E5ECF6\", \"caxis\": {\"gridcolor\": \"white\", \"linecolor\": \"white\", \"ticks\": \"\"}}, \"title\": {\"x\": 0.05}, \"xaxis\": {\"automargin\": true, \"gridcolor\": \"white\", \"linecolor\": \"white\", \"ticks\": \"\", \"title\": {\"standoff\": 15}, \"zerolinecolor\": \"white\", \"zerolinewidth\": 2}, \"yaxis\": {\"automargin\": true, \"gridcolor\": \"white\", \"linecolor\": \"white\", \"ticks\": \"\", \"title\": {\"standoff\": 15}, \"zerolinecolor\": \"white\", \"zerolinewidth\": 2}}}, \"xaxis\": {\"constrain\": \"domain\", \"scaleanchor\": \"y\", \"side\": \"top\"}, \"yaxis\": {\"autorange\": \"reversed\", \"constrain\": \"domain\"}},\n",
              "                        {\"responsive\": true}\n",
              "                    ).then(function(){\n",
              "                            \n",
              "var gd = document.getElementById('aa9cb637-c7aa-476f-956a-d8966917bf9e');\n",
              "var x = new MutationObserver(function (mutations, observer) {{\n",
              "        var display = window.getComputedStyle(gd).display;\n",
              "        if (!display || display === 'none') {{\n",
              "            console.log([gd, 'removed!']);\n",
              "            Plotly.purge(gd);\n",
              "            observer.disconnect();\n",
              "        }}\n",
              "}});\n",
              "\n",
              "// Listen for the removal of the full notebook cells\n",
              "var notebookContainer = gd.closest('#notebook-container');\n",
              "if (notebookContainer) {{\n",
              "    x.observe(notebookContainer, {childList: true});\n",
              "}}\n",
              "\n",
              "// Listen for the clearing of the current output cell\n",
              "var outputEl = gd.closest('.output');\n",
              "if (outputEl) {{\n",
              "    x.observe(outputEl, {childList: true});\n",
              "}}\n",
              "\n",
              "                        })\n",
              "                };\n",
              "                \n",
              "            </script>\n",
              "        </div>\n",
              "</body>\n",
              "</html>"
            ]
          },
          "metadata": {
            "tags": []
          }
        },
        {
          "output_type": "display_data",
          "data": {
            "text/html": [
              "<html>\n",
              "<head><meta charset=\"utf-8\" /></head>\n",
              "<body>\n",
              "    <div>\n",
              "            <script src=\"https://cdnjs.cloudflare.com/ajax/libs/mathjax/2.7.5/MathJax.js?config=TeX-AMS-MML_SVG\"></script><script type=\"text/javascript\">if (window.MathJax) {MathJax.Hub.Config({SVG: {font: \"STIX-Web\"}});}</script>\n",
              "                <script type=\"text/javascript\">window.PlotlyConfig = {MathJaxConfig: 'local'};</script>\n",
              "        <script src=\"https://cdn.plot.ly/plotly-latest.min.js\"></script>    \n",
              "            <div id=\"40e151b8-5126-4859-ae28-1449d1e07154\" class=\"plotly-graph-div\" style=\"height:525px; width:100%;\"></div>\n",
              "            <script type=\"text/javascript\">\n",
              "                \n",
              "                    window.PLOTLYENV=window.PLOTLYENV || {};\n",
              "                    \n",
              "                if (document.getElementById(\"40e151b8-5126-4859-ae28-1449d1e07154\")) {\n",
              "                    Plotly.newPlot(\n",
              "                        '40e151b8-5126-4859-ae28-1449d1e07154',\n",
              "                        [{\"coloraxis\": \"coloraxis\", \"type\": \"heatmap\", \"z\": [[0.0, 0.0, 0.0, 0.0, 0.0, 15.0, 24.0, 12.0, 0.0, null, 22.0, null, 0.0, 0.0, 0.0, 29.0, 0.0]]}],\n",
              "                        {\"coloraxis\": {\"colorscale\": [[0.0, \"#0d0887\"], [0.1111111111111111, \"#46039f\"], [0.2222222222222222, \"#7201a8\"], [0.3333333333333333, \"#9c179e\"], [0.4444444444444444, \"#bd3786\"], [0.5555555555555556, \"#d8576b\"], [0.6666666666666666, \"#ed7953\"], [0.7777777777777778, \"#fb9f3a\"], [0.8888888888888888, \"#fdca26\"], [1.0, \"#f0f921\"]]}, \"margin\": {\"t\": 60}, \"template\": {\"data\": {\"bar\": [{\"error_x\": {\"color\": \"#2a3f5f\"}, \"error_y\": {\"color\": \"#2a3f5f\"}, \"marker\": {\"line\": {\"color\": \"#E5ECF6\", \"width\": 0.5}}, \"type\": \"bar\"}], \"barpolar\": [{\"marker\": {\"line\": {\"color\": \"#E5ECF6\", \"width\": 0.5}}, \"type\": \"barpolar\"}], \"carpet\": [{\"aaxis\": {\"endlinecolor\": \"#2a3f5f\", \"gridcolor\": \"white\", \"linecolor\": \"white\", \"minorgridcolor\": \"white\", \"startlinecolor\": \"#2a3f5f\"}, \"baxis\": {\"endlinecolor\": \"#2a3f5f\", \"gridcolor\": \"white\", \"linecolor\": \"white\", \"minorgridcolor\": \"white\", \"startlinecolor\": \"#2a3f5f\"}, \"type\": \"carpet\"}], \"choropleth\": [{\"colorbar\": {\"outlinewidth\": 0, \"ticks\": \"\"}, \"type\": \"choropleth\"}], \"contour\": [{\"colorbar\": {\"outlinewidth\": 0, \"ticks\": \"\"}, \"colorscale\": [[0.0, \"#0d0887\"], [0.1111111111111111, \"#46039f\"], [0.2222222222222222, \"#7201a8\"], [0.3333333333333333, \"#9c179e\"], [0.4444444444444444, \"#bd3786\"], [0.5555555555555556, \"#d8576b\"], [0.6666666666666666, \"#ed7953\"], [0.7777777777777778, \"#fb9f3a\"], [0.8888888888888888, \"#fdca26\"], [1.0, \"#f0f921\"]], \"type\": \"contour\"}], \"contourcarpet\": [{\"colorbar\": {\"outlinewidth\": 0, \"ticks\": \"\"}, \"type\": \"contourcarpet\"}], \"heatmap\": [{\"colorbar\": {\"outlinewidth\": 0, \"ticks\": \"\"}, \"colorscale\": [[0.0, \"#0d0887\"], [0.1111111111111111, \"#46039f\"], [0.2222222222222222, \"#7201a8\"], [0.3333333333333333, \"#9c179e\"], [0.4444444444444444, \"#bd3786\"], [0.5555555555555556, \"#d8576b\"], [0.6666666666666666, \"#ed7953\"], [0.7777777777777778, \"#fb9f3a\"], [0.8888888888888888, \"#fdca26\"], [1.0, \"#f0f921\"]], \"type\": \"heatmap\"}], \"heatmapgl\": [{\"colorbar\": {\"outlinewidth\": 0, \"ticks\": \"\"}, \"colorscale\": [[0.0, \"#0d0887\"], [0.1111111111111111, \"#46039f\"], [0.2222222222222222, \"#7201a8\"], [0.3333333333333333, \"#9c179e\"], [0.4444444444444444, \"#bd3786\"], [0.5555555555555556, \"#d8576b\"], [0.6666666666666666, \"#ed7953\"], [0.7777777777777778, \"#fb9f3a\"], [0.8888888888888888, \"#fdca26\"], [1.0, \"#f0f921\"]], \"type\": \"heatmapgl\"}], \"histogram\": [{\"marker\": {\"colorbar\": {\"outlinewidth\": 0, \"ticks\": \"\"}}, \"type\": \"histogram\"}], \"histogram2d\": [{\"colorbar\": {\"outlinewidth\": 0, \"ticks\": \"\"}, \"colorscale\": [[0.0, \"#0d0887\"], [0.1111111111111111, \"#46039f\"], [0.2222222222222222, \"#7201a8\"], [0.3333333333333333, \"#9c179e\"], [0.4444444444444444, \"#bd3786\"], [0.5555555555555556, \"#d8576b\"], [0.6666666666666666, \"#ed7953\"], [0.7777777777777778, \"#fb9f3a\"], [0.8888888888888888, \"#fdca26\"], [1.0, \"#f0f921\"]], \"type\": \"histogram2d\"}], \"histogram2dcontour\": [{\"colorbar\": {\"outlinewidth\": 0, \"ticks\": \"\"}, \"colorscale\": [[0.0, \"#0d0887\"], [0.1111111111111111, \"#46039f\"], [0.2222222222222222, \"#7201a8\"], [0.3333333333333333, \"#9c179e\"], [0.4444444444444444, \"#bd3786\"], [0.5555555555555556, \"#d8576b\"], [0.6666666666666666, \"#ed7953\"], [0.7777777777777778, \"#fb9f3a\"], [0.8888888888888888, \"#fdca26\"], [1.0, \"#f0f921\"]], \"type\": \"histogram2dcontour\"}], \"mesh3d\": [{\"colorbar\": {\"outlinewidth\": 0, \"ticks\": \"\"}, \"type\": \"mesh3d\"}], \"parcoords\": [{\"line\": {\"colorbar\": {\"outlinewidth\": 0, \"ticks\": \"\"}}, \"type\": \"parcoords\"}], \"pie\": [{\"automargin\": true, \"type\": \"pie\"}], \"scatter\": [{\"marker\": {\"colorbar\": {\"outlinewidth\": 0, \"ticks\": \"\"}}, \"type\": \"scatter\"}], \"scatter3d\": [{\"line\": {\"colorbar\": {\"outlinewidth\": 0, \"ticks\": \"\"}}, \"marker\": {\"colorbar\": {\"outlinewidth\": 0, \"ticks\": \"\"}}, \"type\": \"scatter3d\"}], \"scattercarpet\": [{\"marker\": {\"colorbar\": {\"outlinewidth\": 0, \"ticks\": \"\"}}, \"type\": \"scattercarpet\"}], \"scattergeo\": [{\"marker\": {\"colorbar\": {\"outlinewidth\": 0, \"ticks\": \"\"}}, \"type\": \"scattergeo\"}], \"scattergl\": [{\"marker\": {\"colorbar\": {\"outlinewidth\": 0, \"ticks\": \"\"}}, \"type\": \"scattergl\"}], \"scattermapbox\": [{\"marker\": {\"colorbar\": {\"outlinewidth\": 0, \"ticks\": \"\"}}, \"type\": \"scattermapbox\"}], \"scatterpolar\": [{\"marker\": {\"colorbar\": {\"outlinewidth\": 0, \"ticks\": \"\"}}, \"type\": \"scatterpolar\"}], \"scatterpolargl\": [{\"marker\": {\"colorbar\": {\"outlinewidth\": 0, \"ticks\": \"\"}}, \"type\": \"scatterpolargl\"}], \"scatterternary\": [{\"marker\": {\"colorbar\": {\"outlinewidth\": 0, \"ticks\": \"\"}}, \"type\": \"scatterternary\"}], \"surface\": [{\"colorbar\": {\"outlinewidth\": 0, \"ticks\": \"\"}, \"colorscale\": [[0.0, \"#0d0887\"], [0.1111111111111111, \"#46039f\"], [0.2222222222222222, \"#7201a8\"], [0.3333333333333333, \"#9c179e\"], [0.4444444444444444, \"#bd3786\"], [0.5555555555555556, \"#d8576b\"], [0.6666666666666666, \"#ed7953\"], [0.7777777777777778, \"#fb9f3a\"], [0.8888888888888888, \"#fdca26\"], [1.0, \"#f0f921\"]], \"type\": \"surface\"}], \"table\": [{\"cells\": {\"fill\": {\"color\": \"#EBF0F8\"}, \"line\": {\"color\": \"white\"}}, \"header\": {\"fill\": {\"color\": \"#C8D4E3\"}, \"line\": {\"color\": \"white\"}}, \"type\": \"table\"}]}, \"layout\": {\"annotationdefaults\": {\"arrowcolor\": \"#2a3f5f\", \"arrowhead\": 0, \"arrowwidth\": 1}, \"coloraxis\": {\"colorbar\": {\"outlinewidth\": 0, \"ticks\": \"\"}}, \"colorscale\": {\"diverging\": [[0, \"#8e0152\"], [0.1, \"#c51b7d\"], [0.2, \"#de77ae\"], [0.3, \"#f1b6da\"], [0.4, \"#fde0ef\"], [0.5, \"#f7f7f7\"], [0.6, \"#e6f5d0\"], [0.7, \"#b8e186\"], [0.8, \"#7fbc41\"], [0.9, \"#4d9221\"], [1, \"#276419\"]], \"sequential\": [[0.0, \"#0d0887\"], [0.1111111111111111, \"#46039f\"], [0.2222222222222222, \"#7201a8\"], [0.3333333333333333, \"#9c179e\"], [0.4444444444444444, \"#bd3786\"], [0.5555555555555556, \"#d8576b\"], [0.6666666666666666, \"#ed7953\"], [0.7777777777777778, \"#fb9f3a\"], [0.8888888888888888, \"#fdca26\"], [1.0, \"#f0f921\"]], \"sequentialminus\": [[0.0, \"#0d0887\"], [0.1111111111111111, \"#46039f\"], [0.2222222222222222, \"#7201a8\"], [0.3333333333333333, \"#9c179e\"], [0.4444444444444444, \"#bd3786\"], [0.5555555555555556, \"#d8576b\"], [0.6666666666666666, \"#ed7953\"], [0.7777777777777778, \"#fb9f3a\"], [0.8888888888888888, \"#fdca26\"], [1.0, \"#f0f921\"]]}, \"colorway\": [\"#636efa\", \"#EF553B\", \"#00cc96\", \"#ab63fa\", \"#FFA15A\", \"#19d3f3\", \"#FF6692\", \"#B6E880\", \"#FF97FF\", \"#FECB52\"], \"font\": {\"color\": \"#2a3f5f\"}, \"geo\": {\"bgcolor\": \"white\", \"lakecolor\": \"white\", \"landcolor\": \"#E5ECF6\", \"showlakes\": true, \"showland\": true, \"subunitcolor\": \"white\"}, \"hoverlabel\": {\"align\": \"left\"}, \"hovermode\": \"closest\", \"mapbox\": {\"style\": \"light\"}, \"paper_bgcolor\": \"white\", \"plot_bgcolor\": \"#E5ECF6\", \"polar\": {\"angularaxis\": {\"gridcolor\": \"white\", \"linecolor\": \"white\", \"ticks\": \"\"}, \"bgcolor\": \"#E5ECF6\", \"radialaxis\": {\"gridcolor\": \"white\", \"linecolor\": \"white\", \"ticks\": \"\"}}, \"scene\": {\"xaxis\": {\"backgroundcolor\": \"#E5ECF6\", \"gridcolor\": \"white\", \"gridwidth\": 2, \"linecolor\": \"white\", \"showbackground\": true, \"ticks\": \"\", \"zerolinecolor\": \"white\"}, \"yaxis\": {\"backgroundcolor\": \"#E5ECF6\", \"gridcolor\": \"white\", \"gridwidth\": 2, \"linecolor\": \"white\", \"showbackground\": true, \"ticks\": \"\", \"zerolinecolor\": \"white\"}, \"zaxis\": {\"backgroundcolor\": \"#E5ECF6\", \"gridcolor\": \"white\", \"gridwidth\": 2, \"linecolor\": \"white\", \"showbackground\": true, \"ticks\": \"\", \"zerolinecolor\": \"white\"}}, \"shapedefaults\": {\"line\": {\"color\": \"#2a3f5f\"}}, \"ternary\": {\"aaxis\": {\"gridcolor\": \"white\", \"linecolor\": \"white\", \"ticks\": \"\"}, \"baxis\": {\"gridcolor\": \"white\", \"linecolor\": \"white\", \"ticks\": \"\"}, \"bgcolor\": \"#E5ECF6\", \"caxis\": {\"gridcolor\": \"white\", \"linecolor\": \"white\", \"ticks\": \"\"}}, \"title\": {\"x\": 0.05}, \"xaxis\": {\"automargin\": true, \"gridcolor\": \"white\", \"linecolor\": \"white\", \"ticks\": \"\", \"title\": {\"standoff\": 15}, \"zerolinecolor\": \"white\", \"zerolinewidth\": 2}, \"yaxis\": {\"automargin\": true, \"gridcolor\": \"white\", \"linecolor\": \"white\", \"ticks\": \"\", \"title\": {\"standoff\": 15}, \"zerolinecolor\": \"white\", \"zerolinewidth\": 2}}}, \"xaxis\": {\"constrain\": \"domain\", \"scaleanchor\": \"y\", \"side\": \"top\"}, \"yaxis\": {\"autorange\": \"reversed\", \"constrain\": \"domain\"}},\n",
              "                        {\"responsive\": true}\n",
              "                    ).then(function(){\n",
              "                            \n",
              "var gd = document.getElementById('40e151b8-5126-4859-ae28-1449d1e07154');\n",
              "var x = new MutationObserver(function (mutations, observer) {{\n",
              "        var display = window.getComputedStyle(gd).display;\n",
              "        if (!display || display === 'none') {{\n",
              "            console.log([gd, 'removed!']);\n",
              "            Plotly.purge(gd);\n",
              "            observer.disconnect();\n",
              "        }}\n",
              "}});\n",
              "\n",
              "// Listen for the removal of the full notebook cells\n",
              "var notebookContainer = gd.closest('#notebook-container');\n",
              "if (notebookContainer) {{\n",
              "    x.observe(notebookContainer, {childList: true});\n",
              "}}\n",
              "\n",
              "// Listen for the clearing of the current output cell\n",
              "var outputEl = gd.closest('.output');\n",
              "if (outputEl) {{\n",
              "    x.observe(outputEl, {childList: true});\n",
              "}}\n",
              "\n",
              "                        })\n",
              "                };\n",
              "                \n",
              "            </script>\n",
              "        </div>\n",
              "</body>\n",
              "</html>"
            ]
          },
          "metadata": {
            "tags": []
          }
        },
        {
          "output_type": "stream",
          "text": [
            "Err :  nan\n",
            "Err :  nan\n",
            "Err :  nan\n",
            "Err :  nan\n",
            "Err :  nan\n"
          ],
          "name": "stdout"
        },
        {
          "output_type": "display_data",
          "data": {
            "text/html": [
              "<html>\n",
              "<head><meta charset=\"utf-8\" /></head>\n",
              "<body>\n",
              "    <div>\n",
              "            <script src=\"https://cdnjs.cloudflare.com/ajax/libs/mathjax/2.7.5/MathJax.js?config=TeX-AMS-MML_SVG\"></script><script type=\"text/javascript\">if (window.MathJax) {MathJax.Hub.Config({SVG: {font: \"STIX-Web\"}});}</script>\n",
              "                <script type=\"text/javascript\">window.PlotlyConfig = {MathJaxConfig: 'local'};</script>\n",
              "        <script src=\"https://cdn.plot.ly/plotly-latest.min.js\"></script>    \n",
              "            <div id=\"c8b1d902-9114-4236-9edd-8fa0ab7eb1ae\" class=\"plotly-graph-div\" style=\"height:525px; width:100%;\"></div>\n",
              "            <script type=\"text/javascript\">\n",
              "                \n",
              "                    window.PLOTLYENV=window.PLOTLYENV || {};\n",
              "                    \n",
              "                if (document.getElementById(\"c8b1d902-9114-4236-9edd-8fa0ab7eb1ae\")) {\n",
              "                    Plotly.newPlot(\n",
              "                        'c8b1d902-9114-4236-9edd-8fa0ab7eb1ae',\n",
              "                        [{\"coloraxis\": \"coloraxis\", \"type\": \"heatmap\", \"z\": [[0.0, 0.0, 0.0, 0.0, 0.0, 0.0, 0.0, 0.0, 0.0, 0.0, 0.0, 0.0, 0.0, 0.0, 0.0, 0.0, 0.0]]}],\n",
              "                        {\"coloraxis\": {\"colorscale\": [[0.0, \"#0d0887\"], [0.1111111111111111, \"#46039f\"], [0.2222222222222222, \"#7201a8\"], [0.3333333333333333, \"#9c179e\"], [0.4444444444444444, \"#bd3786\"], [0.5555555555555556, \"#d8576b\"], [0.6666666666666666, \"#ed7953\"], [0.7777777777777778, \"#fb9f3a\"], [0.8888888888888888, \"#fdca26\"], [1.0, \"#f0f921\"]]}, \"margin\": {\"t\": 60}, \"template\": {\"data\": {\"bar\": [{\"error_x\": {\"color\": \"#2a3f5f\"}, \"error_y\": {\"color\": \"#2a3f5f\"}, \"marker\": {\"line\": {\"color\": \"#E5ECF6\", \"width\": 0.5}}, \"type\": \"bar\"}], \"barpolar\": [{\"marker\": {\"line\": {\"color\": \"#E5ECF6\", \"width\": 0.5}}, \"type\": \"barpolar\"}], \"carpet\": [{\"aaxis\": {\"endlinecolor\": \"#2a3f5f\", \"gridcolor\": \"white\", \"linecolor\": \"white\", \"minorgridcolor\": \"white\", \"startlinecolor\": \"#2a3f5f\"}, \"baxis\": {\"endlinecolor\": \"#2a3f5f\", \"gridcolor\": \"white\", \"linecolor\": \"white\", \"minorgridcolor\": \"white\", \"startlinecolor\": \"#2a3f5f\"}, \"type\": \"carpet\"}], \"choropleth\": [{\"colorbar\": {\"outlinewidth\": 0, \"ticks\": \"\"}, \"type\": \"choropleth\"}], \"contour\": [{\"colorbar\": {\"outlinewidth\": 0, \"ticks\": \"\"}, \"colorscale\": [[0.0, \"#0d0887\"], [0.1111111111111111, \"#46039f\"], [0.2222222222222222, \"#7201a8\"], [0.3333333333333333, \"#9c179e\"], [0.4444444444444444, \"#bd3786\"], [0.5555555555555556, \"#d8576b\"], [0.6666666666666666, \"#ed7953\"], [0.7777777777777778, \"#fb9f3a\"], [0.8888888888888888, \"#fdca26\"], [1.0, \"#f0f921\"]], \"type\": \"contour\"}], \"contourcarpet\": [{\"colorbar\": {\"outlinewidth\": 0, \"ticks\": \"\"}, \"type\": \"contourcarpet\"}], \"heatmap\": [{\"colorbar\": {\"outlinewidth\": 0, \"ticks\": \"\"}, \"colorscale\": [[0.0, \"#0d0887\"], [0.1111111111111111, \"#46039f\"], [0.2222222222222222, \"#7201a8\"], [0.3333333333333333, \"#9c179e\"], [0.4444444444444444, \"#bd3786\"], [0.5555555555555556, \"#d8576b\"], [0.6666666666666666, \"#ed7953\"], [0.7777777777777778, \"#fb9f3a\"], [0.8888888888888888, \"#fdca26\"], [1.0, \"#f0f921\"]], \"type\": \"heatmap\"}], \"heatmapgl\": [{\"colorbar\": {\"outlinewidth\": 0, \"ticks\": \"\"}, \"colorscale\": [[0.0, \"#0d0887\"], [0.1111111111111111, \"#46039f\"], [0.2222222222222222, \"#7201a8\"], [0.3333333333333333, \"#9c179e\"], [0.4444444444444444, \"#bd3786\"], [0.5555555555555556, \"#d8576b\"], [0.6666666666666666, \"#ed7953\"], [0.7777777777777778, \"#fb9f3a\"], [0.8888888888888888, \"#fdca26\"], [1.0, \"#f0f921\"]], \"type\": \"heatmapgl\"}], \"histogram\": [{\"marker\": {\"colorbar\": {\"outlinewidth\": 0, \"ticks\": \"\"}}, \"type\": \"histogram\"}], \"histogram2d\": [{\"colorbar\": {\"outlinewidth\": 0, \"ticks\": \"\"}, \"colorscale\": [[0.0, \"#0d0887\"], [0.1111111111111111, \"#46039f\"], [0.2222222222222222, \"#7201a8\"], [0.3333333333333333, \"#9c179e\"], [0.4444444444444444, \"#bd3786\"], [0.5555555555555556, \"#d8576b\"], [0.6666666666666666, \"#ed7953\"], [0.7777777777777778, \"#fb9f3a\"], [0.8888888888888888, \"#fdca26\"], [1.0, \"#f0f921\"]], \"type\": \"histogram2d\"}], \"histogram2dcontour\": [{\"colorbar\": {\"outlinewidth\": 0, \"ticks\": \"\"}, \"colorscale\": [[0.0, \"#0d0887\"], [0.1111111111111111, \"#46039f\"], [0.2222222222222222, \"#7201a8\"], [0.3333333333333333, \"#9c179e\"], [0.4444444444444444, \"#bd3786\"], [0.5555555555555556, \"#d8576b\"], [0.6666666666666666, \"#ed7953\"], [0.7777777777777778, \"#fb9f3a\"], [0.8888888888888888, \"#fdca26\"], [1.0, \"#f0f921\"]], \"type\": \"histogram2dcontour\"}], \"mesh3d\": [{\"colorbar\": {\"outlinewidth\": 0, \"ticks\": \"\"}, \"type\": \"mesh3d\"}], \"parcoords\": [{\"line\": {\"colorbar\": {\"outlinewidth\": 0, \"ticks\": \"\"}}, \"type\": \"parcoords\"}], \"pie\": [{\"automargin\": true, \"type\": \"pie\"}], \"scatter\": [{\"marker\": {\"colorbar\": {\"outlinewidth\": 0, \"ticks\": \"\"}}, \"type\": \"scatter\"}], \"scatter3d\": [{\"line\": {\"colorbar\": {\"outlinewidth\": 0, \"ticks\": \"\"}}, \"marker\": {\"colorbar\": {\"outlinewidth\": 0, \"ticks\": \"\"}}, \"type\": \"scatter3d\"}], \"scattercarpet\": [{\"marker\": {\"colorbar\": {\"outlinewidth\": 0, \"ticks\": \"\"}}, \"type\": \"scattercarpet\"}], \"scattergeo\": [{\"marker\": {\"colorbar\": {\"outlinewidth\": 0, \"ticks\": \"\"}}, \"type\": \"scattergeo\"}], \"scattergl\": [{\"marker\": {\"colorbar\": {\"outlinewidth\": 0, \"ticks\": \"\"}}, \"type\": \"scattergl\"}], \"scattermapbox\": [{\"marker\": {\"colorbar\": {\"outlinewidth\": 0, \"ticks\": \"\"}}, \"type\": \"scattermapbox\"}], \"scatterpolar\": [{\"marker\": {\"colorbar\": {\"outlinewidth\": 0, \"ticks\": \"\"}}, \"type\": \"scatterpolar\"}], \"scatterpolargl\": [{\"marker\": {\"colorbar\": {\"outlinewidth\": 0, \"ticks\": \"\"}}, \"type\": \"scatterpolargl\"}], \"scatterternary\": [{\"marker\": {\"colorbar\": {\"outlinewidth\": 0, \"ticks\": \"\"}}, \"type\": \"scatterternary\"}], \"surface\": [{\"colorbar\": {\"outlinewidth\": 0, \"ticks\": \"\"}, \"colorscale\": [[0.0, \"#0d0887\"], [0.1111111111111111, \"#46039f\"], [0.2222222222222222, \"#7201a8\"], [0.3333333333333333, \"#9c179e\"], [0.4444444444444444, \"#bd3786\"], [0.5555555555555556, \"#d8576b\"], [0.6666666666666666, \"#ed7953\"], [0.7777777777777778, \"#fb9f3a\"], [0.8888888888888888, \"#fdca26\"], [1.0, \"#f0f921\"]], \"type\": \"surface\"}], \"table\": [{\"cells\": {\"fill\": {\"color\": \"#EBF0F8\"}, \"line\": {\"color\": \"white\"}}, \"header\": {\"fill\": {\"color\": \"#C8D4E3\"}, \"line\": {\"color\": \"white\"}}, \"type\": \"table\"}]}, \"layout\": {\"annotationdefaults\": {\"arrowcolor\": \"#2a3f5f\", \"arrowhead\": 0, \"arrowwidth\": 1}, \"coloraxis\": {\"colorbar\": {\"outlinewidth\": 0, \"ticks\": \"\"}}, \"colorscale\": {\"diverging\": [[0, \"#8e0152\"], [0.1, \"#c51b7d\"], [0.2, \"#de77ae\"], [0.3, \"#f1b6da\"], [0.4, \"#fde0ef\"], [0.5, \"#f7f7f7\"], [0.6, \"#e6f5d0\"], [0.7, \"#b8e186\"], [0.8, \"#7fbc41\"], [0.9, \"#4d9221\"], [1, \"#276419\"]], \"sequential\": [[0.0, \"#0d0887\"], [0.1111111111111111, \"#46039f\"], [0.2222222222222222, \"#7201a8\"], [0.3333333333333333, \"#9c179e\"], [0.4444444444444444, \"#bd3786\"], [0.5555555555555556, \"#d8576b\"], [0.6666666666666666, \"#ed7953\"], [0.7777777777777778, \"#fb9f3a\"], [0.8888888888888888, \"#fdca26\"], [1.0, \"#f0f921\"]], \"sequentialminus\": [[0.0, \"#0d0887\"], [0.1111111111111111, \"#46039f\"], [0.2222222222222222, \"#7201a8\"], [0.3333333333333333, \"#9c179e\"], [0.4444444444444444, \"#bd3786\"], [0.5555555555555556, \"#d8576b\"], [0.6666666666666666, \"#ed7953\"], [0.7777777777777778, \"#fb9f3a\"], [0.8888888888888888, \"#fdca26\"], [1.0, \"#f0f921\"]]}, \"colorway\": [\"#636efa\", \"#EF553B\", \"#00cc96\", \"#ab63fa\", \"#FFA15A\", \"#19d3f3\", \"#FF6692\", \"#B6E880\", \"#FF97FF\", \"#FECB52\"], \"font\": {\"color\": \"#2a3f5f\"}, \"geo\": {\"bgcolor\": \"white\", \"lakecolor\": \"white\", \"landcolor\": \"#E5ECF6\", \"showlakes\": true, \"showland\": true, \"subunitcolor\": \"white\"}, \"hoverlabel\": {\"align\": \"left\"}, \"hovermode\": \"closest\", \"mapbox\": {\"style\": \"light\"}, \"paper_bgcolor\": \"white\", \"plot_bgcolor\": \"#E5ECF6\", \"polar\": {\"angularaxis\": {\"gridcolor\": \"white\", \"linecolor\": \"white\", \"ticks\": \"\"}, \"bgcolor\": \"#E5ECF6\", \"radialaxis\": {\"gridcolor\": \"white\", \"linecolor\": \"white\", \"ticks\": \"\"}}, \"scene\": {\"xaxis\": {\"backgroundcolor\": \"#E5ECF6\", \"gridcolor\": \"white\", \"gridwidth\": 2, \"linecolor\": \"white\", \"showbackground\": true, \"ticks\": \"\", \"zerolinecolor\": \"white\"}, \"yaxis\": {\"backgroundcolor\": \"#E5ECF6\", \"gridcolor\": \"white\", \"gridwidth\": 2, \"linecolor\": \"white\", \"showbackground\": true, \"ticks\": \"\", \"zerolinecolor\": \"white\"}, \"zaxis\": {\"backgroundcolor\": \"#E5ECF6\", \"gridcolor\": \"white\", \"gridwidth\": 2, \"linecolor\": \"white\", \"showbackground\": true, \"ticks\": \"\", \"zerolinecolor\": \"white\"}}, \"shapedefaults\": {\"line\": {\"color\": \"#2a3f5f\"}}, \"ternary\": {\"aaxis\": {\"gridcolor\": \"white\", \"linecolor\": \"white\", \"ticks\": \"\"}, \"baxis\": {\"gridcolor\": \"white\", \"linecolor\": \"white\", \"ticks\": \"\"}, \"bgcolor\": \"#E5ECF6\", \"caxis\": {\"gridcolor\": \"white\", \"linecolor\": \"white\", \"ticks\": \"\"}}, \"title\": {\"x\": 0.05}, \"xaxis\": {\"automargin\": true, \"gridcolor\": \"white\", \"linecolor\": \"white\", \"ticks\": \"\", \"title\": {\"standoff\": 15}, \"zerolinecolor\": \"white\", \"zerolinewidth\": 2}, \"yaxis\": {\"automargin\": true, \"gridcolor\": \"white\", \"linecolor\": \"white\", \"ticks\": \"\", \"title\": {\"standoff\": 15}, \"zerolinecolor\": \"white\", \"zerolinewidth\": 2}}}, \"xaxis\": {\"constrain\": \"domain\", \"scaleanchor\": \"y\", \"side\": \"top\"}, \"yaxis\": {\"autorange\": \"reversed\", \"constrain\": \"domain\"}},\n",
              "                        {\"responsive\": true}\n",
              "                    ).then(function(){\n",
              "                            \n",
              "var gd = document.getElementById('c8b1d902-9114-4236-9edd-8fa0ab7eb1ae');\n",
              "var x = new MutationObserver(function (mutations, observer) {{\n",
              "        var display = window.getComputedStyle(gd).display;\n",
              "        if (!display || display === 'none') {{\n",
              "            console.log([gd, 'removed!']);\n",
              "            Plotly.purge(gd);\n",
              "            observer.disconnect();\n",
              "        }}\n",
              "}});\n",
              "\n",
              "// Listen for the removal of the full notebook cells\n",
              "var notebookContainer = gd.closest('#notebook-container');\n",
              "if (notebookContainer) {{\n",
              "    x.observe(notebookContainer, {childList: true});\n",
              "}}\n",
              "\n",
              "// Listen for the clearing of the current output cell\n",
              "var outputEl = gd.closest('.output');\n",
              "if (outputEl) {{\n",
              "    x.observe(outputEl, {childList: true});\n",
              "}}\n",
              "\n",
              "                        })\n",
              "                };\n",
              "                \n",
              "            </script>\n",
              "        </div>\n",
              "</body>\n",
              "</html>"
            ]
          },
          "metadata": {
            "tags": []
          }
        },
        {
          "output_type": "display_data",
          "data": {
            "text/html": [
              "<html>\n",
              "<head><meta charset=\"utf-8\" /></head>\n",
              "<body>\n",
              "    <div>\n",
              "            <script src=\"https://cdnjs.cloudflare.com/ajax/libs/mathjax/2.7.5/MathJax.js?config=TeX-AMS-MML_SVG\"></script><script type=\"text/javascript\">if (window.MathJax) {MathJax.Hub.Config({SVG: {font: \"STIX-Web\"}});}</script>\n",
              "                <script type=\"text/javascript\">window.PlotlyConfig = {MathJaxConfig: 'local'};</script>\n",
              "        <script src=\"https://cdn.plot.ly/plotly-latest.min.js\"></script>    \n",
              "            <div id=\"c7ae9749-886c-4ca9-a4c1-b300ec205904\" class=\"plotly-graph-div\" style=\"height:525px; width:100%;\"></div>\n",
              "            <script type=\"text/javascript\">\n",
              "                \n",
              "                    window.PLOTLYENV=window.PLOTLYENV || {};\n",
              "                    \n",
              "                if (document.getElementById(\"c7ae9749-886c-4ca9-a4c1-b300ec205904\")) {\n",
              "                    Plotly.newPlot(\n",
              "                        'c7ae9749-886c-4ca9-a4c1-b300ec205904',\n",
              "                        [{\"coloraxis\": \"coloraxis\", \"type\": \"heatmap\", \"z\": [[2.0, 0.0, 0.0, 0.0, 0.0, 2.0, 2.0, 2.0, 0.0, 2.0, 2.0, 2.0, 2.0, 0.0, 2.0, 2.0, 0.0]]}],\n",
              "                        {\"coloraxis\": {\"colorscale\": [[0.0, \"#0d0887\"], [0.1111111111111111, \"#46039f\"], [0.2222222222222222, \"#7201a8\"], [0.3333333333333333, \"#9c179e\"], [0.4444444444444444, \"#bd3786\"], [0.5555555555555556, \"#d8576b\"], [0.6666666666666666, \"#ed7953\"], [0.7777777777777778, \"#fb9f3a\"], [0.8888888888888888, \"#fdca26\"], [1.0, \"#f0f921\"]]}, \"margin\": {\"t\": 60}, \"template\": {\"data\": {\"bar\": [{\"error_x\": {\"color\": \"#2a3f5f\"}, \"error_y\": {\"color\": \"#2a3f5f\"}, \"marker\": {\"line\": {\"color\": \"#E5ECF6\", \"width\": 0.5}}, \"type\": \"bar\"}], \"barpolar\": [{\"marker\": {\"line\": {\"color\": \"#E5ECF6\", \"width\": 0.5}}, \"type\": \"barpolar\"}], \"carpet\": [{\"aaxis\": {\"endlinecolor\": \"#2a3f5f\", \"gridcolor\": \"white\", \"linecolor\": \"white\", \"minorgridcolor\": \"white\", \"startlinecolor\": \"#2a3f5f\"}, \"baxis\": {\"endlinecolor\": \"#2a3f5f\", \"gridcolor\": \"white\", \"linecolor\": \"white\", \"minorgridcolor\": \"white\", \"startlinecolor\": \"#2a3f5f\"}, \"type\": \"carpet\"}], \"choropleth\": [{\"colorbar\": {\"outlinewidth\": 0, \"ticks\": \"\"}, \"type\": \"choropleth\"}], \"contour\": [{\"colorbar\": {\"outlinewidth\": 0, \"ticks\": \"\"}, \"colorscale\": [[0.0, \"#0d0887\"], [0.1111111111111111, \"#46039f\"], [0.2222222222222222, \"#7201a8\"], [0.3333333333333333, \"#9c179e\"], [0.4444444444444444, \"#bd3786\"], [0.5555555555555556, \"#d8576b\"], [0.6666666666666666, \"#ed7953\"], [0.7777777777777778, \"#fb9f3a\"], [0.8888888888888888, \"#fdca26\"], [1.0, \"#f0f921\"]], \"type\": \"contour\"}], \"contourcarpet\": [{\"colorbar\": {\"outlinewidth\": 0, \"ticks\": \"\"}, \"type\": \"contourcarpet\"}], \"heatmap\": [{\"colorbar\": {\"outlinewidth\": 0, \"ticks\": \"\"}, \"colorscale\": [[0.0, \"#0d0887\"], [0.1111111111111111, \"#46039f\"], [0.2222222222222222, \"#7201a8\"], [0.3333333333333333, \"#9c179e\"], [0.4444444444444444, \"#bd3786\"], [0.5555555555555556, \"#d8576b\"], [0.6666666666666666, \"#ed7953\"], [0.7777777777777778, \"#fb9f3a\"], [0.8888888888888888, \"#fdca26\"], [1.0, \"#f0f921\"]], \"type\": \"heatmap\"}], \"heatmapgl\": [{\"colorbar\": {\"outlinewidth\": 0, \"ticks\": \"\"}, \"colorscale\": [[0.0, \"#0d0887\"], [0.1111111111111111, \"#46039f\"], [0.2222222222222222, \"#7201a8\"], [0.3333333333333333, \"#9c179e\"], [0.4444444444444444, \"#bd3786\"], [0.5555555555555556, \"#d8576b\"], [0.6666666666666666, \"#ed7953\"], [0.7777777777777778, \"#fb9f3a\"], [0.8888888888888888, \"#fdca26\"], [1.0, \"#f0f921\"]], \"type\": \"heatmapgl\"}], \"histogram\": [{\"marker\": {\"colorbar\": {\"outlinewidth\": 0, \"ticks\": \"\"}}, \"type\": \"histogram\"}], \"histogram2d\": [{\"colorbar\": {\"outlinewidth\": 0, \"ticks\": \"\"}, \"colorscale\": [[0.0, \"#0d0887\"], [0.1111111111111111, \"#46039f\"], [0.2222222222222222, \"#7201a8\"], [0.3333333333333333, \"#9c179e\"], [0.4444444444444444, \"#bd3786\"], [0.5555555555555556, \"#d8576b\"], [0.6666666666666666, \"#ed7953\"], [0.7777777777777778, \"#fb9f3a\"], [0.8888888888888888, \"#fdca26\"], [1.0, \"#f0f921\"]], \"type\": \"histogram2d\"}], \"histogram2dcontour\": [{\"colorbar\": {\"outlinewidth\": 0, \"ticks\": \"\"}, \"colorscale\": [[0.0, \"#0d0887\"], [0.1111111111111111, \"#46039f\"], [0.2222222222222222, \"#7201a8\"], [0.3333333333333333, \"#9c179e\"], [0.4444444444444444, \"#bd3786\"], [0.5555555555555556, \"#d8576b\"], [0.6666666666666666, \"#ed7953\"], [0.7777777777777778, \"#fb9f3a\"], [0.8888888888888888, \"#fdca26\"], [1.0, \"#f0f921\"]], \"type\": \"histogram2dcontour\"}], \"mesh3d\": [{\"colorbar\": {\"outlinewidth\": 0, \"ticks\": \"\"}, \"type\": \"mesh3d\"}], \"parcoords\": [{\"line\": {\"colorbar\": {\"outlinewidth\": 0, \"ticks\": \"\"}}, \"type\": \"parcoords\"}], \"pie\": [{\"automargin\": true, \"type\": \"pie\"}], \"scatter\": [{\"marker\": {\"colorbar\": {\"outlinewidth\": 0, \"ticks\": \"\"}}, \"type\": \"scatter\"}], \"scatter3d\": [{\"line\": {\"colorbar\": {\"outlinewidth\": 0, \"ticks\": \"\"}}, \"marker\": {\"colorbar\": {\"outlinewidth\": 0, \"ticks\": \"\"}}, \"type\": \"scatter3d\"}], \"scattercarpet\": [{\"marker\": {\"colorbar\": {\"outlinewidth\": 0, \"ticks\": \"\"}}, \"type\": \"scattercarpet\"}], \"scattergeo\": [{\"marker\": {\"colorbar\": {\"outlinewidth\": 0, \"ticks\": \"\"}}, \"type\": \"scattergeo\"}], \"scattergl\": [{\"marker\": {\"colorbar\": {\"outlinewidth\": 0, \"ticks\": \"\"}}, \"type\": \"scattergl\"}], \"scattermapbox\": [{\"marker\": {\"colorbar\": {\"outlinewidth\": 0, \"ticks\": \"\"}}, \"type\": \"scattermapbox\"}], \"scatterpolar\": [{\"marker\": {\"colorbar\": {\"outlinewidth\": 0, \"ticks\": \"\"}}, \"type\": \"scatterpolar\"}], \"scatterpolargl\": [{\"marker\": {\"colorbar\": {\"outlinewidth\": 0, \"ticks\": \"\"}}, \"type\": \"scatterpolargl\"}], \"scatterternary\": [{\"marker\": {\"colorbar\": {\"outlinewidth\": 0, \"ticks\": \"\"}}, \"type\": \"scatterternary\"}], \"surface\": [{\"colorbar\": {\"outlinewidth\": 0, \"ticks\": \"\"}, \"colorscale\": [[0.0, \"#0d0887\"], [0.1111111111111111, \"#46039f\"], [0.2222222222222222, \"#7201a8\"], [0.3333333333333333, \"#9c179e\"], [0.4444444444444444, \"#bd3786\"], [0.5555555555555556, \"#d8576b\"], [0.6666666666666666, \"#ed7953\"], [0.7777777777777778, \"#fb9f3a\"], [0.8888888888888888, \"#fdca26\"], [1.0, \"#f0f921\"]], \"type\": \"surface\"}], \"table\": [{\"cells\": {\"fill\": {\"color\": \"#EBF0F8\"}, \"line\": {\"color\": \"white\"}}, \"header\": {\"fill\": {\"color\": \"#C8D4E3\"}, \"line\": {\"color\": \"white\"}}, \"type\": \"table\"}]}, \"layout\": {\"annotationdefaults\": {\"arrowcolor\": \"#2a3f5f\", \"arrowhead\": 0, \"arrowwidth\": 1}, \"coloraxis\": {\"colorbar\": {\"outlinewidth\": 0, \"ticks\": \"\"}}, \"colorscale\": {\"diverging\": [[0, \"#8e0152\"], [0.1, \"#c51b7d\"], [0.2, \"#de77ae\"], [0.3, \"#f1b6da\"], [0.4, \"#fde0ef\"], [0.5, \"#f7f7f7\"], [0.6, \"#e6f5d0\"], [0.7, \"#b8e186\"], [0.8, \"#7fbc41\"], [0.9, \"#4d9221\"], [1, \"#276419\"]], \"sequential\": [[0.0, \"#0d0887\"], [0.1111111111111111, \"#46039f\"], [0.2222222222222222, \"#7201a8\"], [0.3333333333333333, \"#9c179e\"], [0.4444444444444444, \"#bd3786\"], [0.5555555555555556, \"#d8576b\"], [0.6666666666666666, \"#ed7953\"], [0.7777777777777778, \"#fb9f3a\"], [0.8888888888888888, \"#fdca26\"], [1.0, \"#f0f921\"]], \"sequentialminus\": [[0.0, \"#0d0887\"], [0.1111111111111111, \"#46039f\"], [0.2222222222222222, \"#7201a8\"], [0.3333333333333333, \"#9c179e\"], [0.4444444444444444, \"#bd3786\"], [0.5555555555555556, \"#d8576b\"], [0.6666666666666666, \"#ed7953\"], [0.7777777777777778, \"#fb9f3a\"], [0.8888888888888888, \"#fdca26\"], [1.0, \"#f0f921\"]]}, \"colorway\": [\"#636efa\", \"#EF553B\", \"#00cc96\", \"#ab63fa\", \"#FFA15A\", \"#19d3f3\", \"#FF6692\", \"#B6E880\", \"#FF97FF\", \"#FECB52\"], \"font\": {\"color\": \"#2a3f5f\"}, \"geo\": {\"bgcolor\": \"white\", \"lakecolor\": \"white\", \"landcolor\": \"#E5ECF6\", \"showlakes\": true, \"showland\": true, \"subunitcolor\": \"white\"}, \"hoverlabel\": {\"align\": \"left\"}, \"hovermode\": \"closest\", \"mapbox\": {\"style\": \"light\"}, \"paper_bgcolor\": \"white\", \"plot_bgcolor\": \"#E5ECF6\", \"polar\": {\"angularaxis\": {\"gridcolor\": \"white\", \"linecolor\": \"white\", \"ticks\": \"\"}, \"bgcolor\": \"#E5ECF6\", \"radialaxis\": {\"gridcolor\": \"white\", \"linecolor\": \"white\", \"ticks\": \"\"}}, \"scene\": {\"xaxis\": {\"backgroundcolor\": \"#E5ECF6\", \"gridcolor\": \"white\", \"gridwidth\": 2, \"linecolor\": \"white\", \"showbackground\": true, \"ticks\": \"\", \"zerolinecolor\": \"white\"}, \"yaxis\": {\"backgroundcolor\": \"#E5ECF6\", \"gridcolor\": \"white\", \"gridwidth\": 2, \"linecolor\": \"white\", \"showbackground\": true, \"ticks\": \"\", \"zerolinecolor\": \"white\"}, \"zaxis\": {\"backgroundcolor\": \"#E5ECF6\", \"gridcolor\": \"white\", \"gridwidth\": 2, \"linecolor\": \"white\", \"showbackground\": true, \"ticks\": \"\", \"zerolinecolor\": \"white\"}}, \"shapedefaults\": {\"line\": {\"color\": \"#2a3f5f\"}}, \"ternary\": {\"aaxis\": {\"gridcolor\": \"white\", \"linecolor\": \"white\", \"ticks\": \"\"}, \"baxis\": {\"gridcolor\": \"white\", \"linecolor\": \"white\", \"ticks\": \"\"}, \"bgcolor\": \"#E5ECF6\", \"caxis\": {\"gridcolor\": \"white\", \"linecolor\": \"white\", \"ticks\": \"\"}}, \"title\": {\"x\": 0.05}, \"xaxis\": {\"automargin\": true, \"gridcolor\": \"white\", \"linecolor\": \"white\", \"ticks\": \"\", \"title\": {\"standoff\": 15}, \"zerolinecolor\": \"white\", \"zerolinewidth\": 2}, \"yaxis\": {\"automargin\": true, \"gridcolor\": \"white\", \"linecolor\": \"white\", \"ticks\": \"\", \"title\": {\"standoff\": 15}, \"zerolinecolor\": \"white\", \"zerolinewidth\": 2}}}, \"xaxis\": {\"constrain\": \"domain\", \"scaleanchor\": \"y\", \"side\": \"top\"}, \"yaxis\": {\"autorange\": \"reversed\", \"constrain\": \"domain\"}},\n",
              "                        {\"responsive\": true}\n",
              "                    ).then(function(){\n",
              "                            \n",
              "var gd = document.getElementById('c7ae9749-886c-4ca9-a4c1-b300ec205904');\n",
              "var x = new MutationObserver(function (mutations, observer) {{\n",
              "        var display = window.getComputedStyle(gd).display;\n",
              "        if (!display || display === 'none') {{\n",
              "            console.log([gd, 'removed!']);\n",
              "            Plotly.purge(gd);\n",
              "            observer.disconnect();\n",
              "        }}\n",
              "}});\n",
              "\n",
              "// Listen for the removal of the full notebook cells\n",
              "var notebookContainer = gd.closest('#notebook-container');\n",
              "if (notebookContainer) {{\n",
              "    x.observe(notebookContainer, {childList: true});\n",
              "}}\n",
              "\n",
              "// Listen for the clearing of the current output cell\n",
              "var outputEl = gd.closest('.output');\n",
              "if (outputEl) {{\n",
              "    x.observe(outputEl, {childList: true});\n",
              "}}\n",
              "\n",
              "                        })\n",
              "                };\n",
              "                \n",
              "            </script>\n",
              "        </div>\n",
              "</body>\n",
              "</html>"
            ]
          },
          "metadata": {
            "tags": []
          }
        }
      ]
    },
    {
      "cell_type": "markdown",
      "metadata": {
        "id": "MFloPx5cU144",
        "colab_type": "text"
      },
      "source": [
        "# Cleaning DatAlex"
      ]
    },
    {
      "cell_type": "code",
      "metadata": {
        "id": "0tg5h0l8ORGD",
        "colab_type": "code",
        "outputId": "b676db76-3501-4c80-a804-a866aed48875",
        "colab": {
          "base_uri": "https://localhost:8080/",
          "height": 34
        }
      },
      "source": [
        "query = \"SELECT \\\n",
        "            A3.name, A2.date, A2.gab_arcures, A1.mites, A1.pow_mildew_bunches, A2.pluvio \\\n",
        "        FROM \\\n",
        "            bioagr_measures A1, pheno_measures A2, parcels A3, gen_measures A4 \\\n",
        "        WHERE \\\n",
        "            A4.date=A2.date \\\n",
        "            AND A4.id_domain=A2.id_dom \\\n",
        "            AND A3.id_parc=A1.id_parc \\\n",
        "            AND A2.id_pheno=A1.id_pheno \\\n",
        "        ORDER BY A2.date;\"\n",
        "\n",
        "gandourie = np.array(datalex.get_answer(query))\n",
        "\n",
        "np.isin(gandourie[:,3], ['ras','RAS', 'RT', 'QT', 'BT']).shape\n",
        "# gandourie[:,3]"
      ],
      "execution_count": 149,
      "outputs": [
        {
          "output_type": "execute_result",
          "data": {
            "text/plain": [
              "(3889,)"
            ]
          },
          "metadata": {
            "tags": []
          },
          "execution_count": 149
        }
      ]
    },
    {
      "cell_type": "code",
      "metadata": {
        "id": "M44wgvTMTb_Q",
        "colab_type": "code",
        "colab": {}
      },
      "source": [
        "import re\n",
        "\n",
        "def case_from_freq_int(state):\n",
        "    state = [s.replace(\"%\", \"\") for s in state]\n",
        "    if len(state) == 2:\n",
        "        howmuch = float(state[0])*float(state[1])/10000\n",
        "    if len(state) == 4:\n",
        "        howmuch = (float(state[0])*float(state[1])/10000 + float(state[2])*float(state[3])/10000)/2\n",
        "\n",
        "    if howmuch == 0:\n",
        "        return 'RAS'\n",
        "    elif howmuch >0 and howmuch <=20:\n",
        "        return 'RT'\n",
        "    elif howmuch >20 and howmuch <= 40:\n",
        "        return 'QT'\n",
        "    elif howmuch > 40 and howmuch <= 80:\n",
        "        return 'BT'\n",
        "\n",
        "#fonctionne aussi pour pow_mildew_leaves et pow_mildew_bunches\n",
        "def mildew_blackrot_processing(cell):\n",
        "\n",
        "    state_to_num = {'RAS' : 0, 'RT' : 1, 'QT' : 2, 'BT' : 3, 'nan' : np.nan}\n",
        "    m = None\n",
        "    cell = cell.replace(\" \", \"\").lower()\n",
        "\n",
        "    if re.match(r'freq.*?\\d+%.*?int.*?\\d+%', cell):\n",
        "        m = re.findall(r\"\\d+%\", cell)\n",
        "        new_val = case_from_freq_int(m)\n",
        "\n",
        "\n",
        "    elif re.match(r'mff.*?\\d+%.*?mfi.*?\\d+%', cell):\n",
        "        m = re.findall(r'\\d+%', cell)\n",
        "        new_val = case_from_freq_int(m)\n",
        "    elif re.match(r'mff.*?\\d+.*?-.*?\\d+.*?%.*?mfi.*?\\d+.*?%.*?', cell):\n",
        "        m = re.findall(r'\\d+%', cell)\n",
        "        new_val = case_from_freq_int(m)\n",
        "\n",
        "    elif re.match(r'mgf.*?\\d+%.*?mgi.*?\\d+%', cell):\n",
        "        m = re.findall(r'\\d+%', cell)\n",
        "        new_val = case_from_freq_int(m)\n",
        "    elif re.match(r'mgf\\d+-\\d+%;mgi\\d+%', cell):\n",
        "        m = re.findall(r'\\d+%', cell)\n",
        "        new_val = case_from_freq_int(m)\n",
        "\n",
        "\n",
        "    elif re.match(r'freq.*?\\d+%;int.*?\\d+-\\d+%', cell):\n",
        "        m = re.findall(r'\\d+%', cell)\n",
        "        new_val = case_from_freq_int(m)\n",
        "\n",
        "    elif re.match(r'2010-11:freq:\\d+%/int:\\d+%;2009:freq:\\d+%/int\\d+%', cell):\n",
        "        m = re.findall(r'\\d+%', cell)\n",
        "        new_val = case_from_freq_int(m)\n",
        "    elif re.match(r'\\d+feuillesparentredeux', cell):\n",
        "        m = re.findall(r'\\d+', cell)\n",
        "        new_val = 'QT'\n",
        "    elif re.match(r'\\d+-\\d+feuillesparentredeux', cell):\n",
        "        m = re.findall(r'\\d+-', cell)\n",
        "        new_val = 'QT'\n",
        "        \n",
        "        # print(cell)\n",
        "    elif cell in ['rg', 'bg', 'qt']:\n",
        "        new_val = cell[0].upper() +'T'\n",
        "    elif cell in ['tt']:\n",
        "        new_val = 'RT'\n",
        "    elif 'rt' in cell or cell=='1' or cell == '3dans2009' or cell == '3côtéligneàhtension' or cell == \"1tache\" or cell == \"1t\" or cell == \"2t\":\n",
        "        new_val = 'RT'\n",
        "    elif 'bt' in cell or cell == 'bcp':\n",
        "        new_val = 'BT'\n",
        "    elif 'qt' in cell or 'quelquesbaiestouchées' == cell or 'stabilisationquelquesbaiestouchées' == cell or 'quelquesgrappestouchéesauniveaudupuit' ==cell or 'bcpgrappestouchéesrotgrisetrotbrun' ==cell:\n",
        "        new_val = 'QT'\n",
        "    elif 'non' == cell or '-' == cell or '/' == cell or 'observationimpossiblecargrossepluie' == cell:\n",
        "        new_val = 'nan'\n",
        "    elif 'quelquesgrappestouchées' == cell or '1gpstouchee' == cell or cell == '1baiesdetouchées':\n",
        "        new_val = 'RT'\n",
        "    elif 'ras' in cell:\n",
        "        new_val = 'RAS'\n",
        "    elif re.match(r'gmg:freq\\d+%;int:\\d+-\\d%', cell):\n",
        "        m = re.findall(r'\\d+%', cell)\n",
        "        new_val = case_from_freq_int(m)\n",
        "    else:\n",
        "        new_val = 'nan'\n",
        "\n",
        "    \n",
        "    return state_to_num[new_val]\n",
        "\n",
        "\n",
        "#leafhopper nothing to do\n",
        "def leafrollers_processing(cell):\n",
        "    return 'nan'\n",
        "\n",
        "def mites_processing(cell):\n",
        "    state_to_num = {'Aca' : 0, 'ER' : 1, 'AR' : 2, 'AJ' : 3, 'nan' : np.nan}\n",
        "    if cell == 'Erinose':\n",
        "        new_val =  'ER'\n",
        "    elif cell == 'Aca':\n",
        "        new_val =  'Aca'\n",
        "    elif cell == 'Aca?':\n",
        "        new_val =  'Aca'\n",
        "    else:\n",
        "        new_val =  'nan'\n",
        "\n",
        "    return state_to_num[new_val]\n",
        "def botrytis_processing(cell):\n",
        "    state_to_num = {'RF' : 0, 'QF' : 1, 'nan' : np.nan}\n",
        "    if 'QF' in cell:\n",
        "        new_val = 'QF'\n",
        "    elif 'RT' in cell:\n",
        "        new_val = 'RF'\n",
        "    elif cell == '1 feuille':\n",
        "        new_val = 'RF'\n",
        "    elif 'BF' in cell:\n",
        "        new_val = 'BF'\n",
        "    else:\n",
        "        new_val = 'nan'\n",
        "\n",
        "    return state_to_num[new_val]\n",
        "\n",
        "\n",
        "def sprout_processing(cell):\n",
        "    cell = cell.replace(' ', '')\n",
        "    if cell == '-' or cell == \"mesuredepousseimpossiblecasséesparl'oragedegrele\" or cell == 'lapousseestdésséchéesurlapointe':\n",
        "        new_val = 'nan'\n",
        "    elif 'cm' in cell:\n",
        "        new_val = cell.split(\"cm\")[0]\n",
        "    elif cell == 'plusdepousse(gréle)etessolépourlepaysbas' or \"1erreleveaujourd'hui\" == cell or 'poussesgrêlées' == cell:\n",
        "        new_val = '0'\n",
        "    elif cell == '3,6mm/jour':\n",
        "        new_val = '0.36'\n",
        "    elif '(poussedéséchéeenbout)' in cell:\n",
        "        new_val = cell.split('(')[0]\n",
        "    elif '1,6poussemoyennedelasemaine' == cell:\n",
        "        new_val = '0.22'\n",
        "    else: \n",
        "        new_val = cell\n",
        "\n",
        "    return np.float(new_val.replace(',', '.'))\n",
        "\n",
        "\n",
        "def wood_disease_processing(cell):\n",
        "    state_to_num = {'E' : 0, 'EEB' : 1, 'EB' : 2, 'nan' : np.nan}\n",
        "    if 'pieds observés' in cell:\n",
        "        return 'nan'\n",
        "    else:\n",
        "        return cell.replace(' ', '').replace('/', '').replace(',', '').replace('+', '')\n",
        "def pluvio_processing(cell):\n",
        "    if '(' in cell:\n",
        "        return np.float(cell.split('(')[0].replace(',', '.'))\n",
        "    elif 'touv0' == cell:\n",
        "        return 0.0\n",
        "    else:\n",
        "        return np.float(cell.replace(',', '.'))\n",
        "\n",
        "\n",
        "def gab_processing(cell):\n",
        "    cell = cell.replace(' ', '').replace('m', '').replace(\"'\", \"\")\n",
        "    if cell == \"('nan', 'nan')\":\n",
        "        if \"'\" in cell:\n",
        "            new_val = np.float(cell.split(\"'\")[1])*np.float(cell.split(\"'\")[3])\n",
        "        else:\n",
        "            new_val = np.float(cell.split(\",\")[0].replace('(', ''))*np.float(cell.split(\",\")[1].replace(')', ''))\n",
        "    else:\n",
        "        if 'c' not in cell:\n",
        "            cell = cell.replace('c', '')\n",
        "            \n",
        "        L = np.float(re.findall('\\((.*?), (.*?)\\)', cell)[0][0].replace(\"\\'\", \"\"))\n",
        "        H = np.float(re.findall('\\((.*?), (.*?)\\)', cell)[0][1])\n",
        "        new_val = L*H\n",
        "    \n",
        "    return new_val"
      ],
      "execution_count": 0,
      "outputs": []
    },
    {
      "cell_type": "code",
      "metadata": {
        "id": "MTDiEeXbkqNl",
        "colab_type": "code",
        "colab": {}
      },
      "source": [
        "import requests\n",
        "import json"
      ],
      "execution_count": 0,
      "outputs": []
    },
    {
      "cell_type": "code",
      "metadata": {
        "id": "omjQFxuCiWJ_",
        "colab_type": "code",
        "colab": {}
      },
      "source": [
        "query = \"SELECT \\\n",
        "            A3.name, A5.name, A2.date, A1.mildew_leaves, A1.mildew_bunches, A2.stage, A2.sprout\\\n",
        "        FROM \\\n",
        "            bioagr_measures A1, pheno_measures A2, parcels A3, gen_measures A4, domains A5 \\\n",
        "        WHERE \\\n",
        "            A4.date=A2.date \\\n",
        "            AND A5.id_domain=A2.id_dom \\\n",
        "            AND A4.id_domain=A2.id_dom \\\n",
        "            AND A3.id_parc=A1.id_parc \\\n",
        "            AND A2.id_pheno=A1.id_pheno \\\n",
        "            AND YEAR(A2.date) > 2011 \\\n",
        "        ORDER BY A2.date;\"\n",
        "        #OR A5.name LIKE '%magdeleine%') \\\n",
        "\n",
        "def stage_processing(cell):\n",
        "    return np.mean([np.float(c) for c in cell.split('-')])\n",
        "\n",
        "# del gandourie\n",
        "\n",
        "gandourie = np.array(datalex.get_answer(query))\n",
        "gandourie = pd.DataFrame(data=gandourie, columns=['parcel_name', 'domain_name', 'date', 'mildew_leaves', 'mildew_bunches', 'stage', 'sprout'])\n",
        "# a = gandourie[:,3].apply(pluvio_processing)\n",
        "gandourie.iloc[:,3] = gandourie.iloc[:,3].apply(mildew_blackrot_processing)\n",
        "gandourie.iloc[:,4] = gandourie.iloc[:,4].apply(mildew_blackrot_processing)\n",
        "\n",
        "gandourie.iloc[:,5] = gandourie.iloc[:,5].apply(stage_processing)\n",
        "gandourie.iloc[:,6] = gandourie.iloc[:,6].apply(sprout_processing)\n",
        "\n",
        "a = 0\n",
        "L = 0\n",
        "H = 0\n",
        "gandourie = gandourie.drop_duplicates()"
      ],
      "execution_count": 0,
      "outputs": []
    },
    {
      "cell_type": "code",
      "metadata": {
        "id": "MD_ZNd_PcmI6",
        "colab_type": "code",
        "colab": {
          "base_uri": "https://localhost:8080/",
          "height": 419
        },
        "outputId": "6fc58d00-4ca6-441a-c5e3-b09d530a3c7a"
      },
      "source": [
        "gandourie"
      ],
      "execution_count": 276,
      "outputs": [
        {
          "output_type": "execute_result",
          "data": {
            "text/html": [
              "<div>\n",
              "<style scoped>\n",
              "    .dataframe tbody tr th:only-of-type {\n",
              "        vertical-align: middle;\n",
              "    }\n",
              "\n",
              "    .dataframe tbody tr th {\n",
              "        vertical-align: top;\n",
              "    }\n",
              "\n",
              "    .dataframe thead th {\n",
              "        text-align: right;\n",
              "    }\n",
              "</style>\n",
              "<table border=\"1\" class=\"dataframe\">\n",
              "  <thead>\n",
              "    <tr style=\"text-align: right;\">\n",
              "      <th></th>\n",
              "      <th>parcel_name</th>\n",
              "      <th>domain_name</th>\n",
              "      <th>date</th>\n",
              "      <th>mildew_leaves</th>\n",
              "      <th>mildew_bunches</th>\n",
              "      <th>stage</th>\n",
              "      <th>sprout</th>\n",
              "    </tr>\n",
              "  </thead>\n",
              "  <tbody>\n",
              "    <tr>\n",
              "      <th>0</th>\n",
              "      <td>pierriere</td>\n",
              "      <td>Ligniere</td>\n",
              "      <td>2012-05-02</td>\n",
              "      <td>0.0</td>\n",
              "      <td>0.0</td>\n",
              "      <td>6.0</td>\n",
              "      <td>0.0</td>\n",
              "    </tr>\n",
              "    <tr>\n",
              "      <th>1</th>\n",
              "      <td>bois naudin</td>\n",
              "      <td>Ligniere</td>\n",
              "      <td>2012-05-02</td>\n",
              "      <td>0.0</td>\n",
              "      <td>0.0</td>\n",
              "      <td>6.0</td>\n",
              "      <td>0.0</td>\n",
              "    </tr>\n",
              "    <tr>\n",
              "      <th>2</th>\n",
              "      <td>viaud</td>\n",
              "      <td>Ligniere</td>\n",
              "      <td>2012-05-02</td>\n",
              "      <td>0.0</td>\n",
              "      <td>0.0</td>\n",
              "      <td>6.0</td>\n",
              "      <td>0.0</td>\n",
              "    </tr>\n",
              "    <tr>\n",
              "      <th>3</th>\n",
              "      <td>sablons</td>\n",
              "      <td>Ligniere</td>\n",
              "      <td>2012-05-02</td>\n",
              "      <td>0.0</td>\n",
              "      <td>0.0</td>\n",
              "      <td>6.0</td>\n",
              "      <td>0.0</td>\n",
              "    </tr>\n",
              "    <tr>\n",
              "      <th>4</th>\n",
              "      <td>lizon</td>\n",
              "      <td>Ligniere</td>\n",
              "      <td>2012-05-02</td>\n",
              "      <td>0.0</td>\n",
              "      <td>0.0</td>\n",
              "      <td>6.0</td>\n",
              "      <td>0.0</td>\n",
              "    </tr>\n",
              "    <tr>\n",
              "      <th>...</th>\n",
              "      <td>...</td>\n",
              "      <td>...</td>\n",
              "      <td>...</td>\n",
              "      <td>...</td>\n",
              "      <td>...</td>\n",
              "      <td>...</td>\n",
              "      <td>...</td>\n",
              "    </tr>\n",
              "    <tr>\n",
              "      <th>3756</th>\n",
              "      <td>ormeau 06-07</td>\n",
              "      <td>Magdeleine</td>\n",
              "      <td>2019-08-12</td>\n",
              "      <td>1.0</td>\n",
              "      <td>0.0</td>\n",
              "      <td>35.0</td>\n",
              "      <td>NaN</td>\n",
              "    </tr>\n",
              "    <tr>\n",
              "      <th>3757</th>\n",
              "      <td>viaud - fg300</td>\n",
              "      <td>Magdeleine</td>\n",
              "      <td>2019-08-12</td>\n",
              "      <td>NaN</td>\n",
              "      <td>NaN</td>\n",
              "      <td>35.0</td>\n",
              "      <td>NaN</td>\n",
              "    </tr>\n",
              "    <tr>\n",
              "      <th>3758</th>\n",
              "      <td>st remy</td>\n",
              "      <td>Magdeleine</td>\n",
              "      <td>2019-08-12</td>\n",
              "      <td>1.0</td>\n",
              "      <td>1.0</td>\n",
              "      <td>35.0</td>\n",
              "      <td>NaN</td>\n",
              "    </tr>\n",
              "    <tr>\n",
              "      <th>3759</th>\n",
              "      <td>bas parc 2009</td>\n",
              "      <td>Magdeleine</td>\n",
              "      <td>2019-08-12</td>\n",
              "      <td>1.0</td>\n",
              "      <td>1.0</td>\n",
              "      <td>35.0</td>\n",
              "      <td>NaN</td>\n",
              "    </tr>\n",
              "    <tr>\n",
              "      <th>3760</th>\n",
              "      <td>temoin non traité         fleac</td>\n",
              "      <td>Magdeleine</td>\n",
              "      <td>2019-08-12</td>\n",
              "      <td>1.0</td>\n",
              "      <td>1.0</td>\n",
              "      <td>35.0</td>\n",
              "      <td>NaN</td>\n",
              "    </tr>\n",
              "  </tbody>\n",
              "</table>\n",
              "<p>3467 rows × 7 columns</p>\n",
              "</div>"
            ],
            "text/plain": [
              "                          parcel_name domain_name  ... stage  sprout\n",
              "0                           pierriere    Ligniere  ...   6.0     0.0\n",
              "1                         bois naudin    Ligniere  ...   6.0     0.0\n",
              "2                               viaud    Ligniere  ...   6.0     0.0\n",
              "3                             sablons    Ligniere  ...   6.0     0.0\n",
              "4                               lizon    Ligniere  ...   6.0     0.0\n",
              "...                               ...         ...  ...   ...     ...\n",
              "3756                     ormeau 06-07  Magdeleine  ...  35.0     NaN\n",
              "3757                    viaud - fg300  Magdeleine  ...  35.0     NaN\n",
              "3758                          st remy  Magdeleine  ...  35.0     NaN\n",
              "3759                    bas parc 2009  Magdeleine  ...  35.0     NaN\n",
              "3760  temoin non traité         fleac  Magdeleine  ...  35.0     NaN\n",
              "\n",
              "[3467 rows x 7 columns]"
            ]
          },
          "metadata": {
            "tags": []
          },
          "execution_count": 276
        }
      ]
    },
    {
      "cell_type": "code",
      "metadata": {
        "id": "3ZimeFXUbR7n",
        "colab_type": "code",
        "colab": {}
      },
      "source": [
        "#ARCURE : "
      ],
      "execution_count": 0,
      "outputs": []
    },
    {
      "cell_type": "markdown",
      "metadata": {
        "id": "L2Oa0Hy1W1x4",
        "colab_type": "text"
      },
      "source": [
        "# Récupération des températures"
      ]
    },
    {
      "cell_type": "code",
      "metadata": {
        "id": "jevFhm0EBhbL",
        "colab_type": "code",
        "colab": {}
      },
      "source": [
        "from datetime import timedelta"
      ],
      "execution_count": 0,
      "outputs": []
    },
    {
      "cell_type": "code",
      "metadata": {
        "id": "a-_bRLHQtstN",
        "colab_type": "code",
        "colab": {}
      },
      "source": [
        "domain_to_gps = {\n",
        "    'Ligniere' : {'lat' : '45.806799', 'long' : '-0.052975'},\n",
        "    'Magdeleine' : {'lat' : '46.0440242', 'long' : '0.0592495'},\n",
        "    'Galliene' : {'lat' : '45.7087596', 'long' : '-0.3652512'}\n",
        "}\n",
        "\n",
        "\n",
        "request_mageleine = requests.get('https://power.larc.nasa.gov/cgi-bin/v1/DataAccess.py?request=execute&identifier=SinglePoint&parameters=RH2M,WS2M,ALLSKY_SFC_SW_DWN,WS2M,PRECTOT&startDate=20110101&endDate=20191231&userCommunity=AG&tempAverage=DAILY&outputList=JSON&lat='+domain_to_gps['Magdeleine']['lat']+'&lon='+domain_to_gps['Magdeleine']['lat']+'&user=anonymous&siteElev=1.5')\n",
        "request_ligniere = requests.get('https://power.larc.nasa.gov/cgi-bin/v1/DataAccess.py?request=execute&identifier=SinglePoint&parameters=RH2M,WS2M,ALLSKY_SFC_SW_DWN,WS2M,PRECTOT&startDate=20110101&endDate=20191231&userCommunity=AG&tempAverage=DAILY&outputList=JSON&lat='+domain_to_gps['Ligniere']['lat']+'&lon='+domain_to_gps['Ligniere']['lat']+'&user=anonymous&siteElev=1.5')\n",
        "request_galliene = requests.get('https://power.larc.nasa.gov/cgi-bin/v1/DataAccess.py?request=execute&identifier=SinglePoint&parameters=RH2M,WS2M,ALLSKY_SFC_SW_DWN,WS2M,PRECTOT&startDate=20110101&endDate=20191231&userCommunity=AG&tempAverage=DAILY&outputList=JSON&lat='+domain_to_gps['Galliene']['lat']+'&lon='+domain_to_gps['Galliene']['lat']+'&user=anonymous&siteElev=1.5')\n",
        "\n",
        "\n",
        "\n",
        "parsed_json_mageleine = json.loads(request_mageleine.__dict__['_content'])\n",
        "parsed_json_ligniere = json.loads(request_ligniere.__dict__['_content'])\n",
        "parsed_json_request_galliene = json.loads(request_galliene.__dict__['_content'])\n",
        "\n",
        "all_fields = ['PRECTOT', 'PSC', 'RH2M', 'T2M', 'WS2M']\n",
        "all_meteo_data = {'Ligniere' : parsed_json_ligniere, 'Magdeleine' : parsed_json_mageleine, 'Galliene' : request_galliene}\n"
      ],
      "execution_count": 0,
      "outputs": []
    },
    {
      "cell_type": "code",
      "metadata": {
        "id": "7cIAUwDIwMfW",
        "colab_type": "code",
        "colab": {}
      },
      "source": [
        "def get_meteorological_serie(all_meteo_data, field):\n",
        "    data_field_values = parsed_json_ligniere[\"features\"][0][\"properties\"][\"parameter\"][field]\n",
        "    field_values = []\n",
        "\n",
        "    def get_temperature(domain, date):\n",
        "        previous_week_temp = []\n",
        "        for d in range(7):\n",
        "            previous_week_temp.append(data_field_values[date_to_str(date - timedelta(days=d))])\n",
        "        return np.mean(previous_week_temp)\n",
        "\n",
        "    for i in range(len(gandourie)):\n",
        "        field_values.append(get_temperature(gandourie.iloc[i,1], gandourie.iloc[i,2]))\n",
        "\n",
        "    return field_values\n",
        "\n",
        "for field in all_fields:\n",
        "    gandourie[field] = get_meteorological_serie(all_meteo_data, field)\n",
        "\n",
        "def date_to_str(date):\n",
        "    return str(date).replace('-', '').split(' ')[0]\n",
        "\n"
      ],
      "execution_count": 0,
      "outputs": []
    },
    {
      "cell_type": "code",
      "metadata": {
        "id": "tAaTi5cjTmpU",
        "colab_type": "code",
        "colab": {
          "base_uri": "https://localhost:8080/",
          "height": 419
        },
        "outputId": "64c38a63-3350-4872-92c8-5b1fd0f6924c"
      },
      "source": [
        "parcel_names = gandourie.parcel_name.unique()\n",
        "gandourie"
      ],
      "execution_count": 281,
      "outputs": [
        {
          "output_type": "execute_result",
          "data": {
            "text/html": [
              "<div>\n",
              "<style scoped>\n",
              "    .dataframe tbody tr th:only-of-type {\n",
              "        vertical-align: middle;\n",
              "    }\n",
              "\n",
              "    .dataframe tbody tr th {\n",
              "        vertical-align: top;\n",
              "    }\n",
              "\n",
              "    .dataframe thead th {\n",
              "        text-align: right;\n",
              "    }\n",
              "</style>\n",
              "<table border=\"1\" class=\"dataframe\">\n",
              "  <thead>\n",
              "    <tr style=\"text-align: right;\">\n",
              "      <th></th>\n",
              "      <th>parcel_name</th>\n",
              "      <th>domain_name</th>\n",
              "      <th>date</th>\n",
              "      <th>mildew_leaves</th>\n",
              "      <th>mildew_bunches</th>\n",
              "      <th>stage</th>\n",
              "      <th>sprout</th>\n",
              "      <th>PRECTOT</th>\n",
              "      <th>PSC</th>\n",
              "      <th>RH2M</th>\n",
              "      <th>T2M</th>\n",
              "      <th>WS2M</th>\n",
              "    </tr>\n",
              "  </thead>\n",
              "  <tbody>\n",
              "    <tr>\n",
              "      <th>0</th>\n",
              "      <td>pierriere</td>\n",
              "      <td>Ligniere</td>\n",
              "      <td>2012-05-02</td>\n",
              "      <td>0.0</td>\n",
              "      <td>0.0</td>\n",
              "      <td>6.0</td>\n",
              "      <td>0.0</td>\n",
              "      <td>0.952857</td>\n",
              "      <td>101.655714</td>\n",
              "      <td>42.531429</td>\n",
              "      <td>19.602857</td>\n",
              "      <td>2.411429</td>\n",
              "    </tr>\n",
              "    <tr>\n",
              "      <th>1</th>\n",
              "      <td>bois naudin</td>\n",
              "      <td>Ligniere</td>\n",
              "      <td>2012-05-02</td>\n",
              "      <td>0.0</td>\n",
              "      <td>0.0</td>\n",
              "      <td>6.0</td>\n",
              "      <td>0.0</td>\n",
              "      <td>0.952857</td>\n",
              "      <td>101.655714</td>\n",
              "      <td>42.531429</td>\n",
              "      <td>19.602857</td>\n",
              "      <td>2.411429</td>\n",
              "    </tr>\n",
              "    <tr>\n",
              "      <th>2</th>\n",
              "      <td>viaud</td>\n",
              "      <td>Ligniere</td>\n",
              "      <td>2012-05-02</td>\n",
              "      <td>0.0</td>\n",
              "      <td>0.0</td>\n",
              "      <td>6.0</td>\n",
              "      <td>0.0</td>\n",
              "      <td>0.952857</td>\n",
              "      <td>101.655714</td>\n",
              "      <td>42.531429</td>\n",
              "      <td>19.602857</td>\n",
              "      <td>2.411429</td>\n",
              "    </tr>\n",
              "    <tr>\n",
              "      <th>3</th>\n",
              "      <td>sablons</td>\n",
              "      <td>Ligniere</td>\n",
              "      <td>2012-05-02</td>\n",
              "      <td>0.0</td>\n",
              "      <td>0.0</td>\n",
              "      <td>6.0</td>\n",
              "      <td>0.0</td>\n",
              "      <td>0.952857</td>\n",
              "      <td>101.655714</td>\n",
              "      <td>42.531429</td>\n",
              "      <td>19.602857</td>\n",
              "      <td>2.411429</td>\n",
              "    </tr>\n",
              "    <tr>\n",
              "      <th>4</th>\n",
              "      <td>lizon</td>\n",
              "      <td>Ligniere</td>\n",
              "      <td>2012-05-02</td>\n",
              "      <td>0.0</td>\n",
              "      <td>0.0</td>\n",
              "      <td>6.0</td>\n",
              "      <td>0.0</td>\n",
              "      <td>0.952857</td>\n",
              "      <td>101.655714</td>\n",
              "      <td>42.531429</td>\n",
              "      <td>19.602857</td>\n",
              "      <td>2.411429</td>\n",
              "    </tr>\n",
              "    <tr>\n",
              "      <th>...</th>\n",
              "      <td>...</td>\n",
              "      <td>...</td>\n",
              "      <td>...</td>\n",
              "      <td>...</td>\n",
              "      <td>...</td>\n",
              "      <td>...</td>\n",
              "      <td>...</td>\n",
              "      <td>...</td>\n",
              "      <td>...</td>\n",
              "      <td>...</td>\n",
              "      <td>...</td>\n",
              "      <td>...</td>\n",
              "    </tr>\n",
              "    <tr>\n",
              "      <th>3756</th>\n",
              "      <td>ormeau 06-07</td>\n",
              "      <td>Magdeleine</td>\n",
              "      <td>2019-08-12</td>\n",
              "      <td>1.0</td>\n",
              "      <td>0.0</td>\n",
              "      <td>35.0</td>\n",
              "      <td>NaN</td>\n",
              "      <td>0.240000</td>\n",
              "      <td>101.387143</td>\n",
              "      <td>37.824286</td>\n",
              "      <td>24.728571</td>\n",
              "      <td>3.215714</td>\n",
              "    </tr>\n",
              "    <tr>\n",
              "      <th>3757</th>\n",
              "      <td>viaud - fg300</td>\n",
              "      <td>Magdeleine</td>\n",
              "      <td>2019-08-12</td>\n",
              "      <td>NaN</td>\n",
              "      <td>NaN</td>\n",
              "      <td>35.0</td>\n",
              "      <td>NaN</td>\n",
              "      <td>0.240000</td>\n",
              "      <td>101.387143</td>\n",
              "      <td>37.824286</td>\n",
              "      <td>24.728571</td>\n",
              "      <td>3.215714</td>\n",
              "    </tr>\n",
              "    <tr>\n",
              "      <th>3758</th>\n",
              "      <td>st remy</td>\n",
              "      <td>Magdeleine</td>\n",
              "      <td>2019-08-12</td>\n",
              "      <td>1.0</td>\n",
              "      <td>1.0</td>\n",
              "      <td>35.0</td>\n",
              "      <td>NaN</td>\n",
              "      <td>0.240000</td>\n",
              "      <td>101.387143</td>\n",
              "      <td>37.824286</td>\n",
              "      <td>24.728571</td>\n",
              "      <td>3.215714</td>\n",
              "    </tr>\n",
              "    <tr>\n",
              "      <th>3759</th>\n",
              "      <td>bas parc 2009</td>\n",
              "      <td>Magdeleine</td>\n",
              "      <td>2019-08-12</td>\n",
              "      <td>1.0</td>\n",
              "      <td>1.0</td>\n",
              "      <td>35.0</td>\n",
              "      <td>NaN</td>\n",
              "      <td>0.240000</td>\n",
              "      <td>101.387143</td>\n",
              "      <td>37.824286</td>\n",
              "      <td>24.728571</td>\n",
              "      <td>3.215714</td>\n",
              "    </tr>\n",
              "    <tr>\n",
              "      <th>3760</th>\n",
              "      <td>temoin non traité         fleac</td>\n",
              "      <td>Magdeleine</td>\n",
              "      <td>2019-08-12</td>\n",
              "      <td>1.0</td>\n",
              "      <td>1.0</td>\n",
              "      <td>35.0</td>\n",
              "      <td>NaN</td>\n",
              "      <td>0.240000</td>\n",
              "      <td>101.387143</td>\n",
              "      <td>37.824286</td>\n",
              "      <td>24.728571</td>\n",
              "      <td>3.215714</td>\n",
              "    </tr>\n",
              "  </tbody>\n",
              "</table>\n",
              "<p>3467 rows × 12 columns</p>\n",
              "</div>"
            ],
            "text/plain": [
              "                          parcel_name domain_name  ...        T2M      WS2M\n",
              "0                           pierriere    Ligniere  ...  19.602857  2.411429\n",
              "1                         bois naudin    Ligniere  ...  19.602857  2.411429\n",
              "2                               viaud    Ligniere  ...  19.602857  2.411429\n",
              "3                             sablons    Ligniere  ...  19.602857  2.411429\n",
              "4                               lizon    Ligniere  ...  19.602857  2.411429\n",
              "...                               ...         ...  ...        ...       ...\n",
              "3756                     ormeau 06-07  Magdeleine  ...  24.728571  3.215714\n",
              "3757                    viaud - fg300  Magdeleine  ...  24.728571  3.215714\n",
              "3758                          st remy  Magdeleine  ...  24.728571  3.215714\n",
              "3759                    bas parc 2009  Magdeleine  ...  24.728571  3.215714\n",
              "3760  temoin non traité         fleac  Magdeleine  ...  24.728571  3.215714\n",
              "\n",
              "[3467 rows x 12 columns]"
            ]
          },
          "metadata": {
            "tags": []
          },
          "execution_count": 281
        }
      ]
    },
    {
      "cell_type": "markdown",
      "metadata": {
        "id": "lnaj_Dx9XGka",
        "colab_type": "text"
      },
      "source": [
        "# Correlation + mildew = f(stage|pluvio|sprout)\n"
      ]
    },
    {
      "cell_type": "code",
      "metadata": {
        "id": "F-VhKBDmTzPJ",
        "colab_type": "code",
        "colab": {
          "base_uri": "https://localhost:8080/",
          "height": 593
        },
        "outputId": "d94c6145-de7a-4c49-c1e2-50b7dce4942c"
      },
      "source": [
        "print(gandourie[features_choosed].columns)\n",
        "fig = px.imshow(gandourie[features_choosed].corr(), color_continuous_scale=[\"red\", \"white\", \"green\"], zmax = 1, zmin = -1)\n",
        "fig.show()"
      ],
      "execution_count": 282,
      "outputs": [
        {
          "output_type": "stream",
          "text": [
            "Index(['PRECTOT', 'PSC', 'RH2M', 'T2M', 'WS2M', 'mildew_leaves',\n",
            "       'mildew_bunches', 'stage'],\n",
            "      dtype='object')\n"
          ],
          "name": "stdout"
        },
        {
          "output_type": "display_data",
          "data": {
            "text/html": [
              "<html>\n",
              "<head><meta charset=\"utf-8\" /></head>\n",
              "<body>\n",
              "    <div>\n",
              "            <script src=\"https://cdnjs.cloudflare.com/ajax/libs/mathjax/2.7.5/MathJax.js?config=TeX-AMS-MML_SVG\"></script><script type=\"text/javascript\">if (window.MathJax) {MathJax.Hub.Config({SVG: {font: \"STIX-Web\"}});}</script>\n",
              "                <script type=\"text/javascript\">window.PlotlyConfig = {MathJaxConfig: 'local'};</script>\n",
              "        <script src=\"https://cdn.plot.ly/plotly-latest.min.js\"></script>    \n",
              "            <div id=\"5306ec6a-c84a-4e47-a3de-41f2ef90b644\" class=\"plotly-graph-div\" style=\"height:525px; width:100%;\"></div>\n",
              "            <script type=\"text/javascript\">\n",
              "                \n",
              "                    window.PLOTLYENV=window.PLOTLYENV || {};\n",
              "                    \n",
              "                if (document.getElementById(\"5306ec6a-c84a-4e47-a3de-41f2ef90b644\")) {\n",
              "                    Plotly.newPlot(\n",
              "                        '5306ec6a-c84a-4e47-a3de-41f2ef90b644',\n",
              "                        [{\"coloraxis\": \"coloraxis\", \"type\": \"heatmap\", \"z\": [[1.0, -0.2051168580806351, 0.6146250155571087, -0.23230179914052365, -0.2756315696701378, 0.013066517302255462, 0.09183083535648748, -0.08921168702298668], [-0.2051168580806351, 1.0, 0.13060493145042093, -0.47721472635671874, 0.11316991207130266, -0.21345190051392224, -0.1519377334502703, -0.4301166596535069], [0.6146250155571087, 0.13060493145042093, 1.0, -0.7540494302423574, -0.18020828999976377, -0.2813071686129828, -0.07890063693789548, -0.5402994945248852], [-0.23230179914052365, -0.47721472635671874, -0.7540494302423574, 1.0, -0.039334433439624145, 0.5126069881941842, 0.2689572641249858, 0.8091089097282954], [-0.2756315696701378, 0.11316991207130266, -0.18020828999976377, -0.039334433439624145, 1.0, -0.08999081931884331, -0.06936795746344236, -0.030126924941809075], [0.013066517302255462, -0.21345190051392224, -0.2813071686129828, 0.5126069881941842, -0.08999081931884331, 1.0, 0.659611727631086, 0.6054358570586859], [0.09183083535648748, -0.1519377334502703, -0.07890063693789548, 0.2689572641249858, -0.06936795746344236, 0.659611727631086, 1.0, 0.34402216062962476], [-0.08921168702298668, -0.4301166596535069, -0.5402994945248852, 0.8091089097282954, -0.030126924941809075, 0.6054358570586859, 0.34402216062962476, 1.0]]}],\n",
              "                        {\"coloraxis\": {\"cmax\": 1, \"cmin\": -1, \"colorscale\": [[0.0, \"red\"], [0.5, \"white\"], [1.0, \"green\"]]}, \"margin\": {\"t\": 60}, \"template\": {\"data\": {\"bar\": [{\"error_x\": {\"color\": \"#2a3f5f\"}, \"error_y\": {\"color\": \"#2a3f5f\"}, \"marker\": {\"line\": {\"color\": \"#E5ECF6\", \"width\": 0.5}}, \"type\": \"bar\"}], \"barpolar\": [{\"marker\": {\"line\": {\"color\": \"#E5ECF6\", \"width\": 0.5}}, \"type\": \"barpolar\"}], \"carpet\": [{\"aaxis\": {\"endlinecolor\": \"#2a3f5f\", \"gridcolor\": \"white\", \"linecolor\": \"white\", \"minorgridcolor\": \"white\", \"startlinecolor\": \"#2a3f5f\"}, \"baxis\": {\"endlinecolor\": \"#2a3f5f\", \"gridcolor\": \"white\", \"linecolor\": \"white\", \"minorgridcolor\": \"white\", \"startlinecolor\": \"#2a3f5f\"}, \"type\": \"carpet\"}], \"choropleth\": [{\"colorbar\": {\"outlinewidth\": 0, \"ticks\": \"\"}, \"type\": \"choropleth\"}], \"contour\": [{\"colorbar\": {\"outlinewidth\": 0, \"ticks\": \"\"}, \"colorscale\": [[0.0, \"#0d0887\"], [0.1111111111111111, \"#46039f\"], [0.2222222222222222, \"#7201a8\"], [0.3333333333333333, \"#9c179e\"], [0.4444444444444444, \"#bd3786\"], [0.5555555555555556, \"#d8576b\"], [0.6666666666666666, \"#ed7953\"], [0.7777777777777778, \"#fb9f3a\"], [0.8888888888888888, \"#fdca26\"], [1.0, \"#f0f921\"]], \"type\": \"contour\"}], \"contourcarpet\": [{\"colorbar\": {\"outlinewidth\": 0, \"ticks\": \"\"}, \"type\": \"contourcarpet\"}], \"heatmap\": [{\"colorbar\": {\"outlinewidth\": 0, \"ticks\": \"\"}, \"colorscale\": [[0.0, \"#0d0887\"], [0.1111111111111111, \"#46039f\"], [0.2222222222222222, \"#7201a8\"], [0.3333333333333333, \"#9c179e\"], [0.4444444444444444, \"#bd3786\"], [0.5555555555555556, \"#d8576b\"], [0.6666666666666666, \"#ed7953\"], [0.7777777777777778, \"#fb9f3a\"], [0.8888888888888888, \"#fdca26\"], [1.0, \"#f0f921\"]], \"type\": \"heatmap\"}], \"heatmapgl\": [{\"colorbar\": {\"outlinewidth\": 0, \"ticks\": \"\"}, \"colorscale\": [[0.0, \"#0d0887\"], [0.1111111111111111, \"#46039f\"], [0.2222222222222222, \"#7201a8\"], [0.3333333333333333, \"#9c179e\"], [0.4444444444444444, \"#bd3786\"], [0.5555555555555556, \"#d8576b\"], [0.6666666666666666, \"#ed7953\"], [0.7777777777777778, \"#fb9f3a\"], [0.8888888888888888, \"#fdca26\"], [1.0, \"#f0f921\"]], \"type\": \"heatmapgl\"}], \"histogram\": [{\"marker\": {\"colorbar\": {\"outlinewidth\": 0, \"ticks\": \"\"}}, \"type\": \"histogram\"}], \"histogram2d\": [{\"colorbar\": {\"outlinewidth\": 0, \"ticks\": \"\"}, \"colorscale\": [[0.0, \"#0d0887\"], [0.1111111111111111, \"#46039f\"], [0.2222222222222222, \"#7201a8\"], [0.3333333333333333, \"#9c179e\"], [0.4444444444444444, \"#bd3786\"], [0.5555555555555556, \"#d8576b\"], [0.6666666666666666, \"#ed7953\"], [0.7777777777777778, \"#fb9f3a\"], [0.8888888888888888, \"#fdca26\"], [1.0, \"#f0f921\"]], \"type\": \"histogram2d\"}], \"histogram2dcontour\": [{\"colorbar\": {\"outlinewidth\": 0, \"ticks\": \"\"}, \"colorscale\": [[0.0, \"#0d0887\"], [0.1111111111111111, \"#46039f\"], [0.2222222222222222, \"#7201a8\"], [0.3333333333333333, \"#9c179e\"], [0.4444444444444444, \"#bd3786\"], [0.5555555555555556, \"#d8576b\"], [0.6666666666666666, \"#ed7953\"], [0.7777777777777778, \"#fb9f3a\"], [0.8888888888888888, \"#fdca26\"], [1.0, \"#f0f921\"]], \"type\": \"histogram2dcontour\"}], \"mesh3d\": [{\"colorbar\": {\"outlinewidth\": 0, \"ticks\": \"\"}, \"type\": \"mesh3d\"}], \"parcoords\": [{\"line\": {\"colorbar\": {\"outlinewidth\": 0, \"ticks\": \"\"}}, \"type\": \"parcoords\"}], \"pie\": [{\"automargin\": true, \"type\": \"pie\"}], \"scatter\": [{\"marker\": {\"colorbar\": {\"outlinewidth\": 0, \"ticks\": \"\"}}, \"type\": \"scatter\"}], \"scatter3d\": [{\"line\": {\"colorbar\": {\"outlinewidth\": 0, \"ticks\": \"\"}}, \"marker\": {\"colorbar\": {\"outlinewidth\": 0, \"ticks\": \"\"}}, \"type\": \"scatter3d\"}], \"scattercarpet\": [{\"marker\": {\"colorbar\": {\"outlinewidth\": 0, \"ticks\": \"\"}}, \"type\": \"scattercarpet\"}], \"scattergeo\": [{\"marker\": {\"colorbar\": {\"outlinewidth\": 0, \"ticks\": \"\"}}, \"type\": \"scattergeo\"}], \"scattergl\": [{\"marker\": {\"colorbar\": {\"outlinewidth\": 0, \"ticks\": \"\"}}, \"type\": \"scattergl\"}], \"scattermapbox\": [{\"marker\": {\"colorbar\": {\"outlinewidth\": 0, \"ticks\": \"\"}}, \"type\": \"scattermapbox\"}], \"scatterpolar\": [{\"marker\": {\"colorbar\": {\"outlinewidth\": 0, \"ticks\": \"\"}}, \"type\": \"scatterpolar\"}], \"scatterpolargl\": [{\"marker\": {\"colorbar\": {\"outlinewidth\": 0, \"ticks\": \"\"}}, \"type\": \"scatterpolargl\"}], \"scatterternary\": [{\"marker\": {\"colorbar\": {\"outlinewidth\": 0, \"ticks\": \"\"}}, \"type\": \"scatterternary\"}], \"surface\": [{\"colorbar\": {\"outlinewidth\": 0, \"ticks\": \"\"}, \"colorscale\": [[0.0, \"#0d0887\"], [0.1111111111111111, \"#46039f\"], [0.2222222222222222, \"#7201a8\"], [0.3333333333333333, \"#9c179e\"], [0.4444444444444444, \"#bd3786\"], [0.5555555555555556, \"#d8576b\"], [0.6666666666666666, \"#ed7953\"], [0.7777777777777778, \"#fb9f3a\"], [0.8888888888888888, \"#fdca26\"], [1.0, \"#f0f921\"]], \"type\": \"surface\"}], \"table\": [{\"cells\": {\"fill\": {\"color\": \"#EBF0F8\"}, \"line\": {\"color\": \"white\"}}, \"header\": {\"fill\": {\"color\": \"#C8D4E3\"}, \"line\": {\"color\": \"white\"}}, \"type\": \"table\"}]}, \"layout\": {\"annotationdefaults\": {\"arrowcolor\": \"#2a3f5f\", \"arrowhead\": 0, \"arrowwidth\": 1}, \"coloraxis\": {\"colorbar\": {\"outlinewidth\": 0, \"ticks\": \"\"}}, \"colorscale\": {\"diverging\": [[0, \"#8e0152\"], [0.1, \"#c51b7d\"], [0.2, \"#de77ae\"], [0.3, \"#f1b6da\"], [0.4, \"#fde0ef\"], [0.5, \"#f7f7f7\"], [0.6, \"#e6f5d0\"], [0.7, \"#b8e186\"], [0.8, \"#7fbc41\"], [0.9, \"#4d9221\"], [1, \"#276419\"]], \"sequential\": [[0.0, \"#0d0887\"], [0.1111111111111111, \"#46039f\"], [0.2222222222222222, \"#7201a8\"], [0.3333333333333333, \"#9c179e\"], [0.4444444444444444, \"#bd3786\"], [0.5555555555555556, \"#d8576b\"], [0.6666666666666666, \"#ed7953\"], [0.7777777777777778, \"#fb9f3a\"], [0.8888888888888888, \"#fdca26\"], [1.0, \"#f0f921\"]], \"sequentialminus\": [[0.0, \"#0d0887\"], [0.1111111111111111, \"#46039f\"], [0.2222222222222222, \"#7201a8\"], [0.3333333333333333, \"#9c179e\"], [0.4444444444444444, \"#bd3786\"], [0.5555555555555556, \"#d8576b\"], [0.6666666666666666, \"#ed7953\"], [0.7777777777777778, \"#fb9f3a\"], [0.8888888888888888, \"#fdca26\"], [1.0, \"#f0f921\"]]}, \"colorway\": [\"#636efa\", \"#EF553B\", \"#00cc96\", \"#ab63fa\", \"#FFA15A\", \"#19d3f3\", \"#FF6692\", \"#B6E880\", \"#FF97FF\", \"#FECB52\"], \"font\": {\"color\": \"#2a3f5f\"}, \"geo\": {\"bgcolor\": \"white\", \"lakecolor\": \"white\", \"landcolor\": \"#E5ECF6\", \"showlakes\": true, \"showland\": true, \"subunitcolor\": \"white\"}, \"hoverlabel\": {\"align\": \"left\"}, \"hovermode\": \"closest\", \"mapbox\": {\"style\": \"light\"}, \"paper_bgcolor\": \"white\", \"plot_bgcolor\": \"#E5ECF6\", \"polar\": {\"angularaxis\": {\"gridcolor\": \"white\", \"linecolor\": \"white\", \"ticks\": \"\"}, \"bgcolor\": \"#E5ECF6\", \"radialaxis\": {\"gridcolor\": \"white\", \"linecolor\": \"white\", \"ticks\": \"\"}}, \"scene\": {\"xaxis\": {\"backgroundcolor\": \"#E5ECF6\", \"gridcolor\": \"white\", \"gridwidth\": 2, \"linecolor\": \"white\", \"showbackground\": true, \"ticks\": \"\", \"zerolinecolor\": \"white\"}, \"yaxis\": {\"backgroundcolor\": \"#E5ECF6\", \"gridcolor\": \"white\", \"gridwidth\": 2, \"linecolor\": \"white\", \"showbackground\": true, \"ticks\": \"\", \"zerolinecolor\": \"white\"}, \"zaxis\": {\"backgroundcolor\": \"#E5ECF6\", \"gridcolor\": \"white\", \"gridwidth\": 2, \"linecolor\": \"white\", \"showbackground\": true, \"ticks\": \"\", \"zerolinecolor\": \"white\"}}, \"shapedefaults\": {\"line\": {\"color\": \"#2a3f5f\"}}, \"ternary\": {\"aaxis\": {\"gridcolor\": \"white\", \"linecolor\": \"white\", \"ticks\": \"\"}, \"baxis\": {\"gridcolor\": \"white\", \"linecolor\": \"white\", \"ticks\": \"\"}, \"bgcolor\": \"#E5ECF6\", \"caxis\": {\"gridcolor\": \"white\", \"linecolor\": \"white\", \"ticks\": \"\"}}, \"title\": {\"x\": 0.05}, \"xaxis\": {\"automargin\": true, \"gridcolor\": \"white\", \"linecolor\": \"white\", \"ticks\": \"\", \"title\": {\"standoff\": 15}, \"zerolinecolor\": \"white\", \"zerolinewidth\": 2}, \"yaxis\": {\"automargin\": true, \"gridcolor\": \"white\", \"linecolor\": \"white\", \"ticks\": \"\", \"title\": {\"standoff\": 15}, \"zerolinecolor\": \"white\", \"zerolinewidth\": 2}}}, \"xaxis\": {\"constrain\": \"domain\", \"scaleanchor\": \"y\"}, \"yaxis\": {\"autorange\": \"reversed\", \"constrain\": \"domain\"}},\n",
              "                        {\"responsive\": true}\n",
              "                    ).then(function(){\n",
              "                            \n",
              "var gd = document.getElementById('5306ec6a-c84a-4e47-a3de-41f2ef90b644');\n",
              "var x = new MutationObserver(function (mutations, observer) {{\n",
              "        var display = window.getComputedStyle(gd).display;\n",
              "        if (!display || display === 'none') {{\n",
              "            console.log([gd, 'removed!']);\n",
              "            Plotly.purge(gd);\n",
              "            observer.disconnect();\n",
              "        }}\n",
              "}});\n",
              "\n",
              "// Listen for the removal of the full notebook cells\n",
              "var notebookContainer = gd.closest('#notebook-container');\n",
              "if (notebookContainer) {{\n",
              "    x.observe(notebookContainer, {childList: true});\n",
              "}}\n",
              "\n",
              "// Listen for the clearing of the current output cell\n",
              "var outputEl = gd.closest('.output');\n",
              "if (outputEl) {{\n",
              "    x.observe(outputEl, {childList: true});\n",
              "}}\n",
              "\n",
              "                        })\n",
              "                };\n",
              "                \n",
              "            </script>\n",
              "        </div>\n",
              "</body>\n",
              "</html>"
            ]
          },
          "metadata": {
            "tags": []
          }
        }
      ]
    },
    {
      "cell_type": "code",
      "metadata": {
        "id": "eBVw-MHMU_jw",
        "colab_type": "code",
        "colab": {
          "base_uri": "https://localhost:8080/",
          "height": 542
        },
        "outputId": "69d89ce0-d43f-4456-952a-0387d3951592"
      },
      "source": [
        "fig = go.Figure()\n",
        "fig = px.scatter(gandourie, x='T2M', y='mildew_leaves', hover_data=['mildew_leaves'], color=\"domain_name\")\n",
        "fig.show()\n",
        "\n",
        "#galienne plus de mildiou"
      ],
      "execution_count": 156,
      "outputs": [
        {
          "output_type": "display_data",
          "data": {
            "text/html": [
              "<html>\n",
              "<head><meta charset=\"utf-8\" /></head>\n",
              "<body>\n",
              "    <div>\n",
              "            <script src=\"https://cdnjs.cloudflare.com/ajax/libs/mathjax/2.7.5/MathJax.js?config=TeX-AMS-MML_SVG\"></script><script type=\"text/javascript\">if (window.MathJax) {MathJax.Hub.Config({SVG: {font: \"STIX-Web\"}});}</script>\n",
              "                <script type=\"text/javascript\">window.PlotlyConfig = {MathJaxConfig: 'local'};</script>\n",
              "        <script src=\"https://cdn.plot.ly/plotly-latest.min.js\"></script>    \n",
              "            <div id=\"47db8c40-7112-48a5-b397-5aeb928e7582\" class=\"plotly-graph-div\" style=\"height:525px; width:100%;\"></div>\n",
              "            <script type=\"text/javascript\">\n",
              "                \n",
              "                    window.PLOTLYENV=window.PLOTLYENV || {};\n",
              "                    \n",
              "                if (document.getElementById(\"47db8c40-7112-48a5-b397-5aeb928e7582\")) {\n",
              "                    Plotly.newPlot(\n",
              "                        '47db8c40-7112-48a5-b397-5aeb928e7582',\n",
              "                        [{\"customdata\": [[0.0], [0.0], [0.0], [0.0], [0.0], [0.0], [0.0], [0.0], [0.0], [0.0], [0.0], [0.0], [0.0], [0.0], [0.0], [0.0], [0.0], [0.0], [0.0], [0.0], [0.0], [0.0], [0.0], [0.0], [0.0], [0.0], [0.0], [0.0], [0.0], [0.0], [0.0], [0.0], [0.0], [0.0], [0.0], [0.0], [0.0], [0.0], [0.0], [0.0], [0.0], [0.0], [0.0], [0.0], [0.0], [0.0], [0.0], [0.0], [0.0], [0.0], [0.0], [0.0], [0.0], [0.0], [0.0], [0.0], [0.0], [0.0], [0.0], [0.0], [0.0], [0.0], [0.0], [0.0], [0.0], [0.0], [0.0], [0.0], [0.0], [0.0], [0.0], [0.0], [0.0], [0.0], [0.0], [0.0], [0.0], [0.0], [0.0], [0.0], [0.0], [0.0], [0.0], [0.0], [0.0], [0.0], [1.0], [0.0], [0.0], [0.0], [0.0], [0.0], [0.0], [0.0], [0.0], [0.0], [0.0], [0.0], [0.0], [0.0], [0.0], [0.0], [0.0], [null], [0.0], [0.0], [0.0], [0.0], [0.0], [0.0], [0.0], [0.0], [0.0], [0.0], [0.0], [2.0], [0.0], [null], [2.0], [1.0], [1.0], [1.0], [1.0], [1.0], [1.0], [2.0], [1.0], [0.0], [1.0], [0.0], [0.0], [1.0], [1.0], [1.0], [2.0], [2.0], [2.0], [2.0], [2.0], [2.0], [null], [1.0], [2.0], [1.0], [0.0], [1.0], [1.0], [1.0], [2.0], [1.0], [1.0], [1.0], [null], [2.0], [1.0], [0.0], [1.0], [0.0], [0.0], [1.0], [1.0], [1.0], [2.0], [2.0], [2.0], [1.0], [1.0], [2.0], [2.0], [3.0], [null], [null], [null], [null], [2.0], [null], [null], [null], [null], [2.0], [1.0], [1.0], [2.0], [null], [2.0], [null], [2.0], [3.0], [1.0], [1.0], [2.0], [2.0], [1.0], [1.0], [1.0], [1.0], [null], [null], [null], [null], [null], [null], [null], [2.0], [2.0], [3.0], [2.0], [2.0], [1.0], [1.0], [2.0], [2.0], [3.0], [3.0], [2.0], [2.0], [2.0], [2.0], [2.0], [2.0], [2.0], [2.0], [null], [null], [null], [null], [null], [null], [null], [null], [null], [3.0], [2.0], [2.0], [1.0], [1.0], [null], [2.0], [null], [2.0], [null], [3.0], [null], [3.0], [2.0], [2.0], [2.0], [2.0], [2.0], [2.0], [2.0], [2.0], [null], [null], [null], [null], [null], [3.0], [2.0], [2.0], [1.0], [1.0], [2.0], [2.0], [3.0], [3.0], [null], [3.0], [null], [null], [null], [null], [null], [null], [3.0], [2.0], [3.0], [3.0], [3.0], [3.0], [2.0], [1.0], [1.0], [2.0], [3.0], [3.0], [2.0], [1.0], [1.0], [2.0], [2.0], [3.0], [3.0], [3.0], [null], [null], [null], [null], [null], [null], [3.0], [3.0], [3.0], [2.0], [2.0], [2.0], [2.0], [2.0], [3.0], [3.0], [null], [3.0], [3.0], [2.0], [2.0], [2.0], [2.0], [2.0], [3.0], [3.0], [null], [3.0], [null], [null], [null], [null], [null], [null], [3.0], [2.0], [2.0], [2.0], [2.0], [2.0], [3.0], [3.0], [null], [3.0], [null], [null], [null], [null], [null], [null], [3.0], [3.0], [3.0], [0.0], [0.0], [0.0], [0.0], [0.0], [0.0], [0.0], [0.0], [0.0], [0.0], [0.0], [0.0], [0.0], [0.0], [0.0], [0.0], [0.0], [0.0], [0.0], [0.0], [0.0], [0.0], [0.0], [0.0], [0.0], [0.0], [0.0], [0.0], [0.0], [0.0], [0.0], [0.0], [0.0], [0.0], [0.0], [0.0], [0.0], [0.0], [0.0], [0.0], [0.0], [0.0], [0.0], [0.0], [0.0], [0.0], [0.0], [0.0], [0.0], [0.0], [0.0], [0.0], [0.0], [0.0], [0.0], [0.0], [0.0], [null], [null], [1.0], [null], [null], [3.0], [0.0], [0.0], [0.0], [0.0], [0.0], [0.0], [1.0], [0.0], [0.0], [0.0], [0.0], [0.0], [0.0], [0.0], [0.0], [0.0], [null], [null], [null], [null], [null], [null], [null], [0.0], [null], [0.0], [null], [0.0], [null], [0.0], [null], [0.0], [null], [0.0], [1.0], [1.0], [1.0], [0.0], [3.0], [3.0], [0.0], [0.0], [0.0], [0.0], [0.0], [0.0], [0.0], [0.0], [null], [null], [null], [null], [null], [null], [1.0], [1.0], [3.0], [3.0], [0.0], [0.0], [0.0], [0.0], [0.0], [0.0], [1.0], [0.0], [0.0], [0.0], [0.0], [0.0], [0.0], [0.0], [0.0], [0.0], [null], [1.0], [1.0], [1.0], [1.0], [null], [null], [0.0], [null], [0.0], [null], [0.0], [null], [0.0], [null], [0.0], [null], [0.0], [1.0], [1.0], [1.0], [1.0], [3.0], [0.0], [3.0], [1.0], [1.0], [0.0], [1.0], [1.0], [1.0], [null], [1.0], [null], [1.0], [1.0], [null], [1.0], [1.0], [1.0], [3.0], [3.0], [0.0], [0.0], [0.0], [0.0], [0.0], [0.0], [1.0], [1.0], [1.0], [1.0], [1.0], [1.0], [1.0], [1.0], [1.0], [1.0], [1.0], [1.0], [1.0], [1.0], [1.0], [null], [1.0], [null], [1.0], [1.0], [1.0], [1.0], [1.0], [null], [0.0], [1.0], [0.0], [1.0], [2.0], [3.0], [1.0], [2.0], [3.0], [3.0], [1.0], [1.0], [1.0], [1.0], [1.0], [1.0], [1.0], [1.0], [1.0], [3.0], [1.0], [3.0], [null], [1.0], [null], [1.0], [1.0], [null], [1.0], [1.0], [1.0], [1.0], [0.0], [0.0], [2.0], [3.0], [2.0], [3.0], [1.0], [2.0], [2.0], [1.0], [2.0], [1.0], [1.0], [2.0], [1.0], [1.0], [1.0], [3.0], [3.0], [1.0], [1.0], [1.0], [1.0], [1.0], [2.0], [3.0], [2.0], [3.0], [3.0], [3.0], [2.0], [1.0], [3.0], [3.0], [3.0], [2.0], [1.0], [3.0], [1.0], [2.0], [2.0], [2.0], [2.0], [1.0], [2.0], [1.0], [2.0], [1.0], [1.0], [1.0], [2.0], [1.0], [2.0], [2.0], [2.0], [3.0], [2.0], [2.0], [2.0], [3.0], [3.0], [2.0], [1.0], [3.0], [1.0], [2.0], [2.0], [2.0], [2.0], [2.0], [2.0], [1.0], [2.0], [2.0], [2.0], [2.0], [2.0], [2.0], [2.0], [3.0], [3.0], [1.0], [2.0], [3.0], [2.0], [3.0], [0.0], [0.0], [0.0], [0.0], [0.0], [0.0], [0.0], [0.0], [0.0], [0.0], [0.0], [0.0], [0.0], [0.0], [0.0], [0.0], [0.0], [0.0], [0.0], [0.0], [0.0], [0.0], [0.0], [0.0], [0.0], [0.0], [0.0], [0.0], [0.0], [0.0], [0.0], [0.0], [0.0], [0.0], [0.0], [0.0], [0.0], [0.0], [0.0], [0.0], [0.0], [0.0], [0.0], [0.0], [0.0], [0.0], [0.0], [0.0], [0.0], [0.0], [0.0], [0.0], [0.0], [0.0], [0.0], [0.0], [0.0], [0.0], [0.0], [0.0], [0.0], [0.0], [0.0], [0.0], [0.0], [0.0], [0.0], [0.0], [0.0], [0.0], [0.0], [0.0], [0.0], [0.0], [0.0], [0.0], [0.0], [1.0], [0.0], [0.0], [0.0], [0.0], [0.0], [0.0], [0.0], [0.0], [0.0], [0.0], [0.0], [0.0], [0.0], [0.0], [0.0], [0.0], [0.0], [0.0], [1.0], [2.0], [0.0], [0.0], [0.0], [0.0], [0.0], [0.0], [0.0], [0.0], [0.0], [0.0], [0.0], [0.0], [0.0], [0.0], [1.0], [0.0], [0.0], [0.0], [0.0], [0.0], [0.0], [0.0], [0.0], [0.0], [0.0], [1.0], [0.0], [null], [0.0], [0.0], [0.0], [null], [0.0], [null], [0.0], [null], [0.0], [0.0], [2.0], [2.0], [3.0], [0.0], [0.0], [0.0], [1.0], [0.0], [0.0], [0.0], [0.0], [0.0], [0.0], [0.0], [0.0], [0.0], [0.0], [0.0], [0.0], [0.0], [0.0], [0.0], [0.0], [0.0], [0.0], [0.0], [0.0], [0.0], [0.0], [0.0], [0.0], [null], [0.0], [null], [0.0], [null], [0.0], [null], [0.0], [null], [0.0], [null], [0.0], [null], [0.0], [null], [1.0], [1.0], [null], [null], [2.0], [0.0], [0.0], [0.0], [0.0], [0.0], [0.0], [0.0], [0.0], [0.0], [0.0], [null], [null], [null], [null], [null], [null], [null], [null], [null], [null], [null], [0.0], [0.0], [0.0], [0.0], [0.0], [0.0], [0.0], [null], [1.0], [1.0], [1.0], [3.0], [1.0], [1.0], [1.0], [2.0], [2.0], [0.0], [0.0], [0.0], [0.0], [0.0], [0.0], [0.0], [0.0], [0.0], [null], [null], [null], [null], [null], [null], [null], [null], [null], [null], [1.0], [1.0], [1.0], [0.0], [3.0], [0.0], [1.0], [0.0], [1.0], [1.0], [1.0], [0.0], [2.0], [2.0], [2.0], [3.0], [0.0], [3.0], [0.0], [0.0], [0.0], [0.0], [0.0], [0.0], [0.0], [0.0], [1.0], [2.0], [1.0], [1.0], [1.0], [1.0], [3.0], [1.0], [1.0], [1.0], [2.0], [2.0], [0.0], [0.0], [0.0], [0.0], [0.0], [0.0], [0.0], [1.0], [1.0], [1.0], [3.0], [1.0], [1.0], [1.0], [2.0], [2.0], [0.0], [0.0], [0.0], [0.0], [0.0], [2.0], [2.0], [2.0], [3.0], [2.0], [2.0], [2.0], [2.0], [2.0], [0.0], [0.0], [0.0], [0.0], [0.0], [0.0], [3.0], [3.0], [3.0], [3.0], [3.0], [3.0], [3.0], [2.0], [2.0], [3.0], [3.0], [3.0], [3.0], [3.0], [3.0], [3.0], [3.0], [3.0], [null], [3.0], [3.0], [3.0], [3.0], [2.0], [3.0], [3.0], [3.0], [3.0], [3.0], [null], [3.0], [3.0], [3.0], [3.0], [3.0], [3.0], [3.0], [3.0], [3.0], [2.0], [3.0], [3.0], [3.0], [3.0], [3.0], [3.0], [3.0], [3.0], [3.0], [3.0], [3.0], [3.0], [3.0], [3.0], [3.0], [3.0], [3.0], [2.0], [3.0], [3.0], [3.0], [2.0], [3.0], [3.0], [3.0], [1.0], [2.0], [0.0], [0.0], [0.0], [0.0], [0.0], [0.0], [0.0], [0.0], [0.0], [0.0], [0.0], [0.0], [0.0], [0.0], [0.0], [0.0], [0.0], [0.0], [0.0], [0.0], [0.0], [0.0], [0.0], [0.0], [0.0], [0.0], [0.0], [0.0], [0.0], [0.0], [0.0], [0.0], [0.0], [0.0], [0.0], [0.0], [0.0], [0.0], [0.0], [0.0], [0.0], [0.0], [0.0], [0.0], [0.0], [0.0], [0.0], [0.0], [0.0], [0.0], [0.0], [0.0], [0.0], [0.0], [0.0], [0.0], [0.0], [0.0], [null], [1.0], [1.0], [1.0], [0.0], [0.0], [0.0], [0.0], [0.0], [0.0], [0.0], [0.0], [0.0], [0.0], [0.0], [0.0], [0.0], [0.0], [0.0], [0.0], [0.0], [0.0], [1.0], [null], [null], [null], [null], [null], [null], [0.0], [0.0], [0.0], [0.0], [0.0], [0.0], [0.0], [0.0], [0.0], [1.0], [1.0], [1.0], [1.0], [1.0], [1.0], [1.0], [1.0], [1.0], [0.0], [0.0], [0.0], [1.0], [0.0], [0.0], [0.0], [1.0], [0.0], [1.0], [0.0], [0.0], [0.0], [2.0], [0.0], [0.0], [0.0], [2.0], [0.0], [2.0], [1.0], [1.0], [2.0], [1.0], [1.0], [1.0], [1.0], [2.0], [1.0], [0.0], [0.0], [0.0], [2.0], [0.0], [0.0], [0.0], [1.0], [0.0], [2.0], [1.0], [1.0], [2.0], [2.0], [1.0], [1.0], [1.0], [1.0], [1.0], [1.0], [2.0], [0.0], [3.0], [0.0], [1.0], [0.0], [1.0], [0.0], [1.0], [1.0], [1.0], [1.0], [1.0], [1.0], [1.0], [1.0], [1.0], [2.0], [0.0], [1.0], [1.0], [2.0], [2.0], [1.0], [1.0], [1.0], [1.0], [1.0], [1.0], [1.0], [2.0], [0.0], [3.0], [2.0], [0.0], [1.0], [0.0], [1.0], [1.0], [1.0], [2.0], [1.0], [1.0], [1.0], [1.0], [1.0], [1.0], [1.0], [1.0], [1.0], [1.0], [1.0], [1.0], [1.0], [2.0], [1.0], [1.0], [2.0], [1.0], [2.0], [0.0], [3.0], [0.0], [0.0], [1.0], [2.0], [1.0], [2.0], [1.0], [1.0], [2.0], [2.0], [1.0], [1.0], [1.0], [1.0], [1.0], [1.0], [2.0], [0.0], [3.0], [0.0], [0.0], [1.0], [2.0], [1.0], [2.0], [1.0], [1.0], [2.0], [2.0], [1.0], [1.0], [1.0], [1.0], [1.0], [1.0], [1.0], [null], [0.0], [0.0], [0.0], [0.0], [0.0], [0.0], [0.0], [0.0], [0.0], [0.0], [0.0], [null], [null], [null], [null], [null], [null], [null], [null], [null], [0.0], [0.0], [0.0], [0.0], [0.0], [0.0], [0.0], [0.0], [null], [0.0], [null], [0.0], [null], [0.0], [null], [null], [null], [null], [null], [null], [null], [0.0], [0.0], [0.0], [0.0], [0.0], [0.0], [0.0], [0.0], [0.0], [0.0], [0.0], [0.0], [null], [null], [null], [null], [null], [null], [null], [null], [null], [null], [0.0], [0.0], [0.0], [0.0], [0.0], [0.0], [0.0], [null], [null], [0.0], [0.0], [0.0], [0.0], [0.0], [0.0], [0.0], [0.0], [0.0], [0.0], [1.0], [0.0], [0.0], [null], [2.0], [1.0], [0.0], [0.0], [1.0], [0.0], [0.0], [0.0], [1.0], [0.0], [0.0], [0.0], [0.0], [1.0], [1.0], [0.0], [0.0], [0.0], [0.0], [1.0], [0.0], [0.0], [1.0], [0.0], [0.0], [0.0], [1.0], [null], [2.0], [2.0], [0.0], [1.0], [0.0], [3.0], [0.0], [1.0], [0.0], [1.0], [1.0], [3.0], [0.0], [1.0], [0.0], [1.0], [0.0], [1.0], [0.0], [0.0], [0.0], [0.0], [0.0], [2.0], [2.0], [1.0], [0.0], [1.0], [2.0], [3.0], [2.0], [2.0], [3.0], [2.0], [2.0], [1.0], [0.0], [0.0], [null], [3.0], [3.0], [1.0], [3.0], [3.0], [2.0], [2.0], [2.0], [1.0], [0.0], [1.0], [1.0], [3.0], [3.0], [0.0], [0.0], [1.0], [1.0], [2.0], [2.0], [1.0], [null], [0.0], [3.0], [1.0], [3.0], [1.0], [1.0], [3.0], [3.0], [3.0], [3.0], [3.0], [2.0], [3.0], [0.0], [2.0], [0.0], [2.0], [1.0], [3.0], [0.0], [2.0], [1.0], [2.0], [1.0], [0.0], [0.0], [2.0], [1.0], [0.0], [1.0], [0.0], [3.0], [1.0], [2.0], [0.0], [2.0], [0.0], [1.0], [2.0], [1.0], [0.0], [1.0], [2.0], [2.0], [1.0], [2.0], [1.0], [1.0], [3.0], [3.0], [2.0], [3.0], [2.0], [2.0], [1.0], [3.0], [3.0], [1.0], [3.0], [3.0], [3.0], [3.0], [2.0], [3.0], [2.0], [2.0], [3.0], [2.0], [2.0], [1.0], [1.0], [2.0], [3.0], [0.0], [3.0], [1.0], [3.0], [3.0], [2.0], [1.0], [0.0], [1.0], [0.0], [1.0], [0.0], [1.0], [1.0], [1.0], [2.0], [2.0], [1.0], [2.0], [1.0], [1.0], [0.0], [1.0], [0.0], [1.0], [1.0], [1.0], [2.0], [2.0], [1.0], [1.0], [2.0], [3.0], [1.0], [3.0], [1.0], [1.0], [3.0], [3.0], [3.0], [3.0], [2.0], [2.0], [3.0], [1.0], [2.0], [0.0], [2.0], [1.0], [3.0], [2.0], [2.0], [1.0], [2.0], [3.0], [3.0], [3.0], [2.0], [1.0], [0.0], [2.0], [1.0], [2.0], [1.0], [3.0], [1.0], [2.0], [2.0], [0.0], [1.0], [1.0], [2.0], [1.0], [3.0], [1.0], [2.0], [2.0], [1.0], [2.0], [1.0], [1.0], [3.0], [3.0], [2.0], [3.0], [1.0], [3.0], [3.0], [3.0], [2.0], [1.0], [1.0], [3.0], [3.0], [2.0], [3.0], [2.0], [2.0], [3.0], [2.0], [2.0], [1.0], [1.0], [3.0], [2.0], [3.0], [3.0], [3.0], [3.0], [3.0], [2.0], [3.0], [1.0], [0.0], [1.0], [1.0], [1.0], [0.0], [1.0], [1.0], [1.0], [2.0], [2.0], [1.0], [3.0], [2.0], [2.0], [1.0], [2.0], [1.0], [1.0], [3.0], [3.0], [2.0], [3.0], [2.0], [1.0], [2.0], [3.0], [3.0], [3.0], [2.0], [3.0], [2.0], [3.0], [1.0], [3.0], [2.0], [2.0], [3.0], [1.0], [3.0], [3.0], [3.0], [3.0], [3.0], [2.0], [3.0], [3.0], [3.0], [3.0], [3.0], [3.0], [1.0], [2.0], [2.0], [3.0], [3.0], [2.0], [2.0], [1.0], [2.0], [1.0], [1.0], [3.0], [3.0], [2.0], [3.0], [2.0], [2.0], [3.0], [2.0], [2.0], [1.0], [1.0], [3.0], [3.0], [3.0], [3.0], [3.0], [2.0], [3.0], [0.0], [0.0], [0.0], [0.0], [0.0], [0.0], [0.0], [0.0], [null], [0.0], [0.0], [0.0], [0.0], [null], [0.0], [0.0], [0.0], [0.0], [0.0], [0.0], [0.0], [0.0], [0.0], [0.0], [0.0], [0.0], [0.0], [0.0], [0.0], [0.0], [0.0], [0.0], [0.0], [null], [0.0], [0.0], [0.0], [0.0], [0.0], [0.0], [0.0], [0.0], [0.0], [0.0], [0.0], [0.0], [0.0], [0.0], [0.0], [0.0], [0.0], [0.0], [0.0], [0.0], [null], [1.0], [0.0], [0.0], [0.0], [0.0], [0.0], [0.0], [0.0], [0.0], [0.0], [0.0], [0.0], [0.0], [0.0], [0.0], [0.0], [0.0], [0.0], [0.0], [0.0], [0.0], [0.0], [0.0], [0.0], [0.0], [0.0], [0.0], [0.0], [0.0], [0.0], [0.0], [0.0], [0.0], [0.0], [0.0], [0.0], [0.0], [null], [1.0], [0.0], [0.0], [0.0], [0.0], [null], [1.0], [0.0], [0.0], [0.0], [0.0], [1.0], [0.0], [0.0], [0.0], [0.0], [null], [1.0], [0.0], [0.0], [null], [null], [0.0], [0.0], [0.0], [0.0], [0.0], [null], [0.0], [null], [0.0], [null], [1.0], [null], [0.0], [null], [0.0], [null], [3.0], [null], [0.0], [null], [3.0], [null], [1.0], [null], [2.0], [null], [null], [0.0], [0.0], [0.0], [0.0], [null], [0.0], [1.0], [0.0], [0.0], [0.0], [0.0], [0.0], [1.0], [2.0], [0.0], [0.0], [null], [null], [null], [null], [null], [null], [null], [null], [0.0], [0.0], [null], [0.0], [1.0], [1.0], [3.0], [0.0], [1.0], [0.0], [2.0], [1.0], [null], [0.0], [1.0], [1.0], [2.0], [0.0], [0.0], [1.0], [0.0], [3.0], [0.0], [1.0], [null], [null], [null], [0.0], [0.0], [0.0], [null], [null], [null], [null], [null], [0.0], [2.0], [1.0], [3.0], [0.0], [1.0], [1.0], [2.0], [1.0], [2.0], [0.0], [1.0], [2.0], [1.0], [0.0], [0.0], [2.0], [1.0], [3.0], [0.0], [2.0], [1.0], [1.0], [1.0], [1.0], [1.0], [0.0], [null], [null], [1.0], [1.0], [1.0], [null], [null], [null], [null], [null], [null], [0.0], [0.0], [1.0], [0.0], [2.0], [0.0], [3.0], [3.0], [2.0], [3.0], [1.0], [2.0], [2.0], [null], [2.0], [3.0], [0.0], [1.0], [3.0], [3.0], [2.0], [2.0], [null], [3.0], [3.0], [2.0], [2.0], [null], [3.0], [3.0], [2.0], [3.0], [null], [null], [3.0], [3.0], [2.0], [3.0], [null], [3.0], [3.0], [3.0], [2.0], [3.0], [null], [3.0], [null], [2.0], [3.0], [2.0], [3.0], [3.0], [2.0], [3.0], [2.0], [3.0], [3.0], [3.0], [0.0], [0.0], [0.0], [0.0], [0.0], [0.0], [0.0], [0.0], [0.0], [0.0], [0.0], [0.0], [0.0], [0.0], [0.0], [0.0], [0.0], [0.0], [0.0], [0.0], [null], [1.0], [null], [null], [0.0], [null], [null], [0.0], [null], [null], [0.0], [null], [null], [1.0], [null], [null], [0.0], [3.0], [1.0], [1.0], [0.0], [2.0], [null], [1.0], [0.0], [null], [null], [0.0], [2.0], [1.0], [1.0], [2.0], [1.0], [1.0], [1.0], [1.0], [1.0], [1.0], [1.0], [1.0], [2.0], [2.0], [2.0], [1.0], [1.0], [2.0], [1.0], [1.0], [1.0], [1.0], [1.0], [1.0], [1.0], [3.0], [1.0], [2.0], [1.0], [1.0], [1.0], [1.0], [1.0], [1.0], [1.0], [3.0], [1.0], [2.0], [1.0], [3.0], [2.0], [2.0], [1.0], [1.0], [2.0], [1.0], [1.0], [1.0], [1.0], [3.0], [3.0], [3.0], [1.0], [3.0], [3.0], [3.0], [1.0], [1.0], [2.0], [2.0], [1.0], [1.0], [1.0], [1.0], [1.0], [3.0], [1.0], [2.0], [1.0], [1.0], [1.0], [1.0], [1.0], [1.0], [1.0], [1.0], [1.0], [1.0], [1.0], [1.0], [2.0], [2.0], [1.0], [1.0], [1.0], [1.0], [1.0], [3.0], [2.0], [1.0], [1.0], [1.0], [1.0], [1.0], [1.0], [1.0], [1.0], [1.0], [1.0], [1.0], [3.0], [3.0], [3.0], [3.0], [3.0], [3.0], [1.0], [1.0], [2.0], [2.0], [1.0], [1.0], [1.0], [1.0], [1.0], [3.0], [2.0], [1.0], [1.0], [1.0], [1.0], [1.0], [1.0], [1.0], [1.0], [1.0], [1.0], [1.0], [1.0], [1.0], [2.0], [2.0], [3.0], [1.0], [3.0], [1.0], [3.0], [1.0], [3.0], [1.0], [3.0], [1.0], [3.0], [3.0], [3.0], [2.0], [3.0], [1.0], [3.0], [1.0], [3.0], [1.0], [1.0], [1.0], [1.0], [3.0], [3.0], [3.0], [3.0], [3.0], [1.0], [1.0], [1.0], [1.0], [1.0], [3.0], [3.0], [3.0], [3.0], [3.0], [3.0], [3.0], [3.0], [3.0], [3.0], [1.0], [1.0], [1.0], [1.0], [1.0], [3.0], [3.0], [3.0], [1.0], [1.0], [3.0], [3.0], [3.0], [3.0], [3.0], [3.0], [3.0], [3.0], [0.0], [0.0], [0.0], [0.0], [0.0], [0.0], [0.0], [null], [0.0], [0.0], [null], [0.0], [0.0], [0.0], [0.0], [0.0], [0.0], [0.0], [0.0], [0.0], [0.0], [0.0], [0.0], [0.0], [0.0], [0.0], [0.0], [0.0], [0.0], [0.0], [0.0], [null], [null], [null], [null], [null], [0.0], [0.0], [null], [0.0], [null], [0.0], [null], [0.0], [0.0], [2.0], [0.0], [0.0], [0.0], [0.0], [0.0], [2.0], [0.0], [0.0], [0.0], [0.0], [0.0], [0.0], [0.0], [0.0], [0.0], [0.0], [0.0], [null], [null], [null], [1.0], [null], [0.0], [0.0], [0.0], [0.0], [0.0], [0.0], [0.0], [2.0], [2.0], [1.0], [2.0], [2.0], [2.0], [0.0], [2.0], [3.0], [null], [null], [null], [null], [1.0], [null], [0.0], [0.0], [null], [0.0], [0.0], [0.0], [0.0], [0.0]], \"hoverlabel\": {\"namelength\": 0}, \"hovertemplate\": \"domain_name=Ligniere<br>T2M=%{x}<br>mildew_leaves=%{customdata[0]}\", \"legendgroup\": \"domain_name=Ligniere\", \"marker\": {\"color\": \"#636efa\", \"symbol\": \"circle\"}, \"mode\": \"markers\", \"name\": \"domain_name=Ligniere\", \"showlegend\": true, \"type\": \"scattergl\", \"x\": [19.602857142857143, 19.602857142857143, 19.602857142857143, 19.602857142857143, 19.602857142857143, 19.602857142857143, 19.602857142857143, 19.602857142857143, 19.602857142857143, 19.602857142857143, 19.602857142857143, 19.602857142857143, 19.602857142857143, 19.602857142857143, 19.602857142857143, 19.602857142857143, 19.602857142857143, 19.602857142857143, 19.602857142857143, 19.602857142857143, 19.602857142857143, 19.602857142857143, 19.602857142857143, 19.602857142857143, 20.532857142857143, 20.532857142857143, 20.532857142857143, 20.532857142857143, 20.532857142857143, 20.532857142857143, 20.532857142857143, 20.532857142857143, 20.532857142857143, 20.532857142857143, 20.532857142857143, 20.532857142857143, 20.532857142857143, 20.532857142857143, 20.532857142857143, 20.532857142857143, 20.532857142857143, 20.532857142857143, 20.532857142857143, 20.532857142857143, 20.532857142857143, 20.532857142857143, 20.532857142857143, 20.532857142857143, 22.987142857142857, 22.987142857142857, 22.987142857142857, 22.987142857142857, 22.987142857142857, 22.987142857142857, 22.987142857142857, 22.987142857142857, 22.987142857142857, 22.987142857142857, 22.987142857142857, 22.987142857142857, 22.987142857142857, 22.987142857142857, 22.987142857142857, 24.16, 24.16, 24.16, 24.16, 24.16, 24.16, 24.16, 24.16, 24.16, 24.16, 24.16, 24.16, 24.16, 24.16, 24.16, 24.16, 24.16, 24.16, 24.16, 24.16, 24.16, 24.16, 24.16, 24.16, 22.045714285714286, 22.045714285714286, 22.045714285714286, 22.045714285714286, 22.045714285714286, 22.045714285714286, 22.045714285714286, 22.045714285714286, 22.045714285714286, 22.045714285714286, 22.045714285714286, 22.045714285714286, 22.045714285714286, 22.045714285714286, 22.045714285714286, 22.045714285714286, 22.045714285714286, 22.045714285714286, 22.045714285714286, 22.045714285714286, 22.045714285714286, 22.045714285714286, 22.045714285714286, 22.045714285714286, 22.045714285714286, 22.69857142857143, 22.69857142857143, 22.69857142857143, 22.69857142857143, 22.69857142857143, 22.69857142857143, 22.69857142857143, 22.69857142857143, 22.69857142857143, 22.69857142857143, 22.69857142857143, 22.69857142857143, 22.69857142857143, 22.69857142857143, 22.69857142857143, 22.69857142857143, 22.69857142857143, 22.69857142857143, 22.69857142857143, 22.69857142857143, 22.69857142857143, 22.69857142857143, 22.69857142857143, 22.69857142857143, 22.69857142857143, 26.220000000000002, 26.220000000000002, 26.220000000000002, 26.220000000000002, 26.220000000000002, 26.220000000000002, 26.220000000000002, 26.220000000000002, 26.220000000000002, 26.220000000000002, 26.220000000000002, 26.220000000000002, 26.220000000000002, 26.220000000000002, 26.220000000000002, 26.220000000000002, 26.220000000000002, 26.220000000000002, 26.220000000000002, 26.220000000000002, 26.220000000000002, 26.220000000000002, 26.220000000000002, 26.220000000000002, 26.220000000000002, 27.654285714285713, 27.654285714285713, 27.654285714285713, 27.654285714285713, 27.654285714285713, 27.654285714285713, 27.654285714285713, 27.654285714285713, 27.654285714285713, 27.654285714285713, 27.654285714285713, 27.654285714285713, 27.654285714285713, 27.654285714285713, 27.654285714285713, 27.654285714285713, 27.654285714285713, 26.491428571428575, 26.491428571428575, 26.491428571428575, 26.491428571428575, 26.491428571428575, 26.491428571428575, 26.491428571428575, 26.491428571428575, 26.491428571428575, 26.491428571428575, 26.491428571428575, 26.491428571428575, 26.491428571428575, 26.491428571428575, 26.491428571428575, 26.491428571428575, 26.491428571428575, 26.491428571428575, 26.491428571428575, 26.491428571428575, 26.491428571428575, 26.491428571428575, 26.491428571428575, 26.491428571428575, 26.491428571428575, 26.491428571428575, 24.645714285714288, 24.645714285714288, 24.645714285714288, 24.645714285714288, 24.645714285714288, 24.645714285714288, 24.645714285714288, 24.645714285714288, 24.645714285714288, 24.645714285714288, 24.645714285714288, 24.645714285714288, 24.645714285714288, 24.645714285714288, 24.645714285714288, 24.645714285714288, 24.645714285714288, 24.645714285714288, 24.645714285714288, 24.645714285714288, 24.645714285714288, 24.645714285714288, 24.645714285714288, 24.645714285714288, 24.645714285714288, 24.645714285714288, 26.004285714285714, 26.004285714285714, 26.004285714285714, 26.004285714285714, 26.004285714285714, 26.004285714285714, 26.004285714285714, 26.004285714285714, 26.004285714285714, 26.004285714285714, 26.004285714285714, 26.004285714285714, 26.004285714285714, 26.004285714285714, 26.004285714285714, 26.004285714285714, 26.004285714285714, 26.004285714285714, 26.004285714285714, 26.004285714285714, 26.004285714285714, 26.004285714285714, 26.004285714285714, 26.004285714285714, 26.004285714285714, 26.004285714285714, 27.680000000000003, 27.680000000000003, 27.680000000000003, 27.680000000000003, 27.680000000000003, 27.680000000000003, 27.680000000000003, 27.680000000000003, 27.680000000000003, 27.680000000000003, 27.680000000000003, 27.680000000000003, 27.680000000000003, 27.680000000000003, 27.680000000000003, 27.680000000000003, 27.680000000000003, 27.680000000000003, 27.982857142857142, 27.982857142857142, 27.982857142857142, 27.982857142857142, 27.982857142857142, 27.982857142857142, 27.982857142857142, 27.982857142857142, 27.982857142857142, 27.655714285714286, 27.655714285714286, 27.655714285714286, 27.655714285714286, 27.655714285714286, 27.655714285714286, 27.655714285714286, 27.655714285714286, 27.655714285714286, 27.72285714285714, 27.72285714285714, 27.72285714285714, 27.72285714285714, 27.72285714285714, 27.72285714285714, 27.72285714285714, 27.72285714285714, 27.72285714285714, 27.72285714285714, 27.72285714285714, 27.72285714285714, 27.72285714285714, 27.72285714285714, 27.72285714285714, 27.72285714285714, 27.72285714285714, 27.72285714285714, 30.43285714285714, 30.43285714285714, 30.43285714285714, 30.43285714285714, 30.43285714285714, 30.43285714285714, 30.43285714285714, 30.43285714285714, 30.43285714285714, 30.43285714285714, 30.43285714285714, 30.43285714285714, 30.43285714285714, 30.43285714285714, 30.43285714285714, 30.43285714285714, 30.43285714285714, 30.43285714285714, 26.73571428571429, 26.73571428571429, 26.73571428571429, 26.73571428571429, 26.73571428571429, 26.73571428571429, 26.73571428571429, 26.73571428571429, 26.73571428571429, 26.73571428571429, 26.73571428571429, 26.73571428571429, 26.73571428571429, 26.73571428571429, 26.73571428571429, 26.73571428571429, 26.73571428571429, 26.73571428571429, 14.022857142857143, 14.022857142857143, 14.022857142857143, 14.022857142857143, 14.022857142857143, 14.022857142857143, 14.022857142857143, 14.022857142857143, 14.022857142857143, 14.022857142857143, 14.022857142857143, 14.022857142857143, 14.022857142857143, 14.022857142857143, 22.41, 22.41, 22.41, 22.41, 22.41, 22.41, 23.0, 23.0, 23.0, 23.0, 23.0, 23.0, 23.0, 23.0, 23.0, 23.0, 23.0, 23.0, 23.0, 23.0, 23.0, 23.0, 23.0, 23.0, 23.0, 23.0, 23.0, 23.0, 23.0, 25.308571428571423, 25.308571428571423, 25.308571428571423, 25.308571428571423, 25.308571428571423, 25.308571428571423, 25.308571428571423, 25.308571428571423, 25.308571428571423, 25.308571428571423, 25.308571428571423, 25.308571428571423, 25.308571428571423, 25.308571428571423, 23.289999999999996, 23.289999999999996, 23.289999999999996, 23.289999999999996, 23.289999999999996, 23.289999999999996, 23.289999999999996, 23.289999999999996, 23.289999999999996, 23.289999999999996, 23.289999999999996, 23.289999999999996, 23.289999999999996, 23.289999999999996, 23.289999999999996, 23.289999999999996, 23.289999999999996, 23.289999999999996, 23.289999999999996, 23.289999999999996, 23.289999999999996, 23.289999999999996, 23.289999999999996, 23.289999999999996, 23.289999999999996, 23.289999999999996, 23.289999999999996, 28.077142857142857, 28.077142857142857, 28.077142857142857, 28.077142857142857, 28.077142857142857, 28.077142857142857, 28.077142857142857, 28.077142857142857, 28.077142857142857, 28.077142857142857, 28.077142857142857, 28.077142857142857, 28.077142857142857, 28.077142857142857, 28.077142857142857, 28.077142857142857, 28.077142857142857, 28.077142857142857, 28.077142857142857, 28.077142857142857, 28.077142857142857, 28.077142857142857, 28.077142857142857, 28.077142857142857, 28.077142857142857, 28.077142857142857, 28.077142857142857, 24.642857142857142, 24.642857142857142, 24.642857142857142, 24.642857142857142, 24.642857142857142, 24.642857142857142, 24.642857142857142, 24.642857142857142, 24.642857142857142, 24.642857142857142, 24.642857142857142, 24.642857142857142, 24.642857142857142, 24.642857142857142, 24.642857142857142, 24.642857142857142, 24.642857142857142, 24.642857142857142, 24.642857142857142, 24.642857142857142, 24.642857142857142, 24.642857142857142, 24.642857142857142, 24.642857142857142, 24.642857142857142, 24.642857142857142, 24.642857142857142, 30.050000000000004, 30.050000000000004, 30.050000000000004, 30.050000000000004, 30.050000000000004, 30.050000000000004, 30.050000000000004, 30.050000000000004, 30.050000000000004, 30.050000000000004, 30.050000000000004, 30.050000000000004, 30.050000000000004, 30.050000000000004, 30.050000000000004, 30.050000000000004, 30.050000000000004, 30.050000000000004, 30.050000000000004, 30.050000000000004, 30.050000000000004, 30.050000000000004, 30.050000000000004, 30.050000000000004, 30.050000000000004, 30.050000000000004, 30.050000000000004, 27.301428571428566, 27.301428571428566, 27.301428571428566, 27.301428571428566, 27.301428571428566, 27.301428571428566, 27.301428571428566, 27.301428571428566, 27.301428571428566, 27.301428571428566, 27.301428571428566, 27.301428571428566, 27.301428571428566, 27.301428571428566, 27.301428571428566, 27.301428571428566, 27.301428571428566, 27.301428571428566, 27.301428571428566, 27.301428571428566, 27.301428571428566, 27.301428571428566, 27.301428571428566, 27.301428571428566, 27.301428571428566, 27.301428571428566, 27.301428571428566, 29.928571428571434, 29.928571428571434, 29.928571428571434, 29.928571428571434, 29.928571428571434, 29.928571428571434, 29.928571428571434, 29.928571428571434, 29.928571428571434, 29.928571428571434, 29.928571428571434, 29.928571428571434, 29.928571428571434, 29.928571428571434, 29.928571428571434, 29.928571428571434, 29.928571428571434, 29.928571428571434, 29.928571428571434, 29.928571428571434, 29.928571428571434, 29.928571428571434, 29.928571428571434, 29.928571428571434, 29.928571428571434, 29.928571428571434, 29.928571428571434, 27.9, 27.9, 27.9, 27.9, 27.9, 27.9, 27.9, 27.9, 27.9, 27.9, 27.9, 27.9, 27.9, 27.9, 27.9, 27.9, 27.9, 27.9, 27.9, 27.9, 27.9, 27.9, 27.9, 27.9, 27.9, 27.9, 27.9, 25.361428571428572, 25.361428571428572, 25.361428571428572, 25.361428571428572, 25.361428571428572, 25.361428571428572, 25.361428571428572, 25.361428571428572, 25.361428571428572, 25.361428571428572, 25.361428571428572, 25.361428571428572, 25.361428571428572, 25.361428571428572, 25.361428571428572, 25.361428571428572, 25.361428571428572, 25.361428571428572, 25.361428571428572, 25.361428571428572, 25.361428571428572, 25.361428571428572, 25.361428571428572, 25.361428571428572, 25.361428571428572, 25.361428571428572, 25.361428571428572, 26.21, 26.21, 26.21, 26.21, 26.21, 26.21, 26.21, 26.21, 26.21, 26.21, 26.21, 26.21, 26.21, 26.21, 26.21, 26.21, 26.21, 26.21, 26.21, 26.21, 26.21, 26.21, 26.21, 26.21, 26.21, 26.21, 26.21, 26.84857142857143, 26.84857142857143, 26.84857142857143, 26.84857142857143, 26.84857142857143, 26.84857142857143, 26.84857142857143, 26.84857142857143, 26.84857142857143, 26.84857142857143, 26.84857142857143, 26.84857142857143, 26.84857142857143, 26.84857142857143, 26.84857142857143, 26.84857142857143, 26.84857142857143, 26.84857142857143, 26.84857142857143, 26.84857142857143, 26.84857142857143, 26.84857142857143, 26.84857142857143, 26.84857142857143, 26.84857142857143, 26.84857142857143, 26.84857142857143, 15.390000000000002, 15.390000000000002, 15.390000000000002, 15.390000000000002, 15.390000000000002, 15.390000000000002, 15.390000000000002, 15.390000000000002, 15.390000000000002, 15.390000000000002, 15.390000000000002, 15.390000000000002, 15.390000000000002, 15.390000000000002, 15.390000000000002, 15.390000000000002, 15.390000000000002, 15.390000000000002, 13.258571428571429, 13.258571428571429, 13.258571428571429, 13.258571428571429, 13.258571428571429, 13.258571428571429, 13.258571428571429, 13.258571428571429, 13.258571428571429, 19.214285714285715, 19.214285714285715, 19.214285714285715, 19.214285714285715, 19.214285714285715, 19.214285714285715, 19.214285714285715, 19.214285714285715, 19.214285714285715, 19.214285714285715, 19.214285714285715, 19.214285714285715, 19.214285714285715, 19.214285714285715, 19.214285714285715, 19.214285714285715, 19.214285714285715, 19.214285714285715, 19.214285714285715, 19.214285714285715, 19.214285714285715, 19.214285714285715, 19.214285714285715, 19.214285714285715, 19.214285714285715, 19.214285714285715, 19.214285714285715, 25.458571428571435, 25.458571428571435, 25.458571428571435, 25.458571428571435, 25.458571428571435, 25.458571428571435, 25.458571428571435, 25.458571428571435, 25.458571428571435, 25.458571428571435, 25.458571428571435, 25.458571428571435, 25.458571428571435, 25.458571428571435, 25.458571428571435, 25.458571428571435, 25.458571428571435, 25.458571428571435, 25.458571428571435, 25.458571428571435, 25.458571428571435, 25.458571428571435, 25.458571428571435, 25.458571428571435, 25.458571428571435, 25.458571428571435, 25.458571428571435, 23.547142857142855, 23.547142857142855, 23.547142857142855, 23.547142857142855, 23.547142857142855, 23.547142857142855, 23.547142857142855, 23.547142857142855, 23.547142857142855, 23.547142857142855, 23.547142857142855, 23.547142857142855, 23.547142857142855, 23.547142857142855, 23.547142857142855, 23.547142857142855, 23.547142857142855, 23.547142857142855, 23.547142857142855, 23.547142857142855, 23.547142857142855, 23.547142857142855, 23.547142857142855, 23.547142857142855, 23.547142857142855, 23.547142857142855, 23.547142857142855, 23.547142857142855, 23.547142857142855, 23.647142857142857, 23.647142857142857, 23.647142857142857, 23.647142857142857, 23.647142857142857, 23.647142857142857, 23.647142857142857, 23.647142857142857, 23.647142857142857, 23.647142857142857, 23.647142857142857, 23.647142857142857, 23.647142857142857, 23.647142857142857, 23.647142857142857, 23.647142857142857, 23.647142857142857, 23.647142857142857, 23.647142857142857, 23.647142857142857, 23.647142857142857, 23.647142857142857, 23.647142857142857, 23.647142857142857, 23.647142857142857, 23.647142857142857, 23.647142857142857, 23.647142857142857, 23.647142857142857, 26.348571428571432, 26.348571428571432, 26.348571428571432, 26.348571428571432, 26.348571428571432, 26.348571428571432, 26.348571428571432, 26.348571428571432, 26.348571428571432, 26.348571428571432, 26.348571428571432, 26.348571428571432, 26.348571428571432, 26.348571428571432, 26.348571428571432, 26.348571428571432, 26.348571428571432, 26.348571428571432, 23.985714285714288, 23.985714285714288, 23.985714285714288, 23.985714285714288, 23.985714285714288, 23.985714285714288, 23.985714285714288, 23.985714285714288, 23.985714285714288, 23.985714285714288, 23.985714285714288, 23.985714285714288, 23.985714285714288, 23.985714285714288, 23.985714285714288, 23.985714285714288, 23.985714285714288, 23.985714285714288, 23.985714285714288, 23.985714285714288, 23.985714285714288, 23.985714285714288, 23.985714285714288, 23.985714285714288, 23.985714285714288, 23.985714285714288, 23.985714285714288, 23.985714285714288, 23.985714285714288, 26.641428571428573, 26.641428571428573, 26.641428571428573, 26.641428571428573, 26.641428571428573, 26.641428571428573, 26.641428571428573, 26.641428571428573, 26.641428571428573, 26.641428571428573, 26.641428571428573, 26.641428571428573, 26.641428571428573, 26.641428571428573, 26.641428571428573, 26.641428571428573, 26.641428571428573, 26.641428571428573, 26.641428571428573, 26.641428571428573, 26.641428571428573, 26.641428571428573, 26.641428571428573, 26.641428571428573, 26.641428571428573, 26.641428571428573, 26.641428571428573, 26.641428571428573, 26.641428571428573, 25.987142857142857, 25.987142857142857, 25.987142857142857, 25.987142857142857, 25.987142857142857, 25.987142857142857, 25.987142857142857, 25.987142857142857, 25.987142857142857, 25.987142857142857, 25.987142857142857, 25.987142857142857, 25.987142857142857, 25.987142857142857, 25.987142857142857, 25.987142857142857, 25.987142857142857, 25.987142857142857, 25.987142857142857, 25.987142857142857, 25.987142857142857, 25.987142857142857, 25.987142857142857, 25.987142857142857, 25.987142857142857, 25.987142857142857, 25.987142857142857, 25.987142857142857, 25.987142857142857, 28.52, 28.52, 28.52, 28.52, 28.52, 28.52, 28.52, 28.52, 28.52, 28.52, 28.52, 28.52, 28.52, 28.52, 28.52, 28.52, 28.52, 28.52, 28.52, 28.52, 28.52, 28.52, 28.52, 28.52, 28.52, 28.52, 28.52, 28.52, 28.52, 27.86285714285714, 27.86285714285714, 27.86285714285714, 27.86285714285714, 27.86285714285714, 27.86285714285714, 27.86285714285714, 27.86285714285714, 27.86285714285714, 28.094285714285718, 28.094285714285718, 28.094285714285718, 28.094285714285718, 28.094285714285718, 28.094285714285718, 28.094285714285718, 28.094285714285718, 28.094285714285718, 28.094285714285718, 28.094285714285718, 28.094285714285718, 28.094285714285718, 28.094285714285718, 28.094285714285718, 28.094285714285718, 28.094285714285718, 28.094285714285718, 27.60571428571429, 27.60571428571429, 27.60571428571429, 27.60571428571429, 27.60571428571429, 27.60571428571429, 27.60571428571429, 27.60571428571429, 27.60571428571429, 27.60571428571429, 27.60571428571429, 27.60571428571429, 27.60571428571429, 27.60571428571429, 27.60571428571429, 27.60571428571429, 27.60571428571429, 27.60571428571429, 27.40142857142857, 27.40142857142857, 27.40142857142857, 27.40142857142857, 27.40142857142857, 27.40142857142857, 27.40142857142857, 27.40142857142857, 27.40142857142857, 27.40142857142857, 27.40142857142857, 27.40142857142857, 27.40142857142857, 27.40142857142857, 27.40142857142857, 27.40142857142857, 27.40142857142857, 27.40142857142857, 27.40142857142857, 27.40142857142857, 29.52714285714286, 29.52714285714286, 29.52714285714286, 29.52714285714286, 29.52714285714286, 29.52714285714286, 29.52714285714286, 29.52714285714286, 29.52714285714286, 30.127142857142854, 30.127142857142854, 30.127142857142854, 30.127142857142854, 30.127142857142854, 30.127142857142854, 30.127142857142854, 30.127142857142854, 30.127142857142854, 30.127142857142854, 30.127142857142854, 30.127142857142854, 30.127142857142854, 30.127142857142854, 30.127142857142854, 30.127142857142854, 30.127142857142854, 30.127142857142854, 30.127142857142854, 30.127142857142854, 29.88571428571429, 29.88571428571429, 29.88571428571429, 29.88571428571429, 29.88571428571429, 29.88571428571429, 29.88571428571429, 29.88571428571429, 29.88571428571429, 29.88571428571429, 29.88571428571429, 29.88571428571429, 29.88571428571429, 29.88571428571429, 29.88571428571429, 29.88571428571429, 29.88571428571429, 29.88571428571429, 16.681428571428572, 16.681428571428572, 16.681428571428572, 16.681428571428572, 16.681428571428572, 16.681428571428572, 16.681428571428572, 16.681428571428572, 16.681428571428572, 16.681428571428572, 16.681428571428572, 16.681428571428572, 16.681428571428572, 16.681428571428572, 16.681428571428572, 16.681428571428572, 16.681428571428572, 16.681428571428572, 16.681428571428572, 16.681428571428572, 16.681428571428572, 16.681428571428572, 16.681428571428572, 16.681428571428572, 16.681428571428572, 16.681428571428572, 16.681428571428572, 16.681428571428572, 16.681428571428572, 14.394285714285715, 14.394285714285715, 14.394285714285715, 14.394285714285715, 14.394285714285715, 14.394285714285715, 14.394285714285715, 14.394285714285715, 14.394285714285715, 14.394285714285715, 14.394285714285715, 14.394285714285715, 14.394285714285715, 14.394285714285715, 14.394285714285715, 14.394285714285715, 14.394285714285715, 14.394285714285715, 14.394285714285715, 14.394285714285715, 14.394285714285715, 14.394285714285715, 14.394285714285715, 14.394285714285715, 14.394285714285715, 14.394285714285715, 14.394285714285715, 14.394285714285715, 14.394285714285715, 17.53714285714286, 17.53714285714286, 17.53714285714286, 17.53714285714286, 17.53714285714286, 17.53714285714286, 17.53714285714286, 17.53714285714286, 17.53714285714286, 17.53714285714286, 17.53714285714286, 17.53714285714286, 17.53714285714286, 17.53714285714286, 17.53714285714286, 17.53714285714286, 17.53714285714286, 17.53714285714286, 17.53714285714286, 17.53714285714286, 17.53714285714286, 17.53714285714286, 17.53714285714286, 17.53714285714286, 17.53714285714286, 17.53714285714286, 17.53714285714286, 17.53714285714286, 17.53714285714286, 20.859999999999996, 20.859999999999996, 20.859999999999996, 20.859999999999996, 20.859999999999996, 20.859999999999996, 20.859999999999996, 20.859999999999996, 20.859999999999996, 25.47142857142857, 25.47142857142857, 25.47142857142857, 25.47142857142857, 25.47142857142857, 25.47142857142857, 25.47142857142857, 25.47142857142857, 25.47142857142857, 25.47142857142857, 25.47142857142857, 25.47142857142857, 25.47142857142857, 25.47142857142857, 25.47142857142857, 25.47142857142857, 25.47142857142857, 25.47142857142857, 29.781428571428574, 29.781428571428574, 29.781428571428574, 29.781428571428574, 29.781428571428574, 29.781428571428574, 29.781428571428574, 29.781428571428574, 29.781428571428574, 29.781428571428574, 29.781428571428574, 29.781428571428574, 29.781428571428574, 29.781428571428574, 29.781428571428574, 29.781428571428574, 29.781428571428574, 29.781428571428574, 29.781428571428574, 29.781428571428574, 29.034285714285716, 29.034285714285716, 29.034285714285716, 29.034285714285716, 29.034285714285716, 29.034285714285716, 29.034285714285716, 29.034285714285716, 29.034285714285716, 29.034285714285716, 29.034285714285716, 29.034285714285716, 29.034285714285716, 29.034285714285716, 29.034285714285716, 29.034285714285716, 29.034285714285716, 29.034285714285716, 29.034285714285716, 29.034285714285716, 28.898571428571433, 28.898571428571433, 28.898571428571433, 28.898571428571433, 28.898571428571433, 28.898571428571433, 28.898571428571433, 28.898571428571433, 28.898571428571433, 28.898571428571433, 28.898571428571433, 28.898571428571433, 28.898571428571433, 28.898571428571433, 28.898571428571433, 28.898571428571433, 28.898571428571433, 28.898571428571433, 28.898571428571433, 28.898571428571433, 28.898571428571433, 28.898571428571433, 28.898571428571433, 28.898571428571433, 28.898571428571433, 28.898571428571433, 28.898571428571433, 28.898571428571433, 28.898571428571433, 25.214285714285715, 25.214285714285715, 25.214285714285715, 25.214285714285715, 25.214285714285715, 25.214285714285715, 25.214285714285715, 25.214285714285715, 25.214285714285715, 25.214285714285715, 25.214285714285715, 25.214285714285715, 25.214285714285715, 25.214285714285715, 25.214285714285715, 25.214285714285715, 25.214285714285715, 25.214285714285715, 25.214285714285715, 25.214285714285715, 25.214285714285715, 25.214285714285715, 25.214285714285715, 25.214285714285715, 25.214285714285715, 25.214285714285715, 25.214285714285715, 25.214285714285715, 25.214285714285715, 32.05428571428571, 32.05428571428571, 32.05428571428571, 32.05428571428571, 32.05428571428571, 32.05428571428571, 32.05428571428571, 32.05428571428571, 32.05428571428571, 32.05428571428571, 32.05428571428571, 32.05428571428571, 32.05428571428571, 32.05428571428571, 32.05428571428571, 32.05428571428571, 32.05428571428571, 32.05428571428571, 32.05428571428571, 32.05428571428571, 28.965714285714284, 28.965714285714284, 28.965714285714284, 28.965714285714284, 28.965714285714284, 28.965714285714284, 28.965714285714284, 28.965714285714284, 28.965714285714284, 28.965714285714284, 28.965714285714284, 28.965714285714284, 28.965714285714284, 28.965714285714284, 28.965714285714284, 28.965714285714284, 28.965714285714284, 28.965714285714284, 28.965714285714284, 28.965714285714284, 16.478571428571428, 16.478571428571428, 16.478571428571428, 16.478571428571428, 16.478571428571428, 16.478571428571428, 16.478571428571428, 16.478571428571428, 16.478571428571428, 16.478571428571428, 16.478571428571428, 16.478571428571428, 16.478571428571428, 16.478571428571428, 16.478571428571428, 16.478571428571428, 16.478571428571428, 16.478571428571428, 16.478571428571428, 16.478571428571428, 15.705714285714283, 15.705714285714283, 15.705714285714283, 15.705714285714283, 15.705714285714283, 15.705714285714283, 15.705714285714283, 15.705714285714283, 15.705714285714283, 15.705714285714283, 15.705714285714283, 15.705714285714283, 15.705714285714283, 15.705714285714283, 15.705714285714283, 15.705714285714283, 15.705714285714283, 15.705714285714283, 15.705714285714283, 15.705714285714283, 15.705714285714283, 15.705714285714283, 19.231428571428573, 19.231428571428573, 19.231428571428573, 19.231428571428573, 19.231428571428573, 19.231428571428573, 19.231428571428573, 19.231428571428573, 19.231428571428573, 19.231428571428573, 19.231428571428573, 19.231428571428573, 19.231428571428573, 19.231428571428573, 19.231428571428573, 19.231428571428573, 19.231428571428573, 19.231428571428573, 19.231428571428573, 19.231428571428573, 19.231428571428573, 19.231428571428573, 19.231428571428573, 19.231428571428573, 19.231428571428573, 19.231428571428573, 19.231428571428573, 19.231428571428573, 18.955714285714286, 18.955714285714286, 18.955714285714286, 18.955714285714286, 18.955714285714286, 18.955714285714286, 18.955714285714286, 18.955714285714286, 18.955714285714286, 18.955714285714286, 18.955714285714286, 21.745714285714282, 21.745714285714282, 21.745714285714282, 21.745714285714282, 21.745714285714282, 21.745714285714282, 21.745714285714282, 21.745714285714282, 21.745714285714282, 21.745714285714282, 21.745714285714282, 21.745714285714282, 21.745714285714282, 21.745714285714282, 21.745714285714282, 21.745714285714282, 21.745714285714282, 21.745714285714282, 21.745714285714282, 21.745714285714282, 21.745714285714282, 21.745714285714282, 21.745714285714282, 21.745714285714282, 21.745714285714282, 21.745714285714282, 21.745714285714282, 21.745714285714282, 21.745714285714282, 21.745714285714282, 21.745714285714282, 21.745714285714282, 19.337142857142855, 19.337142857142855, 19.337142857142855, 19.337142857142855, 19.337142857142855, 19.337142857142855, 19.337142857142855, 19.337142857142855, 19.337142857142855, 19.337142857142855, 19.337142857142855, 19.337142857142855, 19.337142857142855, 19.337142857142855, 19.337142857142855, 19.337142857142855, 19.337142857142855, 19.337142857142855, 19.337142857142855, 19.337142857142855, 19.337142857142855, 19.337142857142855, 19.337142857142855, 19.337142857142855, 19.337142857142855, 19.337142857142855, 19.337142857142855, 19.337142857142855, 19.337142857142855, 19.337142857142855, 18.814285714285713, 18.814285714285713, 18.814285714285713, 18.814285714285713, 18.814285714285713, 18.814285714285713, 18.814285714285713, 18.814285714285713, 18.814285714285713, 18.814285714285713, 18.814285714285713, 18.814285714285713, 18.814285714285713, 18.814285714285713, 18.814285714285713, 18.814285714285713, 18.814285714285713, 18.814285714285713, 18.814285714285713, 18.814285714285713, 18.814285714285713, 18.814285714285713, 18.814285714285713, 18.814285714285713, 18.814285714285713, 26.29285714285714, 26.29285714285714, 26.29285714285714, 26.29285714285714, 26.29285714285714, 26.29285714285714, 26.29285714285714, 26.29285714285714, 26.29285714285714, 26.29285714285714, 26.29285714285714, 26.29285714285714, 26.29285714285714, 26.29285714285714, 26.29285714285714, 26.29285714285714, 26.29285714285714, 26.29285714285714, 26.29285714285714, 26.29285714285714, 26.29285714285714, 26.29285714285714, 26.29285714285714, 26.29285714285714, 26.29285714285714, 26.29285714285714, 26.29285714285714, 26.29285714285714, 26.29285714285714, 26.29285714285714, 26.29285714285714, 26.29285714285714, 26.29285714285714, 26.29285714285714, 28.74, 28.74, 28.74, 28.74, 28.74, 28.74, 28.74, 28.74, 28.74, 28.74, 28.74, 28.74, 28.74, 28.74, 28.74, 28.74, 28.74, 28.74, 28.74, 28.74, 28.74, 28.74, 28.74, 28.74, 28.74, 28.74, 28.74, 28.74, 28.74, 28.74, 28.74, 28.74, 28.74, 28.74, 27.41, 27.41, 27.41, 27.41, 27.41, 27.41, 27.41, 27.41, 27.41, 27.41, 27.41, 27.41, 27.41, 27.41, 27.41, 27.41, 27.41, 27.41, 27.41, 27.41, 27.41, 27.41, 27.41, 27.41, 27.41, 27.41, 27.41, 27.41, 27.41, 27.41, 27.41, 27.41, 27.41, 27.41, 26.511428571428574, 26.511428571428574, 26.511428571428574, 26.511428571428574, 26.511428571428574, 26.511428571428574, 26.511428571428574, 26.511428571428574, 26.511428571428574, 26.511428571428574, 26.511428571428574, 26.511428571428574, 26.511428571428574, 26.511428571428574, 26.511428571428574, 26.511428571428574, 26.511428571428574, 26.511428571428574, 26.511428571428574, 26.511428571428574, 26.511428571428574, 26.511428571428574, 26.511428571428574, 26.511428571428574, 26.511428571428574, 26.511428571428574, 26.511428571428574, 26.511428571428574, 26.511428571428574, 26.511428571428574, 26.511428571428574, 26.511428571428574, 26.511428571428574, 26.511428571428574, 29.708571428571428, 29.708571428571428, 29.708571428571428, 29.708571428571428, 29.708571428571428, 29.708571428571428, 29.708571428571428, 29.708571428571428, 29.708571428571428, 29.708571428571428, 29.708571428571428, 29.708571428571428, 29.708571428571428, 29.708571428571428, 29.708571428571428, 29.708571428571428, 29.708571428571428, 29.708571428571428, 29.708571428571428, 29.708571428571428, 29.708571428571428, 29.708571428571428, 29.708571428571428, 29.708571428571428, 29.708571428571428, 29.708571428571428, 29.708571428571428, 29.708571428571428, 29.708571428571428, 29.708571428571428, 29.708571428571428, 29.708571428571428, 29.708571428571428, 29.708571428571428, 26.592857142857145, 26.592857142857145, 26.592857142857145, 26.592857142857145, 26.592857142857145, 26.592857142857145, 26.592857142857145, 26.592857142857145, 26.592857142857145, 26.592857142857145, 26.592857142857145, 26.592857142857145, 26.592857142857145, 26.592857142857145, 26.592857142857145, 26.592857142857145, 26.592857142857145, 26.592857142857145, 26.592857142857145, 26.592857142857145, 26.592857142857145, 26.592857142857145, 26.592857142857145, 26.592857142857145, 26.592857142857145, 26.592857142857145, 26.592857142857145, 26.592857142857145, 26.592857142857145, 26.592857142857145, 26.592857142857145, 26.592857142857145, 26.592857142857145, 26.592857142857145, 26.592857142857145, 26.148571428571426, 26.148571428571426, 26.148571428571426, 26.148571428571426, 26.148571428571426, 26.148571428571426, 26.148571428571426, 26.148571428571426, 26.148571428571426, 26.148571428571426, 26.148571428571426, 26.148571428571426, 26.148571428571426, 26.148571428571426, 26.148571428571426, 26.148571428571426, 26.148571428571426, 26.148571428571426, 26.148571428571426, 26.148571428571426, 26.148571428571426, 26.148571428571426, 26.148571428571426, 26.148571428571426, 26.148571428571426, 26.148571428571426, 30.06, 30.06, 30.06, 30.06, 30.06, 30.06, 30.06, 30.06, 28.83285714285714, 28.83285714285714, 28.83285714285714, 28.83285714285714, 28.83285714285714, 28.83285714285714, 28.83285714285714, 28.83285714285714, 28.83285714285714, 28.83285714285714, 28.83285714285714, 28.83285714285714, 28.83285714285714, 28.83285714285714, 28.83285714285714, 28.83285714285714, 28.83285714285714, 28.83285714285714, 28.83285714285714, 28.83285714285714, 28.83285714285714, 28.83285714285714, 28.83285714285714, 28.83285714285714, 28.83285714285714, 28.83285714285714, 27.424285714285713, 27.424285714285713, 27.424285714285713, 27.424285714285713, 27.424285714285713, 27.424285714285713, 27.424285714285713, 27.424285714285713, 14.60142857142857, 14.60142857142857, 14.60142857142857, 14.60142857142857, 14.60142857142857, 14.60142857142857, 14.60142857142857, 14.60142857142857, 14.60142857142857, 14.60142857142857, 14.60142857142857, 14.60142857142857, 17.128571428571426, 17.128571428571426, 17.128571428571426, 17.128571428571426, 17.128571428571426, 17.128571428571426, 17.128571428571426, 17.128571428571426, 17.128571428571426, 17.128571428571426, 17.128571428571426, 17.128571428571426, 17.128571428571426, 17.128571428571426, 17.128571428571426, 17.128571428571426, 17.128571428571426, 17.128571428571426, 17.128571428571426, 17.128571428571426, 17.128571428571426, 16.842857142857145, 16.842857142857145, 16.842857142857145, 16.842857142857145, 16.842857142857145, 16.842857142857145, 16.842857142857145, 16.842857142857145, 16.842857142857145, 16.842857142857145, 16.842857142857145, 16.842857142857145, 16.842857142857145, 16.842857142857145, 16.842857142857145, 16.842857142857145, 16.842857142857145, 16.842857142857145, 16.842857142857145, 16.842857142857145, 16.842857142857145, 17.134285714285713, 17.134285714285713, 17.134285714285713, 17.134285714285713, 17.134285714285713, 17.134285714285713, 17.134285714285713, 17.134285714285713, 17.134285714285713, 17.134285714285713, 17.134285714285713, 17.134285714285713, 17.134285714285713, 17.134285714285713, 17.134285714285713, 17.134285714285713, 17.134285714285713, 17.134285714285713, 17.134285714285713, 17.134285714285713, 17.134285714285713, 17.134285714285713, 18.262857142857143, 18.262857142857143, 18.262857142857143, 18.262857142857143, 18.262857142857143, 18.262857142857143, 18.262857142857143, 18.262857142857143, 18.262857142857143, 18.262857142857143, 18.262857142857143, 18.262857142857143, 18.262857142857143, 18.262857142857143, 18.262857142857143, 18.262857142857143, 18.262857142857143, 18.262857142857143, 18.262857142857143, 18.262857142857143, 18.262857142857143, 18.262857142857143, 22.282857142857143, 22.282857142857143, 23.851428571428574, 23.851428571428574, 23.851428571428574, 23.851428571428574, 23.851428571428574, 23.851428571428574, 23.851428571428574, 23.851428571428574, 23.851428571428574, 23.851428571428574, 23.851428571428574, 23.851428571428574, 23.851428571428574, 23.395714285714288, 23.395714285714288, 23.395714285714288, 23.395714285714288, 23.395714285714288, 23.395714285714288, 23.395714285714288, 23.395714285714288, 23.395714285714288, 23.395714285714288, 23.395714285714288, 23.395714285714288, 23.395714285714288, 23.395714285714288, 23.395714285714288, 23.395714285714288, 23.395714285714288, 23.395714285714288, 23.395714285714288, 23.395714285714288, 23.395714285714288, 23.395714285714288, 23.395714285714288, 23.395714285714288, 23.395714285714288, 23.395714285714288, 23.395714285714288, 23.395714285714288, 23.395714285714288, 23.395714285714288, 23.395714285714288, 23.395714285714288, 23.395714285714288, 23.395714285714288, 23.395714285714288, 23.395714285714288, 23.395714285714288, 23.395714285714288, 23.395714285714288, 23.395714285714288, 23.395714285714288, 23.395714285714288, 23.395714285714288, 23.395714285714288, 23.395714285714288, 23.395714285714288, 29.647142857142857, 29.647142857142857, 29.647142857142857, 29.647142857142857, 29.647142857142857, 29.647142857142857, 29.647142857142857, 29.647142857142857, 29.647142857142857, 29.647142857142857, 29.647142857142857, 29.647142857142857, 29.647142857142857, 29.647142857142857, 29.647142857142857, 29.647142857142857, 29.647142857142857, 29.647142857142857, 29.647142857142857, 29.647142857142857, 29.647142857142857, 29.647142857142857, 29.647142857142857, 29.647142857142857, 29.647142857142857, 29.647142857142857, 29.647142857142857, 29.647142857142857, 29.647142857142857, 29.647142857142857, 29.647142857142857, 29.647142857142857, 29.647142857142857, 29.647142857142857, 29.647142857142857, 29.647142857142857, 29.647142857142857, 29.647142857142857, 29.647142857142857, 29.647142857142857, 29.647142857142857, 26.18285714285714, 26.18285714285714, 26.18285714285714, 26.18285714285714, 26.18285714285714, 26.18285714285714, 26.18285714285714, 26.18285714285714, 26.18285714285714, 26.18285714285714, 26.18285714285714, 26.18285714285714, 26.18285714285714, 26.18285714285714, 26.18285714285714, 26.18285714285714, 26.18285714285714, 26.18285714285714, 26.18285714285714, 26.18285714285714, 26.18285714285714, 26.18285714285714, 26.18285714285714, 26.18285714285714, 26.18285714285714, 26.18285714285714, 26.18285714285714, 26.18285714285714, 26.18285714285714, 26.18285714285714, 26.18285714285714, 26.18285714285714, 26.18285714285714, 26.18285714285714, 26.18285714285714, 26.18285714285714, 26.18285714285714, 26.18285714285714, 26.18285714285714, 26.18285714285714, 26.18285714285714, 29.40285714285714, 29.40285714285714, 29.40285714285714, 29.40285714285714, 29.40285714285714, 29.40285714285714, 29.40285714285714, 29.40285714285714, 29.40285714285714, 29.40285714285714, 29.40285714285714, 29.40285714285714, 29.40285714285714, 29.40285714285714, 29.40285714285714, 29.40285714285714, 29.549999999999994, 29.549999999999994, 29.549999999999994, 29.549999999999994, 29.549999999999994, 30.19142857142857, 30.19142857142857, 30.19142857142857, 30.19142857142857, 30.19142857142857, 31.459999999999997, 31.459999999999997, 31.459999999999997, 31.459999999999997, 31.459999999999997, 27.18285714285714, 27.18285714285714, 27.18285714285714, 27.18285714285714, 27.18285714285714, 27.18285714285714, 27.18285714285714, 26.51285714285714, 26.51285714285714, 26.51285714285714, 26.51285714285714, 26.51285714285714, 26.51285714285714, 26.51285714285714, 26.51285714285714, 26.51285714285714, 26.51285714285714, 26.51285714285714, 26.51285714285714, 26.51285714285714, 26.51285714285714, 26.51285714285714, 26.51285714285714, 26.51285714285714, 26.51285714285714, 17.187142857142856, 17.187142857142856, 17.187142857142856, 17.187142857142856, 17.187142857142856, 17.187142857142856, 17.187142857142856, 17.187142857142856, 17.187142857142856, 17.187142857142856, 17.187142857142856, 17.187142857142856, 17.187142857142856, 17.187142857142856, 17.187142857142856, 17.187142857142856, 17.187142857142856, 17.187142857142856, 17.187142857142856, 17.187142857142856, 19.474285714285713, 19.474285714285713, 19.474285714285713, 23.821428571428573, 23.821428571428573, 23.821428571428573, 23.02285714285714, 23.02285714285714, 23.02285714285714, 18.041428571428572, 18.041428571428572, 18.041428571428572, 18.041428571428572, 23.547142857142855, 23.547142857142855, 23.547142857142855, 23.547142857142855, 23.547142857142855, 23.547142857142855, 23.547142857142855, 23.547142857142855, 23.547142857142855, 23.547142857142855, 23.547142857142855, 23.547142857142855, 23.547142857142855, 23.547142857142855, 23.547142857142855, 23.547142857142855, 23.547142857142855, 23.547142857142855, 23.547142857142855, 23.547142857142855, 23.547142857142855, 23.547142857142855, 23.547142857142855, 23.547142857142855, 23.547142857142855, 23.547142857142855, 23.547142857142855, 24.58571428571429, 24.58571428571429, 24.58571428571429, 24.58571428571429, 24.58571428571429, 24.58571428571429, 24.58571428571429, 24.58571428571429, 24.58571428571429, 24.58571428571429, 24.58571428571429, 24.58571428571429, 24.58571428571429, 24.58571428571429, 24.58571428571429, 24.58571428571429, 24.58571428571429, 29.244285714285716, 29.244285714285716, 29.244285714285716, 29.244285714285716, 29.244285714285716, 29.244285714285716, 29.244285714285716, 29.244285714285716, 29.244285714285716, 29.244285714285716, 29.244285714285716, 29.244285714285716, 29.244285714285716, 29.244285714285716, 29.244285714285716, 29.244285714285716, 29.244285714285716, 28.93285714285714, 28.93285714285714, 28.93285714285714, 28.93285714285714, 28.93285714285714, 28.93285714285714, 28.93285714285714, 30.368571428571432, 30.368571428571432, 30.368571428571432, 30.368571428571432, 30.368571428571432, 30.368571428571432, 30.368571428571432, 30.368571428571432, 30.368571428571432, 30.368571428571432, 30.368571428571432, 30.368571428571432, 30.368571428571432, 30.368571428571432, 30.368571428571432, 30.368571428571432, 30.368571428571432, 30.368571428571432, 30.368571428571432, 30.368571428571432, 30.368571428571432, 30.368571428571432, 30.368571428571432, 30.368571428571432, 30.368571428571432, 27.762857142857143, 27.762857142857143, 27.762857142857143, 27.762857142857143, 27.762857142857143, 27.762857142857143, 27.762857142857143, 27.762857142857143, 27.762857142857143, 27.762857142857143, 27.762857142857143, 27.762857142857143, 27.762857142857143, 27.762857142857143, 27.762857142857143, 27.762857142857143, 27.762857142857143, 27.762857142857143, 27.762857142857143, 27.762857142857143, 27.762857142857143, 27.762857142857143, 27.762857142857143, 27.762857142857143, 27.762857142857143, 29.687142857142856, 29.687142857142856, 29.687142857142856, 29.687142857142856, 29.687142857142856, 29.687142857142856, 29.687142857142856, 29.687142857142856, 29.687142857142856, 29.687142857142856, 29.687142857142856, 29.687142857142856, 29.687142857142856, 29.687142857142856, 29.687142857142856, 29.687142857142856, 29.687142857142856, 29.687142857142856, 29.687142857142856, 29.687142857142856, 29.687142857142856, 29.687142857142856, 29.687142857142856, 29.687142857142856, 29.687142857142856, 28.431428571428572, 28.431428571428572, 28.431428571428572, 28.431428571428572, 28.431428571428572, 28.431428571428572, 28.431428571428572, 28.431428571428572, 28.431428571428572, 28.431428571428572, 28.431428571428572, 28.431428571428572, 28.431428571428572, 28.431428571428572, 28.431428571428572, 28.431428571428572, 28.431428571428572, 28.431428571428572, 28.431428571428572, 28.431428571428572, 28.431428571428572, 28.431428571428572, 28.431428571428572, 28.431428571428572, 28.431428571428572, 28.431428571428572, 28.431428571428572, 28.431428571428572, 28.431428571428572, 28.431428571428572, 28.431428571428572, 28.431428571428572, 28.431428571428572, 28.431428571428572, 28.431428571428572, 28.431428571428572, 28.431428571428572, 28.431428571428572, 28.431428571428572, 28.431428571428572, 24.872857142857146, 24.872857142857146, 24.872857142857146, 24.872857142857146, 24.872857142857146, 24.872857142857146, 24.872857142857146, 24.872857142857146, 24.872857142857146, 24.872857142857146, 24.872857142857146, 24.872857142857146, 24.872857142857146, 24.872857142857146, 24.872857142857146, 24.872857142857146, 24.872857142857146, 24.872857142857146, 24.872857142857146, 24.872857142857146, 24.872857142857146, 24.872857142857146, 24.872857142857146, 24.872857142857146, 24.872857142857146, 8.48857142857143, 8.48857142857143, 8.48857142857143, 8.48857142857143, 8.48857142857143, 8.48857142857143, 8.48857142857143, 8.48857142857143, 8.48857142857143, 8.48857142857143, 14.098571428571429, 14.098571428571429, 14.098571428571429, 14.098571428571429, 14.098571428571429, 14.098571428571429, 14.098571428571429, 14.098571428571429, 14.098571428571429, 14.098571428571429, 14.098571428571429, 14.098571428571429, 14.098571428571429, 14.098571428571429, 14.098571428571429, 14.098571428571429, 14.098571428571429, 14.098571428571429, 14.098571428571429, 14.098571428571429, 14.098571428571429, 9.642857142857142, 16.048571428571428, 16.048571428571428, 16.84, 16.84, 21.54714285714286, 21.54714285714286, 21.54714285714286, 21.54714285714286, 21.54714285714286, 21.54714285714286, 21.54714285714286, 21.54714285714286, 21.54714285714286, 21.54714285714286, 21.54714285714286, 21.54714285714286, 21.54714285714286, 21.54714285714286, 21.54714285714286, 21.54714285714286, 21.54714285714286, 21.54714285714286, 21.54714285714286, 21.54714285714286, 21.54714285714286, 21.54714285714286, 21.54714285714286, 21.54714285714286, 21.54714285714286, 21.54714285714286, 21.54714285714286, 20.584285714285716, 20.584285714285716, 20.584285714285716, 20.584285714285716, 20.584285714285716, 26.434285714285714, 26.434285714285714, 26.434285714285714, 26.434285714285714, 26.434285714285714, 26.434285714285714, 26.434285714285714, 26.434285714285714, 26.434285714285714, 26.434285714285714, 26.434285714285714, 26.434285714285714, 26.434285714285714, 26.434285714285714, 26.434285714285714, 26.434285714285714, 26.434285714285714, 26.434285714285714, 26.434285714285714, 26.434285714285714, 26.434285714285714, 26.434285714285714, 26.434285714285714, 26.434285714285714, 26.434285714285714, 26.434285714285714, 26.434285714285714, 26.434285714285714, 26.434285714285714, 26.434285714285714], \"xaxis\": \"x\", \"y\": [0.0, 0.0, 0.0, 0.0, 0.0, 0.0, 0.0, 0.0, 0.0, 0.0, 0.0, 0.0, 0.0, 0.0, 0.0, 0.0, 0.0, 0.0, 0.0, 0.0, 0.0, 0.0, 0.0, 0.0, 0.0, 0.0, 0.0, 0.0, 0.0, 0.0, 0.0, 0.0, 0.0, 0.0, 0.0, 0.0, 0.0, 0.0, 0.0, 0.0, 0.0, 0.0, 0.0, 0.0, 0.0, 0.0, 0.0, 0.0, 0.0, 0.0, 0.0, 0.0, 0.0, 0.0, 0.0, 0.0, 0.0, 0.0, 0.0, 0.0, 0.0, 0.0, 0.0, 0.0, 0.0, 0.0, 0.0, 0.0, 0.0, 0.0, 0.0, 0.0, 0.0, 0.0, 0.0, 0.0, 0.0, 0.0, 0.0, 0.0, 0.0, 0.0, 0.0, 0.0, 0.0, 0.0, 1.0, 0.0, 0.0, 0.0, 0.0, 0.0, 0.0, 0.0, 0.0, 0.0, 0.0, 0.0, 0.0, 0.0, 0.0, 0.0, 0.0, null, 0.0, 0.0, 0.0, 0.0, 0.0, 0.0, 0.0, 0.0, 0.0, 0.0, 0.0, 2.0, 0.0, null, 2.0, 1.0, 1.0, 1.0, 1.0, 1.0, 1.0, 2.0, 1.0, 0.0, 1.0, 0.0, 0.0, 1.0, 1.0, 1.0, 2.0, 2.0, 2.0, 2.0, 2.0, 2.0, null, 1.0, 2.0, 1.0, 0.0, 1.0, 1.0, 1.0, 2.0, 1.0, 1.0, 1.0, null, 2.0, 1.0, 0.0, 1.0, 0.0, 0.0, 1.0, 1.0, 1.0, 2.0, 2.0, 2.0, 1.0, 1.0, 2.0, 2.0, 3.0, null, null, null, null, 2.0, null, null, null, null, 2.0, 1.0, 1.0, 2.0, null, 2.0, null, 2.0, 3.0, 1.0, 1.0, 2.0, 2.0, 1.0, 1.0, 1.0, 1.0, null, null, null, null, null, null, null, 2.0, 2.0, 3.0, 2.0, 2.0, 1.0, 1.0, 2.0, 2.0, 3.0, 3.0, 2.0, 2.0, 2.0, 2.0, 2.0, 2.0, 2.0, 2.0, null, null, null, null, null, null, null, null, null, 3.0, 2.0, 2.0, 1.0, 1.0, null, 2.0, null, 2.0, null, 3.0, null, 3.0, 2.0, 2.0, 2.0, 2.0, 2.0, 2.0, 2.0, 2.0, null, null, null, null, null, 3.0, 2.0, 2.0, 1.0, 1.0, 2.0, 2.0, 3.0, 3.0, null, 3.0, null, null, null, null, null, null, 3.0, 2.0, 3.0, 3.0, 3.0, 3.0, 2.0, 1.0, 1.0, 2.0, 3.0, 3.0, 2.0, 1.0, 1.0, 2.0, 2.0, 3.0, 3.0, 3.0, null, null, null, null, null, null, 3.0, 3.0, 3.0, 2.0, 2.0, 2.0, 2.0, 2.0, 3.0, 3.0, null, 3.0, 3.0, 2.0, 2.0, 2.0, 2.0, 2.0, 3.0, 3.0, null, 3.0, null, null, null, null, null, null, 3.0, 2.0, 2.0, 2.0, 2.0, 2.0, 3.0, 3.0, null, 3.0, null, null, null, null, null, null, 3.0, 3.0, 3.0, 0.0, 0.0, 0.0, 0.0, 0.0, 0.0, 0.0, 0.0, 0.0, 0.0, 0.0, 0.0, 0.0, 0.0, 0.0, 0.0, 0.0, 0.0, 0.0, 0.0, 0.0, 0.0, 0.0, 0.0, 0.0, 0.0, 0.0, 0.0, 0.0, 0.0, 0.0, 0.0, 0.0, 0.0, 0.0, 0.0, 0.0, 0.0, 0.0, 0.0, 0.0, 0.0, 0.0, 0.0, 0.0, 0.0, 0.0, 0.0, 0.0, 0.0, 0.0, 0.0, 0.0, 0.0, 0.0, 0.0, 0.0, null, null, 1.0, null, null, 3.0, 0.0, 0.0, 0.0, 0.0, 0.0, 0.0, 1.0, 0.0, 0.0, 0.0, 0.0, 0.0, 0.0, 0.0, 0.0, 0.0, null, null, null, null, null, null, null, 0.0, null, 0.0, null, 0.0, null, 0.0, null, 0.0, null, 0.0, 1.0, 1.0, 1.0, 0.0, 3.0, 3.0, 0.0, 0.0, 0.0, 0.0, 0.0, 0.0, 0.0, 0.0, null, null, null, null, null, null, 1.0, 1.0, 3.0, 3.0, 0.0, 0.0, 0.0, 0.0, 0.0, 0.0, 1.0, 0.0, 0.0, 0.0, 0.0, 0.0, 0.0, 0.0, 0.0, 0.0, null, 1.0, 1.0, 1.0, 1.0, null, null, 0.0, null, 0.0, null, 0.0, null, 0.0, null, 0.0, null, 0.0, 1.0, 1.0, 1.0, 1.0, 3.0, 0.0, 3.0, 1.0, 1.0, 0.0, 1.0, 1.0, 1.0, null, 1.0, null, 1.0, 1.0, null, 1.0, 1.0, 1.0, 3.0, 3.0, 0.0, 0.0, 0.0, 0.0, 0.0, 0.0, 1.0, 1.0, 1.0, 1.0, 1.0, 1.0, 1.0, 1.0, 1.0, 1.0, 1.0, 1.0, 1.0, 1.0, 1.0, null, 1.0, null, 1.0, 1.0, 1.0, 1.0, 1.0, null, 0.0, 1.0, 0.0, 1.0, 2.0, 3.0, 1.0, 2.0, 3.0, 3.0, 1.0, 1.0, 1.0, 1.0, 1.0, 1.0, 1.0, 1.0, 1.0, 3.0, 1.0, 3.0, null, 1.0, null, 1.0, 1.0, null, 1.0, 1.0, 1.0, 1.0, 0.0, 0.0, 2.0, 3.0, 2.0, 3.0, 1.0, 2.0, 2.0, 1.0, 2.0, 1.0, 1.0, 2.0, 1.0, 1.0, 1.0, 3.0, 3.0, 1.0, 1.0, 1.0, 1.0, 1.0, 2.0, 3.0, 2.0, 3.0, 3.0, 3.0, 2.0, 1.0, 3.0, 3.0, 3.0, 2.0, 1.0, 3.0, 1.0, 2.0, 2.0, 2.0, 2.0, 1.0, 2.0, 1.0, 2.0, 1.0, 1.0, 1.0, 2.0, 1.0, 2.0, 2.0, 2.0, 3.0, 2.0, 2.0, 2.0, 3.0, 3.0, 2.0, 1.0, 3.0, 1.0, 2.0, 2.0, 2.0, 2.0, 2.0, 2.0, 1.0, 2.0, 2.0, 2.0, 2.0, 2.0, 2.0, 2.0, 3.0, 3.0, 1.0, 2.0, 3.0, 2.0, 3.0, 0.0, 0.0, 0.0, 0.0, 0.0, 0.0, 0.0, 0.0, 0.0, 0.0, 0.0, 0.0, 0.0, 0.0, 0.0, 0.0, 0.0, 0.0, 0.0, 0.0, 0.0, 0.0, 0.0, 0.0, 0.0, 0.0, 0.0, 0.0, 0.0, 0.0, 0.0, 0.0, 0.0, 0.0, 0.0, 0.0, 0.0, 0.0, 0.0, 0.0, 0.0, 0.0, 0.0, 0.0, 0.0, 0.0, 0.0, 0.0, 0.0, 0.0, 0.0, 0.0, 0.0, 0.0, 0.0, 0.0, 0.0, 0.0, 0.0, 0.0, 0.0, 0.0, 0.0, 0.0, 0.0, 0.0, 0.0, 0.0, 0.0, 0.0, 0.0, 0.0, 0.0, 0.0, 0.0, 0.0, 0.0, 1.0, 0.0, 0.0, 0.0, 0.0, 0.0, 0.0, 0.0, 0.0, 0.0, 0.0, 0.0, 0.0, 0.0, 0.0, 0.0, 0.0, 0.0, 0.0, 1.0, 2.0, 0.0, 0.0, 0.0, 0.0, 0.0, 0.0, 0.0, 0.0, 0.0, 0.0, 0.0, 0.0, 0.0, 0.0, 1.0, 0.0, 0.0, 0.0, 0.0, 0.0, 0.0, 0.0, 0.0, 0.0, 0.0, 1.0, 0.0, null, 0.0, 0.0, 0.0, null, 0.0, null, 0.0, null, 0.0, 0.0, 2.0, 2.0, 3.0, 0.0, 0.0, 0.0, 1.0, 0.0, 0.0, 0.0, 0.0, 0.0, 0.0, 0.0, 0.0, 0.0, 0.0, 0.0, 0.0, 0.0, 0.0, 0.0, 0.0, 0.0, 0.0, 0.0, 0.0, 0.0, 0.0, 0.0, 0.0, null, 0.0, null, 0.0, null, 0.0, null, 0.0, null, 0.0, null, 0.0, null, 0.0, null, 1.0, 1.0, null, null, 2.0, 0.0, 0.0, 0.0, 0.0, 0.0, 0.0, 0.0, 0.0, 0.0, 0.0, null, null, null, null, null, null, null, null, null, null, null, 0.0, 0.0, 0.0, 0.0, 0.0, 0.0, 0.0, null, 1.0, 1.0, 1.0, 3.0, 1.0, 1.0, 1.0, 2.0, 2.0, 0.0, 0.0, 0.0, 0.0, 0.0, 0.0, 0.0, 0.0, 0.0, null, null, null, null, null, null, null, null, null, null, 1.0, 1.0, 1.0, 0.0, 3.0, 0.0, 1.0, 0.0, 1.0, 1.0, 1.0, 0.0, 2.0, 2.0, 2.0, 3.0, 0.0, 3.0, 0.0, 0.0, 0.0, 0.0, 0.0, 0.0, 0.0, 0.0, 1.0, 2.0, 1.0, 1.0, 1.0, 1.0, 3.0, 1.0, 1.0, 1.0, 2.0, 2.0, 0.0, 0.0, 0.0, 0.0, 0.0, 0.0, 0.0, 1.0, 1.0, 1.0, 3.0, 1.0, 1.0, 1.0, 2.0, 2.0, 0.0, 0.0, 0.0, 0.0, 0.0, 2.0, 2.0, 2.0, 3.0, 2.0, 2.0, 2.0, 2.0, 2.0, 0.0, 0.0, 0.0, 0.0, 0.0, 0.0, 3.0, 3.0, 3.0, 3.0, 3.0, 3.0, 3.0, 2.0, 2.0, 3.0, 3.0, 3.0, 3.0, 3.0, 3.0, 3.0, 3.0, 3.0, null, 3.0, 3.0, 3.0, 3.0, 2.0, 3.0, 3.0, 3.0, 3.0, 3.0, null, 3.0, 3.0, 3.0, 3.0, 3.0, 3.0, 3.0, 3.0, 3.0, 2.0, 3.0, 3.0, 3.0, 3.0, 3.0, 3.0, 3.0, 3.0, 3.0, 3.0, 3.0, 3.0, 3.0, 3.0, 3.0, 3.0, 3.0, 2.0, 3.0, 3.0, 3.0, 2.0, 3.0, 3.0, 3.0, 1.0, 2.0, 0.0, 0.0, 0.0, 0.0, 0.0, 0.0, 0.0, 0.0, 0.0, 0.0, 0.0, 0.0, 0.0, 0.0, 0.0, 0.0, 0.0, 0.0, 0.0, 0.0, 0.0, 0.0, 0.0, 0.0, 0.0, 0.0, 0.0, 0.0, 0.0, 0.0, 0.0, 0.0, 0.0, 0.0, 0.0, 0.0, 0.0, 0.0, 0.0, 0.0, 0.0, 0.0, 0.0, 0.0, 0.0, 0.0, 0.0, 0.0, 0.0, 0.0, 0.0, 0.0, 0.0, 0.0, 0.0, 0.0, 0.0, 0.0, null, 1.0, 1.0, 1.0, 0.0, 0.0, 0.0, 0.0, 0.0, 0.0, 0.0, 0.0, 0.0, 0.0, 0.0, 0.0, 0.0, 0.0, 0.0, 0.0, 0.0, 0.0, 1.0, null, null, null, null, null, null, 0.0, 0.0, 0.0, 0.0, 0.0, 0.0, 0.0, 0.0, 0.0, 1.0, 1.0, 1.0, 1.0, 1.0, 1.0, 1.0, 1.0, 1.0, 0.0, 0.0, 0.0, 1.0, 0.0, 0.0, 0.0, 1.0, 0.0, 1.0, 0.0, 0.0, 0.0, 2.0, 0.0, 0.0, 0.0, 2.0, 0.0, 2.0, 1.0, 1.0, 2.0, 1.0, 1.0, 1.0, 1.0, 2.0, 1.0, 0.0, 0.0, 0.0, 2.0, 0.0, 0.0, 0.0, 1.0, 0.0, 2.0, 1.0, 1.0, 2.0, 2.0, 1.0, 1.0, 1.0, 1.0, 1.0, 1.0, 2.0, 0.0, 3.0, 0.0, 1.0, 0.0, 1.0, 0.0, 1.0, 1.0, 1.0, 1.0, 1.0, 1.0, 1.0, 1.0, 1.0, 2.0, 0.0, 1.0, 1.0, 2.0, 2.0, 1.0, 1.0, 1.0, 1.0, 1.0, 1.0, 1.0, 2.0, 0.0, 3.0, 2.0, 0.0, 1.0, 0.0, 1.0, 1.0, 1.0, 2.0, 1.0, 1.0, 1.0, 1.0, 1.0, 1.0, 1.0, 1.0, 1.0, 1.0, 1.0, 1.0, 1.0, 2.0, 1.0, 1.0, 2.0, 1.0, 2.0, 0.0, 3.0, 0.0, 0.0, 1.0, 2.0, 1.0, 2.0, 1.0, 1.0, 2.0, 2.0, 1.0, 1.0, 1.0, 1.0, 1.0, 1.0, 2.0, 0.0, 3.0, 0.0, 0.0, 1.0, 2.0, 1.0, 2.0, 1.0, 1.0, 2.0, 2.0, 1.0, 1.0, 1.0, 1.0, 1.0, 1.0, 1.0, null, 0.0, 0.0, 0.0, 0.0, 0.0, 0.0, 0.0, 0.0, 0.0, 0.0, 0.0, null, null, null, null, null, null, null, null, null, 0.0, 0.0, 0.0, 0.0, 0.0, 0.0, 0.0, 0.0, null, 0.0, null, 0.0, null, 0.0, null, null, null, null, null, null, null, 0.0, 0.0, 0.0, 0.0, 0.0, 0.0, 0.0, 0.0, 0.0, 0.0, 0.0, 0.0, null, null, null, null, null, null, null, null, null, null, 0.0, 0.0, 0.0, 0.0, 0.0, 0.0, 0.0, null, null, 0.0, 0.0, 0.0, 0.0, 0.0, 0.0, 0.0, 0.0, 0.0, 0.0, 1.0, 0.0, 0.0, null, 2.0, 1.0, 0.0, 0.0, 1.0, 0.0, 0.0, 0.0, 1.0, 0.0, 0.0, 0.0, 0.0, 1.0, 1.0, 0.0, 0.0, 0.0, 0.0, 1.0, 0.0, 0.0, 1.0, 0.0, 0.0, 0.0, 1.0, null, 2.0, 2.0, 0.0, 1.0, 0.0, 3.0, 0.0, 1.0, 0.0, 1.0, 1.0, 3.0, 0.0, 1.0, 0.0, 1.0, 0.0, 1.0, 0.0, 0.0, 0.0, 0.0, 0.0, 2.0, 2.0, 1.0, 0.0, 1.0, 2.0, 3.0, 2.0, 2.0, 3.0, 2.0, 2.0, 1.0, 0.0, 0.0, null, 3.0, 3.0, 1.0, 3.0, 3.0, 2.0, 2.0, 2.0, 1.0, 0.0, 1.0, 1.0, 3.0, 3.0, 0.0, 0.0, 1.0, 1.0, 2.0, 2.0, 1.0, null, 0.0, 3.0, 1.0, 3.0, 1.0, 1.0, 3.0, 3.0, 3.0, 3.0, 3.0, 2.0, 3.0, 0.0, 2.0, 0.0, 2.0, 1.0, 3.0, 0.0, 2.0, 1.0, 2.0, 1.0, 0.0, 0.0, 2.0, 1.0, 0.0, 1.0, 0.0, 3.0, 1.0, 2.0, 0.0, 2.0, 0.0, 1.0, 2.0, 1.0, 0.0, 1.0, 2.0, 2.0, 1.0, 2.0, 1.0, 1.0, 3.0, 3.0, 2.0, 3.0, 2.0, 2.0, 1.0, 3.0, 3.0, 1.0, 3.0, 3.0, 3.0, 3.0, 2.0, 3.0, 2.0, 2.0, 3.0, 2.0, 2.0, 1.0, 1.0, 2.0, 3.0, 0.0, 3.0, 1.0, 3.0, 3.0, 2.0, 1.0, 0.0, 1.0, 0.0, 1.0, 0.0, 1.0, 1.0, 1.0, 2.0, 2.0, 1.0, 2.0, 1.0, 1.0, 0.0, 1.0, 0.0, 1.0, 1.0, 1.0, 2.0, 2.0, 1.0, 1.0, 2.0, 3.0, 1.0, 3.0, 1.0, 1.0, 3.0, 3.0, 3.0, 3.0, 2.0, 2.0, 3.0, 1.0, 2.0, 0.0, 2.0, 1.0, 3.0, 2.0, 2.0, 1.0, 2.0, 3.0, 3.0, 3.0, 2.0, 1.0, 0.0, 2.0, 1.0, 2.0, 1.0, 3.0, 1.0, 2.0, 2.0, 0.0, 1.0, 1.0, 2.0, 1.0, 3.0, 1.0, 2.0, 2.0, 1.0, 2.0, 1.0, 1.0, 3.0, 3.0, 2.0, 3.0, 1.0, 3.0, 3.0, 3.0, 2.0, 1.0, 1.0, 3.0, 3.0, 2.0, 3.0, 2.0, 2.0, 3.0, 2.0, 2.0, 1.0, 1.0, 3.0, 2.0, 3.0, 3.0, 3.0, 3.0, 3.0, 2.0, 3.0, 1.0, 0.0, 1.0, 1.0, 1.0, 0.0, 1.0, 1.0, 1.0, 2.0, 2.0, 1.0, 3.0, 2.0, 2.0, 1.0, 2.0, 1.0, 1.0, 3.0, 3.0, 2.0, 3.0, 2.0, 1.0, 2.0, 3.0, 3.0, 3.0, 2.0, 3.0, 2.0, 3.0, 1.0, 3.0, 2.0, 2.0, 3.0, 1.0, 3.0, 3.0, 3.0, 3.0, 3.0, 2.0, 3.0, 3.0, 3.0, 3.0, 3.0, 3.0, 1.0, 2.0, 2.0, 3.0, 3.0, 2.0, 2.0, 1.0, 2.0, 1.0, 1.0, 3.0, 3.0, 2.0, 3.0, 2.0, 2.0, 3.0, 2.0, 2.0, 1.0, 1.0, 3.0, 3.0, 3.0, 3.0, 3.0, 2.0, 3.0, 0.0, 0.0, 0.0, 0.0, 0.0, 0.0, 0.0, 0.0, null, 0.0, 0.0, 0.0, 0.0, null, 0.0, 0.0, 0.0, 0.0, 0.0, 0.0, 0.0, 0.0, 0.0, 0.0, 0.0, 0.0, 0.0, 0.0, 0.0, 0.0, 0.0, 0.0, 0.0, null, 0.0, 0.0, 0.0, 0.0, 0.0, 0.0, 0.0, 0.0, 0.0, 0.0, 0.0, 0.0, 0.0, 0.0, 0.0, 0.0, 0.0, 0.0, 0.0, 0.0, null, 1.0, 0.0, 0.0, 0.0, 0.0, 0.0, 0.0, 0.0, 0.0, 0.0, 0.0, 0.0, 0.0, 0.0, 0.0, 0.0, 0.0, 0.0, 0.0, 0.0, 0.0, 0.0, 0.0, 0.0, 0.0, 0.0, 0.0, 0.0, 0.0, 0.0, 0.0, 0.0, 0.0, 0.0, 0.0, 0.0, 0.0, null, 1.0, 0.0, 0.0, 0.0, 0.0, null, 1.0, 0.0, 0.0, 0.0, 0.0, 1.0, 0.0, 0.0, 0.0, 0.0, null, 1.0, 0.0, 0.0, null, null, 0.0, 0.0, 0.0, 0.0, 0.0, null, 0.0, null, 0.0, null, 1.0, null, 0.0, null, 0.0, null, 3.0, null, 0.0, null, 3.0, null, 1.0, null, 2.0, null, null, 0.0, 0.0, 0.0, 0.0, null, 0.0, 1.0, 0.0, 0.0, 0.0, 0.0, 0.0, 1.0, 2.0, 0.0, 0.0, null, null, null, null, null, null, null, null, 0.0, 0.0, null, 0.0, 1.0, 1.0, 3.0, 0.0, 1.0, 0.0, 2.0, 1.0, null, 0.0, 1.0, 1.0, 2.0, 0.0, 0.0, 1.0, 0.0, 3.0, 0.0, 1.0, null, null, null, 0.0, 0.0, 0.0, null, null, null, null, null, 0.0, 2.0, 1.0, 3.0, 0.0, 1.0, 1.0, 2.0, 1.0, 2.0, 0.0, 1.0, 2.0, 1.0, 0.0, 0.0, 2.0, 1.0, 3.0, 0.0, 2.0, 1.0, 1.0, 1.0, 1.0, 1.0, 0.0, null, null, 1.0, 1.0, 1.0, null, null, null, null, null, null, 0.0, 0.0, 1.0, 0.0, 2.0, 0.0, 3.0, 3.0, 2.0, 3.0, 1.0, 2.0, 2.0, null, 2.0, 3.0, 0.0, 1.0, 3.0, 3.0, 2.0, 2.0, null, 3.0, 3.0, 2.0, 2.0, null, 3.0, 3.0, 2.0, 3.0, null, null, 3.0, 3.0, 2.0, 3.0, null, 3.0, 3.0, 3.0, 2.0, 3.0, null, 3.0, null, 2.0, 3.0, 2.0, 3.0, 3.0, 2.0, 3.0, 2.0, 3.0, 3.0, 3.0, 0.0, 0.0, 0.0, 0.0, 0.0, 0.0, 0.0, 0.0, 0.0, 0.0, 0.0, 0.0, 0.0, 0.0, 0.0, 0.0, 0.0, 0.0, 0.0, 0.0, null, 1.0, null, null, 0.0, null, null, 0.0, null, null, 0.0, null, null, 1.0, null, null, 0.0, 3.0, 1.0, 1.0, 0.0, 2.0, null, 1.0, 0.0, null, null, 0.0, 2.0, 1.0, 1.0, 2.0, 1.0, 1.0, 1.0, 1.0, 1.0, 1.0, 1.0, 1.0, 2.0, 2.0, 2.0, 1.0, 1.0, 2.0, 1.0, 1.0, 1.0, 1.0, 1.0, 1.0, 1.0, 3.0, 1.0, 2.0, 1.0, 1.0, 1.0, 1.0, 1.0, 1.0, 1.0, 3.0, 1.0, 2.0, 1.0, 3.0, 2.0, 2.0, 1.0, 1.0, 2.0, 1.0, 1.0, 1.0, 1.0, 3.0, 3.0, 3.0, 1.0, 3.0, 3.0, 3.0, 1.0, 1.0, 2.0, 2.0, 1.0, 1.0, 1.0, 1.0, 1.0, 3.0, 1.0, 2.0, 1.0, 1.0, 1.0, 1.0, 1.0, 1.0, 1.0, 1.0, 1.0, 1.0, 1.0, 1.0, 2.0, 2.0, 1.0, 1.0, 1.0, 1.0, 1.0, 3.0, 2.0, 1.0, 1.0, 1.0, 1.0, 1.0, 1.0, 1.0, 1.0, 1.0, 1.0, 1.0, 3.0, 3.0, 3.0, 3.0, 3.0, 3.0, 1.0, 1.0, 2.0, 2.0, 1.0, 1.0, 1.0, 1.0, 1.0, 3.0, 2.0, 1.0, 1.0, 1.0, 1.0, 1.0, 1.0, 1.0, 1.0, 1.0, 1.0, 1.0, 1.0, 1.0, 2.0, 2.0, 3.0, 1.0, 3.0, 1.0, 3.0, 1.0, 3.0, 1.0, 3.0, 1.0, 3.0, 3.0, 3.0, 2.0, 3.0, 1.0, 3.0, 1.0, 3.0, 1.0, 1.0, 1.0, 1.0, 3.0, 3.0, 3.0, 3.0, 3.0, 1.0, 1.0, 1.0, 1.0, 1.0, 3.0, 3.0, 3.0, 3.0, 3.0, 3.0, 3.0, 3.0, 3.0, 3.0, 1.0, 1.0, 1.0, 1.0, 1.0, 3.0, 3.0, 3.0, 1.0, 1.0, 3.0, 3.0, 3.0, 3.0, 3.0, 3.0, 3.0, 3.0, 0.0, 0.0, 0.0, 0.0, 0.0, 0.0, 0.0, null, 0.0, 0.0, null, 0.0, 0.0, 0.0, 0.0, 0.0, 0.0, 0.0, 0.0, 0.0, 0.0, 0.0, 0.0, 0.0, 0.0, 0.0, 0.0, 0.0, 0.0, 0.0, 0.0, null, null, null, null, null, 0.0, 0.0, null, 0.0, null, 0.0, null, 0.0, 0.0, 2.0, 0.0, 0.0, 0.0, 0.0, 0.0, 2.0, 0.0, 0.0, 0.0, 0.0, 0.0, 0.0, 0.0, 0.0, 0.0, 0.0, 0.0, null, null, null, 1.0, null, 0.0, 0.0, 0.0, 0.0, 0.0, 0.0, 0.0, 2.0, 2.0, 1.0, 2.0, 2.0, 2.0, 0.0, 2.0, 3.0, null, null, null, null, 1.0, null, 0.0, 0.0, null, 0.0, 0.0, 0.0, 0.0, 0.0], \"yaxis\": \"y\"}, {\"customdata\": [[2.0], [1.0], [1.0], [1.0], [1.0], [1.0], [0.0], [2.0], [2.0], [2.0], [2.0], [2.0], [2.0], [2.0], [2.0], [2.0], [null], [3.0], [2.0], [2.0], [2.0], [2.0], [2.0], [2.0], [2.0], [2.0], [null], [3.0], [null], [null], [null], [null], [null], [2.0], [2.0], [2.0], [2.0], [2.0], [2.0], [2.0], [2.0], [null], [3.0], [null], [null], [null], [null], [null], [null], [3.0], [2.0], [2.0], [2.0], [2.0], [2.0], [2.0], [2.0], [2.0], [0.0], [0.0], [0.0], [0.0], [0.0], [0.0], [0.0], [0.0], [0.0], [0.0], [0.0], [0.0], [0.0], [0.0], [0.0], [0.0], [0.0], [0.0], [0.0], [0.0], [0.0], [0.0], [0.0], [0.0], [0.0], [0.0], [0.0], [0.0], [0.0], [0.0], [0.0], [0.0], [0.0], [0.0], [0.0], [1.0], [1.0], [3.0], [3.0], [3.0], [0.0], [3.0], [3.0], [3.0], [0.0], [0.0], [0.0], [0.0], [0.0], [0.0], [0.0], [0.0], [0.0], [0.0], [0.0], [0.0], [0.0], [0.0], [0.0], [0.0], [0.0], [0.0], [0.0], [0.0], [1.0], [2.0], [2.0], [1.0], [2.0], [2.0], [2.0], [2.0], [2.0], [2.0], [2.0], [2.0], [1.0], [0.0], [1.0], [1.0], [0.0], [1.0], [0.0], [1.0], [2.0], [2.0], [2.0], [2.0], [2.0], [2.0], [2.0], [2.0], [2.0], [2.0], [1.0], [1.0], [1.0], [0.0], [1.0], [0.0], [1.0], [1.0], [3.0], [2.0], [1.0], [1.0], [1.0], [1.0], [2.0], [1.0], [1.0], [1.0], [0.0], [1.0], [null], [1.0], [1.0], [3.0], [2.0], [1.0], [1.0], [1.0], [1.0], [1.0], [1.0], [1.0], [1.0], [1.0], [1.0], [1.0], [1.0], [1.0], [1.0], [1.0], [1.0], [1.0], [1.0], [1.0], [1.0], [1.0], [null], [1.0], [1.0], [1.0], [1.0], [1.0], [1.0], [1.0], [1.0], [1.0], [1.0], [1.0], [1.0], [1.0], [1.0], [1.0], [1.0], [1.0], [1.0], [1.0], [1.0], [1.0], [1.0], [1.0], [1.0], [1.0], [1.0], [1.0], [1.0], [1.0], [1.0], [1.0], [1.0], [1.0], [1.0], [1.0], [1.0], [1.0], [null], [null], [null], [null], [null], [null], [null], [null], [null], [null], [null], [null], [null], [null], [null], [null], [null], [null], [1.0], [1.0], [1.0], [1.0], [1.0], [1.0], [1.0], [1.0], [1.0], [1.0], [1.0], [1.0], [1.0], [1.0], [1.0], [1.0], [1.0], [1.0], [1.0], [1.0], [1.0], [1.0], [1.0], [1.0], [1.0], [1.0], [1.0], [null], [null], [null], [null], [null], [null], [null], [null], [null], [0.0], [0.0], [0.0], [0.0], [0.0], [0.0], [0.0], [0.0], [0.0], [0.0], [0.0], [0.0], [0.0], [0.0], [0.0], [0.0], [0.0], [0.0], [0.0], [0.0], [0.0], [0.0], [0.0], [0.0], [0.0], [0.0], [0.0], [null], [0.0], [0.0], [0.0], [0.0], [0.0], [0.0], [0.0], [0.0], [0.0], [0.0], [0.0], [1.0], [0.0], [1.0], [1.0], [1.0], [0.0], [1.0], [1.0], [1.0], [null], [null], [1.0], [1.0], [1.0], [null], [null], [null], [null], [null], [null], [0.0], [null], [null], [1.0], [1.0], [0.0], [3.0], [0.0], [1.0], [1.0], [0.0], [2.0], [1.0], [0.0], [1.0], [3.0], [0.0], [1.0], [3.0], [0.0], [2.0], [1.0], [1.0], [1.0], [1.0], [1.0], [1.0], [null], [null], [1.0], [1.0], [1.0], [null], [null], [null], [null], [null], [null], [0.0], [null], [null], [0.0], [2.0], [null], [1.0], [1.0], [1.0], [null], [null], [null], [1.0], [null], [1.0], [null], [0.0], [null], [1.0], [0.0], [0.0], [null], [1.0], [null], [1.0], [0.0], [1.0], [1.0], [1.0], [1.0], [null], [1.0], [1.0], [2.0], [2.0], [2.0], [3.0], [2.0], [2.0], [2.0], [2.0], [1.0], [2.0], [1.0], [2.0], [3.0], [2.0], [3.0], [3.0], [2.0], [1.0], [3.0], [1.0], [2.0], [0.0], [3.0], [1.0], [3.0], [1.0], [1.0], [1.0], [null], [1.0], [1.0], [1.0], [null], [null], [1.0], [1.0], [1.0], [1.0], [1.0], [1.0], [1.0], [1.0], [1.0], [1.0], [1.0], [1.0], [0.0], [1.0], [1.0], [1.0], [1.0], [null], [1.0], [1.0], [1.0], [null], [null], [1.0], [1.0], [1.0], [2.0], [2.0], [2.0], [2.0], [2.0], [2.0], [2.0], [1.0], [2.0], [1.0], [0.0], [0.0], [0.0], [0.0], [0.0], [0.0], [0.0], [0.0], [0.0], [0.0], [0.0], [0.0], [0.0], [0.0], [0.0], [0.0], [0.0], [0.0], [0.0], [0.0], [0.0], [1.0], [0.0], [null], [0.0], [1.0], [0.0], [null], [0.0], [null], [0.0], [null], [0.0], [null], [0.0], [null], [0.0], [null], [0.0], [3.0], [0.0], [3.0], [0.0], [0.0], [0.0], [0.0], [0.0], [0.0], [0.0], [0.0], [0.0], [0.0], [0.0], [0.0], [0.0], [0.0], [0.0], [0.0], [0.0], [0.0], [2.0], [2.0], [1.0], [1.0], [1.0], [1.0], [1.0], [2.0], [2.0], [1.0], [1.0], [1.0], [1.0], [null], [0.0], [null], [0.0], [0.0], [0.0], [0.0], [2.0], [1.0], [1.0], [1.0], [1.0], [2.0], [1.0], [1.0], [1.0], [1.0], [1.0], [1.0], [2.0], [1.0], [1.0], [1.0], [1.0], [1.0], [1.0], [2.0], [1.0], [1.0], [1.0], [1.0], [0.0], [0.0], [0.0], [0.0], [0.0], [0.0], [0.0], [0.0], [0.0], [0.0], [0.0], [0.0], [0.0], [0.0], [0.0], [0.0], [0.0], [0.0], [0.0], [0.0], [0.0], [0.0], [0.0], [0.0], [0.0], [0.0], [0.0], [0.0], [0.0], [0.0], [2.0], [0.0], [0.0], [2.0], [0.0], [0.0], [0.0], [0.0], [0.0], [0.0], [0.0], [0.0], [0.0], [0.0], [0.0], [null], [0.0], [0.0], [0.0], [0.0], [0.0], [0.0], [0.0], [0.0], [0.0], [0.0], [0.0], [0.0], [0.0], [0.0], [2.0], [null], [0.0], [0.0], [2.0], [0.0], [3.0], [0.0], [null], [0.0], [0.0], [0.0], [0.0], [0.0], [0.0], [0.0], [0.0], [0.0], [2.0], [2.0], [1.0], [2.0], [2.0], [3.0], [null], [0.0], [0.0], [1.0], [0.0], [0.0], [0.0], [0.0], [0.0], [0.0], [0.0], [0.0], [1.0], [0.0], [1.0], [0.0], [0.0], [2.0], [2.0], [2.0], [2.0], [2.0], [2.0], [2.0], [2.0], [1.0], [0.0], [1.0], [0.0], [2.0], [0.0], [2.0], [1.0], [3.0], [1.0], [null], [1.0], [0.0], [1.0], [1.0], [1.0], [1.0], [1.0], [1.0], [1.0], [2.0], [2.0], [2.0], [2.0], [2.0], [2.0], [1.0], [1.0], [1.0], [1.0], [1.0], [1.0], [1.0], [1.0], [0.0], [1.0], [1.0], [1.0], [1.0], [1.0], [1.0], [1.0], [2.0], [2.0], [2.0], [2.0], [2.0], [2.0], [2.0], [2.0], [3.0], [null], [1.0], [1.0], [1.0], [1.0], [1.0], [1.0], [1.0], [1.0], [1.0], [1.0], [0.0], [1.0], [1.0], [1.0], [1.0], [1.0], [1.0], [2.0], [1.0], [1.0], [1.0], [1.0], [1.0], [1.0], [1.0], [1.0], [1.0], [1.0], [1.0], [1.0], [1.0], [1.0], [1.0], [1.0], [1.0], [1.0], [1.0], [1.0], [1.0], [1.0], [2.0], [1.0], [1.0], [1.0], [2.0], [2.0], [1.0], [1.0], [1.0], [1.0], [1.0], [1.0], [1.0], [1.0], [1.0], [1.0], [1.0], [1.0], [1.0], [1.0], [1.0], [1.0], [1.0], [1.0], [2.0], [1.0], [1.0], [1.0], [2.0], [2.0], [1.0], [1.0], [2.0], [1.0], [1.0], [1.0], [1.0], [1.0], [1.0], [1.0], [1.0], [1.0], [1.0], [1.0], [1.0], [1.0], [1.0], [1.0], [1.0], [1.0], [1.0], [1.0], [1.0], [1.0], [1.0], [1.0], [null], [null], [1.0], [null], [2.0], [null], [1.0], [null], [1.0], [1.0], [1.0], [1.0], [1.0], [1.0], [1.0], [1.0], [1.0], [1.0], [1.0], [1.0], [1.0], [2.0], [1.0], [1.0], [1.0], [2.0], [2.0], [1.0], [1.0]], \"hoverlabel\": {\"namelength\": 0}, \"hovertemplate\": \"domain_name=Magdeleine<br>T2M=%{x}<br>mildew_leaves=%{customdata[0]}\", \"legendgroup\": \"domain_name=Magdeleine\", \"marker\": {\"color\": \"#EF553B\", \"symbol\": \"circle\"}, \"mode\": \"markers\", \"name\": \"domain_name=Magdeleine\", \"showlegend\": true, \"type\": \"scattergl\", \"x\": [27.40142857142857, 27.40142857142857, 27.40142857142857, 27.40142857142857, 27.40142857142857, 27.40142857142857, 27.40142857142857, 27.40142857142857, 28.650000000000002, 28.650000000000002, 28.650000000000002, 28.650000000000002, 28.650000000000002, 28.650000000000002, 28.650000000000002, 28.650000000000002, 27.904285714285717, 27.904285714285717, 27.904285714285717, 27.904285714285717, 27.904285714285717, 27.904285714285717, 27.904285714285717, 27.904285714285717, 27.904285714285717, 27.904285714285717, 27.904285714285717, 27.904285714285717, 27.904285714285717, 27.904285714285717, 27.904285714285717, 27.904285714285717, 27.904285714285717, 26.299999999999994, 26.299999999999994, 26.299999999999994, 26.299999999999994, 26.299999999999994, 26.299999999999994, 26.299999999999994, 26.299999999999994, 26.299999999999994, 26.299999999999994, 26.299999999999994, 26.299999999999994, 26.299999999999994, 26.299999999999994, 26.299999999999994, 26.299999999999994, 26.299999999999994, 29.45571428571429, 29.45571428571429, 29.45571428571429, 29.45571428571429, 29.45571428571429, 29.45571428571429, 29.45571428571429, 29.45571428571429, 22.859999999999996, 22.859999999999996, 22.859999999999996, 22.859999999999996, 22.859999999999996, 22.859999999999996, 22.859999999999996, 22.859999999999996, 13.282857142857141, 13.282857142857141, 13.282857142857141, 13.282857142857141, 13.282857142857141, 13.282857142857141, 13.282857142857141, 13.282857142857141, 13.282857142857141, 17.94, 17.94, 17.94, 17.94, 17.94, 17.94, 17.94, 17.94, 17.94, 27.28142857142857, 27.28142857142857, 27.28142857142857, 27.28142857142857, 27.28142857142857, 27.28142857142857, 27.28142857142857, 27.28142857142857, 27.28142857142857, 30.118571428571432, 30.118571428571432, 30.118571428571432, 30.118571428571432, 30.118571428571432, 30.118571428571432, 30.118571428571432, 30.118571428571432, 30.118571428571432, 11.491428571428571, 11.491428571428571, 11.491428571428571, 11.491428571428571, 11.491428571428571, 11.491428571428571, 11.491428571428571, 11.491428571428571, 11.491428571428571, 11.491428571428571, 11.491428571428571, 11.491428571428571, 11.491428571428571, 11.491428571428571, 11.491428571428571, 11.491428571428571, 11.491428571428571, 11.491428571428571, 11.491428571428571, 11.491428571428571, 19.99857142857143, 19.99857142857143, 19.99857142857143, 19.99857142857143, 19.99857142857143, 19.99857142857143, 19.99857142857143, 19.99857142857143, 19.99857142857143, 19.99857142857143, 19.99857142857143, 19.99857142857143, 19.99857142857143, 19.99857142857143, 19.99857142857143, 19.99857142857143, 19.99857142857143, 19.99857142857143, 19.99857142857143, 19.99857142857143, 24.077142857142857, 24.077142857142857, 24.077142857142857, 24.077142857142857, 24.077142857142857, 24.077142857142857, 24.077142857142857, 24.077142857142857, 24.077142857142857, 24.077142857142857, 24.077142857142857, 24.077142857142857, 24.077142857142857, 24.077142857142857, 24.077142857142857, 24.077142857142857, 24.077142857142857, 24.077142857142857, 24.077142857142857, 24.077142857142857, 24.381428571428568, 24.381428571428568, 24.381428571428568, 24.381428571428568, 24.381428571428568, 24.381428571428568, 24.381428571428568, 24.381428571428568, 24.381428571428568, 24.381428571428568, 24.381428571428568, 24.381428571428568, 24.381428571428568, 24.381428571428568, 24.381428571428568, 24.381428571428568, 24.381428571428568, 24.381428571428568, 24.381428571428568, 24.381428571428568, 28.224285714285713, 28.224285714285713, 28.224285714285713, 28.224285714285713, 28.224285714285713, 28.224285714285713, 28.224285714285713, 28.224285714285713, 28.224285714285713, 30.344285714285718, 30.344285714285718, 30.344285714285718, 30.344285714285718, 30.344285714285718, 30.344285714285718, 30.344285714285718, 30.344285714285718, 30.344285714285718, 28.895714285714288, 28.895714285714288, 28.895714285714288, 28.895714285714288, 28.895714285714288, 28.895714285714288, 28.895714285714288, 28.895714285714288, 28.895714285714288, 31.941428571428567, 31.941428571428567, 31.941428571428567, 31.941428571428567, 31.941428571428567, 31.941428571428567, 31.941428571428567, 31.941428571428567, 31.941428571428567, 28.654285714285717, 28.654285714285717, 28.654285714285717, 28.654285714285717, 28.654285714285717, 28.654285714285717, 28.654285714285717, 28.654285714285717, 28.654285714285717, 28.432857142857138, 28.432857142857138, 28.432857142857138, 28.432857142857138, 28.432857142857138, 28.432857142857138, 28.432857142857138, 28.432857142857138, 28.432857142857138, 14.051428571428572, 14.051428571428572, 14.051428571428572, 14.051428571428572, 14.051428571428572, 14.051428571428572, 14.051428571428572, 14.051428571428572, 14.051428571428572, 14.527142857142858, 14.527142857142858, 14.527142857142858, 14.527142857142858, 14.527142857142858, 14.527142857142858, 14.527142857142858, 14.527142857142858, 14.527142857142858, 26.842857142857138, 26.842857142857138, 26.842857142857138, 26.842857142857138, 26.842857142857138, 26.842857142857138, 26.842857142857138, 26.842857142857138, 26.842857142857138, 29.66857142857143, 29.66857142857143, 29.66857142857143, 29.66857142857143, 29.66857142857143, 29.66857142857143, 29.66857142857143, 29.66857142857143, 29.66857142857143, 29.277142857142856, 29.277142857142856, 29.277142857142856, 29.277142857142856, 29.277142857142856, 29.277142857142856, 29.277142857142856, 29.277142857142856, 29.277142857142856, 12.848571428571429, 12.848571428571429, 12.848571428571429, 12.848571428571429, 12.848571428571429, 12.848571428571429, 12.848571428571429, 12.848571428571429, 12.848571428571429, 10.1, 10.1, 10.1, 10.1, 10.1, 10.1, 10.1, 10.1, 10.1, 15.767142857142856, 15.767142857142856, 15.767142857142856, 15.767142857142856, 15.767142857142856, 15.767142857142856, 15.767142857142856, 15.767142857142856, 15.767142857142856, 20.052857142857142, 20.052857142857142, 20.052857142857142, 20.052857142857142, 20.052857142857142, 20.052857142857142, 20.052857142857142, 20.052857142857142, 20.052857142857142, 20.052857142857142, 20.052857142857142, 20.052857142857142, 20.052857142857142, 20.052857142857142, 20.052857142857142, 20.052857142857142, 20.052857142857142, 20.052857142857142, 20.052857142857142, 20.052857142857142, 20.052857142857142, 28.41428571428571, 28.41428571428571, 28.41428571428571, 28.41428571428571, 28.41428571428571, 28.41428571428571, 28.41428571428571, 28.41428571428571, 28.41428571428571, 28.41428571428571, 28.41428571428571, 28.41428571428571, 28.41428571428571, 28.41428571428571, 28.41428571428571, 28.41428571428571, 28.41428571428571, 28.41428571428571, 28.41428571428571, 28.41428571428571, 28.41428571428571, 28.41428571428571, 28.41428571428571, 28.41428571428571, 28.41428571428571, 28.41428571428571, 30.587142857142855, 30.587142857142855, 30.587142857142855, 30.587142857142855, 30.587142857142855, 30.587142857142855, 30.587142857142855, 30.587142857142855, 30.587142857142855, 30.587142857142855, 30.587142857142855, 30.587142857142855, 30.587142857142855, 30.587142857142855, 30.587142857142855, 30.587142857142855, 30.587142857142855, 30.587142857142855, 30.587142857142855, 30.587142857142855, 30.587142857142855, 30.587142857142855, 30.587142857142855, 30.587142857142855, 30.587142857142855, 30.587142857142855, 30.587142857142855, 30.587142857142855, 30.587142857142855, 30.587142857142855, 30.587142857142855, 30.587142857142855, 30.587142857142855, 30.587142857142855, 30.587142857142855, 30.587142857142855, 30.587142857142855, 30.035714285714285, 30.035714285714285, 30.035714285714285, 30.035714285714285, 30.035714285714285, 30.035714285714285, 30.035714285714285, 30.035714285714285, 30.035714285714285, 30.035714285714285, 30.035714285714285, 30.035714285714285, 30.035714285714285, 30.035714285714285, 30.035714285714285, 30.035714285714285, 30.035714285714285, 30.035714285714285, 30.035714285714285, 30.035714285714285, 30.035714285714285, 30.035714285714285, 30.035714285714285, 30.035714285714285, 30.035714285714285, 30.035714285714285, 31.35571428571428, 31.35571428571428, 31.35571428571428, 31.35571428571428, 31.35571428571428, 31.35571428571428, 31.35571428571428, 31.35571428571428, 31.35571428571428, 31.35571428571428, 31.35571428571428, 31.35571428571428, 31.35571428571428, 31.35571428571428, 31.35571428571428, 31.35571428571428, 31.35571428571428, 31.35571428571428, 31.35571428571428, 31.35571428571428, 31.35571428571428, 31.35571428571428, 31.35571428571428, 31.35571428571428, 31.35571428571428, 31.35571428571428, 31.35571428571428, 31.35571428571428, 31.35571428571428, 31.35571428571428, 31.35571428571428, 31.35571428571428, 31.35571428571428, 31.35571428571428, 31.35571428571428, 31.35571428571428, 31.35571428571428, 27.012857142857143, 27.012857142857143, 27.012857142857143, 27.012857142857143, 27.012857142857143, 27.012857142857143, 27.012857142857143, 27.012857142857143, 27.012857142857143, 25.18, 25.18, 25.18, 25.18, 25.18, 25.18, 25.18, 25.18, 25.18, 25.18, 25.18, 25.18, 25.18, 25.18, 25.18, 25.18, 25.18, 25.18, 25.18, 25.18, 25.18, 25.18, 25.18, 25.18, 25.18, 25.18, 19.372857142857146, 19.372857142857146, 19.372857142857146, 19.372857142857146, 19.372857142857146, 19.372857142857146, 19.372857142857146, 19.372857142857146, 19.372857142857146, 18.884285714285713, 18.884285714285713, 18.884285714285713, 18.884285714285713, 18.884285714285713, 18.884285714285713, 18.884285714285713, 18.884285714285713, 18.884285714285713, 23.397142857142857, 23.397142857142857, 23.397142857142857, 23.397142857142857, 23.397142857142857, 23.397142857142857, 23.397142857142857, 23.397142857142857, 23.397142857142857, 23.397142857142857, 23.397142857142857, 23.397142857142857, 23.397142857142857, 23.397142857142857, 23.397142857142857, 23.397142857142857, 23.397142857142857, 23.397142857142857, 23.397142857142857, 23.397142857142857, 23.397142857142857, 23.397142857142857, 23.397142857142857, 23.397142857142857, 23.397142857142857, 23.397142857142857, 23.397142857142857, 23.397142857142857, 23.397142857142857, 23.397142857142857, 23.397142857142857, 22.284285714285716, 22.284285714285716, 22.284285714285716, 22.284285714285716, 22.284285714285716, 22.284285714285716, 22.284285714285716, 22.284285714285716, 22.284285714285716, 18.868571428571425, 18.868571428571425, 18.868571428571425, 18.868571428571425, 18.868571428571425, 18.868571428571425, 18.868571428571425, 18.868571428571425, 18.868571428571425, 18.868571428571425, 18.868571428571425, 18.868571428571425, 18.868571428571425, 18.868571428571425, 18.868571428571425, 18.868571428571425, 18.868571428571425, 18.868571428571425, 18.868571428571425, 18.868571428571425, 18.868571428571425, 18.868571428571425, 25.154285714285717, 25.154285714285717, 25.154285714285717, 25.154285714285717, 25.154285714285717, 25.154285714285717, 25.154285714285717, 25.154285714285717, 25.154285714285717, 25.154285714285717, 25.154285714285717, 25.154285714285717, 33.537142857142854, 33.537142857142854, 33.537142857142854, 33.537142857142854, 33.537142857142854, 33.537142857142854, 33.537142857142854, 33.537142857142854, 33.537142857142854, 33.537142857142854, 33.537142857142854, 33.537142857142854, 15.307142857142855, 15.307142857142855, 15.307142857142855, 15.307142857142855, 15.307142857142855, 15.307142857142855, 15.307142857142855, 15.307142857142855, 15.307142857142855, 19.63857142857143, 19.63857142857143, 19.63857142857143, 19.63857142857143, 19.63857142857143, 19.63857142857143, 19.63857142857143, 19.63857142857143, 19.63857142857143, 19.85857142857143, 19.85857142857143, 19.85857142857143, 19.85857142857143, 19.85857142857143, 19.85857142857143, 19.85857142857143, 19.85857142857143, 19.85857142857143, 19.85857142857143, 19.85857142857143, 19.85857142857143, 19.85857142857143, 19.85857142857143, 19.85857142857143, 19.85857142857143, 19.85857142857143, 19.85857142857143, 19.85857142857143, 19.85857142857143, 19.85857142857143, 19.85857142857143, 19.85857142857143, 19.85857142857143, 19.85857142857143, 25.05, 25.05, 25.05, 25.05, 25.05, 25.05, 25.05, 25.05, 25.05, 25.05, 25.05, 25.05, 25.05, 25.05, 25.05, 26.832857142857147, 26.832857142857147, 26.832857142857147, 26.832857142857147, 26.832857142857147, 26.832857142857147, 26.832857142857147, 26.832857142857147, 26.832857142857147, 26.832857142857147, 26.832857142857147, 26.832857142857147, 26.832857142857147, 26.832857142857147, 26.832857142857147, 26.832857142857147, 26.832857142857147, 26.832857142857147, 26.832857142857147, 26.832857142857147, 26.832857142857147, 26.832857142857147, 26.832857142857147, 26.832857142857147, 26.832857142857147, 30.349999999999998, 30.349999999999998, 30.349999999999998, 30.349999999999998, 30.349999999999998, 30.349999999999998, 30.349999999999998, 30.349999999999998, 30.349999999999998, 30.349999999999998, 30.349999999999998, 30.349999999999998, 30.349999999999998, 30.349999999999998, 30.349999999999998, 30.349999999999998, 30.349999999999998, 30.349999999999998, 30.349999999999998, 30.349999999999998, 30.349999999999998, 30.349999999999998, 30.349999999999998, 30.349999999999998, 30.349999999999998, 30.349999999999998, 26.779999999999998, 26.779999999999998, 26.779999999999998, 26.779999999999998, 26.779999999999998, 26.779999999999998, 26.779999999999998, 26.779999999999998, 26.779999999999998, 26.779999999999998, 26.779999999999998, 26.779999999999998, 26.779999999999998, 26.779999999999998, 26.779999999999998, 26.779999999999998, 26.779999999999998, 26.779999999999998, 26.779999999999998, 26.779999999999998, 26.779999999999998, 26.779999999999998, 26.779999999999998, 26.779999999999998, 26.779999999999998, 26.779999999999998, 28.20142857142857, 28.20142857142857, 28.20142857142857, 28.20142857142857, 28.20142857142857, 28.20142857142857, 28.20142857142857, 28.20142857142857, 28.20142857142857, 28.20142857142857, 28.20142857142857, 28.20142857142857, 28.20142857142857, 28.20142857142857, 28.20142857142857, 28.20142857142857, 28.20142857142857, 28.20142857142857, 28.20142857142857, 28.20142857142857, 28.20142857142857, 28.20142857142857, 28.20142857142857, 28.20142857142857, 28.20142857142857, 28.20142857142857, 24.74285714285714, 24.74285714285714, 24.74285714285714, 24.74285714285714, 24.74285714285714, 24.74285714285714, 24.74285714285714, 24.74285714285714, 24.74285714285714, 24.74285714285714, 24.74285714285714, 24.74285714285714, 24.74285714285714, 24.74285714285714, 24.74285714285714, 24.74285714285714, 27.337142857142855, 27.337142857142855, 27.337142857142855, 27.337142857142855, 27.337142857142855, 27.337142857142855, 27.337142857142855, 27.337142857142855, 27.337142857142855, 27.337142857142855, 27.337142857142855, 27.337142857142855, 27.337142857142855, 27.337142857142855, 27.337142857142855, 27.337142857142855, 27.337142857142855, 27.337142857142855, 27.337142857142855, 27.337142857142855, 27.337142857142855, 27.337142857142855, 27.337142857142855, 27.337142857142855, 27.337142857142855, 27.337142857142855, 27.337142857142855, 27.337142857142855, 27.337142857142855, 27.337142857142855, 27.337142857142855, 25.802857142857142, 25.802857142857142, 25.802857142857142, 25.802857142857142, 25.802857142857142, 25.802857142857142, 25.802857142857142, 25.802857142857142, 25.802857142857142, 25.802857142857142, 25.802857142857142, 25.802857142857142, 25.802857142857142, 25.802857142857142, 25.802857142857142, 25.802857142857142, 25.802857142857142, 25.802857142857142, 25.802857142857142, 25.802857142857142, 25.802857142857142, 25.802857142857142, 25.802857142857142, 25.802857142857142, 25.802857142857142, 25.802857142857142, 25.802857142857142, 25.802857142857142, 25.802857142857142, 25.802857142857142, 25.802857142857142, 25.23142857142857, 25.23142857142857, 25.23142857142857, 25.23142857142857, 25.23142857142857, 25.23142857142857, 25.23142857142857, 25.23142857142857, 25.23142857142857, 25.23142857142857, 25.23142857142857, 25.23142857142857, 25.23142857142857, 25.23142857142857, 25.23142857142857, 25.23142857142857, 24.728571428571428, 24.728571428571428, 24.728571428571428, 24.728571428571428, 24.728571428571428, 24.728571428571428, 24.728571428571428, 24.728571428571428, 24.728571428571428, 24.728571428571428, 24.728571428571428, 24.728571428571428, 24.728571428571428, 24.728571428571428, 24.728571428571428, 24.728571428571428, 24.728571428571428, 24.728571428571428, 24.728571428571428, 24.728571428571428, 24.728571428571428, 24.728571428571428, 24.728571428571428, 24.728571428571428, 24.728571428571428, 24.728571428571428, 24.728571428571428, 24.728571428571428, 24.728571428571428, 24.728571428571428, 24.728571428571428], \"xaxis\": \"x\", \"y\": [2.0, 1.0, 1.0, 1.0, 1.0, 1.0, 0.0, 2.0, 2.0, 2.0, 2.0, 2.0, 2.0, 2.0, 2.0, 2.0, null, 3.0, 2.0, 2.0, 2.0, 2.0, 2.0, 2.0, 2.0, 2.0, null, 3.0, null, null, null, null, null, 2.0, 2.0, 2.0, 2.0, 2.0, 2.0, 2.0, 2.0, null, 3.0, null, null, null, null, null, null, 3.0, 2.0, 2.0, 2.0, 2.0, 2.0, 2.0, 2.0, 2.0, 0.0, 0.0, 0.0, 0.0, 0.0, 0.0, 0.0, 0.0, 0.0, 0.0, 0.0, 0.0, 0.0, 0.0, 0.0, 0.0, 0.0, 0.0, 0.0, 0.0, 0.0, 0.0, 0.0, 0.0, 0.0, 0.0, 0.0, 0.0, 0.0, 0.0, 0.0, 0.0, 0.0, 0.0, 0.0, 1.0, 1.0, 3.0, 3.0, 3.0, 0.0, 3.0, 3.0, 3.0, 0.0, 0.0, 0.0, 0.0, 0.0, 0.0, 0.0, 0.0, 0.0, 0.0, 0.0, 0.0, 0.0, 0.0, 0.0, 0.0, 0.0, 0.0, 0.0, 0.0, 1.0, 2.0, 2.0, 1.0, 2.0, 2.0, 2.0, 2.0, 2.0, 2.0, 2.0, 2.0, 1.0, 0.0, 1.0, 1.0, 0.0, 1.0, 0.0, 1.0, 2.0, 2.0, 2.0, 2.0, 2.0, 2.0, 2.0, 2.0, 2.0, 2.0, 1.0, 1.0, 1.0, 0.0, 1.0, 0.0, 1.0, 1.0, 3.0, 2.0, 1.0, 1.0, 1.0, 1.0, 2.0, 1.0, 1.0, 1.0, 0.0, 1.0, null, 1.0, 1.0, 3.0, 2.0, 1.0, 1.0, 1.0, 1.0, 1.0, 1.0, 1.0, 1.0, 1.0, 1.0, 1.0, 1.0, 1.0, 1.0, 1.0, 1.0, 1.0, 1.0, 1.0, 1.0, 1.0, null, 1.0, 1.0, 1.0, 1.0, 1.0, 1.0, 1.0, 1.0, 1.0, 1.0, 1.0, 1.0, 1.0, 1.0, 1.0, 1.0, 1.0, 1.0, 1.0, 1.0, 1.0, 1.0, 1.0, 1.0, 1.0, 1.0, 1.0, 1.0, 1.0, 1.0, 1.0, 1.0, 1.0, 1.0, 1.0, 1.0, 1.0, null, null, null, null, null, null, null, null, null, null, null, null, null, null, null, null, null, null, 1.0, 1.0, 1.0, 1.0, 1.0, 1.0, 1.0, 1.0, 1.0, 1.0, 1.0, 1.0, 1.0, 1.0, 1.0, 1.0, 1.0, 1.0, 1.0, 1.0, 1.0, 1.0, 1.0, 1.0, 1.0, 1.0, 1.0, null, null, null, null, null, null, null, null, null, 0.0, 0.0, 0.0, 0.0, 0.0, 0.0, 0.0, 0.0, 0.0, 0.0, 0.0, 0.0, 0.0, 0.0, 0.0, 0.0, 0.0, 0.0, 0.0, 0.0, 0.0, 0.0, 0.0, 0.0, 0.0, 0.0, 0.0, null, 0.0, 0.0, 0.0, 0.0, 0.0, 0.0, 0.0, 0.0, 0.0, 0.0, 0.0, 1.0, 0.0, 1.0, 1.0, 1.0, 0.0, 1.0, 1.0, 1.0, null, null, 1.0, 1.0, 1.0, null, null, null, null, null, null, 0.0, null, null, 1.0, 1.0, 0.0, 3.0, 0.0, 1.0, 1.0, 0.0, 2.0, 1.0, 0.0, 1.0, 3.0, 0.0, 1.0, 3.0, 0.0, 2.0, 1.0, 1.0, 1.0, 1.0, 1.0, 1.0, null, null, 1.0, 1.0, 1.0, null, null, null, null, null, null, 0.0, null, null, 0.0, 2.0, null, 1.0, 1.0, 1.0, null, null, null, 1.0, null, 1.0, null, 0.0, null, 1.0, 0.0, 0.0, null, 1.0, null, 1.0, 0.0, 1.0, 1.0, 1.0, 1.0, null, 1.0, 1.0, 2.0, 2.0, 2.0, 3.0, 2.0, 2.0, 2.0, 2.0, 1.0, 2.0, 1.0, 2.0, 3.0, 2.0, 3.0, 3.0, 2.0, 1.0, 3.0, 1.0, 2.0, 0.0, 3.0, 1.0, 3.0, 1.0, 1.0, 1.0, null, 1.0, 1.0, 1.0, null, null, 1.0, 1.0, 1.0, 1.0, 1.0, 1.0, 1.0, 1.0, 1.0, 1.0, 1.0, 1.0, 0.0, 1.0, 1.0, 1.0, 1.0, null, 1.0, 1.0, 1.0, null, null, 1.0, 1.0, 1.0, 2.0, 2.0, 2.0, 2.0, 2.0, 2.0, 2.0, 1.0, 2.0, 1.0, 0.0, 0.0, 0.0, 0.0, 0.0, 0.0, 0.0, 0.0, 0.0, 0.0, 0.0, 0.0, 0.0, 0.0, 0.0, 0.0, 0.0, 0.0, 0.0, 0.0, 0.0, 1.0, 0.0, null, 0.0, 1.0, 0.0, null, 0.0, null, 0.0, null, 0.0, null, 0.0, null, 0.0, null, 0.0, 3.0, 0.0, 3.0, 0.0, 0.0, 0.0, 0.0, 0.0, 0.0, 0.0, 0.0, 0.0, 0.0, 0.0, 0.0, 0.0, 0.0, 0.0, 0.0, 0.0, 0.0, 2.0, 2.0, 1.0, 1.0, 1.0, 1.0, 1.0, 2.0, 2.0, 1.0, 1.0, 1.0, 1.0, null, 0.0, null, 0.0, 0.0, 0.0, 0.0, 2.0, 1.0, 1.0, 1.0, 1.0, 2.0, 1.0, 1.0, 1.0, 1.0, 1.0, 1.0, 2.0, 1.0, 1.0, 1.0, 1.0, 1.0, 1.0, 2.0, 1.0, 1.0, 1.0, 1.0, 0.0, 0.0, 0.0, 0.0, 0.0, 0.0, 0.0, 0.0, 0.0, 0.0, 0.0, 0.0, 0.0, 0.0, 0.0, 0.0, 0.0, 0.0, 0.0, 0.0, 0.0, 0.0, 0.0, 0.0, 0.0, 0.0, 0.0, 0.0, 0.0, 0.0, 2.0, 0.0, 0.0, 2.0, 0.0, 0.0, 0.0, 0.0, 0.0, 0.0, 0.0, 0.0, 0.0, 0.0, 0.0, null, 0.0, 0.0, 0.0, 0.0, 0.0, 0.0, 0.0, 0.0, 0.0, 0.0, 0.0, 0.0, 0.0, 0.0, 2.0, null, 0.0, 0.0, 2.0, 0.0, 3.0, 0.0, null, 0.0, 0.0, 0.0, 0.0, 0.0, 0.0, 0.0, 0.0, 0.0, 2.0, 2.0, 1.0, 2.0, 2.0, 3.0, null, 0.0, 0.0, 1.0, 0.0, 0.0, 0.0, 0.0, 0.0, 0.0, 0.0, 0.0, 1.0, 0.0, 1.0, 0.0, 0.0, 2.0, 2.0, 2.0, 2.0, 2.0, 2.0, 2.0, 2.0, 1.0, 0.0, 1.0, 0.0, 2.0, 0.0, 2.0, 1.0, 3.0, 1.0, null, 1.0, 0.0, 1.0, 1.0, 1.0, 1.0, 1.0, 1.0, 1.0, 2.0, 2.0, 2.0, 2.0, 2.0, 2.0, 1.0, 1.0, 1.0, 1.0, 1.0, 1.0, 1.0, 1.0, 0.0, 1.0, 1.0, 1.0, 1.0, 1.0, 1.0, 1.0, 2.0, 2.0, 2.0, 2.0, 2.0, 2.0, 2.0, 2.0, 3.0, null, 1.0, 1.0, 1.0, 1.0, 1.0, 1.0, 1.0, 1.0, 1.0, 1.0, 0.0, 1.0, 1.0, 1.0, 1.0, 1.0, 1.0, 2.0, 1.0, 1.0, 1.0, 1.0, 1.0, 1.0, 1.0, 1.0, 1.0, 1.0, 1.0, 1.0, 1.0, 1.0, 1.0, 1.0, 1.0, 1.0, 1.0, 1.0, 1.0, 1.0, 2.0, 1.0, 1.0, 1.0, 2.0, 2.0, 1.0, 1.0, 1.0, 1.0, 1.0, 1.0, 1.0, 1.0, 1.0, 1.0, 1.0, 1.0, 1.0, 1.0, 1.0, 1.0, 1.0, 1.0, 2.0, 1.0, 1.0, 1.0, 2.0, 2.0, 1.0, 1.0, 2.0, 1.0, 1.0, 1.0, 1.0, 1.0, 1.0, 1.0, 1.0, 1.0, 1.0, 1.0, 1.0, 1.0, 1.0, 1.0, 1.0, 1.0, 1.0, 1.0, 1.0, 1.0, 1.0, 1.0, null, null, 1.0, null, 2.0, null, 1.0, null, 1.0, 1.0, 1.0, 1.0, 1.0, 1.0, 1.0, 1.0, 1.0, 1.0, 1.0, 1.0, 1.0, 2.0, 1.0, 1.0, 1.0, 2.0, 2.0, 1.0, 1.0], \"yaxis\": \"y\"}],\n",
              "                        {\"legend\": {\"tracegroupgap\": 0}, \"margin\": {\"t\": 60}, \"template\": {\"data\": {\"bar\": [{\"error_x\": {\"color\": \"#2a3f5f\"}, \"error_y\": {\"color\": \"#2a3f5f\"}, \"marker\": {\"line\": {\"color\": \"#E5ECF6\", \"width\": 0.5}}, \"type\": \"bar\"}], \"barpolar\": [{\"marker\": {\"line\": {\"color\": \"#E5ECF6\", \"width\": 0.5}}, \"type\": \"barpolar\"}], \"carpet\": [{\"aaxis\": {\"endlinecolor\": \"#2a3f5f\", \"gridcolor\": \"white\", \"linecolor\": \"white\", \"minorgridcolor\": \"white\", \"startlinecolor\": \"#2a3f5f\"}, \"baxis\": {\"endlinecolor\": \"#2a3f5f\", \"gridcolor\": \"white\", \"linecolor\": \"white\", \"minorgridcolor\": \"white\", \"startlinecolor\": \"#2a3f5f\"}, \"type\": \"carpet\"}], \"choropleth\": [{\"colorbar\": {\"outlinewidth\": 0, \"ticks\": \"\"}, \"type\": \"choropleth\"}], \"contour\": [{\"colorbar\": {\"outlinewidth\": 0, \"ticks\": \"\"}, \"colorscale\": [[0.0, \"#0d0887\"], [0.1111111111111111, \"#46039f\"], [0.2222222222222222, \"#7201a8\"], [0.3333333333333333, \"#9c179e\"], [0.4444444444444444, \"#bd3786\"], [0.5555555555555556, \"#d8576b\"], [0.6666666666666666, \"#ed7953\"], [0.7777777777777778, \"#fb9f3a\"], [0.8888888888888888, \"#fdca26\"], [1.0, \"#f0f921\"]], \"type\": \"contour\"}], \"contourcarpet\": [{\"colorbar\": {\"outlinewidth\": 0, \"ticks\": \"\"}, \"type\": \"contourcarpet\"}], \"heatmap\": [{\"colorbar\": {\"outlinewidth\": 0, \"ticks\": \"\"}, \"colorscale\": [[0.0, \"#0d0887\"], [0.1111111111111111, \"#46039f\"], [0.2222222222222222, \"#7201a8\"], [0.3333333333333333, \"#9c179e\"], [0.4444444444444444, \"#bd3786\"], [0.5555555555555556, \"#d8576b\"], [0.6666666666666666, \"#ed7953\"], [0.7777777777777778, \"#fb9f3a\"], [0.8888888888888888, \"#fdca26\"], [1.0, \"#f0f921\"]], \"type\": \"heatmap\"}], \"heatmapgl\": [{\"colorbar\": {\"outlinewidth\": 0, \"ticks\": \"\"}, \"colorscale\": [[0.0, \"#0d0887\"], [0.1111111111111111, \"#46039f\"], [0.2222222222222222, \"#7201a8\"], [0.3333333333333333, \"#9c179e\"], [0.4444444444444444, \"#bd3786\"], [0.5555555555555556, \"#d8576b\"], [0.6666666666666666, \"#ed7953\"], [0.7777777777777778, \"#fb9f3a\"], [0.8888888888888888, \"#fdca26\"], [1.0, \"#f0f921\"]], \"type\": \"heatmapgl\"}], \"histogram\": [{\"marker\": {\"colorbar\": {\"outlinewidth\": 0, \"ticks\": \"\"}}, \"type\": \"histogram\"}], \"histogram2d\": [{\"colorbar\": {\"outlinewidth\": 0, \"ticks\": \"\"}, \"colorscale\": [[0.0, \"#0d0887\"], [0.1111111111111111, \"#46039f\"], [0.2222222222222222, \"#7201a8\"], [0.3333333333333333, \"#9c179e\"], [0.4444444444444444, \"#bd3786\"], [0.5555555555555556, \"#d8576b\"], [0.6666666666666666, \"#ed7953\"], [0.7777777777777778, \"#fb9f3a\"], [0.8888888888888888, \"#fdca26\"], [1.0, \"#f0f921\"]], \"type\": \"histogram2d\"}], \"histogram2dcontour\": [{\"colorbar\": {\"outlinewidth\": 0, \"ticks\": \"\"}, \"colorscale\": [[0.0, \"#0d0887\"], [0.1111111111111111, \"#46039f\"], [0.2222222222222222, \"#7201a8\"], [0.3333333333333333, \"#9c179e\"], [0.4444444444444444, \"#bd3786\"], [0.5555555555555556, \"#d8576b\"], [0.6666666666666666, \"#ed7953\"], [0.7777777777777778, \"#fb9f3a\"], [0.8888888888888888, \"#fdca26\"], [1.0, \"#f0f921\"]], \"type\": \"histogram2dcontour\"}], \"mesh3d\": [{\"colorbar\": {\"outlinewidth\": 0, \"ticks\": \"\"}, \"type\": \"mesh3d\"}], \"parcoords\": [{\"line\": {\"colorbar\": {\"outlinewidth\": 0, \"ticks\": \"\"}}, \"type\": \"parcoords\"}], \"pie\": [{\"automargin\": true, \"type\": \"pie\"}], \"scatter\": [{\"marker\": {\"colorbar\": {\"outlinewidth\": 0, \"ticks\": \"\"}}, \"type\": \"scatter\"}], \"scatter3d\": [{\"line\": {\"colorbar\": {\"outlinewidth\": 0, \"ticks\": \"\"}}, \"marker\": {\"colorbar\": {\"outlinewidth\": 0, \"ticks\": \"\"}}, \"type\": \"scatter3d\"}], \"scattercarpet\": [{\"marker\": {\"colorbar\": {\"outlinewidth\": 0, \"ticks\": \"\"}}, \"type\": \"scattercarpet\"}], \"scattergeo\": [{\"marker\": {\"colorbar\": {\"outlinewidth\": 0, \"ticks\": \"\"}}, \"type\": \"scattergeo\"}], \"scattergl\": [{\"marker\": {\"colorbar\": {\"outlinewidth\": 0, \"ticks\": \"\"}}, \"type\": \"scattergl\"}], \"scattermapbox\": [{\"marker\": {\"colorbar\": {\"outlinewidth\": 0, \"ticks\": \"\"}}, \"type\": \"scattermapbox\"}], \"scatterpolar\": [{\"marker\": {\"colorbar\": {\"outlinewidth\": 0, \"ticks\": \"\"}}, \"type\": \"scatterpolar\"}], \"scatterpolargl\": [{\"marker\": {\"colorbar\": {\"outlinewidth\": 0, \"ticks\": \"\"}}, \"type\": \"scatterpolargl\"}], \"scatterternary\": [{\"marker\": {\"colorbar\": {\"outlinewidth\": 0, \"ticks\": \"\"}}, \"type\": \"scatterternary\"}], \"surface\": [{\"colorbar\": {\"outlinewidth\": 0, \"ticks\": \"\"}, \"colorscale\": [[0.0, \"#0d0887\"], [0.1111111111111111, \"#46039f\"], [0.2222222222222222, \"#7201a8\"], [0.3333333333333333, \"#9c179e\"], [0.4444444444444444, \"#bd3786\"], [0.5555555555555556, \"#d8576b\"], [0.6666666666666666, \"#ed7953\"], [0.7777777777777778, \"#fb9f3a\"], [0.8888888888888888, \"#fdca26\"], [1.0, \"#f0f921\"]], \"type\": \"surface\"}], \"table\": [{\"cells\": {\"fill\": {\"color\": \"#EBF0F8\"}, \"line\": {\"color\": \"white\"}}, \"header\": {\"fill\": {\"color\": \"#C8D4E3\"}, \"line\": {\"color\": \"white\"}}, \"type\": \"table\"}]}, \"layout\": {\"annotationdefaults\": {\"arrowcolor\": \"#2a3f5f\", \"arrowhead\": 0, \"arrowwidth\": 1}, \"coloraxis\": {\"colorbar\": {\"outlinewidth\": 0, \"ticks\": \"\"}}, \"colorscale\": {\"diverging\": [[0, \"#8e0152\"], [0.1, \"#c51b7d\"], [0.2, \"#de77ae\"], [0.3, \"#f1b6da\"], [0.4, \"#fde0ef\"], [0.5, \"#f7f7f7\"], [0.6, \"#e6f5d0\"], [0.7, \"#b8e186\"], [0.8, \"#7fbc41\"], [0.9, \"#4d9221\"], [1, \"#276419\"]], \"sequential\": [[0.0, \"#0d0887\"], [0.1111111111111111, \"#46039f\"], [0.2222222222222222, \"#7201a8\"], [0.3333333333333333, \"#9c179e\"], [0.4444444444444444, \"#bd3786\"], [0.5555555555555556, \"#d8576b\"], [0.6666666666666666, \"#ed7953\"], [0.7777777777777778, \"#fb9f3a\"], [0.8888888888888888, \"#fdca26\"], [1.0, \"#f0f921\"]], \"sequentialminus\": [[0.0, \"#0d0887\"], [0.1111111111111111, \"#46039f\"], [0.2222222222222222, \"#7201a8\"], [0.3333333333333333, \"#9c179e\"], [0.4444444444444444, \"#bd3786\"], [0.5555555555555556, \"#d8576b\"], [0.6666666666666666, \"#ed7953\"], [0.7777777777777778, \"#fb9f3a\"], [0.8888888888888888, \"#fdca26\"], [1.0, \"#f0f921\"]]}, \"colorway\": [\"#636efa\", \"#EF553B\", \"#00cc96\", \"#ab63fa\", \"#FFA15A\", \"#19d3f3\", \"#FF6692\", \"#B6E880\", \"#FF97FF\", \"#FECB52\"], \"font\": {\"color\": \"#2a3f5f\"}, \"geo\": {\"bgcolor\": \"white\", \"lakecolor\": \"white\", \"landcolor\": \"#E5ECF6\", \"showlakes\": true, \"showland\": true, \"subunitcolor\": \"white\"}, \"hoverlabel\": {\"align\": \"left\"}, \"hovermode\": \"closest\", \"mapbox\": {\"style\": \"light\"}, \"paper_bgcolor\": \"white\", \"plot_bgcolor\": \"#E5ECF6\", \"polar\": {\"angularaxis\": {\"gridcolor\": \"white\", \"linecolor\": \"white\", \"ticks\": \"\"}, \"bgcolor\": \"#E5ECF6\", \"radialaxis\": {\"gridcolor\": \"white\", \"linecolor\": \"white\", \"ticks\": \"\"}}, \"scene\": {\"xaxis\": {\"backgroundcolor\": \"#E5ECF6\", \"gridcolor\": \"white\", \"gridwidth\": 2, \"linecolor\": \"white\", \"showbackground\": true, \"ticks\": \"\", \"zerolinecolor\": \"white\"}, \"yaxis\": {\"backgroundcolor\": \"#E5ECF6\", \"gridcolor\": \"white\", \"gridwidth\": 2, \"linecolor\": \"white\", \"showbackground\": true, \"ticks\": \"\", \"zerolinecolor\": \"white\"}, \"zaxis\": {\"backgroundcolor\": \"#E5ECF6\", \"gridcolor\": \"white\", \"gridwidth\": 2, \"linecolor\": \"white\", \"showbackground\": true, \"ticks\": \"\", \"zerolinecolor\": \"white\"}}, \"shapedefaults\": {\"line\": {\"color\": \"#2a3f5f\"}}, \"ternary\": {\"aaxis\": {\"gridcolor\": \"white\", \"linecolor\": \"white\", \"ticks\": \"\"}, \"baxis\": {\"gridcolor\": \"white\", \"linecolor\": \"white\", \"ticks\": \"\"}, \"bgcolor\": \"#E5ECF6\", \"caxis\": {\"gridcolor\": \"white\", \"linecolor\": \"white\", \"ticks\": \"\"}}, \"title\": {\"x\": 0.05}, \"xaxis\": {\"automargin\": true, \"gridcolor\": \"white\", \"linecolor\": \"white\", \"ticks\": \"\", \"title\": {\"standoff\": 15}, \"zerolinecolor\": \"white\", \"zerolinewidth\": 2}, \"yaxis\": {\"automargin\": true, \"gridcolor\": \"white\", \"linecolor\": \"white\", \"ticks\": \"\", \"title\": {\"standoff\": 15}, \"zerolinecolor\": \"white\", \"zerolinewidth\": 2}}}, \"xaxis\": {\"anchor\": \"y\", \"domain\": [0.0, 1.0], \"title\": {\"text\": \"T2M\"}}, \"yaxis\": {\"anchor\": \"x\", \"domain\": [0.0, 1.0], \"title\": {\"text\": \"mildew_leaves\"}}},\n",
              "                        {\"responsive\": true}\n",
              "                    ).then(function(){\n",
              "                            \n",
              "var gd = document.getElementById('47db8c40-7112-48a5-b397-5aeb928e7582');\n",
              "var x = new MutationObserver(function (mutations, observer) {{\n",
              "        var display = window.getComputedStyle(gd).display;\n",
              "        if (!display || display === 'none') {{\n",
              "            console.log([gd, 'removed!']);\n",
              "            Plotly.purge(gd);\n",
              "            observer.disconnect();\n",
              "        }}\n",
              "}});\n",
              "\n",
              "// Listen for the removal of the full notebook cells\n",
              "var notebookContainer = gd.closest('#notebook-container');\n",
              "if (notebookContainer) {{\n",
              "    x.observe(notebookContainer, {childList: true});\n",
              "}}\n",
              "\n",
              "// Listen for the clearing of the current output cell\n",
              "var outputEl = gd.closest('.output');\n",
              "if (outputEl) {{\n",
              "    x.observe(outputEl, {childList: true});\n",
              "}}\n",
              "\n",
              "                        })\n",
              "                };\n",
              "                \n",
              "            </script>\n",
              "        </div>\n",
              "</body>\n",
              "</html>"
            ]
          },
          "metadata": {
            "tags": []
          }
        }
      ]
    },
    {
      "cell_type": "code",
      "metadata": {
        "id": "IqcDyU43XWS1",
        "colab_type": "code",
        "colab": {
          "base_uri": "https://localhost:8080/",
          "height": 542
        },
        "outputId": "b1567f72-0fdc-43c9-b752-c0d0892041ba"
      },
      "source": [
        "fig = go.Figure()\n",
        "fig = px.scatter(gandourie, x='stage', y='mildew_leaves', hover_data=['domain_name'], color=\"domain_name\")\n",
        "fig.show()"
      ],
      "execution_count": 25,
      "outputs": [
        {
          "output_type": "display_data",
          "data": {
            "text/html": [
              "<html>\n",
              "<head><meta charset=\"utf-8\" /></head>\n",
              "<body>\n",
              "    <div>\n",
              "            <script src=\"https://cdnjs.cloudflare.com/ajax/libs/mathjax/2.7.5/MathJax.js?config=TeX-AMS-MML_SVG\"></script><script type=\"text/javascript\">if (window.MathJax) {MathJax.Hub.Config({SVG: {font: \"STIX-Web\"}});}</script>\n",
              "                <script type=\"text/javascript\">window.PlotlyConfig = {MathJaxConfig: 'local'};</script>\n",
              "        <script src=\"https://cdn.plot.ly/plotly-latest.min.js\"></script>    \n",
              "            <div id=\"d00d8b31-a320-42c7-bbad-4b3858710de6\" class=\"plotly-graph-div\" style=\"height:525px; width:100%;\"></div>\n",
              "            <script type=\"text/javascript\">\n",
              "                \n",
              "                    window.PLOTLYENV=window.PLOTLYENV || {};\n",
              "                    \n",
              "                if (document.getElementById(\"d00d8b31-a320-42c7-bbad-4b3858710de6\")) {\n",
              "                    Plotly.newPlot(\n",
              "                        'd00d8b31-a320-42c7-bbad-4b3858710de6',\n",
              "                        [{\"customdata\": [[\"Ligniere\"], [\"Ligniere\"], [\"Ligniere\"], [\"Ligniere\"], [\"Ligniere\"], [\"Ligniere\"], [\"Ligniere\"], [\"Ligniere\"], [\"Ligniere\"], [\"Ligniere\"], [\"Ligniere\"], [\"Ligniere\"], [\"Ligniere\"], [\"Ligniere\"], [\"Ligniere\"], [\"Ligniere\"], [\"Ligniere\"], [\"Ligniere\"], [\"Ligniere\"], [\"Ligniere\"], [\"Ligniere\"], [\"Ligniere\"], [\"Ligniere\"], [\"Ligniere\"], [\"Ligniere\"], [\"Ligniere\"], [\"Ligniere\"], [\"Ligniere\"], [\"Ligniere\"], [\"Ligniere\"], [\"Ligniere\"], [\"Ligniere\"], [\"Ligniere\"], [\"Ligniere\"], [\"Ligniere\"], [\"Ligniere\"], [\"Ligniere\"], [\"Ligniere\"], [\"Ligniere\"], [\"Ligniere\"], [\"Ligniere\"], [\"Ligniere\"], [\"Ligniere\"], [\"Ligniere\"], [\"Ligniere\"], [\"Ligniere\"], [\"Ligniere\"], [\"Ligniere\"], [\"Ligniere\"], [\"Ligniere\"], [\"Ligniere\"], [\"Ligniere\"], [\"Ligniere\"], [\"Ligniere\"], [\"Ligniere\"], [\"Ligniere\"], [\"Ligniere\"], [\"Ligniere\"], [\"Ligniere\"], [\"Ligniere\"], [\"Ligniere\"], [\"Ligniere\"], [\"Ligniere\"], [\"Ligniere\"], [\"Ligniere\"], [\"Ligniere\"], [\"Ligniere\"], [\"Ligniere\"], [\"Ligniere\"], [\"Ligniere\"], [\"Ligniere\"], [\"Ligniere\"], [\"Ligniere\"], [\"Ligniere\"], [\"Ligniere\"], [\"Ligniere\"], [\"Ligniere\"], [\"Ligniere\"], [\"Ligniere\"], [\"Ligniere\"], [\"Ligniere\"], [\"Ligniere\"], [\"Ligniere\"], [\"Ligniere\"], [\"Ligniere\"], [\"Ligniere\"], [\"Ligniere\"], [\"Ligniere\"], [\"Ligniere\"], [\"Ligniere\"], [\"Ligniere\"], [\"Ligniere\"], [\"Ligniere\"], [\"Ligniere\"], [\"Ligniere\"], [\"Ligniere\"], [\"Ligniere\"], [\"Ligniere\"], [\"Ligniere\"], [\"Ligniere\"], [\"Ligniere\"], [\"Ligniere\"], [\"Ligniere\"], [\"Ligniere\"], [\"Ligniere\"], [\"Ligniere\"], [\"Ligniere\"], [\"Ligniere\"], [\"Ligniere\"], [\"Ligniere\"], [\"Ligniere\"], [\"Ligniere\"], [\"Ligniere\"], [\"Ligniere\"], [\"Ligniere\"], [\"Ligniere\"], [\"Ligniere\"], [\"Ligniere\"], [\"Ligniere\"], [\"Ligniere\"], [\"Ligniere\"], [\"Ligniere\"], [\"Ligniere\"], [\"Ligniere\"], [\"Ligniere\"], [\"Ligniere\"], [\"Ligniere\"], [\"Ligniere\"], [\"Ligniere\"], [\"Ligniere\"], [\"Ligniere\"], [\"Ligniere\"], [\"Ligniere\"], [\"Ligniere\"], [\"Ligniere\"], [\"Ligniere\"], [\"Ligniere\"], [\"Ligniere\"], [\"Ligniere\"], [\"Ligniere\"], [\"Ligniere\"], [\"Ligniere\"], [\"Ligniere\"], [\"Ligniere\"], [\"Ligniere\"], [\"Ligniere\"], [\"Ligniere\"], [\"Ligniere\"], [\"Ligniere\"], [\"Ligniere\"], [\"Ligniere\"], [\"Ligniere\"], [\"Ligniere\"], [\"Ligniere\"], [\"Ligniere\"], [\"Ligniere\"], [\"Ligniere\"], [\"Ligniere\"], [\"Ligniere\"], [\"Ligniere\"], [\"Ligniere\"], [\"Ligniere\"], [\"Ligniere\"], [\"Ligniere\"], [\"Ligniere\"], [\"Ligniere\"], [\"Ligniere\"], [\"Ligniere\"], [\"Ligniere\"], [\"Ligniere\"], [\"Ligniere\"], [\"Ligniere\"], [\"Ligniere\"], [\"Ligniere\"], [\"Ligniere\"], [\"Ligniere\"], [\"Ligniere\"], [\"Ligniere\"], [\"Ligniere\"], [\"Ligniere\"], [\"Ligniere\"], [\"Ligniere\"], [\"Ligniere\"], [\"Ligniere\"], [\"Ligniere\"], [\"Ligniere\"], [\"Ligniere\"], [\"Ligniere\"], [\"Ligniere\"], [\"Ligniere\"], [\"Ligniere\"], [\"Ligniere\"], [\"Ligniere\"], [\"Ligniere\"], [\"Ligniere\"], [\"Ligniere\"], [\"Ligniere\"], [\"Ligniere\"], [\"Ligniere\"], [\"Ligniere\"], [\"Ligniere\"], [\"Ligniere\"], [\"Ligniere\"], [\"Ligniere\"], [\"Ligniere\"], [\"Ligniere\"], [\"Ligniere\"], [\"Ligniere\"], [\"Ligniere\"], [\"Ligniere\"], [\"Ligniere\"], [\"Ligniere\"], [\"Ligniere\"], [\"Ligniere\"], [\"Ligniere\"], [\"Ligniere\"], [\"Ligniere\"], [\"Ligniere\"], [\"Ligniere\"], [\"Ligniere\"], [\"Ligniere\"], [\"Ligniere\"], [\"Ligniere\"], [\"Ligniere\"], [\"Ligniere\"], [\"Ligniere\"], [\"Ligniere\"], [\"Ligniere\"], [\"Ligniere\"], [\"Ligniere\"], [\"Ligniere\"], [\"Ligniere\"], [\"Ligniere\"], [\"Ligniere\"], [\"Ligniere\"], [\"Ligniere\"], [\"Ligniere\"], [\"Ligniere\"], [\"Ligniere\"], [\"Ligniere\"], [\"Ligniere\"], [\"Ligniere\"], [\"Ligniere\"], [\"Ligniere\"], [\"Ligniere\"], [\"Ligniere\"], [\"Ligniere\"], [\"Ligniere\"], [\"Ligniere\"], [\"Ligniere\"], [\"Ligniere\"], [\"Ligniere\"], [\"Ligniere\"], [\"Ligniere\"], [\"Ligniere\"], [\"Ligniere\"], [\"Ligniere\"], [\"Ligniere\"], [\"Ligniere\"], [\"Ligniere\"], [\"Ligniere\"], [\"Ligniere\"], [\"Ligniere\"], [\"Ligniere\"], [\"Ligniere\"], [\"Ligniere\"], [\"Ligniere\"], [\"Ligniere\"], [\"Ligniere\"], [\"Ligniere\"], [\"Ligniere\"], [\"Ligniere\"], [\"Ligniere\"], [\"Ligniere\"], [\"Ligniere\"], [\"Ligniere\"], [\"Ligniere\"], [\"Ligniere\"], [\"Ligniere\"], [\"Ligniere\"], [\"Ligniere\"], [\"Ligniere\"], [\"Ligniere\"], [\"Ligniere\"], [\"Ligniere\"], [\"Ligniere\"], [\"Ligniere\"], [\"Ligniere\"], [\"Ligniere\"], [\"Ligniere\"], [\"Ligniere\"], [\"Ligniere\"], [\"Ligniere\"], [\"Ligniere\"], [\"Ligniere\"], [\"Ligniere\"], [\"Ligniere\"], [\"Ligniere\"], [\"Ligniere\"], [\"Ligniere\"], [\"Ligniere\"], [\"Ligniere\"], [\"Ligniere\"], [\"Ligniere\"], [\"Ligniere\"], [\"Ligniere\"], [\"Ligniere\"], [\"Ligniere\"], [\"Ligniere\"], [\"Ligniere\"], [\"Ligniere\"], [\"Ligniere\"], [\"Ligniere\"], [\"Ligniere\"], [\"Ligniere\"], [\"Ligniere\"], [\"Ligniere\"], [\"Ligniere\"], [\"Ligniere\"], [\"Ligniere\"], [\"Ligniere\"], [\"Ligniere\"], [\"Ligniere\"], [\"Ligniere\"], [\"Ligniere\"], [\"Ligniere\"], [\"Ligniere\"], [\"Ligniere\"], [\"Ligniere\"], [\"Ligniere\"], [\"Ligniere\"], [\"Ligniere\"], [\"Ligniere\"], [\"Ligniere\"], [\"Ligniere\"], [\"Ligniere\"], [\"Ligniere\"], [\"Ligniere\"], [\"Ligniere\"], [\"Ligniere\"], [\"Ligniere\"], [\"Ligniere\"], [\"Ligniere\"], [\"Ligniere\"], [\"Ligniere\"], [\"Ligniere\"], [\"Ligniere\"], [\"Ligniere\"], [\"Ligniere\"], [\"Ligniere\"], [\"Ligniere\"], [\"Ligniere\"], [\"Ligniere\"], [\"Ligniere\"], [\"Ligniere\"], [\"Ligniere\"], [\"Ligniere\"], [\"Ligniere\"], [\"Ligniere\"], [\"Ligniere\"], [\"Ligniere\"], [\"Ligniere\"], [\"Ligniere\"], [\"Ligniere\"], [\"Ligniere\"], [\"Ligniere\"], [\"Ligniere\"], [\"Ligniere\"], [\"Ligniere\"], [\"Ligniere\"], [\"Ligniere\"], [\"Ligniere\"], [\"Ligniere\"], [\"Ligniere\"], [\"Ligniere\"], [\"Ligniere\"], [\"Ligniere\"], [\"Ligniere\"], [\"Ligniere\"], [\"Ligniere\"], [\"Ligniere\"], [\"Ligniere\"], [\"Ligniere\"], [\"Ligniere\"], [\"Ligniere\"], [\"Ligniere\"], [\"Ligniere\"], [\"Ligniere\"], [\"Ligniere\"], [\"Ligniere\"], [\"Ligniere\"], [\"Ligniere\"], [\"Ligniere\"], [\"Ligniere\"], [\"Ligniere\"], [\"Ligniere\"], [\"Ligniere\"], [\"Ligniere\"], [\"Ligniere\"], [\"Ligniere\"], [\"Ligniere\"], [\"Ligniere\"], [\"Ligniere\"], [\"Ligniere\"], [\"Ligniere\"], [\"Ligniere\"], [\"Ligniere\"], [\"Ligniere\"], [\"Ligniere\"], [\"Ligniere\"], [\"Ligniere\"], [\"Ligniere\"], [\"Ligniere\"], [\"Ligniere\"], [\"Ligniere\"], [\"Ligniere\"], [\"Ligniere\"], [\"Ligniere\"], [\"Ligniere\"], [\"Ligniere\"], [\"Ligniere\"], [\"Ligniere\"], [\"Ligniere\"], [\"Ligniere\"], [\"Ligniere\"], [\"Ligniere\"], [\"Ligniere\"], [\"Ligniere\"], [\"Ligniere\"], [\"Ligniere\"], [\"Ligniere\"], [\"Ligniere\"], [\"Ligniere\"], [\"Ligniere\"], [\"Ligniere\"], [\"Ligniere\"], [\"Ligniere\"], [\"Ligniere\"], [\"Ligniere\"], [\"Ligniere\"], [\"Ligniere\"], [\"Ligniere\"], [\"Ligniere\"], [\"Ligniere\"], [\"Ligniere\"], [\"Ligniere\"], [\"Ligniere\"], [\"Ligniere\"], [\"Ligniere\"], [\"Ligniere\"], [\"Ligniere\"], [\"Ligniere\"], [\"Ligniere\"], [\"Ligniere\"], [\"Ligniere\"], [\"Ligniere\"], [\"Ligniere\"], [\"Ligniere\"], [\"Ligniere\"], [\"Ligniere\"], [\"Ligniere\"], [\"Ligniere\"], [\"Ligniere\"], [\"Ligniere\"], [\"Ligniere\"], [\"Ligniere\"], [\"Ligniere\"], [\"Ligniere\"], [\"Ligniere\"], [\"Ligniere\"], [\"Ligniere\"], [\"Ligniere\"], [\"Ligniere\"], [\"Ligniere\"], [\"Ligniere\"], [\"Ligniere\"], [\"Ligniere\"], [\"Ligniere\"], [\"Ligniere\"], [\"Ligniere\"], [\"Ligniere\"], [\"Ligniere\"], [\"Ligniere\"], [\"Ligniere\"], [\"Ligniere\"], [\"Ligniere\"], [\"Ligniere\"], [\"Ligniere\"], [\"Ligniere\"], [\"Ligniere\"], [\"Ligniere\"], [\"Ligniere\"], [\"Ligniere\"], [\"Ligniere\"], [\"Ligniere\"], [\"Ligniere\"], [\"Ligniere\"], [\"Ligniere\"], [\"Ligniere\"], [\"Ligniere\"], [\"Ligniere\"], [\"Ligniere\"], [\"Ligniere\"], [\"Ligniere\"], [\"Ligniere\"], [\"Ligniere\"], [\"Ligniere\"], [\"Ligniere\"], [\"Ligniere\"], [\"Ligniere\"], [\"Ligniere\"], [\"Ligniere\"], [\"Ligniere\"], [\"Ligniere\"], [\"Ligniere\"], [\"Ligniere\"], [\"Ligniere\"], [\"Ligniere\"], [\"Ligniere\"], [\"Ligniere\"], [\"Ligniere\"], [\"Ligniere\"], [\"Ligniere\"], [\"Ligniere\"], [\"Ligniere\"], [\"Ligniere\"], [\"Ligniere\"], [\"Ligniere\"], [\"Ligniere\"], [\"Ligniere\"], [\"Ligniere\"], [\"Ligniere\"], [\"Ligniere\"], [\"Ligniere\"], [\"Ligniere\"], [\"Ligniere\"], [\"Ligniere\"], [\"Ligniere\"], [\"Ligniere\"], [\"Ligniere\"], [\"Ligniere\"], [\"Ligniere\"], [\"Ligniere\"], [\"Ligniere\"], [\"Ligniere\"], [\"Ligniere\"], [\"Ligniere\"], [\"Ligniere\"], [\"Ligniere\"], [\"Ligniere\"], [\"Ligniere\"], [\"Ligniere\"], [\"Ligniere\"], [\"Ligniere\"], [\"Ligniere\"], [\"Ligniere\"], [\"Ligniere\"], [\"Ligniere\"], [\"Ligniere\"], [\"Ligniere\"], [\"Ligniere\"], [\"Ligniere\"], [\"Ligniere\"], [\"Ligniere\"], [\"Ligniere\"], [\"Ligniere\"], [\"Ligniere\"], [\"Ligniere\"], [\"Ligniere\"], [\"Ligniere\"], [\"Ligniere\"], [\"Ligniere\"], [\"Ligniere\"], [\"Ligniere\"], [\"Ligniere\"], [\"Ligniere\"], [\"Ligniere\"], [\"Ligniere\"], [\"Ligniere\"], [\"Ligniere\"], [\"Ligniere\"], [\"Ligniere\"], [\"Ligniere\"], [\"Ligniere\"], [\"Ligniere\"], [\"Ligniere\"], [\"Ligniere\"], [\"Ligniere\"], [\"Ligniere\"], [\"Ligniere\"], [\"Ligniere\"], [\"Ligniere\"], [\"Ligniere\"], [\"Ligniere\"], [\"Ligniere\"], [\"Ligniere\"], [\"Ligniere\"], [\"Ligniere\"], [\"Ligniere\"], [\"Ligniere\"], [\"Ligniere\"], [\"Ligniere\"], [\"Ligniere\"], [\"Ligniere\"], [\"Ligniere\"], [\"Ligniere\"], [\"Ligniere\"], [\"Ligniere\"], [\"Ligniere\"], [\"Ligniere\"], [\"Ligniere\"], [\"Ligniere\"], [\"Ligniere\"], [\"Ligniere\"], [\"Ligniere\"], [\"Ligniere\"], [\"Ligniere\"], [\"Ligniere\"], [\"Ligniere\"], [\"Ligniere\"], [\"Ligniere\"], [\"Ligniere\"], [\"Ligniere\"], [\"Ligniere\"], [\"Ligniere\"], [\"Ligniere\"], [\"Ligniere\"], [\"Ligniere\"], [\"Ligniere\"], [\"Ligniere\"], [\"Ligniere\"], [\"Ligniere\"], [\"Ligniere\"], [\"Ligniere\"], [\"Ligniere\"], [\"Ligniere\"], [\"Ligniere\"], [\"Ligniere\"], [\"Ligniere\"], [\"Ligniere\"], [\"Ligniere\"], [\"Ligniere\"], [\"Ligniere\"], [\"Ligniere\"], [\"Ligniere\"], [\"Ligniere\"], [\"Ligniere\"], [\"Ligniere\"], [\"Ligniere\"], [\"Ligniere\"], [\"Ligniere\"], [\"Ligniere\"], [\"Ligniere\"], [\"Ligniere\"], [\"Ligniere\"], [\"Ligniere\"], [\"Ligniere\"], [\"Ligniere\"], [\"Ligniere\"], [\"Ligniere\"], [\"Ligniere\"], [\"Ligniere\"], [\"Ligniere\"], [\"Ligniere\"], [\"Ligniere\"], [\"Ligniere\"], [\"Ligniere\"], [\"Ligniere\"], [\"Ligniere\"], [\"Ligniere\"], [\"Ligniere\"], [\"Ligniere\"], [\"Ligniere\"], [\"Ligniere\"], [\"Ligniere\"], [\"Ligniere\"], [\"Ligniere\"], [\"Ligniere\"], [\"Ligniere\"], [\"Ligniere\"], [\"Ligniere\"], [\"Ligniere\"], [\"Ligniere\"], [\"Ligniere\"], [\"Ligniere\"], [\"Ligniere\"], [\"Ligniere\"], [\"Ligniere\"], [\"Ligniere\"], [\"Ligniere\"], [\"Ligniere\"], [\"Ligniere\"], [\"Ligniere\"], [\"Ligniere\"], [\"Ligniere\"], [\"Ligniere\"], [\"Ligniere\"], [\"Ligniere\"], [\"Ligniere\"], [\"Ligniere\"], [\"Ligniere\"], [\"Ligniere\"], [\"Ligniere\"], [\"Ligniere\"], [\"Ligniere\"], [\"Ligniere\"], [\"Ligniere\"], [\"Ligniere\"], [\"Ligniere\"], [\"Ligniere\"], [\"Ligniere\"], [\"Ligniere\"], [\"Ligniere\"], [\"Ligniere\"], [\"Ligniere\"], [\"Ligniere\"], [\"Ligniere\"], [\"Ligniere\"], [\"Ligniere\"], [\"Ligniere\"], [\"Ligniere\"], [\"Ligniere\"], [\"Ligniere\"], [\"Ligniere\"], [\"Ligniere\"], [\"Ligniere\"], [\"Ligniere\"], [\"Ligniere\"], [\"Ligniere\"], [\"Ligniere\"], [\"Ligniere\"], [\"Ligniere\"], [\"Ligniere\"], [\"Ligniere\"], [\"Ligniere\"], [\"Ligniere\"], [\"Ligniere\"], [\"Ligniere\"], [\"Ligniere\"], [\"Ligniere\"], [\"Ligniere\"], [\"Ligniere\"], [\"Ligniere\"], [\"Ligniere\"], [\"Ligniere\"], [\"Ligniere\"], [\"Ligniere\"], [\"Ligniere\"], [\"Ligniere\"], [\"Ligniere\"], [\"Ligniere\"], [\"Ligniere\"], [\"Ligniere\"], [\"Ligniere\"], [\"Ligniere\"], [\"Ligniere\"], [\"Ligniere\"], [\"Ligniere\"], [\"Ligniere\"], [\"Ligniere\"], [\"Ligniere\"], [\"Ligniere\"], [\"Ligniere\"], [\"Ligniere\"], [\"Ligniere\"], [\"Ligniere\"], [\"Ligniere\"], [\"Ligniere\"], [\"Ligniere\"], [\"Ligniere\"], [\"Ligniere\"], [\"Ligniere\"], [\"Ligniere\"], [\"Ligniere\"], [\"Ligniere\"], [\"Ligniere\"], [\"Ligniere\"], [\"Ligniere\"], [\"Ligniere\"], [\"Ligniere\"], [\"Ligniere\"], [\"Ligniere\"], [\"Ligniere\"], [\"Ligniere\"], [\"Ligniere\"], [\"Ligniere\"], [\"Ligniere\"], [\"Ligniere\"], [\"Ligniere\"], [\"Ligniere\"], [\"Ligniere\"], [\"Ligniere\"], [\"Ligniere\"], [\"Ligniere\"], [\"Ligniere\"], [\"Ligniere\"], [\"Ligniere\"], [\"Ligniere\"], [\"Ligniere\"], [\"Ligniere\"], [\"Ligniere\"], [\"Ligniere\"], [\"Ligniere\"], [\"Ligniere\"], [\"Ligniere\"], [\"Ligniere\"], [\"Ligniere\"], [\"Ligniere\"], [\"Ligniere\"], [\"Ligniere\"], [\"Ligniere\"], [\"Ligniere\"], [\"Ligniere\"], [\"Ligniere\"], [\"Ligniere\"], [\"Ligniere\"], [\"Ligniere\"], [\"Ligniere\"], [\"Ligniere\"], [\"Ligniere\"], [\"Ligniere\"], [\"Ligniere\"], [\"Ligniere\"], [\"Ligniere\"], [\"Ligniere\"], [\"Ligniere\"], [\"Ligniere\"], [\"Ligniere\"], [\"Ligniere\"], [\"Ligniere\"], [\"Ligniere\"], [\"Ligniere\"], [\"Ligniere\"], [\"Ligniere\"], [\"Ligniere\"], [\"Ligniere\"], [\"Ligniere\"], [\"Ligniere\"], [\"Ligniere\"], [\"Ligniere\"], [\"Ligniere\"], [\"Ligniere\"], [\"Ligniere\"], [\"Ligniere\"], [\"Ligniere\"], [\"Ligniere\"], [\"Ligniere\"], [\"Ligniere\"], [\"Ligniere\"], [\"Ligniere\"], [\"Ligniere\"], [\"Ligniere\"], [\"Ligniere\"], [\"Ligniere\"], [\"Ligniere\"], [\"Ligniere\"], [\"Ligniere\"], [\"Ligniere\"], [\"Ligniere\"], [\"Ligniere\"], [\"Ligniere\"], [\"Ligniere\"], [\"Ligniere\"], [\"Ligniere\"], [\"Ligniere\"], [\"Ligniere\"], [\"Ligniere\"], [\"Ligniere\"], [\"Ligniere\"], [\"Ligniere\"], [\"Ligniere\"], [\"Ligniere\"], [\"Ligniere\"], [\"Ligniere\"], [\"Ligniere\"], [\"Ligniere\"], [\"Ligniere\"], [\"Ligniere\"], [\"Ligniere\"], [\"Ligniere\"], [\"Ligniere\"], [\"Ligniere\"], [\"Ligniere\"], [\"Ligniere\"], [\"Ligniere\"], [\"Ligniere\"], [\"Ligniere\"], [\"Ligniere\"], [\"Ligniere\"], [\"Ligniere\"], [\"Ligniere\"], [\"Ligniere\"], [\"Ligniere\"], [\"Ligniere\"], [\"Ligniere\"], [\"Ligniere\"], [\"Ligniere\"], [\"Ligniere\"], [\"Ligniere\"], [\"Ligniere\"], [\"Ligniere\"], [\"Ligniere\"], [\"Ligniere\"], [\"Ligniere\"], [\"Ligniere\"], [\"Ligniere\"], [\"Ligniere\"], [\"Ligniere\"], [\"Ligniere\"], [\"Ligniere\"], [\"Ligniere\"], [\"Ligniere\"], [\"Ligniere\"], [\"Ligniere\"], [\"Ligniere\"], [\"Ligniere\"], [\"Ligniere\"], [\"Ligniere\"], [\"Ligniere\"], [\"Ligniere\"], [\"Ligniere\"], [\"Ligniere\"], [\"Ligniere\"], [\"Ligniere\"], [\"Ligniere\"], [\"Ligniere\"], [\"Ligniere\"], [\"Ligniere\"], [\"Ligniere\"], [\"Ligniere\"], [\"Ligniere\"], [\"Ligniere\"], [\"Ligniere\"], [\"Ligniere\"], [\"Ligniere\"], [\"Ligniere\"], [\"Ligniere\"], [\"Ligniere\"], [\"Ligniere\"], [\"Ligniere\"], [\"Ligniere\"], [\"Ligniere\"], [\"Ligniere\"], [\"Ligniere\"], [\"Ligniere\"], [\"Ligniere\"], [\"Ligniere\"], [\"Ligniere\"], [\"Ligniere\"], [\"Ligniere\"], [\"Ligniere\"], [\"Ligniere\"], [\"Ligniere\"], [\"Ligniere\"], [\"Ligniere\"], [\"Ligniere\"], [\"Ligniere\"], [\"Ligniere\"], [\"Ligniere\"], [\"Ligniere\"], [\"Ligniere\"], [\"Ligniere\"], [\"Ligniere\"], [\"Ligniere\"], [\"Ligniere\"], [\"Ligniere\"], [\"Ligniere\"], [\"Ligniere\"], [\"Ligniere\"], [\"Ligniere\"], [\"Ligniere\"], [\"Ligniere\"], [\"Ligniere\"], [\"Ligniere\"], [\"Ligniere\"], [\"Ligniere\"], [\"Ligniere\"], [\"Ligniere\"], [\"Ligniere\"], [\"Ligniere\"], [\"Ligniere\"], [\"Ligniere\"], [\"Ligniere\"], [\"Ligniere\"], [\"Ligniere\"], [\"Ligniere\"], [\"Ligniere\"], [\"Ligniere\"], [\"Ligniere\"], [\"Ligniere\"], [\"Ligniere\"], [\"Ligniere\"], [\"Ligniere\"], [\"Ligniere\"], [\"Ligniere\"], [\"Ligniere\"], [\"Ligniere\"], [\"Ligniere\"], [\"Ligniere\"], [\"Ligniere\"], [\"Ligniere\"], [\"Ligniere\"], [\"Ligniere\"], [\"Ligniere\"], [\"Ligniere\"], [\"Ligniere\"], [\"Ligniere\"], [\"Ligniere\"], [\"Ligniere\"], [\"Ligniere\"], [\"Ligniere\"], [\"Ligniere\"], [\"Ligniere\"], [\"Ligniere\"], [\"Ligniere\"], [\"Ligniere\"], [\"Ligniere\"], [\"Ligniere\"], [\"Ligniere\"], [\"Ligniere\"], [\"Ligniere\"], [\"Ligniere\"], [\"Ligniere\"], [\"Ligniere\"], [\"Ligniere\"], [\"Ligniere\"], [\"Ligniere\"], [\"Ligniere\"], [\"Ligniere\"], [\"Ligniere\"], [\"Ligniere\"], [\"Ligniere\"], [\"Ligniere\"], [\"Ligniere\"], [\"Ligniere\"], [\"Ligniere\"], [\"Ligniere\"], [\"Ligniere\"], [\"Ligniere\"], [\"Ligniere\"], [\"Ligniere\"], [\"Ligniere\"], [\"Ligniere\"], [\"Ligniere\"], [\"Ligniere\"], [\"Ligniere\"], [\"Ligniere\"], [\"Ligniere\"], [\"Ligniere\"], [\"Ligniere\"], [\"Ligniere\"], [\"Ligniere\"], [\"Ligniere\"], [\"Ligniere\"], [\"Ligniere\"], [\"Ligniere\"], [\"Ligniere\"], [\"Ligniere\"], [\"Ligniere\"], [\"Ligniere\"], [\"Ligniere\"], [\"Ligniere\"], [\"Ligniere\"], [\"Ligniere\"], [\"Ligniere\"], [\"Ligniere\"], [\"Ligniere\"], [\"Ligniere\"], [\"Ligniere\"], [\"Ligniere\"], [\"Ligniere\"], [\"Ligniere\"], [\"Ligniere\"], [\"Ligniere\"], [\"Ligniere\"], [\"Ligniere\"], [\"Ligniere\"], [\"Ligniere\"], [\"Ligniere\"], [\"Ligniere\"], [\"Ligniere\"], [\"Ligniere\"], [\"Ligniere\"], [\"Ligniere\"], [\"Ligniere\"], [\"Ligniere\"], [\"Ligniere\"], [\"Ligniere\"], [\"Ligniere\"], [\"Ligniere\"], [\"Ligniere\"], [\"Ligniere\"], [\"Ligniere\"], [\"Ligniere\"], [\"Ligniere\"], [\"Ligniere\"], [\"Ligniere\"], [\"Ligniere\"], [\"Ligniere\"], [\"Ligniere\"], [\"Ligniere\"], [\"Ligniere\"], [\"Ligniere\"], [\"Ligniere\"], [\"Ligniere\"], [\"Ligniere\"], [\"Ligniere\"], [\"Ligniere\"], [\"Ligniere\"], [\"Ligniere\"], [\"Ligniere\"], [\"Ligniere\"], [\"Ligniere\"], [\"Ligniere\"], [\"Ligniere\"], [\"Ligniere\"], [\"Ligniere\"], [\"Ligniere\"], [\"Ligniere\"], [\"Ligniere\"], [\"Ligniere\"], [\"Ligniere\"], [\"Ligniere\"], [\"Ligniere\"], [\"Ligniere\"], [\"Ligniere\"], [\"Ligniere\"], [\"Ligniere\"], [\"Ligniere\"], [\"Ligniere\"], [\"Ligniere\"], [\"Ligniere\"], [\"Ligniere\"], [\"Ligniere\"], [\"Ligniere\"], [\"Ligniere\"], [\"Ligniere\"], [\"Ligniere\"], [\"Ligniere\"], [\"Ligniere\"], [\"Ligniere\"], [\"Ligniere\"], [\"Ligniere\"], [\"Ligniere\"], [\"Ligniere\"], [\"Ligniere\"], [\"Ligniere\"], [\"Ligniere\"], [\"Ligniere\"], [\"Ligniere\"], [\"Ligniere\"], [\"Ligniere\"], [\"Ligniere\"], [\"Ligniere\"], [\"Ligniere\"], [\"Ligniere\"], [\"Ligniere\"], [\"Ligniere\"], [\"Ligniere\"], [\"Ligniere\"], [\"Ligniere\"], [\"Ligniere\"], [\"Ligniere\"], [\"Ligniere\"], [\"Ligniere\"], [\"Ligniere\"], [\"Ligniere\"], [\"Ligniere\"], [\"Ligniere\"], [\"Ligniere\"], [\"Ligniere\"], [\"Ligniere\"], [\"Ligniere\"], [\"Ligniere\"], [\"Ligniere\"], [\"Ligniere\"], [\"Ligniere\"], [\"Ligniere\"], [\"Ligniere\"], [\"Ligniere\"], [\"Ligniere\"], [\"Ligniere\"], [\"Ligniere\"], [\"Ligniere\"], [\"Ligniere\"], [\"Ligniere\"], [\"Ligniere\"], [\"Ligniere\"], [\"Ligniere\"], [\"Ligniere\"], [\"Ligniere\"], [\"Ligniere\"], [\"Ligniere\"], [\"Ligniere\"], [\"Ligniere\"], [\"Ligniere\"], [\"Ligniere\"], [\"Ligniere\"], [\"Ligniere\"], [\"Ligniere\"], [\"Ligniere\"], [\"Ligniere\"], [\"Ligniere\"], [\"Ligniere\"], [\"Ligniere\"], [\"Ligniere\"], [\"Ligniere\"], [\"Ligniere\"], [\"Ligniere\"], [\"Ligniere\"], [\"Ligniere\"], [\"Ligniere\"], [\"Ligniere\"], [\"Ligniere\"], [\"Ligniere\"], [\"Ligniere\"], [\"Ligniere\"], [\"Ligniere\"], [\"Ligniere\"], [\"Ligniere\"], [\"Ligniere\"], [\"Ligniere\"], [\"Ligniere\"], [\"Ligniere\"], [\"Ligniere\"], [\"Ligniere\"], [\"Ligniere\"], [\"Ligniere\"], [\"Ligniere\"], [\"Ligniere\"], [\"Ligniere\"], [\"Ligniere\"], [\"Ligniere\"], [\"Ligniere\"], [\"Ligniere\"], [\"Ligniere\"], [\"Ligniere\"], [\"Ligniere\"], [\"Ligniere\"], [\"Ligniere\"], [\"Ligniere\"], [\"Ligniere\"], [\"Ligniere\"], [\"Ligniere\"], [\"Ligniere\"], [\"Ligniere\"], [\"Ligniere\"], [\"Ligniere\"], [\"Ligniere\"], [\"Ligniere\"], [\"Ligniere\"], [\"Ligniere\"], [\"Ligniere\"], [\"Ligniere\"], [\"Ligniere\"], [\"Ligniere\"], [\"Ligniere\"], [\"Ligniere\"], [\"Ligniere\"], [\"Ligniere\"], [\"Ligniere\"], [\"Ligniere\"], [\"Ligniere\"], [\"Ligniere\"], [\"Ligniere\"], [\"Ligniere\"], [\"Ligniere\"], [\"Ligniere\"], [\"Ligniere\"], [\"Ligniere\"], [\"Ligniere\"], [\"Ligniere\"], [\"Ligniere\"], [\"Ligniere\"], [\"Ligniere\"], [\"Ligniere\"], [\"Ligniere\"], [\"Ligniere\"], [\"Ligniere\"], [\"Ligniere\"], [\"Ligniere\"], [\"Ligniere\"], [\"Ligniere\"], [\"Ligniere\"], [\"Ligniere\"], [\"Ligniere\"], [\"Ligniere\"], [\"Ligniere\"], [\"Ligniere\"], [\"Ligniere\"], [\"Ligniere\"], [\"Ligniere\"], [\"Ligniere\"], [\"Ligniere\"], [\"Ligniere\"], [\"Ligniere\"], [\"Ligniere\"], [\"Ligniere\"], [\"Ligniere\"], [\"Ligniere\"], [\"Ligniere\"], [\"Ligniere\"], [\"Ligniere\"], [\"Ligniere\"], [\"Ligniere\"], [\"Ligniere\"], [\"Ligniere\"], [\"Ligniere\"], [\"Ligniere\"], [\"Ligniere\"], [\"Ligniere\"], [\"Ligniere\"], [\"Ligniere\"], [\"Ligniere\"], [\"Ligniere\"], [\"Ligniere\"], [\"Ligniere\"], [\"Ligniere\"], [\"Ligniere\"], [\"Ligniere\"], [\"Ligniere\"], [\"Ligniere\"], [\"Ligniere\"], [\"Ligniere\"], [\"Ligniere\"], [\"Ligniere\"], [\"Ligniere\"], [\"Ligniere\"], [\"Ligniere\"], [\"Ligniere\"], [\"Ligniere\"], [\"Ligniere\"], [\"Ligniere\"], [\"Ligniere\"], [\"Ligniere\"], [\"Ligniere\"], [\"Ligniere\"], [\"Ligniere\"], [\"Ligniere\"], [\"Ligniere\"], [\"Ligniere\"], [\"Ligniere\"], [\"Ligniere\"], [\"Ligniere\"], [\"Ligniere\"], [\"Ligniere\"], [\"Ligniere\"], [\"Ligniere\"], [\"Ligniere\"], [\"Ligniere\"], [\"Ligniere\"], [\"Ligniere\"], [\"Ligniere\"], [\"Ligniere\"], [\"Ligniere\"], [\"Ligniere\"], [\"Ligniere\"], [\"Ligniere\"], [\"Ligniere\"], [\"Ligniere\"], [\"Ligniere\"], [\"Ligniere\"], [\"Ligniere\"], [\"Ligniere\"], [\"Ligniere\"], [\"Ligniere\"], [\"Ligniere\"], [\"Ligniere\"], [\"Ligniere\"], [\"Ligniere\"], [\"Ligniere\"], [\"Ligniere\"], [\"Ligniere\"], [\"Ligniere\"], [\"Ligniere\"], [\"Ligniere\"], [\"Ligniere\"], [\"Ligniere\"], [\"Ligniere\"], [\"Ligniere\"], [\"Ligniere\"], [\"Ligniere\"], [\"Ligniere\"], [\"Ligniere\"], [\"Ligniere\"], [\"Ligniere\"], [\"Ligniere\"], [\"Ligniere\"], [\"Ligniere\"], [\"Ligniere\"], [\"Ligniere\"], [\"Ligniere\"], [\"Ligniere\"], [\"Ligniere\"], [\"Ligniere\"], [\"Ligniere\"], [\"Ligniere\"], [\"Ligniere\"], [\"Ligniere\"], [\"Ligniere\"], [\"Ligniere\"], [\"Ligniere\"], [\"Ligniere\"], [\"Ligniere\"], [\"Ligniere\"], [\"Ligniere\"], [\"Ligniere\"], [\"Ligniere\"], [\"Ligniere\"], [\"Ligniere\"], [\"Ligniere\"], [\"Ligniere\"], [\"Ligniere\"], [\"Ligniere\"], [\"Ligniere\"], [\"Ligniere\"], [\"Ligniere\"], [\"Ligniere\"], [\"Ligniere\"], [\"Ligniere\"], [\"Ligniere\"], [\"Ligniere\"], [\"Ligniere\"], [\"Ligniere\"], [\"Ligniere\"], [\"Ligniere\"], [\"Ligniere\"], [\"Ligniere\"], [\"Ligniere\"], [\"Ligniere\"], [\"Ligniere\"], [\"Ligniere\"], [\"Ligniere\"], [\"Ligniere\"], [\"Ligniere\"], [\"Ligniere\"], [\"Ligniere\"], [\"Ligniere\"], [\"Ligniere\"], [\"Ligniere\"], [\"Ligniere\"], [\"Ligniere\"], [\"Ligniere\"], [\"Ligniere\"], [\"Ligniere\"], [\"Ligniere\"], [\"Ligniere\"], [\"Ligniere\"], [\"Ligniere\"], [\"Ligniere\"], [\"Ligniere\"], [\"Ligniere\"], [\"Ligniere\"], [\"Ligniere\"], [\"Ligniere\"], [\"Ligniere\"], [\"Ligniere\"], [\"Ligniere\"], [\"Ligniere\"], [\"Ligniere\"], [\"Ligniere\"], [\"Ligniere\"], [\"Ligniere\"], [\"Ligniere\"], [\"Ligniere\"], [\"Ligniere\"], [\"Ligniere\"], [\"Ligniere\"], [\"Ligniere\"], [\"Ligniere\"], [\"Ligniere\"], [\"Ligniere\"], [\"Ligniere\"], [\"Ligniere\"], [\"Ligniere\"], [\"Ligniere\"], [\"Ligniere\"], [\"Ligniere\"], [\"Ligniere\"], [\"Ligniere\"], [\"Ligniere\"], [\"Ligniere\"], [\"Ligniere\"], [\"Ligniere\"], [\"Ligniere\"], [\"Ligniere\"], [\"Ligniere\"], [\"Ligniere\"], [\"Ligniere\"], [\"Ligniere\"], [\"Ligniere\"], [\"Ligniere\"], [\"Ligniere\"], [\"Ligniere\"], [\"Ligniere\"], [\"Ligniere\"], [\"Ligniere\"], [\"Ligniere\"], [\"Ligniere\"], [\"Ligniere\"], [\"Ligniere\"], [\"Ligniere\"], [\"Ligniere\"], [\"Ligniere\"], [\"Ligniere\"], [\"Ligniere\"], [\"Ligniere\"], [\"Ligniere\"], [\"Ligniere\"], [\"Ligniere\"], [\"Ligniere\"], [\"Ligniere\"], [\"Ligniere\"], [\"Ligniere\"], [\"Ligniere\"], [\"Ligniere\"], [\"Ligniere\"], [\"Ligniere\"], [\"Ligniere\"], [\"Ligniere\"], [\"Ligniere\"], [\"Ligniere\"], [\"Ligniere\"], [\"Ligniere\"], [\"Ligniere\"], [\"Ligniere\"], [\"Ligniere\"], [\"Ligniere\"], [\"Ligniere\"], [\"Ligniere\"], [\"Ligniere\"], [\"Ligniere\"], [\"Ligniere\"], [\"Ligniere\"], [\"Ligniere\"], [\"Ligniere\"], [\"Ligniere\"], [\"Ligniere\"], [\"Ligniere\"], [\"Ligniere\"], [\"Ligniere\"], [\"Ligniere\"], [\"Ligniere\"], [\"Ligniere\"], [\"Ligniere\"], [\"Ligniere\"], [\"Ligniere\"], [\"Ligniere\"], [\"Ligniere\"], [\"Ligniere\"], [\"Ligniere\"], [\"Ligniere\"], [\"Ligniere\"], [\"Ligniere\"], [\"Ligniere\"], [\"Ligniere\"], [\"Ligniere\"], [\"Ligniere\"], [\"Ligniere\"], [\"Ligniere\"], [\"Ligniere\"], [\"Ligniere\"], [\"Ligniere\"], [\"Ligniere\"], [\"Ligniere\"], [\"Ligniere\"], [\"Ligniere\"], [\"Ligniere\"], [\"Ligniere\"], [\"Ligniere\"], [\"Ligniere\"], [\"Ligniere\"], [\"Ligniere\"], [\"Ligniere\"], [\"Ligniere\"], [\"Ligniere\"], [\"Ligniere\"], [\"Ligniere\"], [\"Ligniere\"], [\"Ligniere\"], [\"Ligniere\"], [\"Ligniere\"], [\"Ligniere\"], [\"Ligniere\"], [\"Ligniere\"], [\"Ligniere\"], [\"Ligniere\"], [\"Ligniere\"], [\"Ligniere\"], [\"Ligniere\"], [\"Ligniere\"], [\"Ligniere\"], [\"Ligniere\"], [\"Ligniere\"], [\"Ligniere\"], [\"Ligniere\"], [\"Ligniere\"], [\"Ligniere\"], [\"Ligniere\"], [\"Ligniere\"], [\"Ligniere\"], [\"Ligniere\"], [\"Ligniere\"], [\"Ligniere\"], [\"Ligniere\"], [\"Ligniere\"], [\"Ligniere\"], [\"Ligniere\"], [\"Ligniere\"], [\"Ligniere\"], [\"Ligniere\"], [\"Ligniere\"], [\"Ligniere\"], [\"Ligniere\"], [\"Ligniere\"], [\"Ligniere\"], [\"Ligniere\"], [\"Ligniere\"], [\"Ligniere\"], [\"Ligniere\"], [\"Ligniere\"], [\"Ligniere\"], [\"Ligniere\"], [\"Ligniere\"], [\"Ligniere\"], [\"Ligniere\"], [\"Ligniere\"], [\"Ligniere\"], [\"Ligniere\"], [\"Ligniere\"], [\"Ligniere\"], [\"Ligniere\"], [\"Ligniere\"], [\"Ligniere\"], [\"Ligniere\"], [\"Ligniere\"], [\"Ligniere\"], [\"Ligniere\"], [\"Ligniere\"], [\"Ligniere\"], [\"Ligniere\"], [\"Ligniere\"], [\"Ligniere\"], [\"Ligniere\"], [\"Ligniere\"], [\"Ligniere\"], [\"Ligniere\"], [\"Ligniere\"], [\"Ligniere\"], [\"Ligniere\"], [\"Ligniere\"], [\"Ligniere\"], [\"Ligniere\"], [\"Ligniere\"], [\"Ligniere\"], [\"Ligniere\"], [\"Ligniere\"], [\"Ligniere\"], [\"Ligniere\"], [\"Ligniere\"], [\"Ligniere\"], [\"Ligniere\"], [\"Ligniere\"], [\"Ligniere\"], [\"Ligniere\"], [\"Ligniere\"], [\"Ligniere\"], [\"Ligniere\"], [\"Ligniere\"], [\"Ligniere\"], [\"Ligniere\"], [\"Ligniere\"], [\"Ligniere\"], [\"Ligniere\"], [\"Ligniere\"], [\"Ligniere\"], [\"Ligniere\"], [\"Ligniere\"], [\"Ligniere\"], [\"Ligniere\"], [\"Ligniere\"], [\"Ligniere\"], [\"Ligniere\"], [\"Ligniere\"], [\"Ligniere\"], [\"Ligniere\"], [\"Ligniere\"], [\"Ligniere\"], [\"Ligniere\"], [\"Ligniere\"], [\"Ligniere\"], [\"Ligniere\"], [\"Ligniere\"], [\"Ligniere\"], [\"Ligniere\"], [\"Ligniere\"], [\"Ligniere\"], [\"Ligniere\"], [\"Ligniere\"], [\"Ligniere\"], [\"Ligniere\"], [\"Ligniere\"], [\"Ligniere\"], [\"Ligniere\"], [\"Ligniere\"], [\"Ligniere\"], [\"Ligniere\"], [\"Ligniere\"], [\"Ligniere\"], [\"Ligniere\"], [\"Ligniere\"], [\"Ligniere\"], [\"Ligniere\"], [\"Ligniere\"], [\"Ligniere\"], [\"Ligniere\"], [\"Ligniere\"], [\"Ligniere\"], [\"Ligniere\"], [\"Ligniere\"], [\"Ligniere\"], [\"Ligniere\"], [\"Ligniere\"], [\"Ligniere\"], [\"Ligniere\"], [\"Ligniere\"], [\"Ligniere\"], [\"Ligniere\"], [\"Ligniere\"], [\"Ligniere\"], [\"Ligniere\"], [\"Ligniere\"], [\"Ligniere\"], [\"Ligniere\"], [\"Ligniere\"], [\"Ligniere\"], [\"Ligniere\"], [\"Ligniere\"], [\"Ligniere\"], [\"Ligniere\"], [\"Ligniere\"], [\"Ligniere\"], [\"Ligniere\"], [\"Ligniere\"], [\"Ligniere\"], [\"Ligniere\"], [\"Ligniere\"], [\"Ligniere\"], [\"Ligniere\"], [\"Ligniere\"], [\"Ligniere\"], [\"Ligniere\"], [\"Ligniere\"], [\"Ligniere\"], [\"Ligniere\"], [\"Ligniere\"], [\"Ligniere\"], [\"Ligniere\"], [\"Ligniere\"], [\"Ligniere\"], [\"Ligniere\"], [\"Ligniere\"], [\"Ligniere\"], [\"Ligniere\"], [\"Ligniere\"], [\"Ligniere\"], [\"Ligniere\"], [\"Ligniere\"], [\"Ligniere\"], [\"Ligniere\"], [\"Ligniere\"], [\"Ligniere\"], [\"Ligniere\"], [\"Ligniere\"], [\"Ligniere\"], [\"Ligniere\"], [\"Ligniere\"], [\"Ligniere\"], [\"Ligniere\"], [\"Ligniere\"], [\"Ligniere\"], [\"Ligniere\"], [\"Ligniere\"], [\"Ligniere\"], [\"Ligniere\"], [\"Ligniere\"], [\"Ligniere\"], [\"Ligniere\"], [\"Ligniere\"], [\"Ligniere\"], [\"Ligniere\"], [\"Ligniere\"], [\"Ligniere\"], [\"Ligniere\"], [\"Ligniere\"], [\"Ligniere\"], [\"Ligniere\"], [\"Ligniere\"], [\"Ligniere\"], [\"Ligniere\"], [\"Ligniere\"], [\"Ligniere\"], [\"Ligniere\"], [\"Ligniere\"], [\"Ligniere\"], [\"Ligniere\"], [\"Ligniere\"], [\"Ligniere\"], [\"Ligniere\"], [\"Ligniere\"], [\"Ligniere\"], [\"Ligniere\"], [\"Ligniere\"], [\"Ligniere\"], [\"Ligniere\"], [\"Ligniere\"], [\"Ligniere\"], [\"Ligniere\"], [\"Ligniere\"], [\"Ligniere\"], [\"Ligniere\"], [\"Ligniere\"], [\"Ligniere\"], [\"Ligniere\"], [\"Ligniere\"], [\"Ligniere\"], [\"Ligniere\"], [\"Ligniere\"], [\"Ligniere\"], [\"Ligniere\"], [\"Ligniere\"], [\"Ligniere\"], [\"Ligniere\"], [\"Ligniere\"], [\"Ligniere\"], [\"Ligniere\"], [\"Ligniere\"], [\"Ligniere\"], [\"Ligniere\"], [\"Ligniere\"], [\"Ligniere\"], [\"Ligniere\"], [\"Ligniere\"], [\"Ligniere\"], [\"Ligniere\"], [\"Ligniere\"], [\"Ligniere\"], [\"Ligniere\"], [\"Ligniere\"], [\"Ligniere\"], [\"Ligniere\"], [\"Ligniere\"], [\"Ligniere\"], [\"Ligniere\"], [\"Ligniere\"], [\"Ligniere\"], [\"Ligniere\"], [\"Ligniere\"], [\"Ligniere\"], [\"Ligniere\"], [\"Ligniere\"], [\"Ligniere\"], [\"Ligniere\"], [\"Ligniere\"], [\"Ligniere\"], [\"Ligniere\"], [\"Ligniere\"], [\"Ligniere\"], [\"Ligniere\"], [\"Ligniere\"], [\"Ligniere\"], [\"Ligniere\"], [\"Ligniere\"], [\"Ligniere\"], [\"Ligniere\"], [\"Ligniere\"], [\"Ligniere\"], [\"Ligniere\"], [\"Ligniere\"], [\"Ligniere\"], [\"Ligniere\"], [\"Ligniere\"], [\"Ligniere\"], [\"Ligniere\"], [\"Ligniere\"], [\"Ligniere\"], [\"Ligniere\"], [\"Ligniere\"], [\"Ligniere\"], [\"Ligniere\"], [\"Ligniere\"], [\"Ligniere\"], [\"Ligniere\"], [\"Ligniere\"], [\"Ligniere\"], [\"Ligniere\"], [\"Ligniere\"], [\"Ligniere\"], [\"Ligniere\"], [\"Ligniere\"], [\"Ligniere\"], [\"Ligniere\"], [\"Ligniere\"], [\"Ligniere\"], [\"Ligniere\"], [\"Ligniere\"], [\"Ligniere\"], [\"Ligniere\"], [\"Ligniere\"], [\"Ligniere\"], [\"Ligniere\"], [\"Ligniere\"], [\"Ligniere\"], [\"Ligniere\"], [\"Ligniere\"], [\"Ligniere\"], [\"Ligniere\"], [\"Ligniere\"], [\"Ligniere\"], [\"Ligniere\"], [\"Ligniere\"], [\"Ligniere\"], [\"Ligniere\"], [\"Ligniere\"], [\"Ligniere\"], [\"Ligniere\"], [\"Ligniere\"], [\"Ligniere\"], [\"Ligniere\"], [\"Ligniere\"], [\"Ligniere\"], [\"Ligniere\"], [\"Ligniere\"], [\"Ligniere\"], [\"Ligniere\"], [\"Ligniere\"], [\"Ligniere\"], [\"Ligniere\"], [\"Ligniere\"], [\"Ligniere\"], [\"Ligniere\"], [\"Ligniere\"], [\"Ligniere\"], [\"Ligniere\"], [\"Ligniere\"], [\"Ligniere\"], [\"Ligniere\"], [\"Ligniere\"], [\"Ligniere\"], [\"Ligniere\"], [\"Ligniere\"], [\"Ligniere\"], [\"Ligniere\"], [\"Ligniere\"], [\"Ligniere\"], [\"Ligniere\"], [\"Ligniere\"], [\"Ligniere\"], [\"Ligniere\"], [\"Ligniere\"], [\"Ligniere\"], [\"Ligniere\"], [\"Ligniere\"], [\"Ligniere\"], [\"Ligniere\"], [\"Ligniere\"], [\"Ligniere\"], [\"Ligniere\"], [\"Ligniere\"], [\"Ligniere\"], [\"Ligniere\"], [\"Ligniere\"], [\"Ligniere\"], [\"Ligniere\"], [\"Ligniere\"], [\"Ligniere\"], [\"Ligniere\"], [\"Ligniere\"], [\"Ligniere\"], [\"Ligniere\"], [\"Ligniere\"], [\"Ligniere\"], [\"Ligniere\"], [\"Ligniere\"], [\"Ligniere\"], [\"Ligniere\"], [\"Ligniere\"], [\"Ligniere\"], [\"Ligniere\"], [\"Ligniere\"], [\"Ligniere\"], [\"Ligniere\"], [\"Ligniere\"], [\"Ligniere\"], [\"Ligniere\"], [\"Ligniere\"], [\"Ligniere\"], [\"Ligniere\"], [\"Ligniere\"], [\"Ligniere\"], [\"Ligniere\"], [\"Ligniere\"], [\"Ligniere\"], [\"Ligniere\"], [\"Ligniere\"], [\"Ligniere\"], [\"Ligniere\"], [\"Ligniere\"], [\"Ligniere\"], [\"Ligniere\"], [\"Ligniere\"], [\"Ligniere\"], [\"Ligniere\"], [\"Ligniere\"], [\"Ligniere\"], [\"Ligniere\"], [\"Ligniere\"], [\"Ligniere\"], [\"Ligniere\"], [\"Ligniere\"], [\"Ligniere\"], [\"Ligniere\"], [\"Ligniere\"], [\"Ligniere\"], [\"Ligniere\"], [\"Ligniere\"], [\"Ligniere\"], [\"Ligniere\"], [\"Ligniere\"], [\"Ligniere\"], [\"Ligniere\"], [\"Ligniere\"], [\"Ligniere\"], [\"Ligniere\"], [\"Ligniere\"], [\"Ligniere\"], [\"Ligniere\"], [\"Ligniere\"], [\"Ligniere\"], [\"Ligniere\"], [\"Ligniere\"], [\"Ligniere\"], [\"Ligniere\"], [\"Ligniere\"], [\"Ligniere\"], [\"Ligniere\"], [\"Ligniere\"], [\"Ligniere\"], [\"Ligniere\"], [\"Ligniere\"], [\"Ligniere\"], [\"Ligniere\"], [\"Ligniere\"], [\"Ligniere\"], [\"Ligniere\"], [\"Ligniere\"], [\"Ligniere\"], [\"Ligniere\"], [\"Ligniere\"], [\"Ligniere\"], [\"Ligniere\"], [\"Ligniere\"], [\"Ligniere\"], [\"Ligniere\"], [\"Ligniere\"], [\"Ligniere\"], [\"Ligniere\"], [\"Ligniere\"], [\"Ligniere\"], [\"Ligniere\"], [\"Ligniere\"], [\"Ligniere\"], [\"Ligniere\"], [\"Ligniere\"], [\"Ligniere\"], [\"Ligniere\"], [\"Ligniere\"], [\"Ligniere\"], [\"Ligniere\"], [\"Ligniere\"], [\"Ligniere\"], [\"Ligniere\"], [\"Ligniere\"], [\"Ligniere\"], [\"Ligniere\"], [\"Ligniere\"], [\"Ligniere\"], [\"Ligniere\"], [\"Ligniere\"], [\"Ligniere\"], [\"Ligniere\"], [\"Ligniere\"], [\"Ligniere\"], [\"Ligniere\"], [\"Ligniere\"], [\"Ligniere\"], [\"Ligniere\"], [\"Ligniere\"], [\"Ligniere\"], [\"Ligniere\"], [\"Ligniere\"], [\"Ligniere\"], [\"Ligniere\"], [\"Ligniere\"], [\"Ligniere\"], [\"Ligniere\"], [\"Ligniere\"], [\"Ligniere\"], [\"Ligniere\"], [\"Ligniere\"], [\"Ligniere\"], [\"Ligniere\"], [\"Ligniere\"], [\"Ligniere\"], [\"Ligniere\"], [\"Ligniere\"], [\"Ligniere\"], [\"Ligniere\"], [\"Ligniere\"], [\"Ligniere\"], [\"Ligniere\"], [\"Ligniere\"], [\"Ligniere\"], [\"Ligniere\"], [\"Ligniere\"], [\"Ligniere\"], [\"Ligniere\"], [\"Ligniere\"], [\"Ligniere\"], [\"Ligniere\"], [\"Ligniere\"], [\"Ligniere\"], [\"Ligniere\"], [\"Ligniere\"], [\"Ligniere\"], [\"Ligniere\"], [\"Ligniere\"], [\"Ligniere\"], [\"Ligniere\"], [\"Ligniere\"], [\"Ligniere\"], [\"Ligniere\"], [\"Ligniere\"], [\"Ligniere\"], [\"Ligniere\"], [\"Ligniere\"], [\"Ligniere\"], [\"Ligniere\"], [\"Ligniere\"], [\"Ligniere\"], [\"Ligniere\"], [\"Ligniere\"], [\"Ligniere\"], [\"Ligniere\"], [\"Ligniere\"], [\"Ligniere\"], [\"Ligniere\"], [\"Ligniere\"], [\"Ligniere\"], [\"Ligniere\"], [\"Ligniere\"], [\"Ligniere\"], [\"Ligniere\"], [\"Ligniere\"], [\"Ligniere\"], [\"Ligniere\"], [\"Ligniere\"], [\"Ligniere\"], [\"Ligniere\"], [\"Ligniere\"], [\"Ligniere\"], [\"Ligniere\"], [\"Ligniere\"], [\"Ligniere\"], [\"Ligniere\"], [\"Ligniere\"], [\"Ligniere\"], [\"Ligniere\"], [\"Ligniere\"], [\"Ligniere\"], [\"Ligniere\"], [\"Ligniere\"], [\"Ligniere\"], [\"Ligniere\"], [\"Ligniere\"], [\"Ligniere\"], [\"Ligniere\"], [\"Ligniere\"], [\"Ligniere\"], [\"Ligniere\"], [\"Ligniere\"], [\"Ligniere\"], [\"Ligniere\"], [\"Ligniere\"], [\"Ligniere\"], [\"Ligniere\"], [\"Ligniere\"], [\"Ligniere\"], [\"Ligniere\"], [\"Ligniere\"], [\"Ligniere\"], [\"Ligniere\"], [\"Ligniere\"], [\"Ligniere\"], [\"Ligniere\"], [\"Ligniere\"], [\"Ligniere\"], [\"Ligniere\"], [\"Ligniere\"], [\"Ligniere\"], [\"Ligniere\"], [\"Ligniere\"], [\"Ligniere\"], [\"Ligniere\"], [\"Ligniere\"], [\"Ligniere\"], [\"Ligniere\"], [\"Ligniere\"], [\"Ligniere\"], [\"Ligniere\"], [\"Ligniere\"], [\"Ligniere\"], [\"Ligniere\"], [\"Ligniere\"], [\"Ligniere\"], [\"Ligniere\"], [\"Ligniere\"], [\"Ligniere\"], [\"Ligniere\"], [\"Ligniere\"], [\"Ligniere\"], [\"Ligniere\"], [\"Ligniere\"], [\"Ligniere\"], [\"Ligniere\"], [\"Ligniere\"], [\"Ligniere\"], [\"Ligniere\"], [\"Ligniere\"], [\"Ligniere\"], [\"Ligniere\"], [\"Ligniere\"], [\"Ligniere\"], [\"Ligniere\"], [\"Ligniere\"], [\"Ligniere\"], [\"Ligniere\"], [\"Ligniere\"], [\"Ligniere\"], [\"Ligniere\"], [\"Ligniere\"], [\"Ligniere\"], [\"Ligniere\"], [\"Ligniere\"], [\"Ligniere\"], [\"Ligniere\"], [\"Ligniere\"], [\"Ligniere\"], [\"Ligniere\"], [\"Ligniere\"], [\"Ligniere\"], [\"Ligniere\"], [\"Ligniere\"], [\"Ligniere\"], [\"Ligniere\"], [\"Ligniere\"], [\"Ligniere\"], [\"Ligniere\"], [\"Ligniere\"], [\"Ligniere\"], [\"Ligniere\"], [\"Ligniere\"], [\"Ligniere\"], [\"Ligniere\"], [\"Ligniere\"], [\"Ligniere\"], [\"Ligniere\"], [\"Ligniere\"], [\"Ligniere\"], [\"Ligniere\"], [\"Ligniere\"], [\"Ligniere\"], [\"Ligniere\"], [\"Ligniere\"], [\"Ligniere\"], [\"Ligniere\"], [\"Ligniere\"], [\"Ligniere\"], [\"Ligniere\"], [\"Ligniere\"], [\"Ligniere\"], [\"Ligniere\"], [\"Ligniere\"], [\"Ligniere\"], [\"Ligniere\"], [\"Ligniere\"], [\"Ligniere\"], [\"Ligniere\"], [\"Ligniere\"], [\"Ligniere\"], [\"Ligniere\"], [\"Ligniere\"], [\"Ligniere\"], [\"Ligniere\"], [\"Ligniere\"], [\"Ligniere\"], [\"Ligniere\"], [\"Ligniere\"], [\"Ligniere\"], [\"Ligniere\"], [\"Ligniere\"], [\"Ligniere\"], [\"Ligniere\"], [\"Ligniere\"], [\"Ligniere\"], [\"Ligniere\"], [\"Ligniere\"], [\"Ligniere\"], [\"Ligniere\"], [\"Ligniere\"], [\"Ligniere\"], [\"Ligniere\"], [\"Ligniere\"], [\"Ligniere\"], [\"Ligniere\"], [\"Ligniere\"], [\"Ligniere\"], [\"Ligniere\"], [\"Ligniere\"], [\"Ligniere\"], [\"Ligniere\"], [\"Ligniere\"], [\"Ligniere\"], [\"Ligniere\"], [\"Ligniere\"], [\"Ligniere\"], [\"Ligniere\"], [\"Ligniere\"], [\"Ligniere\"], [\"Ligniere\"], [\"Ligniere\"], [\"Ligniere\"], [\"Ligniere\"], [\"Ligniere\"], [\"Ligniere\"], [\"Ligniere\"], [\"Ligniere\"], [\"Ligniere\"], [\"Ligniere\"], [\"Ligniere\"], [\"Ligniere\"], [\"Ligniere\"], [\"Ligniere\"], [\"Ligniere\"], [\"Ligniere\"], [\"Ligniere\"], [\"Ligniere\"], [\"Ligniere\"], [\"Ligniere\"], [\"Ligniere\"], [\"Ligniere\"], [\"Ligniere\"], [\"Ligniere\"], [\"Ligniere\"], [\"Ligniere\"], [\"Ligniere\"], [\"Ligniere\"], [\"Ligniere\"], [\"Ligniere\"], [\"Ligniere\"], [\"Ligniere\"], [\"Ligniere\"], [\"Ligniere\"], [\"Ligniere\"], [\"Ligniere\"], [\"Ligniere\"], [\"Ligniere\"], [\"Ligniere\"], [\"Ligniere\"], [\"Ligniere\"], [\"Ligniere\"], [\"Ligniere\"], [\"Ligniere\"], [\"Ligniere\"], [\"Ligniere\"], [\"Ligniere\"], [\"Ligniere\"], [\"Ligniere\"]], \"hoverlabel\": {\"namelength\": 0}, \"hovertemplate\": \"domain_name=%{customdata[0]}<br>stage=%{x}<br>mildew_leaves=%{y}\", \"legendgroup\": \"domain_name=Ligniere\", \"marker\": {\"color\": \"#636efa\", \"symbol\": \"circle\"}, \"mode\": \"markers\", \"name\": \"domain_name=Ligniere\", \"showlegend\": true, \"type\": \"scattergl\", \"x\": [6.0, 6.0, 6.0, 6.0, 6.0, 6.0, 6.0, 6.0, 6.0, 6.0, 6.0, 6.0, 6.0, 6.0, 6.0, 6.0, 6.0, 6.0, 6.0, 6.0, 6.0, 6.0, 6.0, 6.0, 6.0, 6.0, 6.0, 6.0, 6.0, 6.0, 6.0, 6.0, 6.0, 6.0, 6.0, 6.0, 6.0, 6.0, 6.0, 6.0, 6.0, 6.0, 6.0, 6.0, 6.0, 6.0, 6.0, 6.0, 12.0, 12.0, 12.0, 12.0, 12.0, 12.0, 12.0, 12.0, 12.0, 12.0, 12.0, 12.0, 12.0, 12.0, 12.0, 15.0, 15.0, 15.0, 15.0, 15.0, 15.0, 15.0, 15.0, 15.0, 15.0, 15.0, 15.0, 15.0, 15.0, 15.0, 15.0, 15.0, 15.0, 15.0, 15.0, 15.0, 15.0, 15.0, 15.0, 17.0, 17.0, 17.0, 17.0, 17.0, 17.0, 17.0, 17.0, 17.0, 17.0, 17.0, 17.0, 17.0, 17.0, 17.0, 17.0, 17.0, 17.0, 17.0, 17.0, 17.0, 17.0, 17.0, 17.0, 17.0, 17.0, 17.0, 17.0, 17.0, 17.0, 17.0, 17.0, 17.0, 17.0, 17.0, 17.0, 17.0, 17.0, 17.0, 17.0, 17.0, 17.0, 17.0, 17.0, 17.0, 17.0, 17.0, 17.0, 17.0, 17.0, 18.0, 18.0, 18.0, 18.0, 18.0, 18.0, 18.0, 18.0, 18.0, 18.0, 18.0, 18.0, 18.0, 18.0, 18.0, 18.0, 18.0, 18.0, 18.0, 18.0, 18.0, 18.0, 18.0, 18.0, 18.0, 19.0, 19.0, 19.0, 19.0, 19.0, 19.0, 19.0, 19.0, 19.0, 19.0, 19.0, 19.0, 19.0, 19.0, 19.0, 19.0, 19.0, 23.0, 23.0, 23.0, 23.0, 23.0, 23.0, 23.0, 23.0, 23.0, 23.0, 23.0, 23.0, 23.0, 23.0, 23.0, 23.0, 23.0, 23.0, 23.0, 23.0, 23.0, 23.0, 23.0, 23.0, 23.0, 23.0, 29.0, 29.0, 29.0, 29.0, 29.0, 29.0, 29.0, 29.0, 29.0, 29.0, 29.0, 29.0, 29.0, 29.0, 29.0, 29.0, 29.0, 29.0, 29.0, 29.0, 29.0, 29.0, 29.0, 29.0, 29.0, 29.0, 30.0, 30.0, 30.0, 30.0, 30.0, 30.0, 30.0, 30.0, 30.0, 30.0, 30.0, 30.0, 30.0, 30.0, 30.0, 30.0, 30.0, 30.0, 30.0, 30.0, 30.0, 30.0, 30.0, 30.0, 30.0, 30.0, 32.0, 32.0, 32.0, 32.0, 32.0, 32.0, 32.0, 32.0, 32.0, 32.0, 32.0, 32.0, 32.0, 32.0, 32.0, 32.0, 32.0, 32.0, 32.0, 32.0, 32.0, 32.0, 32.0, 32.0, 32.0, 32.0, 32.0, 32.0, 32.0, 32.0, 32.0, 32.0, 32.0, 32.0, 32.0, 32.0, 33.0, 33.0, 33.0, 33.0, 33.0, 33.0, 33.0, 33.0, 33.0, 33.0, 33.0, 33.0, 33.0, 33.0, 33.0, 33.0, 33.0, 33.0, 33.0, 33.0, 33.0, 33.0, 33.0, 33.0, 33.0, 33.0, 33.0, 33.0, 33.0, 33.0, 33.0, 33.0, 33.0, 33.0, 33.0, 33.0, 35.0, 35.0, 35.0, 35.0, 35.0, 35.0, 35.0, 35.0, 35.0, 35.0, 35.0, 35.0, 35.0, 35.0, 35.0, 35.0, 35.0, 35.0, 6.0, 6.0, 6.0, 6.0, 6.0, 6.0, 6.0, 6.0, 6.0, 6.0, 6.0, 6.0, 6.0, 6.0, 12.0, 12.0, 12.0, 12.0, 12.0, 12.0, 13.5, 13.5, 13.5, 13.5, 13.5, 13.5, 13.5, 13.5, 13.5, 13.5, 13.5, 13.5, 13.5, 13.5, 13.5, 13.5, 13.5, 13.5, 13.5, 13.5, 13.5, 13.5, 13.5, 16.0, 16.0, 16.0, 16.0, 16.0, 16.0, 16.0, 16.0, 16.0, 16.0, 16.0, 16.0, 16.0, 16.0, 17.0, 17.0, 17.0, 17.0, 17.0, 17.0, 17.0, 17.0, 17.0, 17.0, 17.0, 17.0, 17.0, 17.0, 17.0, 17.0, 17.0, 17.0, 17.0, 17.0, 17.0, 17.0, 17.0, 17.0, 17.0, 17.0, 17.0, 17.0, 17.0, 17.0, 17.0, 17.0, 17.0, 17.0, 17.0, 17.0, 17.0, 17.0, 17.0, 17.0, 17.0, 17.0, 17.0, 17.0, 17.0, 17.0, 17.0, 17.0, 17.0, 17.0, 17.0, 17.0, 17.0, 17.0, 17.0, 17.0, 17.0, 17.0, 17.0, 17.0, 17.0, 17.0, 17.0, 17.0, 17.0, 17.0, 17.0, 17.0, 17.0, 17.0, 17.0, 17.0, 17.0, 17.0, 17.0, 17.0, 17.0, 17.0, 17.0, 17.0, 17.0, 19.0, 19.0, 19.0, 19.0, 19.0, 19.0, 19.0, 19.0, 19.0, 19.0, 19.0, 19.0, 19.0, 19.0, 19.0, 19.0, 19.0, 19.0, 19.0, 19.0, 19.0, 19.0, 19.0, 19.0, 19.0, 19.0, 19.0, 27.0, 27.0, 27.0, 27.0, 27.0, 27.0, 27.0, 27.0, 27.0, 27.0, 27.0, 27.0, 27.0, 27.0, 27.0, 27.0, 27.0, 27.0, 27.0, 27.0, 27.0, 27.0, 27.0, 27.0, 27.0, 27.0, 27.0, 29.0, 29.0, 29.0, 29.0, 29.0, 29.0, 29.0, 29.0, 29.0, 29.0, 29.0, 29.0, 29.0, 29.0, 29.0, 29.0, 29.0, 29.0, 29.0, 29.0, 29.0, 29.0, 29.0, 29.0, 29.0, 29.0, 29.0, 31.0, 31.0, 31.0, 31.0, 31.0, 31.0, 31.0, 31.0, 31.0, 31.0, 31.0, 31.0, 31.0, 31.0, 31.0, 31.0, 31.0, 31.0, 31.0, 31.0, 31.0, 31.0, 31.0, 31.0, 31.0, 31.0, 31.0, 33.0, 33.0, 33.0, 33.0, 33.0, 33.0, 33.0, 33.0, 33.0, 33.0, 33.0, 33.0, 33.0, 33.0, 33.0, 33.0, 33.0, 33.0, 33.0, 33.0, 33.0, 33.0, 33.0, 33.0, 33.0, 33.0, 33.0, 33.0, 33.0, 33.0, 33.0, 33.0, 33.0, 33.0, 33.0, 33.0, 33.0, 33.0, 33.0, 33.0, 33.0, 33.0, 33.0, 33.0, 33.0, 33.0, 33.0, 33.0, 33.0, 33.0, 33.0, 33.0, 33.0, 33.0, 33.0, 33.0, 33.0, 33.0, 33.0, 33.0, 33.0, 33.0, 33.0, 33.0, 33.0, 33.0, 33.0, 33.0, 33.0, 33.0, 33.0, 33.0, 33.0, 33.0, 33.0, 33.0, 33.0, 33.0, 33.0, 33.0, 33.0, 9.0, 9.0, 9.0, 9.0, 9.0, 9.0, 9.0, 9.0, 9.0, 9.0, 9.0, 9.0, 9.0, 9.0, 9.0, 9.0, 9.0, 9.0, 10.5, 10.5, 10.5, 10.5, 10.5, 10.5, 10.5, 10.5, 10.5, 15.0, 15.0, 15.0, 15.0, 15.0, 15.0, 15.0, 15.0, 15.0, 15.0, 15.0, 15.0, 15.0, 15.0, 15.0, 15.0, 15.0, 15.0, 15.0, 15.0, 15.0, 15.0, 15.0, 15.0, 15.0, 15.0, 15.0, 16.0, 16.0, 16.0, 16.0, 16.0, 16.0, 16.0, 16.0, 16.0, 16.0, 16.0, 16.0, 16.0, 16.0, 16.0, 16.0, 16.0, 16.0, 16.0, 16.0, 16.0, 16.0, 16.0, 16.0, 16.0, 16.0, 16.0, 16.0, 16.0, 16.0, 16.0, 16.0, 16.0, 16.0, 16.0, 16.0, 16.0, 16.0, 16.0, 16.0, 16.0, 16.0, 16.0, 16.0, 16.0, 16.0, 16.0, 16.0, 16.0, 16.0, 16.0, 16.0, 16.0, 16.0, 16.0, 16.0, 17.0, 17.0, 17.0, 17.0, 17.0, 17.0, 17.0, 17.0, 17.0, 17.0, 17.0, 17.0, 17.0, 17.0, 17.0, 17.0, 17.0, 17.0, 17.0, 17.0, 17.0, 17.0, 17.0, 17.0, 17.0, 17.0, 17.0, 17.0, 17.0, 18.0, 18.0, 18.0, 18.0, 18.0, 18.0, 18.0, 18.0, 18.0, 18.0, 18.0, 18.0, 18.0, 18.0, 18.0, 18.0, 18.0, 18.0, 23.0, 23.0, 23.0, 23.0, 23.0, 23.0, 23.0, 23.0, 23.0, 23.0, 23.0, 23.0, 23.0, 23.0, 23.0, 23.0, 23.0, 23.0, 23.0, 23.0, 23.0, 23.0, 23.0, 23.0, 23.0, 23.0, 23.0, 23.0, 23.0, 26.0, 26.0, 26.0, 26.0, 26.0, 26.0, 26.0, 26.0, 26.0, 26.0, 26.0, 26.0, 26.0, 26.0, 26.0, 26.0, 26.0, 26.0, 26.0, 26.0, 26.0, 26.0, 26.0, 26.0, 26.0, 26.0, 26.0, 26.0, 26.0, 29.0, 29.0, 29.0, 29.0, 29.0, 29.0, 29.0, 29.0, 29.0, 29.0, 29.0, 29.0, 29.0, 29.0, 29.0, 29.0, 29.0, 29.0, 29.0, 29.0, 29.0, 29.0, 29.0, 29.0, 29.0, 29.0, 29.0, 29.0, 29.0, 31.0, 31.0, 31.0, 31.0, 31.0, 31.0, 31.0, 31.0, 31.0, 31.0, 31.0, 31.0, 31.0, 31.0, 31.0, 31.0, 31.0, 31.0, 31.0, 31.0, 31.0, 31.0, 31.0, 31.0, 31.0, 31.0, 31.0, 31.0, 31.0, 31.0, 31.0, 31.0, 31.0, 31.0, 31.0, 31.0, 31.0, 31.0, 31.0, 31.0, 31.0, 31.0, 31.0, 31.0, 31.0, 31.0, 31.0, 31.0, 31.0, 31.0, 31.0, 31.0, 31.0, 31.0, 31.0, 31.0, 33.0, 33.0, 33.0, 33.0, 33.0, 33.0, 33.0, 33.0, 33.0, 33.0, 33.0, 33.0, 33.0, 33.0, 33.0, 33.0, 33.0, 33.0, 33.0, 33.0, 33.0, 33.0, 33.0, 33.0, 33.0, 33.0, 33.0, 33.0, 33.0, 33.0, 33.0, 33.0, 33.0, 33.0, 33.0, 33.0, 33.0, 33.0, 33.0, 33.0, 33.0, 33.0, 33.0, 33.0, 33.0, 33.0, 33.0, 35.0, 35.0, 35.0, 35.0, 35.0, 35.0, 35.0, 35.0, 35.0, 35.0, 35.0, 35.0, 35.0, 35.0, 35.0, 35.0, 35.0, 35.0, 35.0, 35.0, 35.0, 35.0, 35.0, 35.0, 35.0, 35.0, 35.0, 35.0, 35.0, 35.0, 35.0, 35.0, 35.0, 35.0, 35.0, 35.0, 35.0, 35.0, 10.0, 10.0, 10.0, 10.0, 10.0, 10.0, 10.0, 10.0, 10.0, 10.0, 10.0, 10.0, 10.0, 10.0, 10.0, 10.0, 10.0, 10.0, 10.0, 10.0, 10.0, 10.0, 10.0, 10.0, 10.0, 10.0, 10.0, 10.0, 10.0, 11.0, 11.0, 11.0, 11.0, 11.0, 11.0, 11.0, 11.0, 11.0, 11.0, 11.0, 11.0, 11.0, 11.0, 11.0, 11.0, 11.0, 11.0, 11.0, 11.0, 11.0, 11.0, 11.0, 11.0, 11.0, 11.0, 11.0, 11.0, 11.0, 15.0, 15.0, 15.0, 15.0, 15.0, 15.0, 15.0, 15.0, 15.0, 15.0, 15.0, 15.0, 15.0, 15.0, 15.0, 15.0, 15.0, 15.0, 15.0, 15.0, 15.0, 15.0, 15.0, 15.0, 15.0, 15.0, 15.0, 15.0, 15.0, 17.0, 17.0, 17.0, 17.0, 17.0, 17.0, 17.0, 17.0, 17.0, 19.0, 19.0, 19.0, 19.0, 19.0, 19.0, 19.0, 19.0, 19.0, 19.0, 19.0, 19.0, 19.0, 19.0, 19.0, 19.0, 19.0, 19.0, 25.0, 25.0, 25.0, 25.0, 25.0, 25.0, 25.0, 25.0, 25.0, 25.0, 25.0, 25.0, 25.0, 25.0, 25.0, 25.0, 25.0, 25.0, 25.0, 25.0, 27.0, 27.0, 27.0, 27.0, 27.0, 27.0, 27.0, 27.0, 27.0, 27.0, 27.0, 27.0, 27.0, 27.0, 27.0, 27.0, 27.0, 27.0, 27.0, 27.0, 29.0, 29.0, 29.0, 29.0, 29.0, 29.0, 29.0, 29.0, 29.0, 29.0, 29.0, 29.0, 29.0, 29.0, 29.0, 29.0, 29.0, 29.0, 29.0, 29.0, 29.0, 29.0, 29.0, 29.0, 29.0, 29.0, 29.0, 29.0, 29.0, 31.0, 31.0, 31.0, 31.0, 31.0, 31.0, 31.0, 31.0, 31.0, 31.0, 31.0, 31.0, 31.0, 31.0, 31.0, 31.0, 31.0, 31.0, 31.0, 31.0, 31.0, 31.0, 31.0, 31.0, 31.0, 31.0, 31.0, 31.0, 31.0, 33.0, 33.0, 33.0, 33.0, 33.0, 33.0, 33.0, 33.0, 33.0, 33.0, 33.0, 33.0, 33.0, 33.0, 33.0, 33.0, 33.0, 33.0, 33.0, 33.0, 35.0, 35.0, 35.0, 35.0, 35.0, 35.0, 35.0, 35.0, 35.0, 35.0, 35.0, 35.0, 35.0, 35.0, 35.0, 35.0, 35.0, 35.0, 35.0, 35.0, 7.0, 7.0, 7.0, 7.0, 7.0, 7.0, 7.0, 7.0, 7.0, 7.0, 7.0, 7.0, 7.0, 7.0, 7.0, 7.0, 7.0, 7.0, 7.0, 7.0, 11.0, 11.0, 11.0, 11.0, 11.0, 11.0, 11.0, 11.0, 11.0, 11.0, 11.0, 11.0, 11.0, 11.0, 11.0, 11.0, 11.0, 11.0, 11.0, 11.0, 11.0, 11.0, 12.0, 12.0, 12.0, 12.0, 12.0, 12.0, 12.0, 12.0, 12.0, 12.0, 12.0, 12.0, 12.0, 12.0, 12.0, 12.0, 12.0, 12.0, 12.0, 12.0, 12.0, 12.0, 12.0, 12.0, 12.0, 12.0, 12.0, 12.0, 15.0, 15.0, 15.0, 15.0, 15.0, 15.0, 15.0, 15.0, 15.0, 15.0, 15.0, 16.5, 16.5, 16.5, 16.5, 16.5, 16.5, 16.5, 16.5, 16.5, 16.5, 16.5, 16.5, 16.5, 16.5, 16.5, 16.5, 16.5, 16.5, 16.5, 16.5, 16.5, 16.5, 16.5, 16.5, 16.5, 16.5, 16.5, 16.5, 16.5, 16.5, 16.5, 16.5, 17.0, 17.0, 17.0, 17.0, 17.0, 17.0, 17.0, 17.0, 17.0, 17.0, 17.0, 17.0, 17.0, 17.0, 17.0, 17.0, 17.0, 17.0, 17.0, 17.0, 17.0, 17.0, 17.0, 17.0, 17.0, 17.0, 17.0, 17.0, 17.0, 17.0, 17.0, 17.0, 17.0, 17.0, 17.0, 17.0, 17.0, 17.0, 17.0, 17.0, 17.0, 17.0, 17.0, 17.0, 17.0, 17.0, 17.0, 17.0, 17.0, 17.0, 17.0, 17.0, 17.0, 17.0, 17.0, 17.0, 17.0, 17.0, 17.0, 17.0, 17.0, 17.0, 17.0, 17.0, 17.0, 17.0, 17.0, 17.0, 17.0, 17.0, 17.0, 17.0, 17.0, 17.0, 17.0, 17.0, 17.0, 17.0, 17.0, 17.0, 17.0, 17.0, 17.0, 17.0, 17.0, 17.0, 17.0, 17.0, 17.0, 27.0, 27.0, 27.0, 27.0, 27.0, 27.0, 27.0, 27.0, 27.0, 27.0, 27.0, 27.0, 27.0, 27.0, 27.0, 27.0, 27.0, 27.0, 27.0, 27.0, 27.0, 27.0, 27.0, 27.0, 27.0, 27.0, 27.0, 27.0, 27.0, 27.0, 27.0, 27.0, 27.0, 27.0, 28.0, 28.0, 28.0, 28.0, 28.0, 28.0, 28.0, 28.0, 28.0, 28.0, 28.0, 28.0, 28.0, 28.0, 28.0, 28.0, 28.0, 28.0, 28.0, 28.0, 28.0, 28.0, 28.0, 28.0, 28.0, 28.0, 28.0, 28.0, 28.0, 28.0, 28.0, 28.0, 28.0, 28.0, 29.0, 29.0, 29.0, 29.0, 29.0, 29.0, 29.0, 29.0, 29.0, 29.0, 29.0, 29.0, 29.0, 29.0, 29.0, 29.0, 29.0, 29.0, 29.0, 29.0, 29.0, 29.0, 29.0, 29.0, 29.0, 29.0, 29.0, 29.0, 29.0, 29.0, 29.0, 29.0, 29.0, 29.0, 32.0, 32.0, 32.0, 32.0, 32.0, 32.0, 32.0, 32.0, 32.0, 32.0, 32.0, 32.0, 32.0, 32.0, 32.0, 32.0, 32.0, 32.0, 32.0, 32.0, 32.0, 32.0, 32.0, 32.0, 32.0, 32.0, 32.0, 32.0, 32.0, 32.0, 32.0, 32.0, 32.0, 32.0, 33.0, 33.0, 33.0, 33.0, 33.0, 33.0, 33.0, 33.0, 33.0, 33.0, 33.0, 33.0, 33.0, 33.0, 33.0, 33.0, 33.0, 33.0, 33.0, 33.0, 33.0, 33.0, 33.0, 33.0, 33.0, 33.0, 33.0, 33.0, 33.0, 33.0, 33.0, 33.0, 33.0, 33.0, 33.0, 33.0, 33.0, 33.0, 33.0, 33.0, 33.0, 33.0, 33.0, 33.0, 33.0, 33.0, 33.0, 33.0, 33.0, 33.0, 33.0, 33.0, 33.0, 33.0, 33.0, 33.0, 33.0, 33.0, 33.0, 33.0, 33.0, 34.0, 34.0, 34.0, 34.0, 34.0, 34.0, 34.0, 34.0, 34.0, 34.0, 34.0, 34.0, 34.0, 34.0, 34.0, 34.0, 34.0, 34.0, 34.0, 34.0, 34.0, 34.0, 34.0, 34.0, 34.0, 34.0, 34.0, 34.0, 34.0, 34.0, 34.0, 34.0, 34.0, 34.0, 35.0, 35.0, 35.0, 35.0, 35.0, 35.0, 35.0, 35.0, 12.0, 12.0, 12.0, 12.0, 12.0, 12.0, 12.0, 12.0, 12.0, 12.0, 12.0, 12.0, 15.0, 15.0, 15.0, 15.0, 15.0, 15.0, 15.0, 15.0, 15.0, 15.0, 15.0, 15.0, 15.0, 15.0, 15.0, 15.0, 15.0, 15.0, 15.0, 15.0, 15.0, 16.0, 16.0, 16.0, 16.0, 16.0, 16.0, 16.0, 16.0, 16.0, 16.0, 16.0, 16.0, 16.0, 16.0, 16.0, 16.0, 16.0, 16.0, 16.0, 16.0, 16.0, 16.0, 16.0, 16.0, 16.0, 16.0, 16.0, 16.0, 16.0, 16.0, 16.0, 16.0, 16.0, 16.0, 16.0, 16.0, 16.0, 16.0, 16.0, 16.0, 16.0, 16.0, 16.0, 17.0, 17.0, 17.0, 17.0, 17.0, 17.0, 17.0, 17.0, 17.0, 17.0, 17.0, 17.0, 17.0, 17.0, 17.0, 17.0, 17.0, 17.0, 17.0, 17.0, 17.0, 17.0, 21.0, 21.0, 24.0, 24.0, 24.0, 24.0, 24.0, 24.0, 24.0, 24.0, 24.0, 24.0, 24.0, 24.0, 24.0, 32.0, 32.0, 32.0, 32.0, 32.0, 32.0, 32.0, 32.0, 32.0, 32.0, 32.0, 32.0, 32.0, 32.0, 32.0, 32.0, 32.0, 32.0, 32.0, 32.0, 32.0, 32.0, 32.0, 32.0, 32.0, 32.0, 32.0, 32.0, 32.0, 32.0, 32.0, 32.0, 32.0, 32.0, 32.0, 32.0, 32.0, 32.0, 32.0, 32.0, 32.0, 32.0, 32.0, 32.0, 32.0, 32.0, 33.0, 33.0, 33.0, 33.0, 33.0, 33.0, 33.0, 33.0, 33.0, 33.0, 33.0, 33.0, 33.0, 33.0, 33.0, 33.0, 33.0, 33.0, 33.0, 33.0, 33.0, 33.0, 33.0, 33.0, 33.0, 33.0, 33.0, 33.0, 33.0, 33.0, 33.0, 33.0, 33.0, 33.0, 33.0, 33.0, 33.0, 33.0, 33.0, 33.0, 33.0, 33.0, 33.0, 33.0, 33.0, 33.0, 33.0, 33.0, 33.0, 33.0, 33.0, 33.0, 33.0, 33.0, 33.0, 33.0, 33.0, 33.0, 33.0, 33.0, 33.0, 33.0, 33.0, 33.0, 33.0, 33.0, 33.0, 33.0, 33.0, 33.0, 33.0, 33.0, 33.0, 33.0, 33.0, 33.0, 33.0, 33.0, 33.0, 33.0, 33.0, 33.0, 33.0, 33.0, 33.0, 33.0, 33.0, 33.0, 33.0, 33.0, 33.0, 33.0, 33.0, 33.0, 33.0, 33.0, 33.0, 33.0, 33.0, 33.0, 33.0, 33.0, 33.0, 35.0, 35.0, 35.0, 35.0, 35.0, 35.0, 35.0, 35.0, 35.0, 35.0, 35.0, 35.0, 35.0, 35.0, 35.0, 35.0, 35.0, 37.0, 37.0, 37.0, 37.0, 37.0, 37.0, 37.0, 37.0, 37.0, 37.0, 37.0, 37.0, 37.0, 37.0, 37.0, 37.0, 37.0, 37.0, 9.0, 9.0, 9.0, 9.0, 9.0, 9.0, 9.0, 9.0, 9.0, 9.0, 9.0, 9.0, 9.0, 9.0, 9.0, 9.0, 9.0, 9.0, 9.0, 9.0, 12.0, 12.0, 12.0, 17.0, 17.0, 17.0, 17.0, 17.0, 17.0, 17.0, 17.0, 17.0, 17.0, 19.0, 19.0, 19.0, 19.0, 19.0, 19.0, 19.0, 19.0, 19.0, 19.0, 19.0, 19.0, 19.0, 19.0, 19.0, 19.0, 19.0, 19.0, 19.0, 19.0, 19.0, 19.0, 19.0, 19.0, 19.0, 19.0, 19.0, 25.0, 25.0, 25.0, 25.0, 25.0, 25.0, 25.0, 25.0, 25.0, 25.0, 25.0, 25.0, 25.0, 25.0, 25.0, 25.0, 25.0, 29.0, 29.0, 29.0, 29.0, 29.0, 29.0, 29.0, 29.0, 29.0, 29.0, 29.0, 29.0, 29.0, 29.0, 29.0, 29.0, 29.0, 33.0, 33.0, 33.0, 33.0, 33.0, 33.0, 33.0, 33.0, 33.0, 33.0, 33.0, 33.0, 33.0, 33.0, 33.0, 33.0, 33.0, 33.0, 33.0, 33.0, 33.0, 33.0, 33.0, 33.0, 33.0, 33.0, 33.0, 33.0, 33.0, 33.0, 33.0, 33.0, 34.0, 34.0, 34.0, 34.0, 34.0, 34.0, 34.0, 34.0, 34.0, 34.0, 34.0, 34.0, 34.0, 34.0, 34.0, 34.0, 34.0, 34.0, 34.0, 34.0, 34.0, 34.0, 34.0, 34.0, 34.0, 35.0, 35.0, 35.0, 35.0, 35.0, 35.0, 35.0, 35.0, 35.0, 35.0, 35.0, 35.0, 35.0, 35.0, 35.0, 35.0, 35.0, 35.0, 35.0, 35.0, 35.0, 35.0, 35.0, 35.0, 35.0, 35.0, 35.0, 35.0, 35.0, 35.0, 35.0, 35.0, 35.0, 35.0, 35.0, 35.0, 35.0, 35.0, 35.0, 35.0, 35.0, 35.0, 35.0, 35.0, 35.0, 35.0, 35.0, 35.0, 35.0, 35.0, 35.0, 35.0, 35.0, 35.0, 35.0, 35.0, 35.0, 35.0, 35.0, 35.0, 35.0, 35.0, 35.0, 35.0, 35.0, 34.0, 34.0, 34.0, 34.0, 34.0, 34.0, 34.0, 34.0, 34.0, 34.0, 34.0, 34.0, 34.0, 34.0, 34.0, 34.0, 34.0, 34.0, 34.0, 34.0, 34.0, 34.0, 34.0, 34.0, 34.0, 5.0, 5.0, 5.0, 5.0, 5.0, 5.0, 5.0, 5.0, 5.0, 5.0, 6.0, 6.0, 6.0, 6.0, 6.0, 6.0, 6.0, 6.0, 6.0, 6.0, 6.0, 6.0, 6.0, 6.0, 6.0, 6.0, 6.0, 6.0, 6.0, 6.0, 6.0, 12.0, 12.0, 12.0, 15.0, 15.0, 16.5, 16.5, 16.5, 16.5, 16.5, 16.5, 16.5, 16.5, 16.5, 16.5, 16.5, 16.5, 16.5, 16.5, 16.5, 16.5, 16.5, 16.5, 16.5, 16.5, 16.5, 16.5, 16.5, 16.5, 16.5, 16.5, 16.5, 16.5, 16.5, 16.5, 16.5, 16.5, 17.0, 17.0, 17.0, 17.0, 17.0, 17.0, 17.0, 17.0, 17.0, 17.0, 17.0, 17.0, 17.0, 17.0, 17.0, 17.0, 17.0, 17.0, 17.0, 17.0, 17.0, 17.0, 17.0, 17.0, 17.0, 17.0, 17.0, 17.0, 17.0, 17.0], \"xaxis\": \"x\", \"y\": [0.0, 0.0, 0.0, 0.0, 0.0, 0.0, 0.0, 0.0, 0.0, 0.0, 0.0, 0.0, 0.0, 0.0, 0.0, 0.0, 0.0, 0.0, 0.0, 0.0, 0.0, 0.0, 0.0, 0.0, 0.0, 0.0, 0.0, 0.0, 0.0, 0.0, 0.0, 0.0, 0.0, 0.0, 0.0, 0.0, 0.0, 0.0, 0.0, 0.0, 0.0, 0.0, 0.0, 0.0, 0.0, 0.0, 0.0, 0.0, 0.0, 0.0, 0.0, 0.0, 0.0, 0.0, 0.0, 0.0, 0.0, 0.0, 0.0, 0.0, 0.0, 0.0, 0.0, 0.0, 0.0, 0.0, 0.0, 0.0, 0.0, 0.0, 0.0, 0.0, 0.0, 0.0, 0.0, 0.0, 0.0, 0.0, 0.0, 0.0, 0.0, 0.0, 0.0, 0.0, 0.0, 0.0, 1.0, 0.0, 0.0, 0.0, 0.0, 0.0, 0.0, 0.0, 0.0, 0.0, 0.0, 0.0, 0.0, 0.0, 0.0, 0.0, 0.0, null, 0.0, 0.0, 0.0, 0.0, 0.0, 0.0, 0.0, 0.0, 0.0, 0.0, 0.0, 2.0, 0.0, null, 2.0, 1.0, 1.0, 1.0, 1.0, 1.0, 1.0, 2.0, 1.0, 0.0, 1.0, 0.0, 0.0, 1.0, 1.0, 1.0, 2.0, 2.0, 2.0, 2.0, 2.0, 2.0, null, 1.0, 2.0, 1.0, 0.0, 1.0, 1.0, 1.0, 2.0, 1.0, 1.0, 1.0, null, 2.0, 1.0, 0.0, 1.0, 0.0, 0.0, 1.0, 1.0, 1.0, 2.0, 2.0, 2.0, 1.0, 1.0, 2.0, 2.0, 3.0, null, null, null, null, 2.0, null, null, null, null, 2.0, 1.0, 1.0, 2.0, null, 2.0, null, 2.0, 3.0, 1.0, 1.0, 2.0, 2.0, 1.0, 1.0, 1.0, 1.0, null, null, null, null, null, null, null, 2.0, 2.0, 3.0, 2.0, 2.0, 1.0, 1.0, 2.0, 2.0, 3.0, 3.0, 2.0, 2.0, 2.0, 2.0, 2.0, 2.0, 2.0, 2.0, null, null, null, null, null, null, null, null, null, 3.0, 2.0, 2.0, 1.0, 1.0, null, 2.0, null, 2.0, null, 3.0, null, 3.0, 2.0, 2.0, 2.0, 2.0, 2.0, 2.0, 2.0, 2.0, null, null, null, null, null, 3.0, 2.0, 2.0, 1.0, 1.0, 2.0, 2.0, 3.0, 3.0, null, 3.0, null, null, null, null, null, null, 3.0, 2.0, 3.0, 3.0, 3.0, 3.0, 2.0, 1.0, 1.0, 2.0, 3.0, 3.0, 2.0, 1.0, 1.0, 2.0, 2.0, 3.0, 3.0, 3.0, null, null, null, null, null, null, 3.0, 3.0, 3.0, 2.0, 2.0, 2.0, 2.0, 2.0, 3.0, 3.0, null, 3.0, 3.0, 2.0, 2.0, 2.0, 2.0, 2.0, 3.0, 3.0, null, 3.0, null, null, null, null, null, null, 3.0, 2.0, 2.0, 2.0, 2.0, 2.0, 3.0, 3.0, null, 3.0, null, null, null, null, null, null, 3.0, 3.0, 3.0, 0.0, 0.0, 0.0, 0.0, 0.0, 0.0, 0.0, 0.0, 0.0, 0.0, 0.0, 0.0, 0.0, 0.0, 0.0, 0.0, 0.0, 0.0, 0.0, 0.0, 0.0, 0.0, 0.0, 0.0, 0.0, 0.0, 0.0, 0.0, 0.0, 0.0, 0.0, 0.0, 0.0, 0.0, 0.0, 0.0, 0.0, 0.0, 0.0, 0.0, 0.0, 0.0, 0.0, 0.0, 0.0, 0.0, 0.0, 0.0, 0.0, 0.0, 0.0, 0.0, 0.0, 0.0, 0.0, 0.0, 0.0, null, null, 1.0, null, null, 3.0, 0.0, 0.0, 0.0, 0.0, 0.0, 0.0, 1.0, 0.0, 0.0, 0.0, 0.0, 0.0, 0.0, 0.0, 0.0, 0.0, null, null, null, null, null, null, null, null, 0.0, null, 0.0, null, 0.0, null, 0.0, null, 0.0, 1.0, 0.0, 1.0, 1.0, 3.0, 0.0, 3.0, 0.0, 0.0, 0.0, 0.0, 0.0, 0.0, 0.0, 0.0, null, null, null, null, null, null, 1.0, 1.0, 3.0, 3.0, 0.0, 0.0, 0.0, 0.0, 0.0, 0.0, 1.0, 0.0, 0.0, 0.0, 0.0, 0.0, 0.0, 0.0, 0.0, 0.0, null, 1.0, 1.0, 1.0, 1.0, null, null, null, 0.0, null, 0.0, null, 0.0, null, 0.0, null, 0.0, 1.0, 0.0, 1.0, 1.0, 3.0, 1.0, 3.0, 0.0, 1.0, 1.0, 0.0, 1.0, 1.0, 1.0, null, 1.0, null, 1.0, 1.0, null, 1.0, 1.0, 1.0, 3.0, 3.0, 0.0, 0.0, 0.0, 0.0, 0.0, 0.0, 1.0, 1.0, 1.0, 1.0, 1.0, 1.0, 1.0, 1.0, 1.0, 1.0, 1.0, 1.0, 1.0, 1.0, 1.0, null, 1.0, null, 1.0, 1.0, 1.0, 1.0, 1.0, null, 0.0, 1.0, 0.0, 1.0, 2.0, 1.0, 3.0, 3.0, 2.0, 3.0, 1.0, 1.0, 1.0, 1.0, 1.0, 1.0, 1.0, 1.0, 1.0, 3.0, 1.0, 3.0, null, 1.0, null, 1.0, 1.0, null, 1.0, 1.0, 1.0, 1.0, 0.0, 0.0, 2.0, 3.0, 2.0, 3.0, 1.0, 2.0, 2.0, 1.0, 2.0, 1.0, 1.0, 2.0, 1.0, 1.0, 1.0, 3.0, 3.0, 1.0, 1.0, 1.0, 1.0, 1.0, 2.0, 3.0, 2.0, 3.0, 3.0, 3.0, 2.0, 1.0, 3.0, 3.0, 3.0, 2.0, 1.0, 3.0, 1.0, 2.0, 2.0, 2.0, 1.0, 2.0, 1.0, 2.0, 1.0, 2.0, 1.0, 1.0, 1.0, 2.0, 2.0, 2.0, 3.0, 2.0, 2.0, 2.0, 2.0, 3.0, 3.0, 2.0, 1.0, 3.0, 1.0, 2.0, 2.0, 2.0, 2.0, 2.0, 2.0, 1.0, 2.0, 2.0, 2.0, 2.0, 2.0, 2.0, 2.0, 3.0, 3.0, 1.0, 2.0, 3.0, 2.0, 3.0, 0.0, 0.0, 0.0, 0.0, 0.0, 0.0, 0.0, 0.0, 0.0, 0.0, 0.0, 0.0, 0.0, 0.0, 0.0, 0.0, 0.0, 0.0, 0.0, 0.0, 0.0, 0.0, 0.0, 0.0, 0.0, 0.0, 0.0, 0.0, 0.0, 0.0, 0.0, 0.0, 0.0, 0.0, 0.0, 0.0, 0.0, 0.0, 0.0, 0.0, 0.0, 0.0, 0.0, 0.0, 0.0, 0.0, 0.0, 0.0, 0.0, 0.0, 0.0, 0.0, 0.0, 0.0, 0.0, 0.0, 0.0, 0.0, 0.0, 0.0, 0.0, 0.0, 0.0, 0.0, 0.0, 0.0, 0.0, 0.0, 0.0, 0.0, 0.0, 0.0, 0.0, 0.0, 0.0, 0.0, 0.0, 1.0, 0.0, 0.0, 0.0, 0.0, 0.0, 0.0, 0.0, 0.0, 0.0, 0.0, 0.0, 0.0, 0.0, 0.0, 0.0, 0.0, 0.0, 0.0, 1.0, 2.0, 0.0, 0.0, 0.0, 0.0, 0.0, 0.0, 0.0, 0.0, 0.0, 0.0, 0.0, 0.0, 0.0, 0.0, 1.0, 0.0, 0.0, 0.0, 0.0, 0.0, 0.0, 0.0, 0.0, 0.0, 0.0, 1.0, 0.0, null, 0.0, 0.0, 0.0, null, 0.0, null, 0.0, null, 0.0, 0.0, 2.0, 2.0, 3.0, 0.0, 0.0, 0.0, 1.0, 0.0, 0.0, 0.0, 0.0, 0.0, 0.0, 0.0, 0.0, 0.0, 0.0, 0.0, 0.0, 0.0, 0.0, 0.0, 0.0, 0.0, 0.0, 0.0, 0.0, 0.0, 0.0, 0.0, 0.0, null, 0.0, null, 0.0, null, 0.0, null, 0.0, null, 0.0, null, 0.0, null, 0.0, null, 1.0, 1.0, null, null, 2.0, 0.0, 0.0, 0.0, 0.0, 0.0, 0.0, 0.0, 0.0, 0.0, 0.0, null, null, null, null, null, null, null, null, null, null, null, 0.0, 0.0, 0.0, 0.0, 0.0, 0.0, 0.0, null, 1.0, 1.0, 1.0, 3.0, 1.0, 1.0, 1.0, 2.0, 2.0, 0.0, 0.0, 0.0, 0.0, 0.0, 0.0, 0.0, 0.0, 0.0, null, null, null, null, null, null, null, null, null, null, 1.0, 1.0, 1.0, 3.0, 0.0, 1.0, 0.0, 1.0, 0.0, 1.0, 1.0, 0.0, 2.0, 2.0, 2.0, 3.0, 0.0, 3.0, 0.0, 0.0, 0.0, 0.0, 0.0, 0.0, 0.0, 0.0, 1.0, 2.0, 1.0, 1.0, 1.0, 1.0, 3.0, 1.0, 1.0, 1.0, 2.0, 2.0, 0.0, 0.0, 0.0, 0.0, 0.0, 0.0, 0.0, 1.0, 1.0, 1.0, 3.0, 1.0, 1.0, 1.0, 2.0, 2.0, 0.0, 0.0, 0.0, 0.0, 0.0, 2.0, 2.0, 2.0, 3.0, 2.0, 2.0, 2.0, 2.0, 2.0, 0.0, 0.0, 0.0, 0.0, 0.0, 0.0, 3.0, 3.0, 3.0, 3.0, 3.0, 3.0, 3.0, 2.0, 2.0, 3.0, 3.0, 3.0, 3.0, 3.0, 3.0, 3.0, 3.0, 3.0, null, 3.0, 3.0, 3.0, 3.0, 2.0, 3.0, 3.0, 3.0, 3.0, 3.0, null, 3.0, 3.0, 3.0, 3.0, 3.0, 3.0, 3.0, 3.0, 3.0, 2.0, 3.0, 3.0, 3.0, 3.0, 3.0, 3.0, 3.0, 3.0, 3.0, 3.0, 3.0, 3.0, 3.0, 3.0, 3.0, 3.0, 3.0, 2.0, 3.0, 3.0, 3.0, 2.0, 3.0, 3.0, 3.0, 1.0, 2.0, 0.0, 0.0, 0.0, 0.0, 0.0, 0.0, 0.0, 0.0, 0.0, 0.0, 0.0, 0.0, 0.0, 0.0, 0.0, 0.0, 0.0, 0.0, 0.0, 0.0, 0.0, 0.0, 0.0, 0.0, 0.0, 0.0, 0.0, 0.0, 0.0, 0.0, 0.0, 0.0, 0.0, 0.0, 0.0, 0.0, 0.0, 0.0, 0.0, 0.0, 0.0, 0.0, 0.0, 0.0, 0.0, 0.0, 0.0, 0.0, 0.0, 0.0, 0.0, 0.0, 0.0, 0.0, 0.0, 0.0, 0.0, 0.0, null, 1.0, 1.0, 1.0, 0.0, 0.0, 0.0, 0.0, 0.0, 0.0, 0.0, 0.0, 0.0, 0.0, 0.0, 0.0, 0.0, 0.0, 0.0, 0.0, 0.0, 0.0, 1.0, null, null, null, null, null, null, 0.0, 0.0, 0.0, 0.0, 0.0, 0.0, 0.0, 0.0, 0.0, 1.0, 1.0, 1.0, 1.0, 1.0, 1.0, 1.0, 1.0, 1.0, 0.0, 0.0, 0.0, 1.0, 0.0, 0.0, 0.0, 1.0, 0.0, 1.0, 0.0, 0.0, 0.0, 2.0, 0.0, 0.0, 0.0, 2.0, 0.0, 2.0, 1.0, 1.0, 2.0, 1.0, 1.0, 1.0, 1.0, 2.0, 1.0, 0.0, 0.0, 0.0, 2.0, 0.0, 0.0, 0.0, 1.0, 0.0, 2.0, 1.0, 1.0, 2.0, 2.0, 1.0, 1.0, 1.0, 1.0, 1.0, 1.0, 2.0, 0.0, 3.0, 0.0, 1.0, 0.0, 1.0, 0.0, 1.0, 1.0, 1.0, 1.0, 1.0, 1.0, 1.0, 1.0, 1.0, 2.0, 0.0, 1.0, 1.0, 2.0, 2.0, 1.0, 1.0, 1.0, 1.0, 1.0, 1.0, 1.0, 2.0, 0.0, 3.0, 0.0, 2.0, 0.0, 1.0, 1.0, 1.0, 2.0, 1.0, 1.0, 1.0, 1.0, 1.0, 1.0, 1.0, 1.0, 1.0, 1.0, 1.0, 1.0, 1.0, 1.0, 2.0, 1.0, 1.0, 2.0, 1.0, 2.0, 0.0, 3.0, 0.0, 0.0, 1.0, 2.0, 1.0, 2.0, 1.0, 1.0, 2.0, 2.0, 1.0, 1.0, 1.0, 1.0, 1.0, 1.0, 2.0, 0.0, 3.0, 0.0, 0.0, 1.0, 2.0, 1.0, 2.0, 1.0, 1.0, 2.0, 2.0, 1.0, 1.0, 1.0, 1.0, 1.0, 1.0, 1.0, null, 0.0, 0.0, 0.0, 0.0, 0.0, 0.0, 0.0, 0.0, 0.0, 0.0, 0.0, null, null, null, null, null, null, null, null, null, 0.0, 0.0, 0.0, 0.0, 0.0, 0.0, 0.0, 0.0, null, 0.0, null, 0.0, null, 0.0, null, null, null, null, null, null, null, 0.0, 0.0, 0.0, 0.0, 0.0, 0.0, 0.0, 0.0, 0.0, 0.0, 0.0, 0.0, null, null, null, null, null, null, null, null, null, null, 0.0, 0.0, 0.0, 0.0, 0.0, 0.0, 0.0, null, null, 0.0, 0.0, 0.0, 0.0, 0.0, 0.0, 0.0, 0.0, 0.0, 0.0, 1.0, 0.0, 0.0, null, 2.0, 1.0, 0.0, 0.0, 1.0, 0.0, 0.0, 0.0, 1.0, 0.0, 0.0, 0.0, 0.0, 1.0, 1.0, 0.0, 0.0, 0.0, 0.0, 1.0, 0.0, 0.0, 1.0, 0.0, 0.0, 0.0, 1.0, 2.0, null, 0.0, 2.0, 0.0, 1.0, 3.0, 0.0, 1.0, 0.0, 1.0, 1.0, 3.0, 0.0, 1.0, 0.0, 1.0, 0.0, 1.0, 0.0, 0.0, 0.0, 0.0, 0.0, 2.0, 2.0, 1.0, 0.0, 1.0, 2.0, 3.0, 2.0, 2.0, 3.0, 2.0, 2.0, 1.0, 0.0, 0.0, null, 3.0, 3.0, 1.0, 3.0, 3.0, 2.0, 2.0, 2.0, 1.0, 0.0, 1.0, 1.0, 3.0, 3.0, 0.0, 0.0, 1.0, 1.0, 2.0, 2.0, 1.0, null, 0.0, 3.0, 1.0, 3.0, 1.0, 1.0, 3.0, 3.0, 3.0, 3.0, 3.0, 2.0, 3.0, 0.0, 2.0, 0.0, 2.0, 1.0, 3.0, 0.0, 2.0, 1.0, 2.0, 1.0, 0.0, 0.0, 2.0, 1.0, 0.0, 1.0, 3.0, 0.0, 2.0, 1.0, 2.0, 0.0, 1.0, 0.0, 2.0, 1.0, 0.0, 1.0, 2.0, 2.0, 1.0, 2.0, 1.0, 1.0, 3.0, 3.0, 2.0, 3.0, 2.0, 2.0, 1.0, 3.0, 3.0, 1.0, 3.0, 3.0, 3.0, 3.0, 2.0, 3.0, 2.0, 2.0, 3.0, 2.0, 2.0, 1.0, 1.0, 2.0, 3.0, 0.0, 3.0, 1.0, 3.0, 3.0, 2.0, 1.0, 0.0, 1.0, 0.0, 1.0, 0.0, 1.0, 1.0, 1.0, 2.0, 2.0, 1.0, 2.0, 1.0, 1.0, 0.0, 1.0, 0.0, 1.0, 1.0, 1.0, 2.0, 2.0, 1.0, 1.0, 3.0, 2.0, 1.0, 3.0, 1.0, 1.0, 3.0, 3.0, 3.0, 3.0, 2.0, 2.0, 3.0, 1.0, 2.0, 0.0, 2.0, 1.0, 3.0, 2.0, 2.0, 1.0, 2.0, 3.0, 3.0, 3.0, 2.0, 1.0, 2.0, 0.0, 2.0, 1.0, 3.0, 1.0, 2.0, 1.0, 0.0, 2.0, 1.0, 1.0, 1.0, 2.0, 1.0, 3.0, 2.0, 2.0, 1.0, 2.0, 1.0, 1.0, 3.0, 3.0, 2.0, 3.0, 1.0, 3.0, 3.0, 3.0, 2.0, 1.0, 1.0, 3.0, 3.0, 2.0, 3.0, 2.0, 2.0, 3.0, 2.0, 2.0, 1.0, 1.0, 3.0, 2.0, 3.0, 3.0, 3.0, 3.0, 3.0, 2.0, 3.0, 1.0, 0.0, 1.0, 1.0, 1.0, 0.0, 1.0, 1.0, 1.0, 2.0, 2.0, 1.0, 3.0, 2.0, 2.0, 1.0, 2.0, 1.0, 1.0, 3.0, 3.0, 2.0, 3.0, 2.0, 1.0, 2.0, 3.0, 3.0, 3.0, 2.0, 3.0, 2.0, 3.0, 1.0, 3.0, 2.0, 2.0, 3.0, 1.0, 3.0, 3.0, 3.0, 3.0, 3.0, 2.0, 3.0, 3.0, 3.0, 3.0, 3.0, 1.0, 3.0, 2.0, 2.0, 3.0, 3.0, 2.0, 2.0, 1.0, 2.0, 1.0, 1.0, 3.0, 3.0, 2.0, 3.0, 2.0, 2.0, 3.0, 2.0, 2.0, 1.0, 1.0, 3.0, 3.0, 3.0, 3.0, 3.0, 2.0, 3.0, 0.0, 0.0, 0.0, 0.0, 0.0, 0.0, 0.0, 0.0, null, 0.0, 0.0, 0.0, 0.0, null, 0.0, 0.0, 0.0, 0.0, 0.0, 0.0, 0.0, 0.0, 0.0, 0.0, 0.0, 0.0, 0.0, 0.0, 0.0, 0.0, 0.0, 0.0, 0.0, null, 0.0, 0.0, 0.0, 0.0, 0.0, 0.0, 0.0, 0.0, 0.0, 0.0, 0.0, 0.0, 0.0, 0.0, 0.0, 0.0, 0.0, 0.0, 0.0, 0.0, null, 1.0, 0.0, 0.0, 0.0, 0.0, 0.0, 0.0, 0.0, 0.0, 0.0, 0.0, 0.0, 0.0, 0.0, 0.0, 0.0, 0.0, 0.0, 0.0, 0.0, 0.0, 0.0, 0.0, 0.0, 0.0, 0.0, 0.0, 0.0, 0.0, 0.0, 0.0, 0.0, 0.0, 0.0, 0.0, 0.0, 0.0, null, 1.0, 0.0, 0.0, 0.0, 0.0, null, 1.0, 0.0, 0.0, 0.0, 0.0, 1.0, 0.0, 0.0, 0.0, 0.0, null, 1.0, 0.0, 0.0, null, null, 0.0, 0.0, 0.0, 0.0, 0.0, null, 0.0, null, 0.0, null, 1.0, null, 0.0, null, 0.0, null, 3.0, null, 0.0, null, null, 3.0, null, 1.0, null, 2.0, 0.0, null, 0.0, 0.0, 0.0, null, 0.0, 0.0, 1.0, 0.0, 0.0, 0.0, 0.0, 1.0, 2.0, 0.0, 0.0, null, null, null, null, null, null, null, null, 0.0, 0.0, null, 0.0, 1.0, 1.0, 3.0, 0.0, 1.0, 0.0, 2.0, 1.0, null, 0.0, 1.0, 1.0, 2.0, 0.0, 0.0, 1.0, 0.0, 3.0, 0.0, 1.0, null, null, null, 0.0, 0.0, 0.0, null, null, null, null, null, 0.0, 2.0, 1.0, 3.0, 0.0, 1.0, 1.0, 2.0, 1.0, 2.0, 0.0, 1.0, 2.0, 1.0, 0.0, 0.0, 2.0, 3.0, 1.0, 2.0, 0.0, 1.0, 1.0, 1.0, 1.0, 1.0, 0.0, null, null, 1.0, 1.0, 1.0, null, null, null, null, null, null, 0.0, 0.0, 1.0, 0.0, 2.0, 0.0, 3.0, 3.0, 2.0, 3.0, 1.0, 2.0, 2.0, null, 2.0, 3.0, 0.0, 1.0, 3.0, 3.0, 2.0, 2.0, null, 3.0, 3.0, 2.0, 2.0, null, 3.0, 3.0, 2.0, 3.0, null, null, 3.0, 3.0, 2.0, 3.0, null, 3.0, 3.0, 3.0, 2.0, 3.0, null, 3.0, null, 2.0, 3.0, 2.0, 3.0, 3.0, 2.0, 3.0, 2.0, 3.0, 3.0, 3.0, 0.0, 0.0, 0.0, 0.0, 0.0, 0.0, 0.0, 0.0, 0.0, 0.0, 0.0, 0.0, 0.0, 0.0, 0.0, 0.0, 0.0, 0.0, 0.0, 0.0, null, 1.0, null, null, 0.0, null, null, 0.0, null, null, 0.0, null, null, 1.0, null, null, 0.0, 3.0, 1.0, 1.0, 0.0, 2.0, null, 1.0, 0.0, null, null, 0.0, 2.0, 1.0, 1.0, 2.0, 1.0, 1.0, 1.0, 1.0, 1.0, 1.0, 1.0, 1.0, 2.0, 2.0, 2.0, 1.0, 1.0, 2.0, 1.0, 1.0, 1.0, 1.0, 1.0, 1.0, 1.0, 3.0, 1.0, 2.0, 1.0, 1.0, 1.0, 1.0, 1.0, 1.0, 1.0, 3.0, 1.0, 2.0, 1.0, 3.0, 2.0, 2.0, 1.0, 1.0, 2.0, 1.0, 1.0, 1.0, 1.0, 3.0, 3.0, 3.0, 1.0, 3.0, 3.0, 3.0, 1.0, 1.0, 2.0, 2.0, 1.0, 1.0, 1.0, 1.0, 1.0, 3.0, 2.0, 1.0, 1.0, 1.0, 1.0, 1.0, 1.0, 1.0, 1.0, 1.0, 1.0, 1.0, 1.0, 1.0, 2.0, 2.0, 1.0, 1.0, 1.0, 1.0, 1.0, 3.0, 2.0, 1.0, 1.0, 1.0, 1.0, 1.0, 1.0, 1.0, 1.0, 1.0, 1.0, 1.0, 3.0, 3.0, 3.0, 3.0, 3.0, 3.0, 1.0, 1.0, 2.0, 2.0, 1.0, 1.0, 1.0, 1.0, 1.0, 3.0, 2.0, 1.0, 1.0, 1.0, 1.0, 1.0, 1.0, 1.0, 1.0, 1.0, 1.0, 1.0, 1.0, 1.0, 2.0, 2.0, 3.0, 1.0, 3.0, 1.0, 3.0, 1.0, 3.0, 1.0, 3.0, 1.0, 3.0, 3.0, 3.0, 2.0, 3.0, 1.0, 3.0, 1.0, 3.0, 1.0, 1.0, 1.0, 1.0, 3.0, 3.0, 3.0, 3.0, 3.0, 1.0, 1.0, 1.0, 1.0, 1.0, 3.0, 3.0, 3.0, 3.0, 3.0, 3.0, 3.0, 3.0, 3.0, 3.0, 1.0, 1.0, 1.0, 1.0, 1.0, 3.0, 3.0, 3.0, 1.0, 1.0, 3.0, 3.0, 3.0, 3.0, 3.0, 3.0, 3.0, 3.0, 0.0, 0.0, 0.0, 0.0, 0.0, 0.0, 0.0, null, 0.0, 0.0, null, 0.0, 0.0, 0.0, 0.0, 0.0, 0.0, 0.0, 0.0, 0.0, 0.0, 0.0, 0.0, 0.0, 0.0, 0.0, 0.0, 0.0, 0.0, 0.0, 0.0, null, null, null, null, null, 0.0, 0.0, null, 0.0, null, 0.0, null, 0.0, 0.0, 2.0, 0.0, 0.0, 0.0, 0.0, 0.0, 2.0, 0.0, 0.0, 0.0, 0.0, 0.0, 0.0, 0.0, 0.0, 0.0, 0.0, 0.0, null, null, null, 1.0, null, 0.0, 0.0, 0.0, 0.0, 0.0, 0.0, 0.0, 2.0, 2.0, 1.0, 2.0, 2.0, 2.0, 0.0, 2.0, 3.0, null, null, null, null, 1.0, null, 0.0, 0.0, null, 0.0, 0.0, 0.0, 0.0, 0.0], \"yaxis\": \"y\"}, {\"customdata\": [[\"Magdeleine\"], [\"Magdeleine\"], [\"Magdeleine\"], [\"Magdeleine\"], [\"Magdeleine\"], [\"Magdeleine\"], [\"Magdeleine\"], [\"Magdeleine\"], [\"Magdeleine\"], [\"Magdeleine\"], [\"Magdeleine\"], [\"Magdeleine\"], [\"Magdeleine\"], [\"Magdeleine\"], [\"Magdeleine\"], [\"Magdeleine\"], [\"Magdeleine\"], [\"Magdeleine\"], [\"Magdeleine\"], [\"Magdeleine\"], [\"Magdeleine\"], [\"Magdeleine\"], [\"Magdeleine\"], [\"Magdeleine\"], [\"Magdeleine\"], [\"Magdeleine\"], [\"Magdeleine\"], [\"Magdeleine\"], [\"Magdeleine\"], [\"Magdeleine\"], [\"Magdeleine\"], [\"Magdeleine\"], [\"Magdeleine\"], [\"Magdeleine\"], [\"Magdeleine\"], [\"Magdeleine\"], [\"Magdeleine\"], [\"Magdeleine\"], [\"Magdeleine\"], [\"Magdeleine\"], [\"Magdeleine\"], [\"Magdeleine\"], [\"Magdeleine\"], [\"Magdeleine\"], [\"Magdeleine\"], [\"Magdeleine\"], [\"Magdeleine\"], [\"Magdeleine\"], [\"Magdeleine\"], [\"Magdeleine\"], [\"Magdeleine\"], [\"Magdeleine\"], [\"Magdeleine\"], [\"Magdeleine\"], [\"Magdeleine\"], [\"Magdeleine\"], [\"Magdeleine\"], [\"Magdeleine\"], [\"Magdeleine\"], [\"Magdeleine\"], [\"Magdeleine\"], [\"Magdeleine\"], [\"Magdeleine\"], [\"Magdeleine\"], [\"Magdeleine\"], [\"Magdeleine\"], [\"Magdeleine\"], [\"Magdeleine\"], [\"Magdeleine\"], [\"Magdeleine\"], [\"Magdeleine\"], [\"Magdeleine\"], [\"Magdeleine\"], [\"Magdeleine\"], [\"Magdeleine\"], [\"Magdeleine\"], [\"Magdeleine\"], [\"Magdeleine\"], [\"Magdeleine\"], [\"Magdeleine\"], [\"Magdeleine\"], [\"Magdeleine\"], [\"Magdeleine\"], [\"Magdeleine\"], [\"Magdeleine\"], [\"Magdeleine\"], [\"Magdeleine\"], [\"Magdeleine\"], [\"Magdeleine\"], [\"Magdeleine\"], [\"Magdeleine\"], [\"Magdeleine\"], [\"Magdeleine\"], [\"Magdeleine\"], [\"Magdeleine\"], [\"Magdeleine\"], [\"Magdeleine\"], [\"Magdeleine\"], [\"Magdeleine\"], [\"Magdeleine\"], [\"Magdeleine\"], [\"Magdeleine\"], [\"Magdeleine\"], [\"Magdeleine\"], [\"Magdeleine\"], [\"Magdeleine\"], [\"Magdeleine\"], [\"Magdeleine\"], [\"Magdeleine\"], [\"Magdeleine\"], [\"Magdeleine\"], [\"Magdeleine\"], [\"Magdeleine\"], [\"Magdeleine\"], [\"Magdeleine\"], [\"Magdeleine\"], [\"Magdeleine\"], [\"Magdeleine\"], [\"Magdeleine\"], [\"Magdeleine\"], [\"Magdeleine\"], [\"Magdeleine\"], [\"Magdeleine\"], [\"Magdeleine\"], [\"Magdeleine\"], [\"Magdeleine\"], [\"Magdeleine\"], [\"Magdeleine\"], [\"Magdeleine\"], [\"Magdeleine\"], [\"Magdeleine\"], [\"Magdeleine\"], [\"Magdeleine\"], [\"Magdeleine\"], [\"Magdeleine\"], [\"Magdeleine\"], [\"Magdeleine\"], [\"Magdeleine\"], [\"Magdeleine\"], [\"Magdeleine\"], [\"Magdeleine\"], [\"Magdeleine\"], [\"Magdeleine\"], [\"Magdeleine\"], [\"Magdeleine\"], [\"Magdeleine\"], [\"Magdeleine\"], [\"Magdeleine\"], [\"Magdeleine\"], [\"Magdeleine\"], [\"Magdeleine\"], [\"Magdeleine\"], [\"Magdeleine\"], [\"Magdeleine\"], [\"Magdeleine\"], [\"Magdeleine\"], [\"Magdeleine\"], [\"Magdeleine\"], [\"Magdeleine\"], [\"Magdeleine\"], [\"Magdeleine\"], [\"Magdeleine\"], [\"Magdeleine\"], [\"Magdeleine\"], [\"Magdeleine\"], [\"Magdeleine\"], [\"Magdeleine\"], [\"Magdeleine\"], [\"Magdeleine\"], [\"Magdeleine\"], [\"Magdeleine\"], [\"Magdeleine\"], [\"Magdeleine\"], [\"Magdeleine\"], [\"Magdeleine\"], [\"Magdeleine\"], [\"Magdeleine\"], [\"Magdeleine\"], [\"Magdeleine\"], [\"Magdeleine\"], [\"Magdeleine\"], [\"Magdeleine\"], [\"Magdeleine\"], [\"Magdeleine\"], [\"Magdeleine\"], [\"Magdeleine\"], [\"Magdeleine\"], [\"Magdeleine\"], [\"Magdeleine\"], [\"Magdeleine\"], [\"Magdeleine\"], [\"Magdeleine\"], [\"Magdeleine\"], [\"Magdeleine\"], [\"Magdeleine\"], [\"Magdeleine\"], [\"Magdeleine\"], [\"Magdeleine\"], [\"Magdeleine\"], [\"Magdeleine\"], [\"Magdeleine\"], [\"Magdeleine\"], [\"Magdeleine\"], [\"Magdeleine\"], [\"Magdeleine\"], [\"Magdeleine\"], [\"Magdeleine\"], [\"Magdeleine\"], [\"Magdeleine\"], [\"Magdeleine\"], [\"Magdeleine\"], [\"Magdeleine\"], [\"Magdeleine\"], [\"Magdeleine\"], [\"Magdeleine\"], [\"Magdeleine\"], [\"Magdeleine\"], [\"Magdeleine\"], [\"Magdeleine\"], [\"Magdeleine\"], [\"Magdeleine\"], [\"Magdeleine\"], [\"Magdeleine\"], [\"Magdeleine\"], [\"Magdeleine\"], [\"Magdeleine\"], [\"Magdeleine\"], [\"Magdeleine\"], [\"Magdeleine\"], [\"Magdeleine\"], [\"Magdeleine\"], [\"Magdeleine\"], [\"Magdeleine\"], [\"Magdeleine\"], [\"Magdeleine\"], [\"Magdeleine\"], [\"Magdeleine\"], [\"Magdeleine\"], [\"Magdeleine\"], [\"Magdeleine\"], [\"Magdeleine\"], [\"Magdeleine\"], [\"Magdeleine\"], [\"Magdeleine\"], [\"Magdeleine\"], [\"Magdeleine\"], [\"Magdeleine\"], [\"Magdeleine\"], [\"Magdeleine\"], [\"Magdeleine\"], [\"Magdeleine\"], [\"Magdeleine\"], [\"Magdeleine\"], [\"Magdeleine\"], [\"Magdeleine\"], [\"Magdeleine\"], [\"Magdeleine\"], [\"Magdeleine\"], [\"Magdeleine\"], [\"Magdeleine\"], [\"Magdeleine\"], [\"Magdeleine\"], [\"Magdeleine\"], [\"Magdeleine\"], [\"Magdeleine\"], [\"Magdeleine\"], [\"Magdeleine\"], [\"Magdeleine\"], [\"Magdeleine\"], [\"Magdeleine\"], [\"Magdeleine\"], [\"Magdeleine\"], [\"Magdeleine\"], [\"Magdeleine\"], [\"Magdeleine\"], [\"Magdeleine\"], [\"Magdeleine\"], [\"Magdeleine\"], [\"Magdeleine\"], [\"Magdeleine\"], [\"Magdeleine\"], [\"Magdeleine\"], [\"Magdeleine\"], [\"Magdeleine\"], [\"Magdeleine\"], [\"Magdeleine\"], [\"Magdeleine\"], [\"Magdeleine\"], [\"Magdeleine\"], [\"Magdeleine\"], [\"Magdeleine\"], [\"Magdeleine\"], [\"Magdeleine\"], [\"Magdeleine\"], [\"Magdeleine\"], [\"Magdeleine\"], [\"Magdeleine\"], [\"Magdeleine\"], [\"Magdeleine\"], [\"Magdeleine\"], [\"Magdeleine\"], [\"Magdeleine\"], [\"Magdeleine\"], [\"Magdeleine\"], [\"Magdeleine\"], [\"Magdeleine\"], [\"Magdeleine\"], [\"Magdeleine\"], [\"Magdeleine\"], [\"Magdeleine\"], [\"Magdeleine\"], [\"Magdeleine\"], [\"Magdeleine\"], [\"Magdeleine\"], [\"Magdeleine\"], [\"Magdeleine\"], [\"Magdeleine\"], [\"Magdeleine\"], [\"Magdeleine\"], [\"Magdeleine\"], [\"Magdeleine\"], [\"Magdeleine\"], [\"Magdeleine\"], [\"Magdeleine\"], [\"Magdeleine\"], [\"Magdeleine\"], [\"Magdeleine\"], [\"Magdeleine\"], [\"Magdeleine\"], [\"Magdeleine\"], [\"Magdeleine\"], [\"Magdeleine\"], [\"Magdeleine\"], [\"Magdeleine\"], [\"Magdeleine\"], [\"Magdeleine\"], [\"Magdeleine\"], [\"Magdeleine\"], [\"Magdeleine\"], [\"Magdeleine\"], [\"Magdeleine\"], [\"Magdeleine\"], [\"Magdeleine\"], [\"Magdeleine\"], [\"Magdeleine\"], [\"Magdeleine\"], [\"Magdeleine\"], [\"Magdeleine\"], [\"Magdeleine\"], [\"Magdeleine\"], [\"Magdeleine\"], [\"Magdeleine\"], [\"Magdeleine\"], [\"Magdeleine\"], [\"Magdeleine\"], [\"Magdeleine\"], [\"Magdeleine\"], [\"Magdeleine\"], [\"Magdeleine\"], [\"Magdeleine\"], [\"Magdeleine\"], [\"Magdeleine\"], [\"Magdeleine\"], [\"Magdeleine\"], [\"Magdeleine\"], [\"Magdeleine\"], [\"Magdeleine\"], [\"Magdeleine\"], [\"Magdeleine\"], [\"Magdeleine\"], [\"Magdeleine\"], [\"Magdeleine\"], [\"Magdeleine\"], [\"Magdeleine\"], [\"Magdeleine\"], [\"Magdeleine\"], [\"Magdeleine\"], [\"Magdeleine\"], [\"Magdeleine\"], [\"Magdeleine\"], [\"Magdeleine\"], [\"Magdeleine\"], [\"Magdeleine\"], [\"Magdeleine\"], [\"Magdeleine\"], [\"Magdeleine\"], [\"Magdeleine\"], [\"Magdeleine\"], [\"Magdeleine\"], [\"Magdeleine\"], [\"Magdeleine\"], [\"Magdeleine\"], [\"Magdeleine\"], [\"Magdeleine\"], [\"Magdeleine\"], [\"Magdeleine\"], [\"Magdeleine\"], [\"Magdeleine\"], [\"Magdeleine\"], [\"Magdeleine\"], [\"Magdeleine\"], [\"Magdeleine\"], [\"Magdeleine\"], [\"Magdeleine\"], [\"Magdeleine\"], [\"Magdeleine\"], [\"Magdeleine\"], [\"Magdeleine\"], [\"Magdeleine\"], [\"Magdeleine\"], [\"Magdeleine\"], [\"Magdeleine\"], [\"Magdeleine\"], [\"Magdeleine\"], [\"Magdeleine\"], [\"Magdeleine\"], [\"Magdeleine\"], [\"Magdeleine\"], [\"Magdeleine\"], [\"Magdeleine\"], [\"Magdeleine\"], [\"Magdeleine\"], [\"Magdeleine\"], [\"Magdeleine\"], [\"Magdeleine\"], [\"Magdeleine\"], [\"Magdeleine\"], [\"Magdeleine\"], [\"Magdeleine\"], [\"Magdeleine\"], [\"Magdeleine\"], [\"Magdeleine\"], [\"Magdeleine\"], [\"Magdeleine\"], [\"Magdeleine\"], [\"Magdeleine\"], [\"Magdeleine\"], [\"Magdeleine\"], [\"Magdeleine\"], [\"Magdeleine\"], [\"Magdeleine\"], [\"Magdeleine\"], [\"Magdeleine\"], [\"Magdeleine\"], [\"Magdeleine\"], [\"Magdeleine\"], [\"Magdeleine\"], [\"Magdeleine\"], [\"Magdeleine\"], [\"Magdeleine\"], [\"Magdeleine\"], [\"Magdeleine\"], [\"Magdeleine\"], [\"Magdeleine\"], [\"Magdeleine\"], [\"Magdeleine\"], [\"Magdeleine\"], [\"Magdeleine\"], [\"Magdeleine\"], [\"Magdeleine\"], [\"Magdeleine\"], [\"Magdeleine\"], [\"Magdeleine\"], [\"Magdeleine\"], [\"Magdeleine\"], [\"Magdeleine\"], [\"Magdeleine\"], [\"Magdeleine\"], [\"Magdeleine\"], [\"Magdeleine\"], [\"Magdeleine\"], [\"Magdeleine\"], [\"Magdeleine\"], [\"Magdeleine\"], [\"Magdeleine\"], [\"Magdeleine\"], [\"Magdeleine\"], [\"Magdeleine\"], [\"Magdeleine\"], [\"Magdeleine\"], [\"Magdeleine\"], [\"Magdeleine\"], [\"Magdeleine\"], [\"Magdeleine\"], [\"Magdeleine\"], [\"Magdeleine\"], [\"Magdeleine\"], [\"Magdeleine\"], [\"Magdeleine\"], [\"Magdeleine\"], [\"Magdeleine\"], [\"Magdeleine\"], [\"Magdeleine\"], [\"Magdeleine\"], [\"Magdeleine\"], [\"Magdeleine\"], [\"Magdeleine\"], [\"Magdeleine\"], [\"Magdeleine\"], [\"Magdeleine\"], [\"Magdeleine\"], [\"Magdeleine\"], [\"Magdeleine\"], [\"Magdeleine\"], [\"Magdeleine\"], [\"Magdeleine\"], [\"Magdeleine\"], [\"Magdeleine\"], [\"Magdeleine\"], [\"Magdeleine\"], [\"Magdeleine\"], [\"Magdeleine\"], [\"Magdeleine\"], [\"Magdeleine\"], [\"Magdeleine\"], [\"Magdeleine\"], [\"Magdeleine\"], [\"Magdeleine\"], [\"Magdeleine\"], [\"Magdeleine\"], [\"Magdeleine\"], [\"Magdeleine\"], [\"Magdeleine\"], [\"Magdeleine\"], [\"Magdeleine\"], [\"Magdeleine\"], [\"Magdeleine\"], [\"Magdeleine\"], [\"Magdeleine\"], [\"Magdeleine\"], [\"Magdeleine\"], [\"Magdeleine\"], [\"Magdeleine\"], [\"Magdeleine\"], [\"Magdeleine\"], [\"Magdeleine\"], [\"Magdeleine\"], [\"Magdeleine\"], [\"Magdeleine\"], [\"Magdeleine\"], [\"Magdeleine\"], [\"Magdeleine\"], [\"Magdeleine\"], [\"Magdeleine\"], [\"Magdeleine\"], [\"Magdeleine\"], [\"Magdeleine\"], [\"Magdeleine\"], [\"Magdeleine\"], [\"Magdeleine\"], [\"Magdeleine\"], [\"Magdeleine\"], [\"Magdeleine\"], [\"Magdeleine\"], [\"Magdeleine\"], [\"Magdeleine\"], [\"Magdeleine\"], [\"Magdeleine\"], [\"Magdeleine\"], [\"Magdeleine\"], [\"Magdeleine\"], [\"Magdeleine\"], [\"Magdeleine\"], [\"Magdeleine\"], [\"Magdeleine\"], [\"Magdeleine\"], [\"Magdeleine\"], [\"Magdeleine\"], [\"Magdeleine\"], [\"Magdeleine\"], [\"Magdeleine\"], [\"Magdeleine\"], [\"Magdeleine\"], [\"Magdeleine\"], [\"Magdeleine\"], [\"Magdeleine\"], [\"Magdeleine\"], [\"Magdeleine\"], [\"Magdeleine\"], [\"Magdeleine\"], [\"Magdeleine\"], [\"Magdeleine\"], [\"Magdeleine\"], [\"Magdeleine\"], [\"Magdeleine\"], [\"Magdeleine\"], [\"Magdeleine\"], [\"Magdeleine\"], [\"Magdeleine\"], [\"Magdeleine\"], [\"Magdeleine\"], [\"Magdeleine\"], [\"Magdeleine\"], [\"Magdeleine\"], [\"Magdeleine\"], [\"Magdeleine\"], [\"Magdeleine\"], [\"Magdeleine\"], [\"Magdeleine\"], [\"Magdeleine\"], [\"Magdeleine\"], [\"Magdeleine\"], [\"Magdeleine\"], [\"Magdeleine\"], [\"Magdeleine\"], [\"Magdeleine\"], [\"Magdeleine\"], [\"Magdeleine\"], [\"Magdeleine\"], [\"Magdeleine\"], [\"Magdeleine\"], [\"Magdeleine\"], [\"Magdeleine\"], [\"Magdeleine\"], [\"Magdeleine\"], [\"Magdeleine\"], [\"Magdeleine\"], [\"Magdeleine\"], [\"Magdeleine\"], [\"Magdeleine\"], [\"Magdeleine\"], [\"Magdeleine\"], [\"Magdeleine\"], [\"Magdeleine\"], [\"Magdeleine\"], [\"Magdeleine\"], [\"Magdeleine\"], [\"Magdeleine\"], [\"Magdeleine\"], [\"Magdeleine\"], [\"Magdeleine\"], [\"Magdeleine\"], [\"Magdeleine\"], [\"Magdeleine\"], [\"Magdeleine\"], [\"Magdeleine\"], [\"Magdeleine\"], [\"Magdeleine\"], [\"Magdeleine\"], [\"Magdeleine\"], [\"Magdeleine\"], [\"Magdeleine\"], [\"Magdeleine\"], [\"Magdeleine\"], [\"Magdeleine\"], [\"Magdeleine\"], [\"Magdeleine\"], [\"Magdeleine\"], [\"Magdeleine\"], [\"Magdeleine\"], [\"Magdeleine\"], [\"Magdeleine\"], [\"Magdeleine\"], [\"Magdeleine\"], [\"Magdeleine\"], [\"Magdeleine\"], [\"Magdeleine\"], [\"Magdeleine\"], [\"Magdeleine\"], [\"Magdeleine\"], [\"Magdeleine\"], [\"Magdeleine\"], [\"Magdeleine\"], [\"Magdeleine\"], [\"Magdeleine\"], [\"Magdeleine\"], [\"Magdeleine\"], [\"Magdeleine\"], [\"Magdeleine\"], [\"Magdeleine\"], [\"Magdeleine\"], [\"Magdeleine\"], [\"Magdeleine\"], [\"Magdeleine\"], [\"Magdeleine\"], [\"Magdeleine\"], [\"Magdeleine\"], [\"Magdeleine\"], [\"Magdeleine\"], [\"Magdeleine\"], [\"Magdeleine\"], [\"Magdeleine\"], [\"Magdeleine\"], [\"Magdeleine\"], [\"Magdeleine\"], [\"Magdeleine\"], [\"Magdeleine\"], [\"Magdeleine\"], [\"Magdeleine\"], [\"Magdeleine\"], [\"Magdeleine\"], [\"Magdeleine\"], [\"Magdeleine\"], [\"Magdeleine\"], [\"Magdeleine\"], [\"Magdeleine\"], [\"Magdeleine\"], [\"Magdeleine\"], [\"Magdeleine\"], [\"Magdeleine\"], [\"Magdeleine\"], [\"Magdeleine\"], [\"Magdeleine\"], [\"Magdeleine\"], [\"Magdeleine\"], [\"Magdeleine\"], [\"Magdeleine\"], [\"Magdeleine\"], [\"Magdeleine\"], [\"Magdeleine\"], [\"Magdeleine\"], [\"Magdeleine\"], [\"Magdeleine\"], [\"Magdeleine\"], [\"Magdeleine\"], [\"Magdeleine\"], [\"Magdeleine\"], [\"Magdeleine\"], [\"Magdeleine\"], [\"Magdeleine\"], [\"Magdeleine\"], [\"Magdeleine\"], [\"Magdeleine\"], [\"Magdeleine\"], [\"Magdeleine\"], [\"Magdeleine\"], [\"Magdeleine\"], [\"Magdeleine\"], [\"Magdeleine\"], [\"Magdeleine\"], [\"Magdeleine\"], [\"Magdeleine\"], [\"Magdeleine\"], [\"Magdeleine\"], [\"Magdeleine\"], [\"Magdeleine\"], [\"Magdeleine\"], [\"Magdeleine\"], [\"Magdeleine\"], [\"Magdeleine\"], [\"Magdeleine\"], [\"Magdeleine\"], [\"Magdeleine\"], [\"Magdeleine\"], [\"Magdeleine\"], [\"Magdeleine\"], [\"Magdeleine\"], [\"Magdeleine\"], [\"Magdeleine\"], [\"Magdeleine\"], [\"Magdeleine\"], [\"Magdeleine\"], [\"Magdeleine\"], [\"Magdeleine\"], [\"Magdeleine\"], [\"Magdeleine\"], [\"Magdeleine\"], [\"Magdeleine\"], [\"Magdeleine\"], [\"Magdeleine\"], [\"Magdeleine\"], [\"Magdeleine\"], [\"Magdeleine\"], [\"Magdeleine\"], [\"Magdeleine\"], [\"Magdeleine\"], [\"Magdeleine\"], [\"Magdeleine\"], [\"Magdeleine\"], [\"Magdeleine\"], [\"Magdeleine\"], [\"Magdeleine\"], [\"Magdeleine\"], [\"Magdeleine\"], [\"Magdeleine\"], [\"Magdeleine\"], [\"Magdeleine\"], [\"Magdeleine\"], [\"Magdeleine\"], [\"Magdeleine\"], [\"Magdeleine\"], [\"Magdeleine\"], [\"Magdeleine\"], [\"Magdeleine\"], [\"Magdeleine\"], [\"Magdeleine\"], [\"Magdeleine\"], [\"Magdeleine\"], [\"Magdeleine\"], [\"Magdeleine\"], [\"Magdeleine\"], [\"Magdeleine\"], [\"Magdeleine\"], [\"Magdeleine\"], [\"Magdeleine\"], [\"Magdeleine\"], [\"Magdeleine\"], [\"Magdeleine\"], [\"Magdeleine\"], [\"Magdeleine\"], [\"Magdeleine\"], [\"Magdeleine\"], [\"Magdeleine\"], [\"Magdeleine\"], [\"Magdeleine\"], [\"Magdeleine\"], [\"Magdeleine\"], [\"Magdeleine\"], [\"Magdeleine\"], [\"Magdeleine\"], [\"Magdeleine\"], [\"Magdeleine\"], [\"Magdeleine\"], [\"Magdeleine\"], [\"Magdeleine\"], [\"Magdeleine\"], [\"Magdeleine\"], [\"Magdeleine\"], [\"Magdeleine\"], [\"Magdeleine\"], [\"Magdeleine\"], [\"Magdeleine\"], [\"Magdeleine\"], [\"Magdeleine\"], [\"Magdeleine\"], [\"Magdeleine\"], [\"Magdeleine\"], [\"Magdeleine\"], [\"Magdeleine\"], [\"Magdeleine\"], [\"Magdeleine\"], [\"Magdeleine\"], [\"Magdeleine\"], [\"Magdeleine\"], [\"Magdeleine\"], [\"Magdeleine\"], [\"Magdeleine\"], [\"Magdeleine\"], [\"Magdeleine\"], [\"Magdeleine\"], [\"Magdeleine\"], [\"Magdeleine\"], [\"Magdeleine\"], [\"Magdeleine\"], [\"Magdeleine\"], [\"Magdeleine\"], [\"Magdeleine\"], [\"Magdeleine\"], [\"Magdeleine\"], [\"Magdeleine\"], [\"Magdeleine\"], [\"Magdeleine\"], [\"Magdeleine\"], [\"Magdeleine\"], [\"Magdeleine\"], [\"Magdeleine\"], [\"Magdeleine\"], [\"Magdeleine\"], [\"Magdeleine\"], [\"Magdeleine\"], [\"Magdeleine\"], [\"Magdeleine\"], [\"Magdeleine\"], [\"Magdeleine\"], [\"Magdeleine\"], [\"Magdeleine\"], [\"Magdeleine\"], [\"Magdeleine\"], [\"Magdeleine\"], [\"Magdeleine\"], [\"Magdeleine\"], [\"Magdeleine\"], [\"Magdeleine\"], [\"Magdeleine\"], [\"Magdeleine\"], [\"Magdeleine\"], [\"Magdeleine\"], [\"Magdeleine\"], [\"Magdeleine\"], [\"Magdeleine\"]], \"hoverlabel\": {\"namelength\": 0}, \"hovertemplate\": \"domain_name=%{customdata[0]}<br>stage=%{x}<br>mildew_leaves=%{y}\", \"legendgroup\": \"domain_name=Magdeleine\", \"marker\": {\"color\": \"#EF553B\", \"symbol\": \"circle\"}, \"mode\": \"markers\", \"name\": \"domain_name=Magdeleine\", \"showlegend\": true, \"type\": \"scattergl\", \"x\": [23.0, 23.0, 23.0, 23.0, 23.0, 23.0, 23.0, 23.0, 32.0, 32.0, 32.0, 32.0, 32.0, 32.0, 32.0, 32.0, 32.0, 32.0, 32.0, 32.0, 32.0, 32.0, 32.0, 32.0, 32.0, 32.0, 32.0, 32.0, 32.0, 32.0, 32.0, 32.0, 32.0, 33.0, 33.0, 33.0, 33.0, 33.0, 33.0, 33.0, 33.0, 33.0, 33.0, 33.0, 33.0, 33.0, 33.0, 33.0, 33.0, 33.0, 33.0, 33.0, 33.0, 33.0, 33.0, 33.0, 33.0, 33.0, 13.5, 13.5, 13.5, 13.5, 13.5, 13.5, 13.5, 13.5, 10.5, 10.5, 10.5, 10.5, 10.5, 10.5, 10.5, 10.5, 10.5, 12.0, 12.0, 12.0, 12.0, 12.0, 12.0, 12.0, 12.0, 12.0, 33.0, 33.0, 33.0, 33.0, 33.0, 33.0, 33.0, 33.0, 33.0, 35.0, 35.0, 35.0, 35.0, 35.0, 35.0, 35.0, 35.0, 35.0, 6.0, 6.0, 6.0, 6.0, 6.0, 6.0, 6.0, 6.0, 6.0, 6.0, 6.0, 6.0, 6.0, 6.0, 6.0, 6.0, 6.0, 6.0, 6.0, 6.0, 16.0, 16.0, 16.0, 16.0, 16.0, 16.0, 16.0, 16.0, 16.0, 16.0, 16.0, 16.0, 16.0, 16.0, 16.0, 16.0, 16.0, 16.0, 16.0, 16.0, 17.0, 17.0, 17.0, 17.0, 17.0, 17.0, 17.0, 17.0, 17.0, 17.0, 17.0, 17.0, 17.0, 17.0, 17.0, 17.0, 17.0, 17.0, 17.0, 17.0, 18.0, 18.0, 18.0, 18.0, 18.0, 18.0, 18.0, 18.0, 18.0, 18.0, 18.0, 18.0, 18.0, 18.0, 18.0, 18.0, 18.0, 18.0, 18.0, 18.0, 25.0, 25.0, 25.0, 25.0, 25.0, 25.0, 25.0, 25.0, 25.0, 29.0, 29.0, 29.0, 29.0, 29.0, 29.0, 29.0, 29.0, 29.0, 31.0, 31.0, 31.0, 31.0, 31.0, 31.0, 31.0, 31.0, 31.0, 33.0, 33.0, 33.0, 33.0, 33.0, 33.0, 33.0, 33.0, 33.0, 33.0, 33.0, 33.0, 33.0, 33.0, 33.0, 33.0, 33.0, 33.0, 35.0, 35.0, 35.0, 35.0, 35.0, 35.0, 35.0, 35.0, 35.0, 5.0, 5.0, 5.0, 5.0, 5.0, 5.0, 5.0, 5.0, 5.0, 5.5, 5.5, 5.5, 5.5, 5.5, 5.5, 5.5, 5.5, 5.5, null, null, null, null, null, null, null, null, null, 33.0, 33.0, 33.0, 33.0, 33.0, 33.0, 33.0, 33.0, 33.0, 35.0, 35.0, 35.0, 35.0, 35.0, 35.0, 35.0, 35.0, 35.0, 5.0, 5.0, 5.0, 5.0, 5.0, 5.0, 5.0, 5.0, 5.0, 9.0, 9.0, 9.0, 9.0, 9.0, 9.0, 9.0, 9.0, 9.0, 11.0, 11.0, 11.0, 11.0, 11.0, 11.0, 11.0, 11.0, 11.0, 19.0, 19.0, 19.0, 19.0, 19.0, 19.0, 19.0, 19.0, 19.0, 19.0, 19.0, 19.0, 19.0, 19.0, 19.0, 19.0, 19.0, 19.0, 19.0, 19.0, 19.0, 33.0, 33.0, 33.0, 33.0, 33.0, 33.0, 33.0, 33.0, 33.0, 33.0, 33.0, 33.0, 33.0, 33.0, 33.0, 33.0, 33.0, 33.0, 33.0, 33.0, 33.0, 33.0, 33.0, 33.0, 33.0, 33.0, 33.0, 33.0, 33.0, 33.0, 33.0, 33.0, 33.0, 33.0, 33.0, 33.0, 33.0, 33.0, 33.0, 33.0, 33.0, 33.0, 33.0, 33.0, 33.0, 33.0, 33.0, 33.0, 33.0, 33.0, 33.0, 33.0, 33.0, 33.0, 33.0, 33.0, 33.0, 33.0, 33.0, 33.0, 33.0, 33.0, 33.0, 33.0, 33.0, 33.0, 33.0, 33.0, 33.0, 33.0, 33.0, 33.0, 33.0, 33.0, 33.0, 33.0, 33.0, 33.0, 33.0, 33.0, 33.0, 33.0, 33.0, 33.0, 33.0, 33.0, 33.0, 33.0, 33.0, 33.0, 33.0, 33.0, 33.0, 33.0, 33.0, 33.0, 33.0, 33.0, 33.0, 33.0, 33.0, 33.0, 33.0, 33.0, 33.0, 33.0, 33.0, 33.0, 33.0, 33.0, 33.0, 33.0, 33.0, 33.0, 33.0, 33.0, 33.0, 33.0, 33.0, 33.0, 33.0, 33.0, 33.0, 33.0, 33.0, 33.0, 36.0, 36.0, 36.0, 36.0, 36.0, 36.0, 36.0, 36.0, 36.0, 36.5, 36.5, 36.5, 36.5, 36.5, 36.5, 36.5, 36.5, 36.5, 36.5, 36.5, 36.5, 36.5, 36.5, 36.5, 36.5, 36.5, 36.5, 36.5, 36.5, 36.5, 36.5, 36.5, 36.5, 36.5, 36.5, 13.5, 13.5, 13.5, 13.5, 13.5, 13.5, 13.5, 13.5, 13.5, 15.0, 15.0, 15.0, 15.0, 15.0, 15.0, 15.0, 15.0, 15.0, 17.0, 17.0, 17.0, 17.0, 17.0, 17.0, 17.0, 17.0, 17.0, 17.0, 17.0, 17.0, 17.0, 17.0, 17.0, 17.0, 17.0, 17.0, 17.0, 17.0, 17.0, 17.0, 17.0, 17.0, 17.0, 17.0, 17.0, 17.0, 17.0, 17.0, 17.0, 18.0, 18.0, 18.0, 18.0, 18.0, 18.0, 18.0, 18.0, 18.0, 18.5, 18.5, 18.5, 18.5, 18.5, 18.5, 18.5, 18.5, 18.5, 18.5, 18.5, 18.5, 18.5, 18.5, 18.5, 18.5, 18.5, 18.5, 18.5, 18.5, 18.5, 18.5, 27.0, 27.0, 27.0, 27.0, 27.0, 27.0, 27.0, 27.0, 27.0, 27.0, 27.0, 27.0, 30.0, 30.0, 30.0, 30.0, 30.0, 30.0, 30.0, 30.0, 30.0, 30.0, 30.0, 30.0, 10.0, 10.0, 10.0, 10.0, 10.0, 10.0, 10.0, 10.0, 10.0, 14.5, 14.5, 14.5, 14.5, 14.5, 14.5, 14.5, 14.5, 14.5, 17.5, 17.5, 17.5, 17.5, 17.5, 17.5, 17.5, 17.5, 17.5, 17.5, 17.5, 17.5, 17.5, 17.5, 17.5, 17.5, 17.5, 17.5, 17.5, 17.5, 17.5, 17.5, 17.5, 17.5, 17.5, 18.0, 18.0, 18.0, 18.0, 18.0, 18.0, 18.0, 18.0, 18.0, 18.0, 18.0, 18.0, 18.0, 18.0, 18.0, 19.0, 19.0, 19.0, 19.0, 19.0, 19.0, 19.0, 19.0, 19.0, 19.0, 19.0, 19.0, 19.0, 19.0, 19.0, 19.0, 19.0, 19.0, 19.0, 19.0, 19.0, 19.0, 19.0, 19.0, 19.0, 36.5, 36.5, 36.5, 36.5, 36.5, 36.5, 36.5, 36.5, 36.5, 36.5, 36.5, 36.5, 36.5, 36.5, 36.5, 36.5, 36.5, 36.5, 36.5, 36.5, 36.5, 36.5, 36.5, 36.5, 36.5, 36.5, 28.0, 28.0, 28.0, 28.0, 28.0, 28.0, 28.0, 28.0, 28.0, 28.0, 28.0, 28.0, 28.0, 28.0, 28.0, 28.0, 28.0, 28.0, 28.0, 28.0, 28.0, 28.0, 28.0, 28.0, 28.0, 28.0, 30.0, 30.0, 30.0, 30.0, 30.0, 30.0, 30.0, 30.0, 30.0, 30.0, 30.0, 30.0, 30.0, 30.0, 30.0, 30.0, 30.0, 30.0, 30.0, 30.0, 30.0, 30.0, 30.0, 30.0, 30.0, 30.0, 32.0, 32.0, 32.0, 32.0, 32.0, 32.0, 32.0, 32.0, 32.0, 32.0, 32.0, 32.0, 32.0, 32.0, 32.0, 32.0, 33.0, 33.0, 33.0, 33.0, 33.0, 33.0, 33.0, 33.0, 33.0, 33.0, 33.0, 33.0, 33.0, 33.0, 33.0, 33.0, 33.0, 33.0, 33.0, 33.0, 33.0, 33.0, 33.0, 33.0, 33.0, 33.0, 33.0, 33.0, 33.0, 33.0, 33.0, 33.0, 33.0, 33.0, 33.0, 33.0, 33.0, 33.0, 33.0, 33.0, 33.0, 33.0, 33.0, 33.0, 33.0, 33.0, 33.0, 33.0, 33.0, 33.0, 33.0, 33.0, 33.0, 33.0, 33.0, 33.0, 33.0, 33.0, 33.0, 33.0, 33.0, 33.0, 33.0, 33.0, 33.0, 33.0, 33.0, 33.0, 33.0, 33.0, 33.0, 33.0, 33.0, 33.0, 33.0, 33.0, 33.0, 33.0, 35.0, 35.0, 35.0, 35.0, 35.0, 35.0, 35.0, 35.0, 35.0, 35.0, 35.0, 35.0, 35.0, 35.0, 35.0, 35.0, 35.0, 35.0, 35.0, 35.0, 35.0, 35.0, 35.0, 35.0, 35.0, 35.0, 35.0, 35.0, 35.0, 35.0, 35.0], \"xaxis\": \"x\", \"y\": [2.0, 1.0, 1.0, 1.0, 1.0, 1.0, 0.0, 2.0, 2.0, 2.0, 2.0, 2.0, 2.0, 2.0, 2.0, 2.0, null, 3.0, 2.0, 2.0, 2.0, 2.0, 2.0, 2.0, 2.0, 2.0, null, 3.0, null, null, null, null, null, 2.0, 2.0, 2.0, 2.0, 2.0, 2.0, 2.0, 2.0, null, 3.0, null, null, null, null, null, null, 3.0, 2.0, 2.0, 2.0, 2.0, 2.0, 2.0, 2.0, 2.0, 0.0, 0.0, 0.0, 0.0, 0.0, 0.0, 0.0, 0.0, 0.0, 0.0, 0.0, 0.0, 0.0, 0.0, 0.0, 0.0, 0.0, 0.0, 0.0, 0.0, 0.0, 0.0, 0.0, 0.0, 0.0, 0.0, 0.0, 0.0, 0.0, 0.0, 0.0, 0.0, 0.0, 0.0, 0.0, 1.0, 1.0, 3.0, 3.0, 3.0, 0.0, 3.0, 3.0, 3.0, 0.0, 0.0, 0.0, 0.0, 0.0, 0.0, 0.0, 0.0, 0.0, 0.0, 0.0, 0.0, 0.0, 0.0, 0.0, 0.0, 0.0, 0.0, 0.0, 0.0, 1.0, 2.0, 2.0, 2.0, 1.0, 2.0, 2.0, 2.0, 2.0, 2.0, 2.0, 2.0, 1.0, 0.0, 1.0, 1.0, 0.0, 1.0, 0.0, 1.0, 2.0, 2.0, 2.0, 2.0, 2.0, 2.0, 2.0, 2.0, 2.0, 2.0, 1.0, 1.0, 1.0, 0.0, 1.0, 0.0, 1.0, 1.0, 3.0, 2.0, 1.0, 1.0, 1.0, 1.0, 2.0, 1.0, 1.0, 1.0, 0.0, 1.0, null, 1.0, 1.0, 3.0, 2.0, 1.0, 1.0, 1.0, 1.0, 1.0, 1.0, 1.0, 1.0, 1.0, 1.0, 1.0, 1.0, 1.0, 1.0, 1.0, 1.0, 1.0, 1.0, 1.0, 1.0, 1.0, null, 1.0, 1.0, 1.0, 1.0, 1.0, 1.0, 1.0, 1.0, 1.0, 1.0, 1.0, 1.0, 1.0, 1.0, 1.0, 1.0, 1.0, 1.0, 1.0, 1.0, 1.0, 1.0, 1.0, 1.0, 1.0, 1.0, 1.0, 1.0, 1.0, 1.0, 1.0, 1.0, 1.0, 1.0, 1.0, 1.0, 1.0, null, null, null, null, null, null, null, null, null, null, null, null, null, null, null, null, null, null, 1.0, 1.0, 1.0, 1.0, 1.0, 1.0, 1.0, 1.0, 1.0, 1.0, 1.0, 1.0, 1.0, 1.0, 1.0, 1.0, 1.0, 1.0, 1.0, 1.0, 1.0, 1.0, 1.0, 1.0, 1.0, 1.0, 1.0, null, null, null, null, null, null, null, null, null, 0.0, 0.0, 0.0, 0.0, 0.0, 0.0, 0.0, 0.0, 0.0, 0.0, 0.0, 0.0, 0.0, 0.0, 0.0, 0.0, 0.0, 0.0, 0.0, 0.0, 0.0, 0.0, 0.0, 0.0, 0.0, 0.0, 0.0, null, 0.0, 0.0, 0.0, 0.0, 0.0, 0.0, 0.0, 0.0, 0.0, 0.0, 0.0, 1.0, 0.0, 1.0, 1.0, 0.0, 1.0, 1.0, 1.0, 1.0, null, null, 1.0, 1.0, 1.0, null, null, null, null, null, null, 0.0, null, null, 1.0, 1.0, 0.0, 3.0, 0.0, 1.0, 1.0, 0.0, 1.0, 2.0, 1.0, 0.0, 0.0, 3.0, 1.0, 3.0, 0.0, 2.0, 1.0, 1.0, 1.0, 1.0, 1.0, 1.0, null, null, 1.0, 1.0, 1.0, null, null, null, null, null, null, 0.0, null, null, 0.0, 2.0, null, 1.0, 1.0, 1.0, null, null, null, 1.0, null, 1.0, null, 0.0, null, 1.0, 0.0, 0.0, null, 1.0, null, 1.0, 0.0, 1.0, 1.0, 1.0, 1.0, null, 1.0, 1.0, 2.0, 2.0, 3.0, 2.0, 2.0, 2.0, 2.0, 2.0, 1.0, 2.0, 1.0, 2.0, 3.0, 2.0, 3.0, 3.0, 2.0, 1.0, 3.0, 1.0, 2.0, 0.0, 3.0, 1.0, 3.0, 1.0, 1.0, 1.0, null, 1.0, 1.0, 1.0, null, null, 1.0, 1.0, 1.0, 1.0, 1.0, 1.0, 1.0, 1.0, 1.0, 1.0, 1.0, 1.0, 0.0, 1.0, 1.0, 1.0, 1.0, null, 1.0, 1.0, 1.0, null, null, 1.0, 1.0, 1.0, 2.0, 2.0, 2.0, 2.0, 2.0, 2.0, 2.0, 1.0, 2.0, 1.0, 0.0, 0.0, 0.0, 0.0, 0.0, 0.0, 0.0, 0.0, 0.0, 0.0, 0.0, 0.0, 0.0, 0.0, 0.0, 0.0, 0.0, 0.0, 0.0, 0.0, 0.0, 1.0, 0.0, null, 0.0, 1.0, 0.0, null, 0.0, null, 0.0, null, 0.0, null, 0.0, null, 0.0, null, 0.0, 3.0, 0.0, 3.0, 0.0, 0.0, 0.0, 0.0, 0.0, 0.0, 0.0, 0.0, 0.0, 0.0, 0.0, 0.0, 0.0, 0.0, 0.0, 0.0, 0.0, 0.0, 2.0, 2.0, 1.0, 1.0, 1.0, 1.0, 1.0, 2.0, 2.0, 1.0, 1.0, 1.0, 1.0, null, 0.0, null, 0.0, 0.0, 0.0, 0.0, 2.0, 1.0, 1.0, 1.0, 1.0, 2.0, 1.0, 1.0, 1.0, 1.0, 1.0, 1.0, 2.0, 1.0, 1.0, 1.0, 1.0, 1.0, 1.0, 2.0, 1.0, 1.0, 1.0, 1.0, 0.0, 0.0, 0.0, 0.0, 0.0, 0.0, 0.0, 0.0, 0.0, 0.0, 0.0, 0.0, 0.0, 0.0, 0.0, 0.0, 0.0, 0.0, 0.0, 0.0, 0.0, 0.0, 0.0, 0.0, 0.0, 0.0, 0.0, 0.0, 0.0, 0.0, 2.0, 0.0, 0.0, 2.0, 0.0, 0.0, 0.0, 0.0, 0.0, 0.0, 0.0, 0.0, 0.0, 0.0, 0.0, null, 0.0, 0.0, 0.0, 0.0, 0.0, 0.0, 0.0, 0.0, 0.0, 0.0, 0.0, 0.0, 0.0, 0.0, 2.0, null, 0.0, 0.0, 2.0, 0.0, 3.0, 0.0, null, 0.0, 0.0, 0.0, 0.0, 0.0, 0.0, 0.0, 0.0, 0.0, 2.0, 2.0, 1.0, 2.0, 2.0, 3.0, null, 0.0, 0.0, 1.0, 0.0, 0.0, 0.0, 0.0, 0.0, 0.0, 0.0, 0.0, 1.0, 0.0, 1.0, 0.0, 0.0, 2.0, 2.0, 2.0, 2.0, 2.0, 2.0, 2.0, 2.0, 1.0, 0.0, 1.0, 0.0, 2.0, 0.0, 2.0, 1.0, 3.0, 1.0, null, 1.0, 0.0, 1.0, 1.0, 1.0, 1.0, 1.0, 1.0, 1.0, 2.0, 2.0, 2.0, 2.0, 2.0, 2.0, 1.0, 1.0, 1.0, 1.0, 1.0, 1.0, 1.0, 1.0, 0.0, 1.0, 1.0, 1.0, 1.0, 1.0, 1.0, 1.0, 2.0, 2.0, 2.0, 2.0, 2.0, 2.0, 2.0, 2.0, 3.0, null, 1.0, 1.0, 1.0, 1.0, 1.0, 1.0, 1.0, 1.0, 1.0, 1.0, 0.0, 1.0, 1.0, 1.0, 1.0, 1.0, 1.0, 2.0, 1.0, 1.0, 1.0, 1.0, 1.0, 1.0, 1.0, 1.0, 1.0, 1.0, 1.0, 1.0, 1.0, 1.0, 1.0, 1.0, 1.0, 1.0, 1.0, 1.0, 1.0, 1.0, 2.0, 1.0, 1.0, 1.0, 2.0, 2.0, 1.0, 1.0, 1.0, 1.0, 1.0, 1.0, 1.0, 1.0, 1.0, 1.0, 1.0, 1.0, 1.0, 1.0, 1.0, 1.0, 1.0, 1.0, 2.0, 1.0, 1.0, 1.0, 2.0, 2.0, 1.0, 1.0, 2.0, 1.0, 1.0, 1.0, 1.0, 1.0, 1.0, 1.0, 1.0, 1.0, 1.0, 1.0, 1.0, 1.0, 1.0, 1.0, 1.0, 1.0, 1.0, 1.0, 1.0, 1.0, 1.0, 1.0, null, null, 1.0, null, 2.0, null, 1.0, null, 1.0, 1.0, 1.0, 1.0, 1.0, 1.0, 1.0, 1.0, 1.0, 1.0, 1.0, 1.0, 1.0, 2.0, 1.0, 1.0, 1.0, 2.0, 2.0, 1.0, 1.0], \"yaxis\": \"y\"}],\n",
              "                        {\"legend\": {\"tracegroupgap\": 0}, \"margin\": {\"t\": 60}, \"template\": {\"data\": {\"bar\": [{\"error_x\": {\"color\": \"#2a3f5f\"}, \"error_y\": {\"color\": \"#2a3f5f\"}, \"marker\": {\"line\": {\"color\": \"#E5ECF6\", \"width\": 0.5}}, \"type\": \"bar\"}], \"barpolar\": [{\"marker\": {\"line\": {\"color\": \"#E5ECF6\", \"width\": 0.5}}, \"type\": \"barpolar\"}], \"carpet\": [{\"aaxis\": {\"endlinecolor\": \"#2a3f5f\", \"gridcolor\": \"white\", \"linecolor\": \"white\", \"minorgridcolor\": \"white\", \"startlinecolor\": \"#2a3f5f\"}, \"baxis\": {\"endlinecolor\": \"#2a3f5f\", \"gridcolor\": \"white\", \"linecolor\": \"white\", \"minorgridcolor\": \"white\", \"startlinecolor\": \"#2a3f5f\"}, \"type\": \"carpet\"}], \"choropleth\": [{\"colorbar\": {\"outlinewidth\": 0, \"ticks\": \"\"}, \"type\": \"choropleth\"}], \"contour\": [{\"colorbar\": {\"outlinewidth\": 0, \"ticks\": \"\"}, \"colorscale\": [[0.0, \"#0d0887\"], [0.1111111111111111, \"#46039f\"], [0.2222222222222222, \"#7201a8\"], [0.3333333333333333, \"#9c179e\"], [0.4444444444444444, \"#bd3786\"], [0.5555555555555556, \"#d8576b\"], [0.6666666666666666, \"#ed7953\"], [0.7777777777777778, \"#fb9f3a\"], [0.8888888888888888, \"#fdca26\"], [1.0, \"#f0f921\"]], \"type\": \"contour\"}], \"contourcarpet\": [{\"colorbar\": {\"outlinewidth\": 0, \"ticks\": \"\"}, \"type\": \"contourcarpet\"}], \"heatmap\": [{\"colorbar\": {\"outlinewidth\": 0, \"ticks\": \"\"}, \"colorscale\": [[0.0, \"#0d0887\"], [0.1111111111111111, \"#46039f\"], [0.2222222222222222, \"#7201a8\"], [0.3333333333333333, \"#9c179e\"], [0.4444444444444444, \"#bd3786\"], [0.5555555555555556, \"#d8576b\"], [0.6666666666666666, \"#ed7953\"], [0.7777777777777778, \"#fb9f3a\"], [0.8888888888888888, \"#fdca26\"], [1.0, \"#f0f921\"]], \"type\": \"heatmap\"}], \"heatmapgl\": [{\"colorbar\": {\"outlinewidth\": 0, \"ticks\": \"\"}, \"colorscale\": [[0.0, \"#0d0887\"], [0.1111111111111111, \"#46039f\"], [0.2222222222222222, \"#7201a8\"], [0.3333333333333333, \"#9c179e\"], [0.4444444444444444, \"#bd3786\"], [0.5555555555555556, \"#d8576b\"], [0.6666666666666666, \"#ed7953\"], [0.7777777777777778, \"#fb9f3a\"], [0.8888888888888888, \"#fdca26\"], [1.0, \"#f0f921\"]], \"type\": \"heatmapgl\"}], \"histogram\": [{\"marker\": {\"colorbar\": {\"outlinewidth\": 0, \"ticks\": \"\"}}, \"type\": \"histogram\"}], \"histogram2d\": [{\"colorbar\": {\"outlinewidth\": 0, \"ticks\": \"\"}, \"colorscale\": [[0.0, \"#0d0887\"], [0.1111111111111111, \"#46039f\"], [0.2222222222222222, \"#7201a8\"], [0.3333333333333333, \"#9c179e\"], [0.4444444444444444, \"#bd3786\"], [0.5555555555555556, \"#d8576b\"], [0.6666666666666666, \"#ed7953\"], [0.7777777777777778, \"#fb9f3a\"], [0.8888888888888888, \"#fdca26\"], [1.0, \"#f0f921\"]], \"type\": \"histogram2d\"}], \"histogram2dcontour\": [{\"colorbar\": {\"outlinewidth\": 0, \"ticks\": \"\"}, \"colorscale\": [[0.0, \"#0d0887\"], [0.1111111111111111, \"#46039f\"], [0.2222222222222222, \"#7201a8\"], [0.3333333333333333, \"#9c179e\"], [0.4444444444444444, \"#bd3786\"], [0.5555555555555556, \"#d8576b\"], [0.6666666666666666, \"#ed7953\"], [0.7777777777777778, \"#fb9f3a\"], [0.8888888888888888, \"#fdca26\"], [1.0, \"#f0f921\"]], \"type\": \"histogram2dcontour\"}], \"mesh3d\": [{\"colorbar\": {\"outlinewidth\": 0, \"ticks\": \"\"}, \"type\": \"mesh3d\"}], \"parcoords\": [{\"line\": {\"colorbar\": {\"outlinewidth\": 0, \"ticks\": \"\"}}, \"type\": \"parcoords\"}], \"pie\": [{\"automargin\": true, \"type\": \"pie\"}], \"scatter\": [{\"marker\": {\"colorbar\": {\"outlinewidth\": 0, \"ticks\": \"\"}}, \"type\": \"scatter\"}], \"scatter3d\": [{\"line\": {\"colorbar\": {\"outlinewidth\": 0, \"ticks\": \"\"}}, \"marker\": {\"colorbar\": {\"outlinewidth\": 0, \"ticks\": \"\"}}, \"type\": \"scatter3d\"}], \"scattercarpet\": [{\"marker\": {\"colorbar\": {\"outlinewidth\": 0, \"ticks\": \"\"}}, \"type\": \"scattercarpet\"}], \"scattergeo\": [{\"marker\": {\"colorbar\": {\"outlinewidth\": 0, \"ticks\": \"\"}}, \"type\": \"scattergeo\"}], \"scattergl\": [{\"marker\": {\"colorbar\": {\"outlinewidth\": 0, \"ticks\": \"\"}}, \"type\": \"scattergl\"}], \"scattermapbox\": [{\"marker\": {\"colorbar\": {\"outlinewidth\": 0, \"ticks\": \"\"}}, \"type\": \"scattermapbox\"}], \"scatterpolar\": [{\"marker\": {\"colorbar\": {\"outlinewidth\": 0, \"ticks\": \"\"}}, \"type\": \"scatterpolar\"}], \"scatterpolargl\": [{\"marker\": {\"colorbar\": {\"outlinewidth\": 0, \"ticks\": \"\"}}, \"type\": \"scatterpolargl\"}], \"scatterternary\": [{\"marker\": {\"colorbar\": {\"outlinewidth\": 0, \"ticks\": \"\"}}, \"type\": \"scatterternary\"}], \"surface\": [{\"colorbar\": {\"outlinewidth\": 0, \"ticks\": \"\"}, \"colorscale\": [[0.0, \"#0d0887\"], [0.1111111111111111, \"#46039f\"], [0.2222222222222222, \"#7201a8\"], [0.3333333333333333, \"#9c179e\"], [0.4444444444444444, \"#bd3786\"], [0.5555555555555556, \"#d8576b\"], [0.6666666666666666, \"#ed7953\"], [0.7777777777777778, \"#fb9f3a\"], [0.8888888888888888, \"#fdca26\"], [1.0, \"#f0f921\"]], \"type\": \"surface\"}], \"table\": [{\"cells\": {\"fill\": {\"color\": \"#EBF0F8\"}, \"line\": {\"color\": \"white\"}}, \"header\": {\"fill\": {\"color\": \"#C8D4E3\"}, \"line\": {\"color\": \"white\"}}, \"type\": \"table\"}]}, \"layout\": {\"annotationdefaults\": {\"arrowcolor\": \"#2a3f5f\", \"arrowhead\": 0, \"arrowwidth\": 1}, \"coloraxis\": {\"colorbar\": {\"outlinewidth\": 0, \"ticks\": \"\"}}, \"colorscale\": {\"diverging\": [[0, \"#8e0152\"], [0.1, \"#c51b7d\"], [0.2, \"#de77ae\"], [0.3, \"#f1b6da\"], [0.4, \"#fde0ef\"], [0.5, \"#f7f7f7\"], [0.6, \"#e6f5d0\"], [0.7, \"#b8e186\"], [0.8, \"#7fbc41\"], [0.9, \"#4d9221\"], [1, \"#276419\"]], \"sequential\": [[0.0, \"#0d0887\"], [0.1111111111111111, \"#46039f\"], [0.2222222222222222, \"#7201a8\"], [0.3333333333333333, \"#9c179e\"], [0.4444444444444444, \"#bd3786\"], [0.5555555555555556, \"#d8576b\"], [0.6666666666666666, \"#ed7953\"], [0.7777777777777778, \"#fb9f3a\"], [0.8888888888888888, \"#fdca26\"], [1.0, \"#f0f921\"]], \"sequentialminus\": [[0.0, \"#0d0887\"], [0.1111111111111111, \"#46039f\"], [0.2222222222222222, \"#7201a8\"], [0.3333333333333333, \"#9c179e\"], [0.4444444444444444, \"#bd3786\"], [0.5555555555555556, \"#d8576b\"], [0.6666666666666666, \"#ed7953\"], [0.7777777777777778, \"#fb9f3a\"], [0.8888888888888888, \"#fdca26\"], [1.0, \"#f0f921\"]]}, \"colorway\": [\"#636efa\", \"#EF553B\", \"#00cc96\", \"#ab63fa\", \"#FFA15A\", \"#19d3f3\", \"#FF6692\", \"#B6E880\", \"#FF97FF\", \"#FECB52\"], \"font\": {\"color\": \"#2a3f5f\"}, \"geo\": {\"bgcolor\": \"white\", \"lakecolor\": \"white\", \"landcolor\": \"#E5ECF6\", \"showlakes\": true, \"showland\": true, \"subunitcolor\": \"white\"}, \"hoverlabel\": {\"align\": \"left\"}, \"hovermode\": \"closest\", \"mapbox\": {\"style\": \"light\"}, \"paper_bgcolor\": \"white\", \"plot_bgcolor\": \"#E5ECF6\", \"polar\": {\"angularaxis\": {\"gridcolor\": \"white\", \"linecolor\": \"white\", \"ticks\": \"\"}, \"bgcolor\": \"#E5ECF6\", \"radialaxis\": {\"gridcolor\": \"white\", \"linecolor\": \"white\", \"ticks\": \"\"}}, \"scene\": {\"xaxis\": {\"backgroundcolor\": \"#E5ECF6\", \"gridcolor\": \"white\", \"gridwidth\": 2, \"linecolor\": \"white\", \"showbackground\": true, \"ticks\": \"\", \"zerolinecolor\": \"white\"}, \"yaxis\": {\"backgroundcolor\": \"#E5ECF6\", \"gridcolor\": \"white\", \"gridwidth\": 2, \"linecolor\": \"white\", \"showbackground\": true, \"ticks\": \"\", \"zerolinecolor\": \"white\"}, \"zaxis\": {\"backgroundcolor\": \"#E5ECF6\", \"gridcolor\": \"white\", \"gridwidth\": 2, \"linecolor\": \"white\", \"showbackground\": true, \"ticks\": \"\", \"zerolinecolor\": \"white\"}}, \"shapedefaults\": {\"line\": {\"color\": \"#2a3f5f\"}}, \"ternary\": {\"aaxis\": {\"gridcolor\": \"white\", \"linecolor\": \"white\", \"ticks\": \"\"}, \"baxis\": {\"gridcolor\": \"white\", \"linecolor\": \"white\", \"ticks\": \"\"}, \"bgcolor\": \"#E5ECF6\", \"caxis\": {\"gridcolor\": \"white\", \"linecolor\": \"white\", \"ticks\": \"\"}}, \"title\": {\"x\": 0.05}, \"xaxis\": {\"automargin\": true, \"gridcolor\": \"white\", \"linecolor\": \"white\", \"ticks\": \"\", \"title\": {\"standoff\": 15}, \"zerolinecolor\": \"white\", \"zerolinewidth\": 2}, \"yaxis\": {\"automargin\": true, \"gridcolor\": \"white\", \"linecolor\": \"white\", \"ticks\": \"\", \"title\": {\"standoff\": 15}, \"zerolinecolor\": \"white\", \"zerolinewidth\": 2}}}, \"xaxis\": {\"anchor\": \"y\", \"domain\": [0.0, 1.0], \"title\": {\"text\": \"stage\"}}, \"yaxis\": {\"anchor\": \"x\", \"domain\": [0.0, 1.0], \"title\": {\"text\": \"mildew_leaves\"}}},\n",
              "                        {\"responsive\": true}\n",
              "                    ).then(function(){\n",
              "                            \n",
              "var gd = document.getElementById('d00d8b31-a320-42c7-bbad-4b3858710de6');\n",
              "var x = new MutationObserver(function (mutations, observer) {{\n",
              "        var display = window.getComputedStyle(gd).display;\n",
              "        if (!display || display === 'none') {{\n",
              "            console.log([gd, 'removed!']);\n",
              "            Plotly.purge(gd);\n",
              "            observer.disconnect();\n",
              "        }}\n",
              "}});\n",
              "\n",
              "// Listen for the removal of the full notebook cells\n",
              "var notebookContainer = gd.closest('#notebook-container');\n",
              "if (notebookContainer) {{\n",
              "    x.observe(notebookContainer, {childList: true});\n",
              "}}\n",
              "\n",
              "// Listen for the clearing of the current output cell\n",
              "var outputEl = gd.closest('.output');\n",
              "if (outputEl) {{\n",
              "    x.observe(outputEl, {childList: true});\n",
              "}}\n",
              "\n",
              "                        })\n",
              "                };\n",
              "                \n",
              "            </script>\n",
              "        </div>\n",
              "</body>\n",
              "</html>"
            ]
          },
          "metadata": {
            "tags": []
          }
        }
      ]
    },
    {
      "cell_type": "code",
      "metadata": {
        "id": "a-8kWI9lXsE5",
        "colab_type": "code",
        "colab": {
          "base_uri": "https://localhost:8080/",
          "height": 542
        },
        "outputId": "ae1c2003-4ca1-4d11-d326-59f52b24475e"
      },
      "source": [
        "fig = go.Figure()\n",
        "fig = px.scatter(gandourie, x='sprout', y='mildew_leaves', hover_data=['stage','domain_name'], color=\"domain_name\")\n",
        "fig.show()"
      ],
      "execution_count": 27,
      "outputs": [
        {
          "output_type": "display_data",
          "data": {
            "text/html": [
              "<html>\n",
              "<head><meta charset=\"utf-8\" /></head>\n",
              "<body>\n",
              "    <div>\n",
              "            <script src=\"https://cdnjs.cloudflare.com/ajax/libs/mathjax/2.7.5/MathJax.js?config=TeX-AMS-MML_SVG\"></script><script type=\"text/javascript\">if (window.MathJax) {MathJax.Hub.Config({SVG: {font: \"STIX-Web\"}});}</script>\n",
              "                <script type=\"text/javascript\">window.PlotlyConfig = {MathJaxConfig: 'local'};</script>\n",
              "        <script src=\"https://cdn.plot.ly/plotly-latest.min.js\"></script>    \n",
              "            <div id=\"646dcca8-0adc-48a6-bd8e-a1cc71557098\" class=\"plotly-graph-div\" style=\"height:525px; width:100%;\"></div>\n",
              "            <script type=\"text/javascript\">\n",
              "                \n",
              "                    window.PLOTLYENV=window.PLOTLYENV || {};\n",
              "                    \n",
              "                if (document.getElementById(\"646dcca8-0adc-48a6-bd8e-a1cc71557098\")) {\n",
              "                    Plotly.newPlot(\n",
              "                        '646dcca8-0adc-48a6-bd8e-a1cc71557098',\n",
              "                        [{\"customdata\": [[6.0, \"Ligniere\"], [6.0, \"Ligniere\"], [6.0, \"Ligniere\"], [6.0, \"Ligniere\"], [6.0, \"Ligniere\"], [6.0, \"Ligniere\"], [6.0, \"Ligniere\"], [6.0, \"Ligniere\"], [6.0, \"Ligniere\"], [6.0, \"Ligniere\"], [6.0, \"Ligniere\"], [6.0, \"Ligniere\"], [6.0, \"Ligniere\"], [6.0, \"Ligniere\"], [6.0, \"Ligniere\"], [6.0, \"Ligniere\"], [6.0, \"Ligniere\"], [6.0, \"Ligniere\"], [6.0, \"Ligniere\"], [6.0, \"Ligniere\"], [6.0, \"Ligniere\"], [6.0, \"Ligniere\"], [6.0, \"Ligniere\"], [6.0, \"Ligniere\"], [6.0, \"Ligniere\"], [6.0, \"Ligniere\"], [6.0, \"Ligniere\"], [6.0, \"Ligniere\"], [6.0, \"Ligniere\"], [6.0, \"Ligniere\"], [6.0, \"Ligniere\"], [6.0, \"Ligniere\"], [6.0, \"Ligniere\"], [6.0, \"Ligniere\"], [6.0, \"Ligniere\"], [6.0, \"Ligniere\"], [6.0, \"Ligniere\"], [6.0, \"Ligniere\"], [6.0, \"Ligniere\"], [6.0, \"Ligniere\"], [6.0, \"Ligniere\"], [6.0, \"Ligniere\"], [6.0, \"Ligniere\"], [6.0, \"Ligniere\"], [6.0, \"Ligniere\"], [6.0, \"Ligniere\"], [6.0, \"Ligniere\"], [6.0, \"Ligniere\"], [12.0, \"Ligniere\"], [12.0, \"Ligniere\"], [12.0, \"Ligniere\"], [12.0, \"Ligniere\"], [12.0, \"Ligniere\"], [12.0, \"Ligniere\"], [12.0, \"Ligniere\"], [12.0, \"Ligniere\"], [12.0, \"Ligniere\"], [12.0, \"Ligniere\"], [12.0, \"Ligniere\"], [12.0, \"Ligniere\"], [12.0, \"Ligniere\"], [12.0, \"Ligniere\"], [12.0, \"Ligniere\"], [15.0, \"Ligniere\"], [15.0, \"Ligniere\"], [15.0, \"Ligniere\"], [15.0, \"Ligniere\"], [15.0, \"Ligniere\"], [15.0, \"Ligniere\"], [15.0, \"Ligniere\"], [15.0, \"Ligniere\"], [15.0, \"Ligniere\"], [15.0, \"Ligniere\"], [15.0, \"Ligniere\"], [15.0, \"Ligniere\"], [15.0, \"Ligniere\"], [15.0, \"Ligniere\"], [15.0, \"Ligniere\"], [15.0, \"Ligniere\"], [15.0, \"Ligniere\"], [15.0, \"Ligniere\"], [15.0, \"Ligniere\"], [15.0, \"Ligniere\"], [15.0, \"Ligniere\"], [15.0, \"Ligniere\"], [15.0, \"Ligniere\"], [15.0, \"Ligniere\"], [17.0, \"Ligniere\"], [17.0, \"Ligniere\"], [17.0, \"Ligniere\"], [17.0, \"Ligniere\"], [17.0, \"Ligniere\"], [17.0, \"Ligniere\"], [17.0, \"Ligniere\"], [17.0, \"Ligniere\"], [17.0, \"Ligniere\"], [17.0, \"Ligniere\"], [17.0, \"Ligniere\"], [17.0, \"Ligniere\"], [17.0, \"Ligniere\"], [17.0, \"Ligniere\"], [17.0, \"Ligniere\"], [17.0, \"Ligniere\"], [17.0, \"Ligniere\"], [17.0, \"Ligniere\"], [17.0, \"Ligniere\"], [17.0, \"Ligniere\"], [17.0, \"Ligniere\"], [17.0, \"Ligniere\"], [17.0, \"Ligniere\"], [17.0, \"Ligniere\"], [17.0, \"Ligniere\"], [17.0, \"Ligniere\"], [17.0, \"Ligniere\"], [17.0, \"Ligniere\"], [17.0, \"Ligniere\"], [17.0, \"Ligniere\"], [17.0, \"Ligniere\"], [17.0, \"Ligniere\"], [17.0, \"Ligniere\"], [17.0, \"Ligniere\"], [17.0, \"Ligniere\"], [17.0, \"Ligniere\"], [17.0, \"Ligniere\"], [17.0, \"Ligniere\"], [17.0, \"Ligniere\"], [17.0, \"Ligniere\"], [17.0, \"Ligniere\"], [17.0, \"Ligniere\"], [17.0, \"Ligniere\"], [17.0, \"Ligniere\"], [17.0, \"Ligniere\"], [17.0, \"Ligniere\"], [17.0, \"Ligniere\"], [17.0, \"Ligniere\"], [17.0, \"Ligniere\"], [17.0, \"Ligniere\"], [18.0, \"Ligniere\"], [18.0, \"Ligniere\"], [18.0, \"Ligniere\"], [18.0, \"Ligniere\"], [18.0, \"Ligniere\"], [18.0, \"Ligniere\"], [18.0, \"Ligniere\"], [18.0, \"Ligniere\"], [18.0, \"Ligniere\"], [18.0, \"Ligniere\"], [18.0, \"Ligniere\"], [18.0, \"Ligniere\"], [18.0, \"Ligniere\"], [18.0, \"Ligniere\"], [18.0, \"Ligniere\"], [18.0, \"Ligniere\"], [18.0, \"Ligniere\"], [18.0, \"Ligniere\"], [18.0, \"Ligniere\"], [18.0, \"Ligniere\"], [18.0, \"Ligniere\"], [18.0, \"Ligniere\"], [18.0, \"Ligniere\"], [18.0, \"Ligniere\"], [18.0, \"Ligniere\"], [19.0, \"Ligniere\"], [19.0, \"Ligniere\"], [19.0, \"Ligniere\"], [19.0, \"Ligniere\"], [19.0, \"Ligniere\"], [19.0, \"Ligniere\"], [19.0, \"Ligniere\"], [19.0, \"Ligniere\"], [19.0, \"Ligniere\"], [19.0, \"Ligniere\"], [19.0, \"Ligniere\"], [19.0, \"Ligniere\"], [19.0, \"Ligniere\"], [19.0, \"Ligniere\"], [19.0, \"Ligniere\"], [19.0, \"Ligniere\"], [19.0, \"Ligniere\"], [23.0, \"Ligniere\"], [23.0, \"Ligniere\"], [23.0, \"Ligniere\"], [23.0, \"Ligniere\"], [23.0, \"Ligniere\"], [23.0, \"Ligniere\"], [23.0, \"Ligniere\"], [23.0, \"Ligniere\"], [23.0, \"Ligniere\"], [23.0, \"Ligniere\"], [23.0, \"Ligniere\"], [23.0, \"Ligniere\"], [23.0, \"Ligniere\"], [23.0, \"Ligniere\"], [23.0, \"Ligniere\"], [23.0, \"Ligniere\"], [23.0, \"Ligniere\"], [23.0, \"Ligniere\"], [23.0, \"Ligniere\"], [23.0, \"Ligniere\"], [23.0, \"Ligniere\"], [23.0, \"Ligniere\"], [23.0, \"Ligniere\"], [23.0, \"Ligniere\"], [23.0, \"Ligniere\"], [23.0, \"Ligniere\"], [29.0, \"Ligniere\"], [29.0, \"Ligniere\"], [29.0, \"Ligniere\"], [29.0, \"Ligniere\"], [29.0, \"Ligniere\"], [29.0, \"Ligniere\"], [29.0, \"Ligniere\"], [29.0, \"Ligniere\"], [29.0, \"Ligniere\"], [29.0, \"Ligniere\"], [29.0, \"Ligniere\"], [29.0, \"Ligniere\"], [29.0, \"Ligniere\"], [29.0, \"Ligniere\"], [29.0, \"Ligniere\"], [29.0, \"Ligniere\"], [29.0, \"Ligniere\"], [29.0, \"Ligniere\"], [29.0, \"Ligniere\"], [29.0, \"Ligniere\"], [29.0, \"Ligniere\"], [29.0, \"Ligniere\"], [29.0, \"Ligniere\"], [29.0, \"Ligniere\"], [29.0, \"Ligniere\"], [29.0, \"Ligniere\"], [30.0, \"Ligniere\"], [30.0, \"Ligniere\"], [30.0, \"Ligniere\"], [30.0, \"Ligniere\"], [30.0, \"Ligniere\"], [30.0, \"Ligniere\"], [30.0, \"Ligniere\"], [30.0, \"Ligniere\"], [30.0, \"Ligniere\"], [30.0, \"Ligniere\"], [30.0, \"Ligniere\"], [30.0, \"Ligniere\"], [30.0, \"Ligniere\"], [30.0, \"Ligniere\"], [30.0, \"Ligniere\"], [30.0, \"Ligniere\"], [30.0, \"Ligniere\"], [30.0, \"Ligniere\"], [30.0, \"Ligniere\"], [30.0, \"Ligniere\"], [30.0, \"Ligniere\"], [30.0, \"Ligniere\"], [30.0, \"Ligniere\"], [30.0, \"Ligniere\"], [30.0, \"Ligniere\"], [30.0, \"Ligniere\"], [32.0, \"Ligniere\"], [32.0, \"Ligniere\"], [32.0, \"Ligniere\"], [32.0, \"Ligniere\"], [32.0, \"Ligniere\"], [32.0, \"Ligniere\"], [32.0, \"Ligniere\"], [32.0, \"Ligniere\"], [32.0, \"Ligniere\"], [32.0, \"Ligniere\"], [32.0, \"Ligniere\"], [32.0, \"Ligniere\"], [32.0, \"Ligniere\"], [32.0, \"Ligniere\"], [32.0, \"Ligniere\"], [32.0, \"Ligniere\"], [32.0, \"Ligniere\"], [32.0, \"Ligniere\"], [32.0, \"Ligniere\"], [32.0, \"Ligniere\"], [32.0, \"Ligniere\"], [32.0, \"Ligniere\"], [32.0, \"Ligniere\"], [32.0, \"Ligniere\"], [32.0, \"Ligniere\"], [32.0, \"Ligniere\"], [32.0, \"Ligniere\"], [32.0, \"Ligniere\"], [32.0, \"Ligniere\"], [32.0, \"Ligniere\"], [32.0, \"Ligniere\"], [32.0, \"Ligniere\"], [32.0, \"Ligniere\"], [32.0, \"Ligniere\"], [32.0, \"Ligniere\"], [32.0, \"Ligniere\"], [33.0, \"Ligniere\"], [33.0, \"Ligniere\"], [33.0, \"Ligniere\"], [33.0, \"Ligniere\"], [33.0, \"Ligniere\"], [33.0, \"Ligniere\"], [33.0, \"Ligniere\"], [33.0, \"Ligniere\"], [33.0, \"Ligniere\"], [33.0, \"Ligniere\"], [33.0, \"Ligniere\"], [33.0, \"Ligniere\"], [33.0, \"Ligniere\"], [33.0, \"Ligniere\"], [33.0, \"Ligniere\"], [33.0, \"Ligniere\"], [33.0, \"Ligniere\"], [33.0, \"Ligniere\"], [33.0, \"Ligniere\"], [33.0, \"Ligniere\"], [33.0, \"Ligniere\"], [33.0, \"Ligniere\"], [33.0, \"Ligniere\"], [33.0, \"Ligniere\"], [33.0, \"Ligniere\"], [33.0, \"Ligniere\"], [33.0, \"Ligniere\"], [33.0, \"Ligniere\"], [33.0, \"Ligniere\"], [33.0, \"Ligniere\"], [33.0, \"Ligniere\"], [33.0, \"Ligniere\"], [33.0, \"Ligniere\"], [33.0, \"Ligniere\"], [33.0, \"Ligniere\"], [33.0, \"Ligniere\"], [35.0, \"Ligniere\"], [35.0, \"Ligniere\"], [35.0, \"Ligniere\"], [35.0, \"Ligniere\"], [35.0, \"Ligniere\"], [35.0, \"Ligniere\"], [35.0, \"Ligniere\"], [35.0, \"Ligniere\"], [35.0, \"Ligniere\"], [35.0, \"Ligniere\"], [35.0, \"Ligniere\"], [35.0, \"Ligniere\"], [35.0, \"Ligniere\"], [35.0, \"Ligniere\"], [35.0, \"Ligniere\"], [35.0, \"Ligniere\"], [35.0, \"Ligniere\"], [35.0, \"Ligniere\"], [6.0, \"Ligniere\"], [6.0, \"Ligniere\"], [6.0, \"Ligniere\"], [6.0, \"Ligniere\"], [6.0, \"Ligniere\"], [6.0, \"Ligniere\"], [6.0, \"Ligniere\"], [6.0, \"Ligniere\"], [6.0, \"Ligniere\"], [6.0, \"Ligniere\"], [6.0, \"Ligniere\"], [6.0, \"Ligniere\"], [6.0, \"Ligniere\"], [6.0, \"Ligniere\"], [12.0, \"Ligniere\"], [12.0, \"Ligniere\"], [12.0, \"Ligniere\"], [12.0, \"Ligniere\"], [12.0, \"Ligniere\"], [12.0, \"Ligniere\"], [13.5, \"Ligniere\"], [13.5, \"Ligniere\"], [13.5, \"Ligniere\"], [13.5, \"Ligniere\"], [13.5, \"Ligniere\"], [13.5, \"Ligniere\"], [13.5, \"Ligniere\"], [13.5, \"Ligniere\"], [13.5, \"Ligniere\"], [13.5, \"Ligniere\"], [13.5, \"Ligniere\"], [13.5, \"Ligniere\"], [13.5, \"Ligniere\"], [13.5, \"Ligniere\"], [13.5, \"Ligniere\"], [13.5, \"Ligniere\"], [13.5, \"Ligniere\"], [13.5, \"Ligniere\"], [13.5, \"Ligniere\"], [13.5, \"Ligniere\"], [13.5, \"Ligniere\"], [13.5, \"Ligniere\"], [13.5, \"Ligniere\"], [16.0, \"Ligniere\"], [16.0, \"Ligniere\"], [16.0, \"Ligniere\"], [16.0, \"Ligniere\"], [16.0, \"Ligniere\"], [16.0, \"Ligniere\"], [16.0, \"Ligniere\"], [16.0, \"Ligniere\"], [16.0, \"Ligniere\"], [16.0, \"Ligniere\"], [16.0, \"Ligniere\"], [16.0, \"Ligniere\"], [16.0, \"Ligniere\"], [16.0, \"Ligniere\"], [17.0, \"Ligniere\"], [17.0, \"Ligniere\"], [17.0, \"Ligniere\"], [17.0, \"Ligniere\"], [17.0, \"Ligniere\"], [17.0, \"Ligniere\"], [17.0, \"Ligniere\"], [17.0, \"Ligniere\"], [17.0, \"Ligniere\"], [17.0, \"Ligniere\"], [17.0, \"Ligniere\"], [17.0, \"Ligniere\"], [17.0, \"Ligniere\"], [17.0, \"Ligniere\"], [17.0, \"Ligniere\"], [17.0, \"Ligniere\"], [17.0, \"Ligniere\"], [17.0, \"Ligniere\"], [17.0, \"Ligniere\"], [17.0, \"Ligniere\"], [17.0, \"Ligniere\"], [17.0, \"Ligniere\"], [17.0, \"Ligniere\"], [17.0, \"Ligniere\"], [17.0, \"Ligniere\"], [17.0, \"Ligniere\"], [17.0, \"Ligniere\"], [17.0, \"Ligniere\"], [17.0, \"Ligniere\"], [17.0, \"Ligniere\"], [17.0, \"Ligniere\"], [17.0, \"Ligniere\"], [17.0, \"Ligniere\"], [17.0, \"Ligniere\"], [17.0, \"Ligniere\"], [17.0, \"Ligniere\"], [17.0, \"Ligniere\"], [17.0, \"Ligniere\"], [17.0, \"Ligniere\"], [17.0, \"Ligniere\"], [17.0, \"Ligniere\"], [17.0, \"Ligniere\"], [17.0, \"Ligniere\"], [17.0, \"Ligniere\"], [17.0, \"Ligniere\"], [17.0, \"Ligniere\"], [17.0, \"Ligniere\"], [17.0, \"Ligniere\"], [17.0, \"Ligniere\"], [17.0, \"Ligniere\"], [17.0, \"Ligniere\"], [17.0, \"Ligniere\"], [17.0, \"Ligniere\"], [17.0, \"Ligniere\"], [17.0, \"Ligniere\"], [17.0, \"Ligniere\"], [17.0, \"Ligniere\"], [17.0, \"Ligniere\"], [17.0, \"Ligniere\"], [17.0, \"Ligniere\"], [17.0, \"Ligniere\"], [17.0, \"Ligniere\"], [17.0, \"Ligniere\"], [17.0, \"Ligniere\"], [17.0, \"Ligniere\"], [17.0, \"Ligniere\"], [17.0, \"Ligniere\"], [17.0, \"Ligniere\"], [17.0, \"Ligniere\"], [17.0, \"Ligniere\"], [17.0, \"Ligniere\"], [17.0, \"Ligniere\"], [17.0, \"Ligniere\"], [17.0, \"Ligniere\"], [17.0, \"Ligniere\"], [17.0, \"Ligniere\"], [17.0, \"Ligniere\"], [17.0, \"Ligniere\"], [17.0, \"Ligniere\"], [17.0, \"Ligniere\"], [17.0, \"Ligniere\"], [19.0, \"Ligniere\"], [19.0, \"Ligniere\"], [19.0, \"Ligniere\"], [19.0, \"Ligniere\"], [19.0, \"Ligniere\"], [19.0, \"Ligniere\"], [19.0, \"Ligniere\"], [19.0, \"Ligniere\"], [19.0, \"Ligniere\"], [19.0, \"Ligniere\"], [19.0, \"Ligniere\"], [19.0, \"Ligniere\"], [19.0, \"Ligniere\"], [19.0, \"Ligniere\"], [19.0, \"Ligniere\"], [19.0, \"Ligniere\"], [19.0, \"Ligniere\"], [19.0, \"Ligniere\"], [19.0, \"Ligniere\"], [19.0, \"Ligniere\"], [19.0, \"Ligniere\"], [19.0, \"Ligniere\"], [19.0, \"Ligniere\"], [19.0, \"Ligniere\"], [19.0, \"Ligniere\"], [19.0, \"Ligniere\"], [19.0, \"Ligniere\"], [27.0, \"Ligniere\"], [27.0, \"Ligniere\"], [27.0, \"Ligniere\"], [27.0, \"Ligniere\"], [27.0, \"Ligniere\"], [27.0, \"Ligniere\"], [27.0, \"Ligniere\"], [27.0, \"Ligniere\"], [27.0, \"Ligniere\"], [27.0, \"Ligniere\"], [27.0, \"Ligniere\"], [27.0, \"Ligniere\"], [27.0, \"Ligniere\"], [27.0, \"Ligniere\"], [27.0, \"Ligniere\"], [27.0, \"Ligniere\"], [27.0, \"Ligniere\"], [27.0, \"Ligniere\"], [27.0, \"Ligniere\"], [27.0, \"Ligniere\"], [27.0, \"Ligniere\"], [27.0, \"Ligniere\"], [27.0, \"Ligniere\"], [27.0, \"Ligniere\"], [27.0, \"Ligniere\"], [27.0, \"Ligniere\"], [27.0, \"Ligniere\"], [29.0, \"Ligniere\"], [29.0, \"Ligniere\"], [29.0, \"Ligniere\"], [29.0, \"Ligniere\"], [29.0, \"Ligniere\"], [29.0, \"Ligniere\"], [29.0, \"Ligniere\"], [29.0, \"Ligniere\"], [29.0, \"Ligniere\"], [29.0, \"Ligniere\"], [29.0, \"Ligniere\"], [29.0, \"Ligniere\"], [29.0, \"Ligniere\"], [29.0, \"Ligniere\"], [29.0, \"Ligniere\"], [29.0, \"Ligniere\"], [29.0, \"Ligniere\"], [29.0, \"Ligniere\"], [29.0, \"Ligniere\"], [29.0, \"Ligniere\"], [29.0, \"Ligniere\"], [29.0, \"Ligniere\"], [29.0, \"Ligniere\"], [29.0, \"Ligniere\"], [29.0, \"Ligniere\"], [29.0, \"Ligniere\"], [29.0, \"Ligniere\"], [31.0, \"Ligniere\"], [31.0, \"Ligniere\"], [31.0, \"Ligniere\"], [31.0, \"Ligniere\"], [31.0, \"Ligniere\"], [31.0, \"Ligniere\"], [31.0, \"Ligniere\"], [31.0, \"Ligniere\"], [31.0, \"Ligniere\"], [31.0, \"Ligniere\"], [31.0, \"Ligniere\"], [31.0, \"Ligniere\"], [31.0, \"Ligniere\"], [31.0, \"Ligniere\"], [31.0, \"Ligniere\"], [31.0, \"Ligniere\"], [31.0, \"Ligniere\"], [31.0, \"Ligniere\"], [31.0, \"Ligniere\"], [31.0, \"Ligniere\"], [31.0, \"Ligniere\"], [31.0, \"Ligniere\"], [31.0, \"Ligniere\"], [31.0, \"Ligniere\"], [31.0, \"Ligniere\"], [31.0, \"Ligniere\"], [31.0, \"Ligniere\"], [33.0, \"Ligniere\"], [33.0, \"Ligniere\"], [33.0, \"Ligniere\"], [33.0, \"Ligniere\"], [33.0, \"Ligniere\"], [33.0, \"Ligniere\"], [33.0, \"Ligniere\"], [33.0, \"Ligniere\"], [33.0, \"Ligniere\"], [33.0, \"Ligniere\"], [33.0, \"Ligniere\"], [33.0, \"Ligniere\"], [33.0, \"Ligniere\"], [33.0, \"Ligniere\"], [33.0, \"Ligniere\"], [33.0, \"Ligniere\"], [33.0, \"Ligniere\"], [33.0, \"Ligniere\"], [33.0, \"Ligniere\"], [33.0, \"Ligniere\"], [33.0, \"Ligniere\"], [33.0, \"Ligniere\"], [33.0, \"Ligniere\"], [33.0, \"Ligniere\"], [33.0, \"Ligniere\"], [33.0, \"Ligniere\"], [33.0, \"Ligniere\"], [33.0, \"Ligniere\"], [33.0, \"Ligniere\"], [33.0, \"Ligniere\"], [33.0, \"Ligniere\"], [33.0, \"Ligniere\"], [33.0, \"Ligniere\"], [33.0, \"Ligniere\"], [33.0, \"Ligniere\"], [33.0, \"Ligniere\"], [33.0, \"Ligniere\"], [33.0, \"Ligniere\"], [33.0, \"Ligniere\"], [33.0, \"Ligniere\"], [33.0, \"Ligniere\"], [33.0, \"Ligniere\"], [33.0, \"Ligniere\"], [33.0, \"Ligniere\"], [33.0, \"Ligniere\"], [33.0, \"Ligniere\"], [33.0, \"Ligniere\"], [33.0, \"Ligniere\"], [33.0, \"Ligniere\"], [33.0, \"Ligniere\"], [33.0, \"Ligniere\"], [33.0, \"Ligniere\"], [33.0, \"Ligniere\"], [33.0, \"Ligniere\"], [33.0, \"Ligniere\"], [33.0, \"Ligniere\"], [33.0, \"Ligniere\"], [33.0, \"Ligniere\"], [33.0, \"Ligniere\"], [33.0, \"Ligniere\"], [33.0, \"Ligniere\"], [33.0, \"Ligniere\"], [33.0, \"Ligniere\"], [33.0, \"Ligniere\"], [33.0, \"Ligniere\"], [33.0, \"Ligniere\"], [33.0, \"Ligniere\"], [33.0, \"Ligniere\"], [33.0, \"Ligniere\"], [33.0, \"Ligniere\"], [33.0, \"Ligniere\"], [33.0, \"Ligniere\"], [33.0, \"Ligniere\"], [33.0, \"Ligniere\"], [33.0, \"Ligniere\"], [33.0, \"Ligniere\"], [33.0, \"Ligniere\"], [33.0, \"Ligniere\"], [33.0, \"Ligniere\"], [33.0, \"Ligniere\"], [33.0, \"Ligniere\"], [9.0, \"Ligniere\"], [9.0, \"Ligniere\"], [9.0, \"Ligniere\"], [9.0, \"Ligniere\"], [9.0, \"Ligniere\"], [9.0, \"Ligniere\"], [9.0, \"Ligniere\"], [9.0, \"Ligniere\"], [9.0, \"Ligniere\"], [9.0, \"Ligniere\"], [9.0, \"Ligniere\"], [9.0, \"Ligniere\"], [9.0, \"Ligniere\"], [9.0, \"Ligniere\"], [9.0, \"Ligniere\"], [9.0, \"Ligniere\"], [9.0, \"Ligniere\"], [9.0, \"Ligniere\"], [10.5, \"Ligniere\"], [10.5, \"Ligniere\"], [10.5, \"Ligniere\"], [10.5, \"Ligniere\"], [10.5, \"Ligniere\"], [10.5, \"Ligniere\"], [10.5, \"Ligniere\"], [10.5, \"Ligniere\"], [10.5, \"Ligniere\"], [15.0, \"Ligniere\"], [15.0, \"Ligniere\"], [15.0, \"Ligniere\"], [15.0, \"Ligniere\"], [15.0, \"Ligniere\"], [15.0, \"Ligniere\"], [15.0, \"Ligniere\"], [15.0, \"Ligniere\"], [15.0, \"Ligniere\"], [15.0, \"Ligniere\"], [15.0, \"Ligniere\"], [15.0, \"Ligniere\"], [15.0, \"Ligniere\"], [15.0, \"Ligniere\"], [15.0, \"Ligniere\"], [15.0, \"Ligniere\"], [15.0, \"Ligniere\"], [15.0, \"Ligniere\"], [15.0, \"Ligniere\"], [15.0, \"Ligniere\"], [15.0, \"Ligniere\"], [15.0, \"Ligniere\"], [15.0, \"Ligniere\"], [15.0, \"Ligniere\"], [15.0, \"Ligniere\"], [15.0, \"Ligniere\"], [15.0, \"Ligniere\"], [16.0, \"Ligniere\"], [16.0, \"Ligniere\"], [16.0, \"Ligniere\"], [16.0, \"Ligniere\"], [16.0, \"Ligniere\"], [16.0, \"Ligniere\"], [16.0, \"Ligniere\"], [16.0, \"Ligniere\"], [16.0, \"Ligniere\"], [16.0, \"Ligniere\"], [16.0, \"Ligniere\"], [16.0, \"Ligniere\"], [16.0, \"Ligniere\"], [16.0, \"Ligniere\"], [16.0, \"Ligniere\"], [16.0, \"Ligniere\"], [16.0, \"Ligniere\"], [16.0, \"Ligniere\"], [16.0, \"Ligniere\"], [16.0, \"Ligniere\"], [16.0, \"Ligniere\"], [16.0, \"Ligniere\"], [16.0, \"Ligniere\"], [16.0, \"Ligniere\"], [16.0, \"Ligniere\"], [16.0, \"Ligniere\"], [16.0, \"Ligniere\"], [16.0, \"Ligniere\"], [16.0, \"Ligniere\"], [16.0, \"Ligniere\"], [16.0, \"Ligniere\"], [16.0, \"Ligniere\"], [16.0, \"Ligniere\"], [16.0, \"Ligniere\"], [16.0, \"Ligniere\"], [16.0, \"Ligniere\"], [16.0, \"Ligniere\"], [16.0, \"Ligniere\"], [16.0, \"Ligniere\"], [16.0, \"Ligniere\"], [16.0, \"Ligniere\"], [16.0, \"Ligniere\"], [16.0, \"Ligniere\"], [16.0, \"Ligniere\"], [16.0, \"Ligniere\"], [16.0, \"Ligniere\"], [16.0, \"Ligniere\"], [16.0, \"Ligniere\"], [16.0, \"Ligniere\"], [16.0, \"Ligniere\"], [16.0, \"Ligniere\"], [16.0, \"Ligniere\"], [16.0, \"Ligniere\"], [16.0, \"Ligniere\"], [16.0, \"Ligniere\"], [16.0, \"Ligniere\"], [17.0, \"Ligniere\"], [17.0, \"Ligniere\"], [17.0, \"Ligniere\"], [17.0, \"Ligniere\"], [17.0, \"Ligniere\"], [17.0, \"Ligniere\"], [17.0, \"Ligniere\"], [17.0, \"Ligniere\"], [17.0, \"Ligniere\"], [17.0, \"Ligniere\"], [17.0, \"Ligniere\"], [17.0, \"Ligniere\"], [17.0, \"Ligniere\"], [17.0, \"Ligniere\"], [17.0, \"Ligniere\"], [17.0, \"Ligniere\"], [17.0, \"Ligniere\"], [17.0, \"Ligniere\"], [17.0, \"Ligniere\"], [17.0, \"Ligniere\"], [17.0, \"Ligniere\"], [17.0, \"Ligniere\"], [17.0, \"Ligniere\"], [17.0, \"Ligniere\"], [17.0, \"Ligniere\"], [17.0, \"Ligniere\"], [17.0, \"Ligniere\"], [17.0, \"Ligniere\"], [17.0, \"Ligniere\"], [18.0, \"Ligniere\"], [18.0, \"Ligniere\"], [18.0, \"Ligniere\"], [18.0, \"Ligniere\"], [18.0, \"Ligniere\"], [18.0, \"Ligniere\"], [18.0, \"Ligniere\"], [18.0, \"Ligniere\"], [18.0, \"Ligniere\"], [18.0, \"Ligniere\"], [18.0, \"Ligniere\"], [18.0, \"Ligniere\"], [18.0, \"Ligniere\"], [18.0, \"Ligniere\"], [18.0, \"Ligniere\"], [18.0, \"Ligniere\"], [18.0, \"Ligniere\"], [18.0, \"Ligniere\"], [23.0, \"Ligniere\"], [23.0, \"Ligniere\"], [23.0, \"Ligniere\"], [23.0, \"Ligniere\"], [23.0, \"Ligniere\"], [23.0, \"Ligniere\"], [23.0, \"Ligniere\"], [23.0, \"Ligniere\"], [23.0, \"Ligniere\"], [23.0, \"Ligniere\"], [23.0, \"Ligniere\"], [23.0, \"Ligniere\"], [23.0, \"Ligniere\"], [23.0, \"Ligniere\"], [23.0, \"Ligniere\"], [23.0, \"Ligniere\"], [23.0, \"Ligniere\"], [23.0, \"Ligniere\"], [23.0, \"Ligniere\"], [23.0, \"Ligniere\"], [23.0, \"Ligniere\"], [23.0, \"Ligniere\"], [23.0, \"Ligniere\"], [23.0, \"Ligniere\"], [23.0, \"Ligniere\"], [23.0, \"Ligniere\"], [23.0, \"Ligniere\"], [23.0, \"Ligniere\"], [23.0, \"Ligniere\"], [26.0, \"Ligniere\"], [26.0, \"Ligniere\"], [26.0, \"Ligniere\"], [26.0, \"Ligniere\"], [26.0, \"Ligniere\"], [26.0, \"Ligniere\"], [26.0, \"Ligniere\"], [26.0, \"Ligniere\"], [26.0, \"Ligniere\"], [26.0, \"Ligniere\"], [26.0, \"Ligniere\"], [26.0, \"Ligniere\"], [26.0, \"Ligniere\"], [26.0, \"Ligniere\"], [26.0, \"Ligniere\"], [26.0, \"Ligniere\"], [26.0, \"Ligniere\"], [26.0, \"Ligniere\"], [26.0, \"Ligniere\"], [26.0, \"Ligniere\"], [26.0, \"Ligniere\"], [26.0, \"Ligniere\"], [26.0, \"Ligniere\"], [26.0, \"Ligniere\"], [26.0, \"Ligniere\"], [26.0, \"Ligniere\"], [26.0, \"Ligniere\"], [26.0, \"Ligniere\"], [26.0, \"Ligniere\"], [29.0, \"Ligniere\"], [29.0, \"Ligniere\"], [29.0, \"Ligniere\"], [29.0, \"Ligniere\"], [29.0, \"Ligniere\"], [29.0, \"Ligniere\"], [29.0, \"Ligniere\"], [29.0, \"Ligniere\"], [29.0, \"Ligniere\"], [29.0, \"Ligniere\"], [29.0, \"Ligniere\"], [29.0, \"Ligniere\"], [29.0, \"Ligniere\"], [29.0, \"Ligniere\"], [29.0, \"Ligniere\"], [29.0, \"Ligniere\"], [29.0, \"Ligniere\"], [29.0, \"Ligniere\"], [29.0, \"Ligniere\"], [29.0, \"Ligniere\"], [29.0, \"Ligniere\"], [29.0, \"Ligniere\"], [29.0, \"Ligniere\"], [29.0, \"Ligniere\"], [29.0, \"Ligniere\"], [29.0, \"Ligniere\"], [29.0, \"Ligniere\"], [29.0, \"Ligniere\"], [29.0, \"Ligniere\"], [31.0, \"Ligniere\"], [31.0, \"Ligniere\"], [31.0, \"Ligniere\"], [31.0, \"Ligniere\"], [31.0, \"Ligniere\"], [31.0, \"Ligniere\"], [31.0, \"Ligniere\"], [31.0, \"Ligniere\"], [31.0, \"Ligniere\"], [31.0, \"Ligniere\"], [31.0, \"Ligniere\"], [31.0, \"Ligniere\"], [31.0, \"Ligniere\"], [31.0, \"Ligniere\"], [31.0, \"Ligniere\"], [31.0, \"Ligniere\"], [31.0, \"Ligniere\"], [31.0, \"Ligniere\"], [31.0, \"Ligniere\"], [31.0, \"Ligniere\"], [31.0, \"Ligniere\"], [31.0, \"Ligniere\"], [31.0, \"Ligniere\"], [31.0, \"Ligniere\"], [31.0, \"Ligniere\"], [31.0, \"Ligniere\"], [31.0, \"Ligniere\"], [31.0, \"Ligniere\"], [31.0, \"Ligniere\"], [31.0, \"Ligniere\"], [31.0, \"Ligniere\"], [31.0, \"Ligniere\"], [31.0, \"Ligniere\"], [31.0, \"Ligniere\"], [31.0, \"Ligniere\"], [31.0, \"Ligniere\"], [31.0, \"Ligniere\"], [31.0, \"Ligniere\"], [31.0, \"Ligniere\"], [31.0, \"Ligniere\"], [31.0, \"Ligniere\"], [31.0, \"Ligniere\"], [31.0, \"Ligniere\"], [31.0, \"Ligniere\"], [31.0, \"Ligniere\"], [31.0, \"Ligniere\"], [31.0, \"Ligniere\"], [31.0, \"Ligniere\"], [31.0, \"Ligniere\"], [31.0, \"Ligniere\"], [31.0, \"Ligniere\"], [31.0, \"Ligniere\"], [31.0, \"Ligniere\"], [31.0, \"Ligniere\"], [31.0, \"Ligniere\"], [31.0, \"Ligniere\"], [33.0, \"Ligniere\"], [33.0, \"Ligniere\"], [33.0, \"Ligniere\"], [33.0, \"Ligniere\"], [33.0, \"Ligniere\"], [33.0, \"Ligniere\"], [33.0, \"Ligniere\"], [33.0, \"Ligniere\"], [33.0, \"Ligniere\"], [33.0, \"Ligniere\"], [33.0, \"Ligniere\"], [33.0, \"Ligniere\"], [33.0, \"Ligniere\"], [33.0, \"Ligniere\"], [33.0, \"Ligniere\"], [33.0, \"Ligniere\"], [33.0, \"Ligniere\"], [33.0, \"Ligniere\"], [33.0, \"Ligniere\"], [33.0, \"Ligniere\"], [33.0, \"Ligniere\"], [33.0, \"Ligniere\"], [33.0, \"Ligniere\"], [33.0, \"Ligniere\"], [33.0, \"Ligniere\"], [33.0, \"Ligniere\"], [33.0, \"Ligniere\"], [33.0, \"Ligniere\"], [33.0, \"Ligniere\"], [33.0, \"Ligniere\"], [33.0, \"Ligniere\"], [33.0, \"Ligniere\"], [33.0, \"Ligniere\"], [33.0, \"Ligniere\"], [33.0, \"Ligniere\"], [33.0, \"Ligniere\"], [33.0, \"Ligniere\"], [33.0, \"Ligniere\"], [33.0, \"Ligniere\"], [33.0, \"Ligniere\"], [33.0, \"Ligniere\"], [33.0, \"Ligniere\"], [33.0, \"Ligniere\"], [33.0, \"Ligniere\"], [33.0, \"Ligniere\"], [33.0, \"Ligniere\"], [33.0, \"Ligniere\"], [35.0, \"Ligniere\"], [35.0, \"Ligniere\"], [35.0, \"Ligniere\"], [35.0, \"Ligniere\"], [35.0, \"Ligniere\"], [35.0, \"Ligniere\"], [35.0, \"Ligniere\"], [35.0, \"Ligniere\"], [35.0, \"Ligniere\"], [35.0, \"Ligniere\"], [35.0, \"Ligniere\"], [35.0, \"Ligniere\"], [35.0, \"Ligniere\"], [35.0, \"Ligniere\"], [35.0, \"Ligniere\"], [35.0, \"Ligniere\"], [35.0, \"Ligniere\"], [35.0, \"Ligniere\"], [35.0, \"Ligniere\"], [35.0, \"Ligniere\"], [35.0, \"Ligniere\"], [35.0, \"Ligniere\"], [35.0, \"Ligniere\"], [35.0, \"Ligniere\"], [35.0, \"Ligniere\"], [35.0, \"Ligniere\"], [35.0, \"Ligniere\"], [35.0, \"Ligniere\"], [35.0, \"Ligniere\"], [35.0, \"Ligniere\"], [35.0, \"Ligniere\"], [35.0, \"Ligniere\"], [35.0, \"Ligniere\"], [35.0, \"Ligniere\"], [35.0, \"Ligniere\"], [35.0, \"Ligniere\"], [35.0, \"Ligniere\"], [35.0, \"Ligniere\"], [10.0, \"Ligniere\"], [10.0, \"Ligniere\"], [10.0, \"Ligniere\"], [10.0, \"Ligniere\"], [10.0, \"Ligniere\"], [10.0, \"Ligniere\"], [10.0, \"Ligniere\"], [10.0, \"Ligniere\"], [10.0, \"Ligniere\"], [10.0, \"Ligniere\"], [10.0, \"Ligniere\"], [10.0, \"Ligniere\"], [10.0, \"Ligniere\"], [10.0, \"Ligniere\"], [10.0, \"Ligniere\"], [10.0, \"Ligniere\"], [10.0, \"Ligniere\"], [10.0, \"Ligniere\"], [10.0, \"Ligniere\"], [10.0, \"Ligniere\"], [10.0, \"Ligniere\"], [10.0, \"Ligniere\"], [10.0, \"Ligniere\"], [10.0, \"Ligniere\"], [10.0, \"Ligniere\"], [10.0, \"Ligniere\"], [10.0, \"Ligniere\"], [10.0, \"Ligniere\"], [10.0, \"Ligniere\"], [11.0, \"Ligniere\"], [11.0, \"Ligniere\"], [11.0, \"Ligniere\"], [11.0, \"Ligniere\"], [11.0, \"Ligniere\"], [11.0, \"Ligniere\"], [11.0, \"Ligniere\"], [11.0, \"Ligniere\"], [11.0, \"Ligniere\"], [11.0, \"Ligniere\"], [11.0, \"Ligniere\"], [11.0, \"Ligniere\"], [11.0, \"Ligniere\"], [11.0, \"Ligniere\"], [11.0, \"Ligniere\"], [11.0, \"Ligniere\"], [11.0, \"Ligniere\"], [11.0, \"Ligniere\"], [11.0, \"Ligniere\"], [11.0, \"Ligniere\"], [11.0, \"Ligniere\"], [11.0, \"Ligniere\"], [11.0, \"Ligniere\"], [11.0, \"Ligniere\"], [11.0, \"Ligniere\"], [11.0, \"Ligniere\"], [11.0, \"Ligniere\"], [11.0, \"Ligniere\"], [11.0, \"Ligniere\"], [15.0, \"Ligniere\"], [15.0, \"Ligniere\"], [15.0, \"Ligniere\"], [15.0, \"Ligniere\"], [15.0, \"Ligniere\"], [15.0, \"Ligniere\"], [15.0, \"Ligniere\"], [15.0, \"Ligniere\"], [15.0, \"Ligniere\"], [15.0, \"Ligniere\"], [15.0, \"Ligniere\"], [15.0, \"Ligniere\"], [15.0, \"Ligniere\"], [15.0, \"Ligniere\"], [15.0, \"Ligniere\"], [15.0, \"Ligniere\"], [15.0, \"Ligniere\"], [15.0, \"Ligniere\"], [15.0, \"Ligniere\"], [15.0, \"Ligniere\"], [15.0, \"Ligniere\"], [15.0, \"Ligniere\"], [15.0, \"Ligniere\"], [15.0, \"Ligniere\"], [15.0, \"Ligniere\"], [15.0, \"Ligniere\"], [15.0, \"Ligniere\"], [15.0, \"Ligniere\"], [15.0, \"Ligniere\"], [17.0, \"Ligniere\"], [17.0, \"Ligniere\"], [17.0, \"Ligniere\"], [17.0, \"Ligniere\"], [17.0, \"Ligniere\"], [17.0, \"Ligniere\"], [17.0, \"Ligniere\"], [17.0, \"Ligniere\"], [17.0, \"Ligniere\"], [19.0, \"Ligniere\"], [19.0, \"Ligniere\"], [19.0, \"Ligniere\"], [19.0, \"Ligniere\"], [19.0, \"Ligniere\"], [19.0, \"Ligniere\"], [19.0, \"Ligniere\"], [19.0, \"Ligniere\"], [19.0, \"Ligniere\"], [19.0, \"Ligniere\"], [19.0, \"Ligniere\"], [19.0, \"Ligniere\"], [19.0, \"Ligniere\"], [19.0, \"Ligniere\"], [19.0, \"Ligniere\"], [19.0, \"Ligniere\"], [19.0, \"Ligniere\"], [19.0, \"Ligniere\"], [25.0, \"Ligniere\"], [25.0, \"Ligniere\"], [25.0, \"Ligniere\"], [25.0, \"Ligniere\"], [25.0, \"Ligniere\"], [25.0, \"Ligniere\"], [25.0, \"Ligniere\"], [25.0, \"Ligniere\"], [25.0, \"Ligniere\"], [25.0, \"Ligniere\"], [25.0, \"Ligniere\"], [25.0, \"Ligniere\"], [25.0, \"Ligniere\"], [25.0, \"Ligniere\"], [25.0, \"Ligniere\"], [25.0, \"Ligniere\"], [25.0, \"Ligniere\"], [25.0, \"Ligniere\"], [25.0, \"Ligniere\"], [25.0, \"Ligniere\"], [27.0, \"Ligniere\"], [27.0, \"Ligniere\"], [27.0, \"Ligniere\"], [27.0, \"Ligniere\"], [27.0, \"Ligniere\"], [27.0, \"Ligniere\"], [27.0, \"Ligniere\"], [27.0, \"Ligniere\"], [27.0, \"Ligniere\"], [27.0, \"Ligniere\"], [27.0, \"Ligniere\"], [27.0, \"Ligniere\"], [27.0, \"Ligniere\"], [27.0, \"Ligniere\"], [27.0, \"Ligniere\"], [27.0, \"Ligniere\"], [27.0, \"Ligniere\"], [27.0, \"Ligniere\"], [27.0, \"Ligniere\"], [27.0, \"Ligniere\"], [29.0, \"Ligniere\"], [29.0, \"Ligniere\"], [29.0, \"Ligniere\"], [29.0, \"Ligniere\"], [29.0, \"Ligniere\"], [29.0, \"Ligniere\"], [29.0, \"Ligniere\"], [29.0, \"Ligniere\"], [29.0, \"Ligniere\"], [29.0, \"Ligniere\"], [29.0, \"Ligniere\"], [29.0, \"Ligniere\"], [29.0, \"Ligniere\"], [29.0, \"Ligniere\"], [29.0, \"Ligniere\"], [29.0, \"Ligniere\"], [29.0, \"Ligniere\"], [29.0, \"Ligniere\"], [29.0, \"Ligniere\"], [29.0, \"Ligniere\"], [29.0, \"Ligniere\"], [29.0, \"Ligniere\"], [29.0, \"Ligniere\"], [29.0, \"Ligniere\"], [29.0, \"Ligniere\"], [29.0, \"Ligniere\"], [29.0, \"Ligniere\"], [29.0, \"Ligniere\"], [29.0, \"Ligniere\"], [31.0, \"Ligniere\"], [31.0, \"Ligniere\"], [31.0, \"Ligniere\"], [31.0, \"Ligniere\"], [31.0, \"Ligniere\"], [31.0, \"Ligniere\"], [31.0, \"Ligniere\"], [31.0, \"Ligniere\"], [31.0, \"Ligniere\"], [31.0, \"Ligniere\"], [31.0, \"Ligniere\"], [31.0, \"Ligniere\"], [31.0, \"Ligniere\"], [31.0, \"Ligniere\"], [31.0, \"Ligniere\"], [31.0, \"Ligniere\"], [31.0, \"Ligniere\"], [31.0, \"Ligniere\"], [31.0, \"Ligniere\"], [31.0, \"Ligniere\"], [31.0, \"Ligniere\"], [31.0, \"Ligniere\"], [31.0, \"Ligniere\"], [31.0, \"Ligniere\"], [31.0, \"Ligniere\"], [31.0, \"Ligniere\"], [31.0, \"Ligniere\"], [31.0, \"Ligniere\"], [31.0, \"Ligniere\"], [33.0, \"Ligniere\"], [33.0, \"Ligniere\"], [33.0, \"Ligniere\"], [33.0, \"Ligniere\"], [33.0, \"Ligniere\"], [33.0, \"Ligniere\"], [33.0, \"Ligniere\"], [33.0, \"Ligniere\"], [33.0, \"Ligniere\"], [33.0, \"Ligniere\"], [33.0, \"Ligniere\"], [33.0, \"Ligniere\"], [33.0, \"Ligniere\"], [33.0, \"Ligniere\"], [33.0, \"Ligniere\"], [33.0, \"Ligniere\"], [33.0, \"Ligniere\"], [33.0, \"Ligniere\"], [33.0, \"Ligniere\"], [33.0, \"Ligniere\"], [35.0, \"Ligniere\"], [35.0, \"Ligniere\"], [35.0, \"Ligniere\"], [35.0, \"Ligniere\"], [35.0, \"Ligniere\"], [35.0, \"Ligniere\"], [35.0, \"Ligniere\"], [35.0, \"Ligniere\"], [35.0, \"Ligniere\"], [35.0, \"Ligniere\"], [35.0, \"Ligniere\"], [35.0, \"Ligniere\"], [35.0, \"Ligniere\"], [35.0, \"Ligniere\"], [35.0, \"Ligniere\"], [35.0, \"Ligniere\"], [35.0, \"Ligniere\"], [35.0, \"Ligniere\"], [35.0, \"Ligniere\"], [35.0, \"Ligniere\"], [7.0, \"Ligniere\"], [7.0, \"Ligniere\"], [7.0, \"Ligniere\"], [7.0, \"Ligniere\"], [7.0, \"Ligniere\"], [7.0, \"Ligniere\"], [7.0, \"Ligniere\"], [7.0, \"Ligniere\"], [7.0, \"Ligniere\"], [7.0, \"Ligniere\"], [7.0, \"Ligniere\"], [7.0, \"Ligniere\"], [7.0, \"Ligniere\"], [7.0, \"Ligniere\"], [7.0, \"Ligniere\"], [7.0, \"Ligniere\"], [7.0, \"Ligniere\"], [7.0, \"Ligniere\"], [7.0, \"Ligniere\"], [7.0, \"Ligniere\"], [11.0, \"Ligniere\"], [11.0, \"Ligniere\"], [11.0, \"Ligniere\"], [11.0, \"Ligniere\"], [11.0, \"Ligniere\"], [11.0, \"Ligniere\"], [11.0, \"Ligniere\"], [11.0, \"Ligniere\"], [11.0, \"Ligniere\"], [11.0, \"Ligniere\"], [11.0, \"Ligniere\"], [11.0, \"Ligniere\"], [11.0, \"Ligniere\"], [11.0, \"Ligniere\"], [11.0, \"Ligniere\"], [11.0, \"Ligniere\"], [11.0, \"Ligniere\"], [11.0, \"Ligniere\"], [11.0, \"Ligniere\"], [11.0, \"Ligniere\"], [11.0, \"Ligniere\"], [11.0, \"Ligniere\"], [12.0, \"Ligniere\"], [12.0, \"Ligniere\"], [12.0, \"Ligniere\"], [12.0, \"Ligniere\"], [12.0, \"Ligniere\"], [12.0, \"Ligniere\"], [12.0, \"Ligniere\"], [12.0, \"Ligniere\"], [12.0, \"Ligniere\"], [12.0, \"Ligniere\"], [12.0, \"Ligniere\"], [12.0, \"Ligniere\"], [12.0, \"Ligniere\"], [12.0, \"Ligniere\"], [12.0, \"Ligniere\"], [12.0, \"Ligniere\"], [12.0, \"Ligniere\"], [12.0, \"Ligniere\"], [12.0, \"Ligniere\"], [12.0, \"Ligniere\"], [12.0, \"Ligniere\"], [12.0, \"Ligniere\"], [12.0, \"Ligniere\"], [12.0, \"Ligniere\"], [12.0, \"Ligniere\"], [12.0, \"Ligniere\"], [12.0, \"Ligniere\"], [12.0, \"Ligniere\"], [15.0, \"Ligniere\"], [15.0, \"Ligniere\"], [15.0, \"Ligniere\"], [15.0, \"Ligniere\"], [15.0, \"Ligniere\"], [15.0, \"Ligniere\"], [15.0, \"Ligniere\"], [15.0, \"Ligniere\"], [15.0, \"Ligniere\"], [15.0, \"Ligniere\"], [15.0, \"Ligniere\"], [16.5, \"Ligniere\"], [16.5, \"Ligniere\"], [16.5, \"Ligniere\"], [16.5, \"Ligniere\"], [16.5, \"Ligniere\"], [16.5, \"Ligniere\"], [16.5, \"Ligniere\"], [16.5, \"Ligniere\"], [16.5, \"Ligniere\"], [16.5, \"Ligniere\"], [16.5, \"Ligniere\"], [16.5, \"Ligniere\"], [16.5, \"Ligniere\"], [16.5, \"Ligniere\"], [16.5, \"Ligniere\"], [16.5, \"Ligniere\"], [16.5, \"Ligniere\"], [16.5, \"Ligniere\"], [16.5, \"Ligniere\"], [16.5, \"Ligniere\"], [16.5, \"Ligniere\"], [16.5, \"Ligniere\"], [16.5, \"Ligniere\"], [16.5, \"Ligniere\"], [16.5, \"Ligniere\"], [16.5, \"Ligniere\"], [16.5, \"Ligniere\"], [16.5, \"Ligniere\"], [16.5, \"Ligniere\"], [16.5, \"Ligniere\"], [16.5, \"Ligniere\"], [16.5, \"Ligniere\"], [17.0, \"Ligniere\"], [17.0, \"Ligniere\"], [17.0, \"Ligniere\"], [17.0, \"Ligniere\"], [17.0, \"Ligniere\"], [17.0, \"Ligniere\"], [17.0, \"Ligniere\"], [17.0, \"Ligniere\"], [17.0, \"Ligniere\"], [17.0, \"Ligniere\"], [17.0, \"Ligniere\"], [17.0, \"Ligniere\"], [17.0, \"Ligniere\"], [17.0, \"Ligniere\"], [17.0, \"Ligniere\"], [17.0, \"Ligniere\"], [17.0, \"Ligniere\"], [17.0, \"Ligniere\"], [17.0, \"Ligniere\"], [17.0, \"Ligniere\"], [17.0, \"Ligniere\"], [17.0, \"Ligniere\"], [17.0, \"Ligniere\"], [17.0, \"Ligniere\"], [17.0, \"Ligniere\"], [17.0, \"Ligniere\"], [17.0, \"Ligniere\"], [17.0, \"Ligniere\"], [17.0, \"Ligniere\"], [17.0, \"Ligniere\"], [17.0, \"Ligniere\"], [17.0, \"Ligniere\"], [17.0, \"Ligniere\"], [17.0, \"Ligniere\"], [17.0, \"Ligniere\"], [17.0, \"Ligniere\"], [17.0, \"Ligniere\"], [17.0, \"Ligniere\"], [17.0, \"Ligniere\"], [17.0, \"Ligniere\"], [17.0, \"Ligniere\"], [17.0, \"Ligniere\"], [17.0, \"Ligniere\"], [17.0, \"Ligniere\"], [17.0, \"Ligniere\"], [17.0, \"Ligniere\"], [17.0, \"Ligniere\"], [17.0, \"Ligniere\"], [17.0, \"Ligniere\"], [17.0, \"Ligniere\"], [17.0, \"Ligniere\"], [17.0, \"Ligniere\"], [17.0, \"Ligniere\"], [17.0, \"Ligniere\"], [17.0, \"Ligniere\"], [17.0, \"Ligniere\"], [17.0, \"Ligniere\"], [17.0, \"Ligniere\"], [17.0, \"Ligniere\"], [17.0, \"Ligniere\"], [17.0, \"Ligniere\"], [17.0, \"Ligniere\"], [17.0, \"Ligniere\"], [17.0, \"Ligniere\"], [17.0, \"Ligniere\"], [17.0, \"Ligniere\"], [17.0, \"Ligniere\"], [17.0, \"Ligniere\"], [17.0, \"Ligniere\"], [17.0, \"Ligniere\"], [17.0, \"Ligniere\"], [17.0, \"Ligniere\"], [17.0, \"Ligniere\"], [17.0, \"Ligniere\"], [17.0, \"Ligniere\"], [17.0, \"Ligniere\"], [17.0, \"Ligniere\"], [17.0, \"Ligniere\"], [17.0, \"Ligniere\"], [17.0, \"Ligniere\"], [17.0, \"Ligniere\"], [17.0, \"Ligniere\"], [17.0, \"Ligniere\"], [17.0, \"Ligniere\"], [17.0, \"Ligniere\"], [17.0, \"Ligniere\"], [17.0, \"Ligniere\"], [17.0, \"Ligniere\"], [17.0, \"Ligniere\"], [27.0, \"Ligniere\"], [27.0, \"Ligniere\"], [27.0, \"Ligniere\"], [27.0, \"Ligniere\"], [27.0, \"Ligniere\"], [27.0, \"Ligniere\"], [27.0, \"Ligniere\"], [27.0, \"Ligniere\"], [27.0, \"Ligniere\"], [27.0, \"Ligniere\"], [27.0, \"Ligniere\"], [27.0, \"Ligniere\"], [27.0, \"Ligniere\"], [27.0, \"Ligniere\"], [27.0, \"Ligniere\"], [27.0, \"Ligniere\"], [27.0, \"Ligniere\"], [27.0, \"Ligniere\"], [27.0, \"Ligniere\"], [27.0, \"Ligniere\"], [27.0, \"Ligniere\"], [27.0, \"Ligniere\"], [27.0, \"Ligniere\"], [27.0, \"Ligniere\"], [27.0, \"Ligniere\"], [27.0, \"Ligniere\"], [27.0, \"Ligniere\"], [27.0, \"Ligniere\"], [27.0, \"Ligniere\"], [27.0, \"Ligniere\"], [27.0, \"Ligniere\"], [27.0, \"Ligniere\"], [27.0, \"Ligniere\"], [27.0, \"Ligniere\"], [28.0, \"Ligniere\"], [28.0, \"Ligniere\"], [28.0, \"Ligniere\"], [28.0, \"Ligniere\"], [28.0, \"Ligniere\"], [28.0, \"Ligniere\"], [28.0, \"Ligniere\"], [28.0, \"Ligniere\"], [28.0, \"Ligniere\"], [28.0, \"Ligniere\"], [28.0, \"Ligniere\"], [28.0, \"Ligniere\"], [28.0, \"Ligniere\"], [28.0, \"Ligniere\"], [28.0, \"Ligniere\"], [28.0, \"Ligniere\"], [28.0, \"Ligniere\"], [28.0, \"Ligniere\"], [28.0, \"Ligniere\"], [28.0, \"Ligniere\"], [28.0, \"Ligniere\"], [28.0, \"Ligniere\"], [28.0, \"Ligniere\"], [28.0, \"Ligniere\"], [28.0, \"Ligniere\"], [28.0, \"Ligniere\"], [28.0, \"Ligniere\"], [28.0, \"Ligniere\"], [28.0, \"Ligniere\"], [28.0, \"Ligniere\"], [28.0, \"Ligniere\"], [28.0, \"Ligniere\"], [28.0, \"Ligniere\"], [28.0, \"Ligniere\"], [29.0, \"Ligniere\"], [29.0, \"Ligniere\"], [29.0, \"Ligniere\"], [29.0, \"Ligniere\"], [29.0, \"Ligniere\"], [29.0, \"Ligniere\"], [29.0, \"Ligniere\"], [29.0, \"Ligniere\"], [29.0, \"Ligniere\"], [29.0, \"Ligniere\"], [29.0, \"Ligniere\"], [29.0, \"Ligniere\"], [29.0, \"Ligniere\"], [29.0, \"Ligniere\"], [29.0, \"Ligniere\"], [29.0, \"Ligniere\"], [29.0, \"Ligniere\"], [29.0, \"Ligniere\"], [29.0, \"Ligniere\"], [29.0, \"Ligniere\"], [29.0, \"Ligniere\"], [29.0, \"Ligniere\"], [29.0, \"Ligniere\"], [29.0, \"Ligniere\"], [29.0, \"Ligniere\"], [29.0, \"Ligniere\"], [29.0, \"Ligniere\"], [29.0, \"Ligniere\"], [29.0, \"Ligniere\"], [29.0, \"Ligniere\"], [29.0, \"Ligniere\"], [29.0, \"Ligniere\"], [29.0, \"Ligniere\"], [29.0, \"Ligniere\"], [32.0, \"Ligniere\"], [32.0, \"Ligniere\"], [32.0, \"Ligniere\"], [32.0, \"Ligniere\"], [32.0, \"Ligniere\"], [32.0, \"Ligniere\"], [32.0, \"Ligniere\"], [32.0, \"Ligniere\"], [32.0, \"Ligniere\"], [32.0, \"Ligniere\"], [32.0, \"Ligniere\"], [32.0, \"Ligniere\"], [32.0, \"Ligniere\"], [32.0, \"Ligniere\"], [32.0, \"Ligniere\"], [32.0, \"Ligniere\"], [32.0, \"Ligniere\"], [32.0, \"Ligniere\"], [32.0, \"Ligniere\"], [32.0, \"Ligniere\"], [32.0, \"Ligniere\"], [32.0, \"Ligniere\"], [32.0, \"Ligniere\"], [32.0, \"Ligniere\"], [32.0, \"Ligniere\"], [32.0, \"Ligniere\"], [32.0, \"Ligniere\"], [32.0, \"Ligniere\"], [32.0, \"Ligniere\"], [32.0, \"Ligniere\"], [32.0, \"Ligniere\"], [32.0, \"Ligniere\"], [32.0, \"Ligniere\"], [32.0, \"Ligniere\"], [33.0, \"Ligniere\"], [33.0, \"Ligniere\"], [33.0, \"Ligniere\"], [33.0, \"Ligniere\"], [33.0, \"Ligniere\"], [33.0, \"Ligniere\"], [33.0, \"Ligniere\"], [33.0, \"Ligniere\"], [33.0, \"Ligniere\"], [33.0, \"Ligniere\"], [33.0, \"Ligniere\"], [33.0, \"Ligniere\"], [33.0, \"Ligniere\"], [33.0, \"Ligniere\"], [33.0, \"Ligniere\"], [33.0, \"Ligniere\"], [33.0, \"Ligniere\"], [33.0, \"Ligniere\"], [33.0, \"Ligniere\"], [33.0, \"Ligniere\"], [33.0, \"Ligniere\"], [33.0, \"Ligniere\"], [33.0, \"Ligniere\"], [33.0, \"Ligniere\"], [33.0, \"Ligniere\"], [33.0, \"Ligniere\"], [33.0, \"Ligniere\"], [33.0, \"Ligniere\"], [33.0, \"Ligniere\"], [33.0, \"Ligniere\"], [33.0, \"Ligniere\"], [33.0, \"Ligniere\"], [33.0, \"Ligniere\"], [33.0, \"Ligniere\"], [33.0, \"Ligniere\"], [33.0, \"Ligniere\"], [33.0, \"Ligniere\"], [33.0, \"Ligniere\"], [33.0, \"Ligniere\"], [33.0, \"Ligniere\"], [33.0, \"Ligniere\"], [33.0, \"Ligniere\"], [33.0, \"Ligniere\"], [33.0, \"Ligniere\"], [33.0, \"Ligniere\"], [33.0, \"Ligniere\"], [33.0, \"Ligniere\"], [33.0, \"Ligniere\"], [33.0, \"Ligniere\"], [33.0, \"Ligniere\"], [33.0, \"Ligniere\"], [33.0, \"Ligniere\"], [33.0, \"Ligniere\"], [33.0, \"Ligniere\"], [33.0, \"Ligniere\"], [33.0, \"Ligniere\"], [33.0, \"Ligniere\"], [33.0, \"Ligniere\"], [33.0, \"Ligniere\"], [33.0, \"Ligniere\"], [33.0, \"Ligniere\"], [34.0, \"Ligniere\"], [34.0, \"Ligniere\"], [34.0, \"Ligniere\"], [34.0, \"Ligniere\"], [34.0, \"Ligniere\"], [34.0, \"Ligniere\"], [34.0, \"Ligniere\"], [34.0, \"Ligniere\"], [34.0, \"Ligniere\"], [34.0, \"Ligniere\"], [34.0, \"Ligniere\"], [34.0, \"Ligniere\"], [34.0, \"Ligniere\"], [34.0, \"Ligniere\"], [34.0, \"Ligniere\"], [34.0, \"Ligniere\"], [34.0, \"Ligniere\"], [34.0, \"Ligniere\"], [34.0, \"Ligniere\"], [34.0, \"Ligniere\"], [34.0, \"Ligniere\"], [34.0, \"Ligniere\"], [34.0, \"Ligniere\"], [34.0, \"Ligniere\"], [34.0, \"Ligniere\"], [34.0, \"Ligniere\"], [34.0, \"Ligniere\"], [34.0, \"Ligniere\"], [34.0, \"Ligniere\"], [34.0, \"Ligniere\"], [34.0, \"Ligniere\"], [34.0, \"Ligniere\"], [34.0, \"Ligniere\"], [34.0, \"Ligniere\"], [35.0, \"Ligniere\"], [35.0, \"Ligniere\"], [35.0, \"Ligniere\"], [35.0, \"Ligniere\"], [35.0, \"Ligniere\"], [35.0, \"Ligniere\"], [35.0, \"Ligniere\"], [35.0, \"Ligniere\"], [12.0, \"Ligniere\"], [12.0, \"Ligniere\"], [12.0, \"Ligniere\"], [12.0, \"Ligniere\"], [12.0, \"Ligniere\"], [12.0, \"Ligniere\"], [12.0, \"Ligniere\"], [12.0, \"Ligniere\"], [12.0, \"Ligniere\"], [12.0, \"Ligniere\"], [12.0, \"Ligniere\"], [12.0, \"Ligniere\"], [15.0, \"Ligniere\"], [15.0, \"Ligniere\"], [15.0, \"Ligniere\"], [15.0, \"Ligniere\"], [15.0, \"Ligniere\"], [15.0, \"Ligniere\"], [15.0, \"Ligniere\"], [15.0, \"Ligniere\"], [15.0, \"Ligniere\"], [15.0, \"Ligniere\"], [15.0, \"Ligniere\"], [15.0, \"Ligniere\"], [15.0, \"Ligniere\"], [15.0, \"Ligniere\"], [15.0, \"Ligniere\"], [15.0, \"Ligniere\"], [15.0, \"Ligniere\"], [15.0, \"Ligniere\"], [15.0, \"Ligniere\"], [15.0, \"Ligniere\"], [15.0, \"Ligniere\"], [16.0, \"Ligniere\"], [16.0, \"Ligniere\"], [16.0, \"Ligniere\"], [16.0, \"Ligniere\"], [16.0, \"Ligniere\"], [16.0, \"Ligniere\"], [16.0, \"Ligniere\"], [16.0, \"Ligniere\"], [16.0, \"Ligniere\"], [16.0, \"Ligniere\"], [16.0, \"Ligniere\"], [16.0, \"Ligniere\"], [16.0, \"Ligniere\"], [16.0, \"Ligniere\"], [16.0, \"Ligniere\"], [16.0, \"Ligniere\"], [16.0, \"Ligniere\"], [16.0, \"Ligniere\"], [16.0, \"Ligniere\"], [16.0, \"Ligniere\"], [16.0, \"Ligniere\"], [16.0, \"Ligniere\"], [16.0, \"Ligniere\"], [16.0, \"Ligniere\"], [16.0, \"Ligniere\"], [16.0, \"Ligniere\"], [16.0, \"Ligniere\"], [16.0, \"Ligniere\"], [16.0, \"Ligniere\"], [16.0, \"Ligniere\"], [16.0, \"Ligniere\"], [16.0, \"Ligniere\"], [16.0, \"Ligniere\"], [16.0, \"Ligniere\"], [16.0, \"Ligniere\"], [16.0, \"Ligniere\"], [16.0, \"Ligniere\"], [16.0, \"Ligniere\"], [16.0, \"Ligniere\"], [16.0, \"Ligniere\"], [16.0, \"Ligniere\"], [16.0, \"Ligniere\"], [16.0, \"Ligniere\"], [17.0, \"Ligniere\"], [17.0, \"Ligniere\"], [17.0, \"Ligniere\"], [17.0, \"Ligniere\"], [17.0, \"Ligniere\"], [17.0, \"Ligniere\"], [17.0, \"Ligniere\"], [17.0, \"Ligniere\"], [17.0, \"Ligniere\"], [17.0, \"Ligniere\"], [17.0, \"Ligniere\"], [17.0, \"Ligniere\"], [17.0, \"Ligniere\"], [17.0, \"Ligniere\"], [17.0, \"Ligniere\"], [17.0, \"Ligniere\"], [17.0, \"Ligniere\"], [17.0, \"Ligniere\"], [17.0, \"Ligniere\"], [17.0, \"Ligniere\"], [17.0, \"Ligniere\"], [17.0, \"Ligniere\"], [21.0, \"Ligniere\"], [21.0, \"Ligniere\"], [24.0, \"Ligniere\"], [24.0, \"Ligniere\"], [24.0, \"Ligniere\"], [24.0, \"Ligniere\"], [24.0, \"Ligniere\"], [24.0, \"Ligniere\"], [24.0, \"Ligniere\"], [24.0, \"Ligniere\"], [24.0, \"Ligniere\"], [24.0, \"Ligniere\"], [24.0, \"Ligniere\"], [24.0, \"Ligniere\"], [24.0, \"Ligniere\"], [32.0, \"Ligniere\"], [32.0, \"Ligniere\"], [32.0, \"Ligniere\"], [32.0, \"Ligniere\"], [32.0, \"Ligniere\"], [32.0, \"Ligniere\"], [32.0, \"Ligniere\"], [32.0, \"Ligniere\"], [32.0, \"Ligniere\"], [32.0, \"Ligniere\"], [32.0, \"Ligniere\"], [32.0, \"Ligniere\"], [32.0, \"Ligniere\"], [32.0, \"Ligniere\"], [32.0, \"Ligniere\"], [32.0, \"Ligniere\"], [32.0, \"Ligniere\"], [32.0, \"Ligniere\"], [32.0, \"Ligniere\"], [32.0, \"Ligniere\"], [32.0, \"Ligniere\"], [32.0, \"Ligniere\"], [32.0, \"Ligniere\"], [32.0, \"Ligniere\"], [32.0, \"Ligniere\"], [32.0, \"Ligniere\"], [32.0, \"Ligniere\"], [32.0, \"Ligniere\"], [32.0, \"Ligniere\"], [32.0, \"Ligniere\"], [32.0, \"Ligniere\"], [32.0, \"Ligniere\"], [32.0, \"Ligniere\"], [32.0, \"Ligniere\"], [32.0, \"Ligniere\"], [32.0, \"Ligniere\"], [32.0, \"Ligniere\"], [32.0, \"Ligniere\"], [32.0, \"Ligniere\"], [32.0, \"Ligniere\"], [32.0, \"Ligniere\"], [32.0, \"Ligniere\"], [32.0, \"Ligniere\"], [32.0, \"Ligniere\"], [32.0, \"Ligniere\"], [32.0, \"Ligniere\"], [33.0, \"Ligniere\"], [33.0, \"Ligniere\"], [33.0, \"Ligniere\"], [33.0, \"Ligniere\"], [33.0, \"Ligniere\"], [33.0, \"Ligniere\"], [33.0, \"Ligniere\"], [33.0, \"Ligniere\"], [33.0, \"Ligniere\"], [33.0, \"Ligniere\"], [33.0, \"Ligniere\"], [33.0, \"Ligniere\"], [33.0, \"Ligniere\"], [33.0, \"Ligniere\"], [33.0, \"Ligniere\"], [33.0, \"Ligniere\"], [33.0, \"Ligniere\"], [33.0, \"Ligniere\"], [33.0, \"Ligniere\"], [33.0, \"Ligniere\"], [33.0, \"Ligniere\"], [33.0, \"Ligniere\"], [33.0, \"Ligniere\"], [33.0, \"Ligniere\"], [33.0, \"Ligniere\"], [33.0, \"Ligniere\"], [33.0, \"Ligniere\"], [33.0, \"Ligniere\"], [33.0, \"Ligniere\"], [33.0, \"Ligniere\"], [33.0, \"Ligniere\"], [33.0, \"Ligniere\"], [33.0, \"Ligniere\"], [33.0, \"Ligniere\"], [33.0, \"Ligniere\"], [33.0, \"Ligniere\"], [33.0, \"Ligniere\"], [33.0, \"Ligniere\"], [33.0, \"Ligniere\"], [33.0, \"Ligniere\"], [33.0, \"Ligniere\"], [33.0, \"Ligniere\"], [33.0, \"Ligniere\"], [33.0, \"Ligniere\"], [33.0, \"Ligniere\"], [33.0, \"Ligniere\"], [33.0, \"Ligniere\"], [33.0, \"Ligniere\"], [33.0, \"Ligniere\"], [33.0, \"Ligniere\"], [33.0, \"Ligniere\"], [33.0, \"Ligniere\"], [33.0, \"Ligniere\"], [33.0, \"Ligniere\"], [33.0, \"Ligniere\"], [33.0, \"Ligniere\"], [33.0, \"Ligniere\"], [33.0, \"Ligniere\"], [33.0, \"Ligniere\"], [33.0, \"Ligniere\"], [33.0, \"Ligniere\"], [33.0, \"Ligniere\"], [33.0, \"Ligniere\"], [33.0, \"Ligniere\"], [33.0, \"Ligniere\"], [33.0, \"Ligniere\"], [33.0, \"Ligniere\"], [33.0, \"Ligniere\"], [33.0, \"Ligniere\"], [33.0, \"Ligniere\"], [33.0, \"Ligniere\"], [33.0, \"Ligniere\"], [33.0, \"Ligniere\"], [33.0, \"Ligniere\"], [33.0, \"Ligniere\"], [33.0, \"Ligniere\"], [33.0, \"Ligniere\"], [33.0, \"Ligniere\"], [33.0, \"Ligniere\"], [33.0, \"Ligniere\"], [33.0, \"Ligniere\"], [33.0, \"Ligniere\"], [33.0, \"Ligniere\"], [33.0, \"Ligniere\"], [33.0, \"Ligniere\"], [33.0, \"Ligniere\"], [33.0, \"Ligniere\"], [33.0, \"Ligniere\"], [33.0, \"Ligniere\"], [33.0, \"Ligniere\"], [33.0, \"Ligniere\"], [33.0, \"Ligniere\"], [33.0, \"Ligniere\"], [33.0, \"Ligniere\"], [33.0, \"Ligniere\"], [33.0, \"Ligniere\"], [33.0, \"Ligniere\"], [33.0, \"Ligniere\"], [33.0, \"Ligniere\"], [33.0, \"Ligniere\"], [33.0, \"Ligniere\"], [33.0, \"Ligniere\"], [33.0, \"Ligniere\"], [35.0, \"Ligniere\"], [35.0, \"Ligniere\"], [35.0, \"Ligniere\"], [35.0, \"Ligniere\"], [35.0, \"Ligniere\"], [35.0, \"Ligniere\"], [35.0, \"Ligniere\"], [35.0, \"Ligniere\"], [35.0, \"Ligniere\"], [35.0, \"Ligniere\"], [35.0, \"Ligniere\"], [35.0, \"Ligniere\"], [35.0, \"Ligniere\"], [35.0, \"Ligniere\"], [35.0, \"Ligniere\"], [35.0, \"Ligniere\"], [35.0, \"Ligniere\"], [37.0, \"Ligniere\"], [37.0, \"Ligniere\"], [37.0, \"Ligniere\"], [37.0, \"Ligniere\"], [37.0, \"Ligniere\"], [37.0, \"Ligniere\"], [37.0, \"Ligniere\"], [37.0, \"Ligniere\"], [37.0, \"Ligniere\"], [37.0, \"Ligniere\"], [37.0, \"Ligniere\"], [37.0, \"Ligniere\"], [37.0, \"Ligniere\"], [37.0, \"Ligniere\"], [37.0, \"Ligniere\"], [37.0, \"Ligniere\"], [37.0, \"Ligniere\"], [37.0, \"Ligniere\"], [9.0, \"Ligniere\"], [9.0, \"Ligniere\"], [9.0, \"Ligniere\"], [9.0, \"Ligniere\"], [9.0, \"Ligniere\"], [9.0, \"Ligniere\"], [9.0, \"Ligniere\"], [9.0, \"Ligniere\"], [9.0, \"Ligniere\"], [9.0, \"Ligniere\"], [9.0, \"Ligniere\"], [9.0, \"Ligniere\"], [9.0, \"Ligniere\"], [9.0, \"Ligniere\"], [9.0, \"Ligniere\"], [9.0, \"Ligniere\"], [9.0, \"Ligniere\"], [9.0, \"Ligniere\"], [9.0, \"Ligniere\"], [9.0, \"Ligniere\"], [12.0, \"Ligniere\"], [12.0, \"Ligniere\"], [12.0, \"Ligniere\"], [17.0, \"Ligniere\"], [17.0, \"Ligniere\"], [17.0, \"Ligniere\"], [17.0, \"Ligniere\"], [17.0, \"Ligniere\"], [17.0, \"Ligniere\"], [17.0, \"Ligniere\"], [17.0, \"Ligniere\"], [17.0, \"Ligniere\"], [17.0, \"Ligniere\"], [19.0, \"Ligniere\"], [19.0, \"Ligniere\"], [19.0, \"Ligniere\"], [19.0, \"Ligniere\"], [19.0, \"Ligniere\"], [19.0, \"Ligniere\"], [19.0, \"Ligniere\"], [19.0, \"Ligniere\"], [19.0, \"Ligniere\"], [19.0, \"Ligniere\"], [19.0, \"Ligniere\"], [19.0, \"Ligniere\"], [19.0, \"Ligniere\"], [19.0, \"Ligniere\"], [19.0, \"Ligniere\"], [19.0, \"Ligniere\"], [19.0, \"Ligniere\"], [19.0, \"Ligniere\"], [19.0, \"Ligniere\"], [19.0, \"Ligniere\"], [19.0, \"Ligniere\"], [19.0, \"Ligniere\"], [19.0, \"Ligniere\"], [19.0, \"Ligniere\"], [19.0, \"Ligniere\"], [19.0, \"Ligniere\"], [19.0, \"Ligniere\"], [25.0, \"Ligniere\"], [25.0, \"Ligniere\"], [25.0, \"Ligniere\"], [25.0, \"Ligniere\"], [25.0, \"Ligniere\"], [25.0, \"Ligniere\"], [25.0, \"Ligniere\"], [25.0, \"Ligniere\"], [25.0, \"Ligniere\"], [25.0, \"Ligniere\"], [25.0, \"Ligniere\"], [25.0, \"Ligniere\"], [25.0, \"Ligniere\"], [25.0, \"Ligniere\"], [25.0, \"Ligniere\"], [25.0, \"Ligniere\"], [25.0, \"Ligniere\"], [29.0, \"Ligniere\"], [29.0, \"Ligniere\"], [29.0, \"Ligniere\"], [29.0, \"Ligniere\"], [29.0, \"Ligniere\"], [29.0, \"Ligniere\"], [29.0, \"Ligniere\"], [29.0, \"Ligniere\"], [29.0, \"Ligniere\"], [29.0, \"Ligniere\"], [29.0, \"Ligniere\"], [29.0, \"Ligniere\"], [29.0, \"Ligniere\"], [29.0, \"Ligniere\"], [29.0, \"Ligniere\"], [29.0, \"Ligniere\"], [29.0, \"Ligniere\"], [33.0, \"Ligniere\"], [33.0, \"Ligniere\"], [33.0, \"Ligniere\"], [33.0, \"Ligniere\"], [33.0, \"Ligniere\"], [33.0, \"Ligniere\"], [33.0, \"Ligniere\"], [33.0, \"Ligniere\"], [33.0, \"Ligniere\"], [33.0, \"Ligniere\"], [33.0, \"Ligniere\"], [33.0, \"Ligniere\"], [33.0, \"Ligniere\"], [33.0, \"Ligniere\"], [33.0, \"Ligniere\"], [33.0, \"Ligniere\"], [33.0, \"Ligniere\"], [33.0, \"Ligniere\"], [33.0, \"Ligniere\"], [33.0, \"Ligniere\"], [33.0, \"Ligniere\"], [33.0, \"Ligniere\"], [33.0, \"Ligniere\"], [33.0, \"Ligniere\"], [33.0, \"Ligniere\"], [33.0, \"Ligniere\"], [33.0, \"Ligniere\"], [33.0, \"Ligniere\"], [33.0, \"Ligniere\"], [33.0, \"Ligniere\"], [33.0, \"Ligniere\"], [33.0, \"Ligniere\"], [34.0, \"Ligniere\"], [34.0, \"Ligniere\"], [34.0, \"Ligniere\"], [34.0, \"Ligniere\"], [34.0, \"Ligniere\"], [34.0, \"Ligniere\"], [34.0, \"Ligniere\"], [34.0, \"Ligniere\"], [34.0, \"Ligniere\"], [34.0, \"Ligniere\"], [34.0, \"Ligniere\"], [34.0, \"Ligniere\"], [34.0, \"Ligniere\"], [34.0, \"Ligniere\"], [34.0, \"Ligniere\"], [34.0, \"Ligniere\"], [34.0, \"Ligniere\"], [34.0, \"Ligniere\"], [34.0, \"Ligniere\"], [34.0, \"Ligniere\"], [34.0, \"Ligniere\"], [34.0, \"Ligniere\"], [34.0, \"Ligniere\"], [34.0, \"Ligniere\"], [34.0, \"Ligniere\"], [35.0, \"Ligniere\"], [35.0, \"Ligniere\"], [35.0, \"Ligniere\"], [35.0, \"Ligniere\"], [35.0, \"Ligniere\"], [35.0, \"Ligniere\"], [35.0, \"Ligniere\"], [35.0, \"Ligniere\"], [35.0, \"Ligniere\"], [35.0, \"Ligniere\"], [35.0, \"Ligniere\"], [35.0, \"Ligniere\"], [35.0, \"Ligniere\"], [35.0, \"Ligniere\"], [35.0, \"Ligniere\"], [35.0, \"Ligniere\"], [35.0, \"Ligniere\"], [35.0, \"Ligniere\"], [35.0, \"Ligniere\"], [35.0, \"Ligniere\"], [35.0, \"Ligniere\"], [35.0, \"Ligniere\"], [35.0, \"Ligniere\"], [35.0, \"Ligniere\"], [35.0, \"Ligniere\"], [35.0, \"Ligniere\"], [35.0, \"Ligniere\"], [35.0, \"Ligniere\"], [35.0, \"Ligniere\"], [35.0, \"Ligniere\"], [35.0, \"Ligniere\"], [35.0, \"Ligniere\"], [35.0, \"Ligniere\"], [35.0, \"Ligniere\"], [35.0, \"Ligniere\"], [35.0, \"Ligniere\"], [35.0, \"Ligniere\"], [35.0, \"Ligniere\"], [35.0, \"Ligniere\"], [35.0, \"Ligniere\"], [35.0, \"Ligniere\"], [35.0, \"Ligniere\"], [35.0, \"Ligniere\"], [35.0, \"Ligniere\"], [35.0, \"Ligniere\"], [35.0, \"Ligniere\"], [35.0, \"Ligniere\"], [35.0, \"Ligniere\"], [35.0, \"Ligniere\"], [35.0, \"Ligniere\"], [35.0, \"Ligniere\"], [35.0, \"Ligniere\"], [35.0, \"Ligniere\"], [35.0, \"Ligniere\"], [35.0, \"Ligniere\"], [35.0, \"Ligniere\"], [35.0, \"Ligniere\"], [35.0, \"Ligniere\"], [35.0, \"Ligniere\"], [35.0, \"Ligniere\"], [35.0, \"Ligniere\"], [35.0, \"Ligniere\"], [35.0, \"Ligniere\"], [35.0, \"Ligniere\"], [35.0, \"Ligniere\"], [34.0, \"Ligniere\"], [34.0, \"Ligniere\"], [34.0, \"Ligniere\"], [34.0, \"Ligniere\"], [34.0, \"Ligniere\"], [34.0, \"Ligniere\"], [34.0, \"Ligniere\"], [34.0, \"Ligniere\"], [34.0, \"Ligniere\"], [34.0, \"Ligniere\"], [34.0, \"Ligniere\"], [34.0, \"Ligniere\"], [34.0, \"Ligniere\"], [34.0, \"Ligniere\"], [34.0, \"Ligniere\"], [34.0, \"Ligniere\"], [34.0, \"Ligniere\"], [34.0, \"Ligniere\"], [34.0, \"Ligniere\"], [34.0, \"Ligniere\"], [34.0, \"Ligniere\"], [34.0, \"Ligniere\"], [34.0, \"Ligniere\"], [34.0, \"Ligniere\"], [34.0, \"Ligniere\"], [5.0, \"Ligniere\"], [5.0, \"Ligniere\"], [5.0, \"Ligniere\"], [5.0, \"Ligniere\"], [5.0, \"Ligniere\"], [5.0, \"Ligniere\"], [5.0, \"Ligniere\"], [5.0, \"Ligniere\"], [5.0, \"Ligniere\"], [5.0, \"Ligniere\"], [6.0, \"Ligniere\"], [6.0, \"Ligniere\"], [6.0, \"Ligniere\"], [6.0, \"Ligniere\"], [6.0, \"Ligniere\"], [6.0, \"Ligniere\"], [6.0, \"Ligniere\"], [6.0, \"Ligniere\"], [6.0, \"Ligniere\"], [6.0, \"Ligniere\"], [6.0, \"Ligniere\"], [6.0, \"Ligniere\"], [6.0, \"Ligniere\"], [6.0, \"Ligniere\"], [6.0, \"Ligniere\"], [6.0, \"Ligniere\"], [6.0, \"Ligniere\"], [6.0, \"Ligniere\"], [6.0, \"Ligniere\"], [6.0, \"Ligniere\"], [6.0, \"Ligniere\"], [12.0, \"Ligniere\"], [12.0, \"Ligniere\"], [12.0, \"Ligniere\"], [15.0, \"Ligniere\"], [15.0, \"Ligniere\"], [16.5, \"Ligniere\"], [16.5, \"Ligniere\"], [16.5, \"Ligniere\"], [16.5, \"Ligniere\"], [16.5, \"Ligniere\"], [16.5, \"Ligniere\"], [16.5, \"Ligniere\"], [16.5, \"Ligniere\"], [16.5, \"Ligniere\"], [16.5, \"Ligniere\"], [16.5, \"Ligniere\"], [16.5, \"Ligniere\"], [16.5, \"Ligniere\"], [16.5, \"Ligniere\"], [16.5, \"Ligniere\"], [16.5, \"Ligniere\"], [16.5, \"Ligniere\"], [16.5, \"Ligniere\"], [16.5, \"Ligniere\"], [16.5, \"Ligniere\"], [16.5, \"Ligniere\"], [16.5, \"Ligniere\"], [16.5, \"Ligniere\"], [16.5, \"Ligniere\"], [16.5, \"Ligniere\"], [16.5, \"Ligniere\"], [16.5, \"Ligniere\"], [16.5, \"Ligniere\"], [16.5, \"Ligniere\"], [16.5, \"Ligniere\"], [16.5, \"Ligniere\"], [16.5, \"Ligniere\"], [17.0, \"Ligniere\"], [17.0, \"Ligniere\"], [17.0, \"Ligniere\"], [17.0, \"Ligniere\"], [17.0, \"Ligniere\"], [17.0, \"Ligniere\"], [17.0, \"Ligniere\"], [17.0, \"Ligniere\"], [17.0, \"Ligniere\"], [17.0, \"Ligniere\"], [17.0, \"Ligniere\"], [17.0, \"Ligniere\"], [17.0, \"Ligniere\"], [17.0, \"Ligniere\"], [17.0, \"Ligniere\"], [17.0, \"Ligniere\"], [17.0, \"Ligniere\"], [17.0, \"Ligniere\"], [17.0, \"Ligniere\"], [17.0, \"Ligniere\"], [17.0, \"Ligniere\"], [17.0, \"Ligniere\"], [17.0, \"Ligniere\"], [17.0, \"Ligniere\"], [17.0, \"Ligniere\"], [17.0, \"Ligniere\"], [17.0, \"Ligniere\"], [17.0, \"Ligniere\"], [17.0, \"Ligniere\"], [17.0, \"Ligniere\"]], \"hoverlabel\": {\"namelength\": 0}, \"hovertemplate\": \"domain_name=%{customdata[1]}<br>sprout=%{x}<br>mildew_leaves=%{y}<br>stage=%{customdata[0]}\", \"legendgroup\": \"domain_name=Ligniere\", \"marker\": {\"color\": \"#636efa\", \"symbol\": \"circle\"}, \"mode\": \"markers\", \"name\": \"domain_name=Ligniere\", \"showlegend\": true, \"type\": \"scattergl\", \"x\": [0.0, 0.0, 0.0, 0.0, 0.0, 0.0, 0.0, 0.0, 0.0, 0.0, 0.0, 0.0, 0.0, 0.0, 0.0, 0.0, 0.0, 0.0, 0.0, 0.0, 0.0, 0.0, 0.0, 0.0, 0.22, 0.22, 0.22, 0.22, 0.22, 0.22, 0.22, 0.22, 0.22, 0.22, 0.22, 0.22, 0.22, 0.22, 0.22, 0.22, 0.22, 0.22, 0.22, 0.22, 0.22, 0.22, 0.22, 0.22, 7.0, 7.0, 7.0, 7.0, 7.0, 7.0, 7.0, 7.0, 7.0, 7.0, 7.0, 7.0, 7.0, 7.0, 7.0, 7.0, 7.0, 7.0, 7.0, 7.0, 7.0, 7.0, 7.0, 7.0, 7.0, 7.0, 7.0, 7.0, 7.0, 7.0, 7.0, 7.0, 7.0, 7.0, 7.0, 7.0, 7.0, 7.0, 7.0, 22.0, 22.0, 22.0, 22.0, 22.0, 22.0, 22.0, 22.0, 22.0, 22.0, 22.0, 22.0, 22.0, 22.0, 22.0, 22.0, 22.0, 22.0, 22.0, 22.0, 22.0, 22.0, 22.0, 22.0, 22.0, 27.0, 27.0, 27.0, 27.0, 27.0, 27.0, 27.0, 27.0, 27.0, 27.0, 27.0, 27.0, 27.0, 27.0, 27.0, 27.0, 27.0, 27.0, 27.0, 27.0, 27.0, 27.0, 27.0, 27.0, 27.0, 14.0, 14.0, 14.0, 14.0, 14.0, 14.0, 14.0, 14.0, 14.0, 14.0, 14.0, 14.0, 14.0, 14.0, 14.0, 14.0, 14.0, 14.0, 14.0, 14.0, 14.0, 14.0, 14.0, 14.0, 14.0, 13.0, 13.0, 13.0, 13.0, 13.0, 13.0, 13.0, 13.0, 13.0, 13.0, 13.0, 13.0, 13.0, 13.0, 13.0, 13.0, 13.0, 18.0, 18.0, 18.0, 18.0, 18.0, 18.0, 18.0, 18.0, 18.0, 18.0, 18.0, 18.0, 18.0, 18.0, 18.0, 18.0, 18.0, 18.0, 18.0, 18.0, 18.0, 18.0, 18.0, 18.0, 18.0, 18.0, 16.5, 16.5, 16.5, 16.5, 16.5, 16.5, 16.5, 16.5, 16.5, 16.5, 16.5, 16.5, 16.5, 16.5, 16.5, 16.5, 16.5, 16.5, 16.5, 16.5, 16.5, 16.5, 16.5, 16.5, 16.5, 16.5, 14.0, 14.0, 14.0, 14.0, 14.0, 14.0, 14.0, 14.0, 14.0, 14.0, 14.0, 14.0, 14.0, 14.0, 14.0, 14.0, 14.0, 14.0, 14.0, 14.0, 14.0, 14.0, 14.0, 14.0, 14.0, 14.0, 10.5, 10.5, 10.5, 10.5, 10.5, 10.5, 10.5, 10.5, 10.5, 10.5, 10.5, 10.5, 10.5, 10.5, 10.5, 10.5, 10.5, 10.5, 13.5, 13.5, 13.5, 13.5, 13.5, 13.5, 13.5, 13.5, 13.5, 13.0, 13.0, 13.0, 13.0, 13.0, 13.0, 13.0, 13.0, 13.0, 10.0, 10.0, 10.0, 10.0, 10.0, 10.0, 10.0, 10.0, 10.0, 10.0, 10.0, 10.0, 10.0, 10.0, 10.0, 10.0, 10.0, 10.0, 7.5, 7.5, 7.5, 7.5, 7.5, 7.5, 7.5, 7.5, 7.5, 7.5, 7.5, 7.5, 7.5, 7.5, 7.5, 7.5, 7.5, 7.5, 8.0, 8.0, 8.0, 8.0, 8.0, 8.0, 8.0, 8.0, 8.0, 8.0, 8.0, 8.0, 8.0, 8.0, 8.0, 8.0, 8.0, 8.0, 0.0, 0.0, 0.0, 0.0, 0.0, 0.0, 0.0, 0.0, 0.0, 0.0, 0.0, 0.0, 0.0, 0.0, 0.0, 0.0, 0.0, 0.0, 0.0, 0.0, 0.6, 0.6, 0.6, 0.6, 0.6, 0.6, 0.6, 0.6, 0.6, 0.6, 0.6, 0.6, 0.6, 0.6, 0.6, 0.6, 0.6, 0.6, 0.6, 0.6, 0.6, 0.6, 0.6, 7.8, 7.8, 7.8, 7.8, 7.8, 7.8, 7.8, 7.8, 7.8, 7.8, 7.8, 7.8, 7.8, 7.8, 21.0, 21.0, 21.0, 21.0, 21.0, 21.0, 21.0, 21.0, 21.0, 21.0, 21.0, 21.0, 21.0, 21.0, 21.0, 21.0, 21.0, 21.0, 21.0, 21.0, 21.0, 21.0, 21.0, 21.0, 21.0, 21.0, 21.0, 17.0, 17.0, 17.0, 17.0, 17.0, 17.0, 17.0, 17.0, 17.0, 17.0, 17.0, 17.0, 17.0, 17.0, 17.0, 17.0, 17.0, 17.0, 17.0, 17.0, 17.0, 17.0, 17.0, 17.0, 17.0, 17.0, 17.0, 20.0, 20.0, 20.0, 20.0, 20.0, 20.0, 20.0, 20.0, 20.0, 20.0, 20.0, 20.0, 20.0, 20.0, 20.0, 20.0, 20.0, 20.0, 20.0, 20.0, 20.0, 20.0, 20.0, 20.0, 20.0, 20.0, 20.0, 24.0, 24.0, 24.0, 24.0, 24.0, 24.0, 24.0, 24.0, 24.0, 24.0, 24.0, 24.0, 24.0, 24.0, 24.0, 24.0, 24.0, 24.0, 24.0, 24.0, 24.0, 24.0, 24.0, 24.0, 24.0, 24.0, 24.0, 29.0, 29.0, 29.0, 29.0, 29.0, 29.0, 29.0, 29.0, 29.0, 29.0, 29.0, 29.0, 29.0, 29.0, 29.0, 29.0, 29.0, 29.0, 29.0, 29.0, 29.0, 29.0, 29.0, 29.0, 29.0, 29.0, 29.0, 40.0, 40.0, 40.0, 40.0, 40.0, 40.0, 40.0, 40.0, 40.0, 40.0, 40.0, 40.0, 40.0, 40.0, 40.0, 40.0, 40.0, 40.0, 40.0, 40.0, 40.0, 40.0, 40.0, 40.0, 40.0, 40.0, 40.0, 30.0, 30.0, 30.0, 30.0, 30.0, 30.0, 30.0, 30.0, 30.0, 30.0, 30.0, 30.0, 30.0, 30.0, 30.0, 30.0, 30.0, 30.0, 30.0, 30.0, 30.0, 30.0, 30.0, 30.0, 30.0, 30.0, 30.0, 10.5, 10.5, 10.5, 10.5, 10.5, 10.5, 10.5, 10.5, 10.5, 10.5, 10.5, 10.5, 10.5, 10.5, 10.5, 10.5, 10.5, 10.5, 10.5, 10.5, 10.5, 10.5, 10.5, 10.5, 10.5, 10.5, 10.5, 21.0, 21.0, 21.0, 21.0, 21.0, 21.0, 21.0, 21.0, 21.0, 21.0, 21.0, 21.0, 21.0, 21.0, 21.0, 21.0, 21.0, 21.0, 21.0, 21.0, 21.0, 21.0, 21.0, 21.0, 21.0, 21.0, 21.0, 21.0, 21.0, 21.0, 21.0, 21.0, 21.0, 21.0, 21.0, 21.0, 21.0, 21.0, 21.0, 21.0, 21.0, 21.0, 21.0, 21.0, 21.0, 21.0, 21.0, 21.0, 21.0, 21.0, 21.0, 21.0, 21.0, 21.0, 0.0, 0.0, 0.0, 0.0, 0.0, 0.0, 0.0, 0.0, 0.0, 0.0, 0.0, 0.0, 0.0, 0.0, 0.0, 0.0, 0.0, 0.0, 4.9, 4.9, 4.9, 4.9, 4.9, 4.9, 4.9, 4.9, 4.9, 14.0, 14.0, 14.0, 14.0, 14.0, 14.0, 14.0, 14.0, 14.0, 14.0, 14.0, 14.0, 14.0, 14.0, 14.0, 14.0, 14.0, 14.0, 14.0, 14.0, 14.0, 14.0, 14.0, 14.0, 14.0, 14.0, 14.0, 10.0, 10.0, 10.0, 10.0, 10.0, 10.0, 10.0, 10.0, 10.0, 10.0, 10.0, 10.0, 10.0, 10.0, 10.0, 10.0, 10.0, 10.0, 10.0, 10.0, 10.0, 10.0, 10.0, 10.0, 10.0, 10.0, 10.0, 11.0, 11.0, 11.0, 11.0, 11.0, 11.0, 11.0, 11.0, 11.0, 11.0, 11.0, 11.0, 11.0, 11.0, 11.0, 11.0, 11.0, 11.0, 11.0, 11.0, 11.0, 11.0, 11.0, 11.0, 11.0, 11.0, 11.0, 11.0, 11.0, 10.0, 10.0, 10.0, 10.0, 10.0, 10.0, 10.0, 10.0, 10.0, 10.0, 10.0, 10.0, 10.0, 10.0, 10.0, 10.0, 10.0, 10.0, 10.0, 10.0, 10.0, 10.0, 10.0, 10.0, 10.0, 10.0, 10.0, 10.0, 10.0, null, null, null, null, null, null, null, null, null, null, null, null, null, null, null, null, null, null, null, null, null, null, null, null, null, null, null, null, null, null, null, null, null, null, null, null, null, null, null, null, null, null, null, null, null, null, null, null, null, null, null, null, null, null, null, null, null, null, null, null, null, null, null, null, null, null, null, null, null, null, null, null, null, null, null, null, null, null, null, null, null, null, null, null, null, null, null, null, null, null, null, null, null, null, null, null, null, null, null, null, null, null, null, null, null, null, null, null, null, null, null, null, null, null, null, null, null, null, null, null, null, null, null, null, null, null, null, null, null, null, null, null, null, null, null, null, null, null, null, null, null, null, null, null, null, null, null, null, null, null, null, null, null, null, null, null, null, null, null, null, null, null, null, null, null, null, null, null, null, null, null, null, null, null, null, null, null, null, null, null, null, null, null, null, null, null, null, null, null, null, null, null, null, null, null, null, null, null, null, null, null, null, null, null, null, null, null, null, null, null, null, null, null, null, null, null, null, null, null, null, null, null, null, null, null, null, null, null, null, null, null, null, null, null, null, null, null, null, null, null, null, null, null, null, null, null, 1.0, 1.0, 1.0, 1.0, 1.0, 1.0, 1.0, 1.0, 1.0, 1.0, 1.0, 1.0, 1.0, 1.0, 1.0, 1.0, 1.0, 1.0, 1.0, 1.0, 1.0, 1.0, 1.0, 1.0, 1.0, 1.0, 1.0, 1.0, 1.0, 1.5, 1.5, 1.5, 1.5, 1.5, 1.5, 1.5, 1.5, 1.5, 1.5, 1.5, 1.5, 1.5, 1.5, 1.5, 1.5, 1.5, 1.5, 1.5, 1.5, 1.5, 1.5, 1.5, 1.5, 1.5, 1.5, 1.5, 1.5, 1.5, 1.8, 1.8, 1.8, 1.8, 1.8, 1.8, 1.8, 1.8, 1.8, 1.8, 1.8, 1.8, 1.8, 1.8, 1.8, 1.8, 1.8, 1.8, 1.8, 1.8, 1.8, 1.8, 1.8, 1.8, 1.8, 1.8, 1.8, 1.8, 1.8, 1.4, 1.4, 1.4, 1.4, 1.4, 1.4, 1.4, 1.4, 1.4, 3.8, 3.8, 3.8, 3.8, 3.8, 3.8, 3.8, 3.8, 3.8, 3.8, 3.8, 3.8, 3.8, 3.8, 3.8, 3.8, 3.8, 3.8, 39.0, 39.0, 39.0, 39.0, 39.0, 39.0, 39.0, 39.0, 39.0, 39.0, 39.0, 39.0, 39.0, 39.0, 39.0, 39.0, 39.0, 39.0, 39.0, 39.0, 35.0, 35.0, 35.0, 35.0, 35.0, 35.0, 35.0, 35.0, 35.0, 35.0, 35.0, 35.0, 35.0, 35.0, 35.0, 35.0, 35.0, 35.0, 35.0, 35.0, 52.0, 52.0, 52.0, 52.0, 52.0, 52.0, 52.0, 52.0, 52.0, 52.0, 52.0, 52.0, 52.0, 52.0, 52.0, 52.0, 52.0, 52.0, 52.0, 52.0, 52.0, 52.0, 52.0, 52.0, 52.0, 52.0, 52.0, 52.0, 52.0, 21.0, 21.0, 21.0, 21.0, 21.0, 21.0, 21.0, 21.0, 21.0, 21.0, 21.0, 21.0, 21.0, 21.0, 21.0, 21.0, 21.0, 21.0, 21.0, 21.0, 21.0, 21.0, 21.0, 21.0, 21.0, 21.0, 21.0, 21.0, 21.0, 15.0, 15.0, 15.0, 15.0, 15.0, 15.0, 15.0, 15.0, 15.0, 15.0, 15.0, 15.0, 15.0, 15.0, 15.0, 15.0, 15.0, 15.0, 15.0, 15.0, null, null, null, null, null, null, null, null, null, null, null, null, null, null, null, null, null, null, null, null, null, null, null, null, null, null, null, null, null, null, null, null, null, null, null, null, null, null, null, null, 0.7, 0.7, 0.7, 0.7, 0.7, 0.7, 0.7, 0.7, 0.7, 0.7, 0.7, 0.7, 0.7, 0.7, 0.7, 0.7, 0.7, 0.7, 0.7, 0.7, 0.7, 0.7, 1.0, 1.0, 1.0, 1.0, 1.0, 1.0, 1.0, 1.0, 1.0, 1.0, 1.0, 1.0, 1.0, 1.0, 1.0, 1.0, 1.0, 1.0, 1.0, 1.0, 1.0, 1.0, 1.0, 1.0, 1.0, 1.0, 1.0, 1.0, 1.6, 1.6, 1.6, 1.6, 1.6, 1.6, 1.6, 1.6, 1.6, 1.6, 1.6, 2.4, 2.4, 2.4, 2.4, 2.4, 2.4, 2.4, 2.4, 2.4, 2.4, 2.4, 2.4, 2.4, 2.4, 2.4, 2.4, 2.4, 2.4, 2.4, 2.4, 2.4, 2.4, 2.4, 2.4, 2.4, 2.4, 2.4, 2.4, 2.4, 2.4, 2.4, 2.4, 2.4, 2.4, 2.4, 2.4, 2.4, 2.4, 2.4, 2.4, 2.4, 2.4, 2.4, 2.4, 2.4, 2.4, 2.4, 2.4, 2.4, 2.4, 2.4, 2.4, 2.4, 2.4, 2.4, 2.4, 2.4, 2.4, 2.4, 2.4, 2.4, 2.4, 4.4, 4.4, 4.4, 4.4, 4.4, 4.4, 4.4, 4.4, 4.4, 4.4, 4.4, 4.4, 4.4, 4.4, 4.4, 4.4, 4.4, 4.4, 4.4, 4.4, 4.4, 4.4, 4.4, 4.4, 4.4, 3.1, 3.1, 3.1, 3.1, 3.1, 3.1, 3.1, 3.1, 3.1, 3.1, 3.1, 3.1, 3.1, 3.1, 3.1, 3.1, 3.1, 3.1, 3.1, 3.1, 3.1, 3.1, 3.1, 3.1, 3.1, 3.1, 3.1, 3.1, 3.1, 3.1, 3.1, 3.1, 3.1, 3.1, 5.9, 5.9, 5.9, 5.9, 5.9, 5.9, 5.9, 5.9, 5.9, 5.9, 5.9, 5.9, 5.9, 5.9, 5.9, 5.9, 5.9, 5.9, 5.9, 5.9, 5.9, 5.9, 5.9, 5.9, 5.9, 5.9, 5.9, 5.9, 5.9, 5.9, 5.9, 5.9, 5.9, 5.9, 4.7, 4.7, 4.7, 4.7, 4.7, 4.7, 4.7, 4.7, 4.7, 4.7, 4.7, 4.7, 4.7, 4.7, 4.7, 4.7, 4.7, 4.7, 4.7, 4.7, 4.7, 4.7, 4.7, 4.7, 4.7, 4.7, 4.7, 4.7, 4.7, 4.7, 4.7, 4.7, 4.7, 4.7, 4.7, 4.7, 4.7, 4.7, 4.7, 4.7, 4.7, 4.7, 4.7, 4.7, 4.7, 4.7, 4.7, 4.7, 4.7, 4.7, 4.7, 4.7, 4.7, 4.7, 4.7, 4.7, 4.7, 4.7, 4.7, 4.7, 4.7, 4.7, 4.7, 4.7, 4.7, 4.7, 4.7, 4.7, 3.3, 3.3, 3.3, 3.3, 3.3, 3.3, 3.3, 3.3, 3.3, 3.3, 3.3, 3.3, 3.3, 3.3, 3.3, 3.3, 3.3, 3.3, 3.3, 3.3, 3.3, 3.3, 3.3, 3.3, 3.3, 3.3, 3.3, 3.3, 3.3, 3.3, 3.3, 3.3, 3.3, 3.3, 2.8, 2.8, 2.8, 2.8, 2.8, 2.8, 2.8, 2.8, 2.8, 2.8, 2.8, 2.8, 2.8, 2.8, 2.8, 2.8, 2.8, 2.8, 2.8, 2.8, 2.8, 2.8, 2.8, 2.8, 2.8, 2.8, 2.8, 2.8, 2.8, 2.8, 2.8, 2.8, 2.8, 2.8, 2.8, 2.3, 2.3, 2.3, 2.3, 2.3, 2.3, 2.3, 2.3, 2.3, 2.3, 2.3, 2.3, 2.3, 2.3, 2.3, 2.3, 2.3, 2.3, 2.3, 2.3, 2.3, 2.3, 2.3, 2.3, 2.3, 2.3, 2.9, 2.9, 2.9, 2.9, 2.9, 2.9, 2.9, 2.9, 1.6, 1.6, 1.6, 1.6, 1.6, 1.6, 1.6, 1.6, 1.6, 1.6, 1.6, 1.6, 1.6, 1.6, 1.6, 1.6, 1.6, 1.6, 1.6, 1.6, 1.6, 1.6, 1.6, 1.6, 1.6, 1.6, 0.9, 0.9, 0.9, 0.9, 0.9, 0.9, 0.9, 0.9, null, null, null, null, null, null, null, null, null, null, null, null, 1.3, 1.3, 1.3, 1.3, 1.3, 1.3, 1.3, 1.3, 1.3, 1.3, 1.3, 1.3, 1.3, 1.3, 1.3, 1.3, 1.3, 1.3, 1.3, 1.3, 1.3, 1.7, 1.7, 1.7, 1.7, 1.7, 1.7, 1.7, 1.7, 1.7, 1.7, 1.7, 1.7, 1.7, 1.7, 1.7, 1.7, 1.7, 1.7, 1.7, 1.7, 1.7, 3.0, 3.0, 3.0, 3.0, 3.0, 3.0, 3.0, 3.0, 3.0, 3.0, 3.0, 3.0, 3.0, 3.0, 3.0, 3.0, 3.0, 3.0, 3.0, 3.0, 3.0, 3.0, 5.5, 5.5, 5.5, 5.5, 5.5, 5.5, 5.5, 5.5, 5.5, 5.5, 5.5, 5.5, 5.5, 5.5, 5.5, 5.5, 5.5, 5.5, 5.5, 5.5, 5.5, 5.5, 4.6, 4.6, 3.5, 3.5, 3.5, 3.5, 3.5, 3.5, 3.5, 3.5, 3.5, 3.5, 3.5, 3.5, 3.5, 3.7, 3.7, 3.7, 3.7, 3.7, 3.7, 3.7, 3.7, 3.7, 3.7, 3.7, 3.7, 3.7, 3.7, 3.7, 3.7, 3.7, 3.7, 3.7, 3.7, 3.7, 3.7, 3.7, 3.7, 3.7, 3.7, 3.7, 3.7, 3.7, 3.7, 3.7, 3.7, 3.7, 3.7, 3.7, 3.7, 3.7, 3.7, 3.7, 3.7, 3.7, 3.7, 3.7, 3.7, 3.7, 3.7, 2.1, 2.1, 2.1, 2.1, 2.1, 2.1, 2.1, 2.1, 2.1, 2.1, 2.1, 2.1, 2.1, 2.1, 2.1, 2.1, 2.1, 2.1, 2.1, 2.1, 2.1, 2.1, 2.1, 2.1, 2.1, 2.1, 2.1, 2.1, 2.1, 2.1, 2.1, 2.1, 2.1, 2.1, 2.1, 2.1, 2.1, 2.1, 2.1, 2.1, 2.1, 3.9, 3.9, 3.9, 3.9, 3.9, 3.9, 3.9, 3.9, 3.9, 3.9, 3.9, 3.9, 3.9, 3.9, 3.9, 3.9, 3.9, 3.9, 3.9, 3.9, 3.9, 3.9, 3.9, 3.9, 3.9, 3.9, 3.9, 3.9, 3.9, 3.9, 3.9, 3.9, 3.9, 3.9, 3.9, 3.9, 3.9, 3.9, 3.9, 3.9, 3.9, 4.7, 4.7, 4.7, 4.7, 4.7, 4.7, 4.7, 4.7, 4.7, 4.7, 4.7, 4.7, 4.7, 4.7, 4.7, 4.7, 1.8, 1.8, 1.8, 1.8, 1.8, 3.2, 3.2, 3.2, 3.2, 3.2, 1.5, 1.5, 1.5, 1.5, 1.5, 1.5, 1.5, 1.5, 1.5, 1.5, 1.5, 1.5, 0.6, 0.6, 0.6, 0.6, 0.6, 0.6, 0.6, 0.6, 0.6, 0.6, 0.6, 0.6, 0.6, 0.6, 0.6, 0.6, 0.6, 0.6, 1.0, 1.0, 1.0, 1.0, 1.0, 1.0, 1.0, 1.0, 1.0, 1.0, 1.0, 1.0, 1.0, 1.0, 1.0, 1.0, 1.0, 1.0, 1.0, 1.0, 1.0, 1.0, 1.0, 2.0, 2.0, 2.0, 2.5, 2.5, 2.5, 0.0, 0.0, 0.0, 0.0, 0.8, 0.8, 0.8, 0.8, 0.8, 0.8, 0.8, 0.8, 0.8, 0.8, 0.8, 0.8, 0.8, 0.8, 0.8, 0.8, 0.8, 0.8, 0.8, 0.8, 0.8, 0.8, 0.8, 0.8, 0.8, 0.8, 0.8, 1.8, 1.8, 1.8, 1.8, 1.8, 1.8, 1.8, 1.8, 1.8, 1.8, 1.8, 1.8, 1.8, 1.8, 1.8, 1.8, 1.8, 1.5, 1.5, 1.5, 1.5, 1.5, 1.5, 1.5, 1.5, 1.5, 1.5, 1.5, 1.5, 1.5, 1.5, 1.5, 1.5, 1.5, 0.5, 0.5, 0.5, 0.5, 0.5, 0.5, 0.5, 1.0, 1.0, 1.0, 1.0, 1.0, 1.0, 1.0, 1.0, 1.0, 1.0, 1.0, 1.0, 1.0, 1.0, 1.0, 1.0, 1.0, 1.0, 1.0, 1.0, 1.0, 1.0, 1.0, 1.0, 1.0, 2.0, 2.0, 2.0, 2.0, 2.0, 2.0, 2.0, 2.0, 2.0, 2.0, 2.0, 2.0, 2.0, 2.0, 2.0, 2.0, 2.0, 2.0, 2.0, 2.0, 2.0, 2.0, 2.0, 2.0, 2.0, null, null, null, null, null, null, null, null, null, null, null, null, null, null, null, null, null, null, null, null, null, null, null, null, null, 0.0, 0.0, 0.0, 0.0, 0.0, 0.0, 0.0, 0.0, 0.0, 0.0, 0.0, 0.0, 0.0, 0.0, 0.0, 0.0, 0.0, 0.0, 0.0, 0.0, 0.0, 0.0, 0.0, 0.0, 0.0, 0.0, 0.0, 0.0, 0.0, 0.0, 0.0, 0.0, 0.0, 0.0, 0.0, 0.0, 0.0, 0.0, 0.0, 0.0, 0.0, 0.0, 0.0, 0.0, 0.0, 0.0, 0.0, 0.0, 0.0, 0.0, 0.0, 0.0, 0.0, 0.0, 0.0, 0.0, 0.0, 0.0, 0.0, 0.0, 0.0, 0.0, 0.0, 0.0, 0.0, 0.0, 0.0, 0.0, 0.0, 0.0, 0.0, 0.0, 0.0, 0.0, 0.0, 0.0, 0.0, 0.0, 0.0, 0.0, 0.0, 0.0, 0.0, 0.0, 0.0, 0.0, 0.0, 0.0, 0.0, 0.0, 0.0, 0.0, 0.0, 0.0, 0.0, 0.0, 5.0, 5.0, 5.0, 5.0, 5.0, 12.7, 12.7, 12.7, 12.7, 12.7, 12.7, 12.7, 12.7, 12.7, 12.7, 12.7, 12.7, 12.7, 12.7, 12.7, 12.7, 12.7, 12.7, 12.7, 12.7, 12.7, 12.7, 12.7, 12.7, 12.7, 12.7, 12.7, 17.0, 17.0, 17.0, 17.0, 17.0, 15.3, 15.3, 15.3, 15.3, 15.3, 15.3, 15.3, 15.3, 15.3, 15.3, 15.3, 15.3, 15.3, 15.3, 15.3, 15.3, 15.3, 15.3, 15.3, 15.3, 15.3, 15.3, 15.3, 15.3, 15.3, 15.3, 15.3, 15.3, 15.3, 15.3], \"xaxis\": \"x\", \"y\": [0.0, 0.0, 0.0, 0.0, 0.0, 0.0, 0.0, 0.0, 0.0, 0.0, 0.0, 0.0, 0.0, 0.0, 0.0, 0.0, 0.0, 0.0, 0.0, 0.0, 0.0, 0.0, 0.0, 0.0, 0.0, 0.0, 0.0, 0.0, 0.0, 0.0, 0.0, 0.0, 0.0, 0.0, 0.0, 0.0, 0.0, 0.0, 0.0, 0.0, 0.0, 0.0, 0.0, 0.0, 0.0, 0.0, 0.0, 0.0, 0.0, 0.0, 0.0, 0.0, 0.0, 0.0, 0.0, 0.0, 0.0, 0.0, 0.0, 0.0, 0.0, 0.0, 0.0, 0.0, 0.0, 0.0, 0.0, 0.0, 0.0, 0.0, 0.0, 0.0, 0.0, 0.0, 0.0, 0.0, 0.0, 0.0, 0.0, 0.0, 0.0, 0.0, 0.0, 0.0, 0.0, 0.0, 1.0, 0.0, 0.0, 0.0, 0.0, 0.0, 0.0, 0.0, 0.0, 0.0, 0.0, 0.0, 0.0, 0.0, 0.0, 0.0, 0.0, null, 0.0, 0.0, 0.0, 0.0, 0.0, 0.0, 0.0, 0.0, 0.0, 0.0, 0.0, 2.0, 0.0, null, 2.0, 1.0, 1.0, 1.0, 1.0, 1.0, 1.0, 2.0, 1.0, 0.0, 1.0, 0.0, 0.0, 1.0, 1.0, 1.0, 2.0, 2.0, 2.0, 2.0, 2.0, 2.0, null, 1.0, 2.0, 1.0, 0.0, 1.0, 1.0, 1.0, 2.0, 1.0, 1.0, 1.0, null, 2.0, 1.0, 0.0, 1.0, 0.0, 0.0, 1.0, 1.0, 1.0, 2.0, 2.0, 2.0, 1.0, 1.0, 2.0, 2.0, 3.0, null, null, null, null, 2.0, null, null, null, null, 2.0, 1.0, 1.0, 2.0, null, 2.0, null, 2.0, 3.0, 1.0, 1.0, 2.0, 2.0, 1.0, 1.0, 1.0, 1.0, null, null, null, null, null, null, null, 2.0, 2.0, 3.0, 2.0, 2.0, 1.0, 1.0, 2.0, 2.0, 3.0, 3.0, 2.0, 2.0, 2.0, 2.0, 2.0, 2.0, 2.0, 2.0, null, null, null, null, null, null, null, null, null, 3.0, 2.0, 2.0, 1.0, 1.0, null, 2.0, null, 2.0, null, 3.0, null, 3.0, 2.0, 2.0, 2.0, 2.0, 2.0, 2.0, 2.0, 2.0, null, null, null, null, null, 3.0, 2.0, 2.0, 1.0, 1.0, 2.0, 2.0, 3.0, 3.0, null, 3.0, null, null, null, null, null, null, 3.0, 2.0, 3.0, 3.0, 3.0, 3.0, 2.0, 1.0, 1.0, 2.0, 3.0, 3.0, 2.0, 1.0, 1.0, 2.0, 2.0, 3.0, 3.0, 3.0, null, null, null, null, null, null, 3.0, 3.0, 3.0, 2.0, 2.0, 2.0, 2.0, 2.0, 3.0, 3.0, null, 3.0, 3.0, 2.0, 2.0, 2.0, 2.0, 2.0, 3.0, 3.0, null, 3.0, null, null, null, null, null, null, 3.0, 2.0, 2.0, 2.0, 2.0, 2.0, 3.0, 3.0, null, 3.0, null, null, null, null, null, null, 3.0, 3.0, 3.0, 0.0, 0.0, 0.0, 0.0, 0.0, 0.0, 0.0, 0.0, 0.0, 0.0, 0.0, 0.0, 0.0, 0.0, 0.0, 0.0, 0.0, 0.0, 0.0, 0.0, 0.0, 0.0, 0.0, 0.0, 0.0, 0.0, 0.0, 0.0, 0.0, 0.0, 0.0, 0.0, 0.0, 0.0, 0.0, 0.0, 0.0, 0.0, 0.0, 0.0, 0.0, 0.0, 0.0, 0.0, 0.0, 0.0, 0.0, 0.0, 0.0, 0.0, 0.0, 0.0, 0.0, 0.0, 0.0, 0.0, 0.0, null, null, 1.0, null, null, 3.0, 0.0, 0.0, 0.0, 0.0, 0.0, 0.0, 1.0, 0.0, 0.0, 0.0, 0.0, 0.0, 0.0, 0.0, 0.0, 0.0, null, null, null, null, null, null, null, null, 0.0, null, 0.0, null, 0.0, null, 0.0, null, 0.0, 1.0, 0.0, 1.0, 1.0, 3.0, 0.0, 3.0, 0.0, 0.0, 0.0, 0.0, 0.0, 0.0, 0.0, 0.0, null, null, null, null, null, null, 1.0, 1.0, 3.0, 3.0, 0.0, 0.0, 0.0, 0.0, 0.0, 0.0, 1.0, 0.0, 0.0, 0.0, 0.0, 0.0, 0.0, 0.0, 0.0, 0.0, null, 1.0, 1.0, 1.0, 1.0, null, null, null, 0.0, null, 0.0, null, 0.0, null, 0.0, null, 0.0, 1.0, 0.0, 1.0, 1.0, 3.0, 1.0, 3.0, 0.0, 1.0, 1.0, 0.0, 1.0, 1.0, 1.0, null, 1.0, null, 1.0, 1.0, null, 1.0, 1.0, 1.0, 3.0, 3.0, 0.0, 0.0, 0.0, 0.0, 0.0, 0.0, 1.0, 1.0, 1.0, 1.0, 1.0, 1.0, 1.0, 1.0, 1.0, 1.0, 1.0, 1.0, 1.0, 1.0, 1.0, null, 1.0, null, 1.0, 1.0, 1.0, 1.0, 1.0, null, 0.0, 1.0, 0.0, 1.0, 2.0, 1.0, 3.0, 3.0, 2.0, 3.0, 1.0, 1.0, 1.0, 1.0, 1.0, 1.0, 1.0, 1.0, 1.0, 3.0, 1.0, 3.0, null, 1.0, null, 1.0, 1.0, null, 1.0, 1.0, 1.0, 1.0, 0.0, 0.0, 2.0, 3.0, 2.0, 3.0, 1.0, 2.0, 2.0, 1.0, 2.0, 1.0, 1.0, 2.0, 1.0, 1.0, 1.0, 3.0, 3.0, 1.0, 1.0, 1.0, 1.0, 1.0, 2.0, 3.0, 2.0, 3.0, 3.0, 3.0, 2.0, 1.0, 3.0, 3.0, 3.0, 2.0, 1.0, 3.0, 1.0, 2.0, 2.0, 2.0, 1.0, 2.0, 1.0, 2.0, 1.0, 2.0, 1.0, 1.0, 1.0, 2.0, 2.0, 2.0, 3.0, 2.0, 2.0, 2.0, 2.0, 3.0, 3.0, 2.0, 1.0, 3.0, 1.0, 2.0, 2.0, 2.0, 2.0, 2.0, 2.0, 1.0, 2.0, 2.0, 2.0, 2.0, 2.0, 2.0, 2.0, 3.0, 3.0, 1.0, 2.0, 3.0, 2.0, 3.0, 0.0, 0.0, 0.0, 0.0, 0.0, 0.0, 0.0, 0.0, 0.0, 0.0, 0.0, 0.0, 0.0, 0.0, 0.0, 0.0, 0.0, 0.0, 0.0, 0.0, 0.0, 0.0, 0.0, 0.0, 0.0, 0.0, 0.0, 0.0, 0.0, 0.0, 0.0, 0.0, 0.0, 0.0, 0.0, 0.0, 0.0, 0.0, 0.0, 0.0, 0.0, 0.0, 0.0, 0.0, 0.0, 0.0, 0.0, 0.0, 0.0, 0.0, 0.0, 0.0, 0.0, 0.0, 0.0, 0.0, 0.0, 0.0, 0.0, 0.0, 0.0, 0.0, 0.0, 0.0, 0.0, 0.0, 0.0, 0.0, 0.0, 0.0, 0.0, 0.0, 0.0, 0.0, 0.0, 0.0, 0.0, 1.0, 0.0, 0.0, 0.0, 0.0, 0.0, 0.0, 0.0, 0.0, 0.0, 0.0, 0.0, 0.0, 0.0, 0.0, 0.0, 0.0, 0.0, 0.0, 1.0, 2.0, 0.0, 0.0, 0.0, 0.0, 0.0, 0.0, 0.0, 0.0, 0.0, 0.0, 0.0, 0.0, 0.0, 0.0, 1.0, 0.0, 0.0, 0.0, 0.0, 0.0, 0.0, 0.0, 0.0, 0.0, 0.0, 1.0, 0.0, null, 0.0, 0.0, 0.0, null, 0.0, null, 0.0, null, 0.0, 0.0, 2.0, 2.0, 3.0, 0.0, 0.0, 0.0, 1.0, 0.0, 0.0, 0.0, 0.0, 0.0, 0.0, 0.0, 0.0, 0.0, 0.0, 0.0, 0.0, 0.0, 0.0, 0.0, 0.0, 0.0, 0.0, 0.0, 0.0, 0.0, 0.0, 0.0, 0.0, null, 0.0, null, 0.0, null, 0.0, null, 0.0, null, 0.0, null, 0.0, null, 0.0, null, 1.0, 1.0, null, null, 2.0, 0.0, 0.0, 0.0, 0.0, 0.0, 0.0, 0.0, 0.0, 0.0, 0.0, null, null, null, null, null, null, null, null, null, null, null, 0.0, 0.0, 0.0, 0.0, 0.0, 0.0, 0.0, null, 1.0, 1.0, 1.0, 3.0, 1.0, 1.0, 1.0, 2.0, 2.0, 0.0, 0.0, 0.0, 0.0, 0.0, 0.0, 0.0, 0.0, 0.0, null, null, null, null, null, null, null, null, null, null, 1.0, 1.0, 1.0, 3.0, 0.0, 1.0, 0.0, 1.0, 0.0, 1.0, 1.0, 0.0, 2.0, 2.0, 2.0, 3.0, 0.0, 3.0, 0.0, 0.0, 0.0, 0.0, 0.0, 0.0, 0.0, 0.0, 1.0, 2.0, 1.0, 1.0, 1.0, 1.0, 3.0, 1.0, 1.0, 1.0, 2.0, 2.0, 0.0, 0.0, 0.0, 0.0, 0.0, 0.0, 0.0, 1.0, 1.0, 1.0, 3.0, 1.0, 1.0, 1.0, 2.0, 2.0, 0.0, 0.0, 0.0, 0.0, 0.0, 2.0, 2.0, 2.0, 3.0, 2.0, 2.0, 2.0, 2.0, 2.0, 0.0, 0.0, 0.0, 0.0, 0.0, 0.0, 3.0, 3.0, 3.0, 3.0, 3.0, 3.0, 3.0, 2.0, 2.0, 3.0, 3.0, 3.0, 3.0, 3.0, 3.0, 3.0, 3.0, 3.0, null, 3.0, 3.0, 3.0, 3.0, 2.0, 3.0, 3.0, 3.0, 3.0, 3.0, null, 3.0, 3.0, 3.0, 3.0, 3.0, 3.0, 3.0, 3.0, 3.0, 2.0, 3.0, 3.0, 3.0, 3.0, 3.0, 3.0, 3.0, 3.0, 3.0, 3.0, 3.0, 3.0, 3.0, 3.0, 3.0, 3.0, 3.0, 2.0, 3.0, 3.0, 3.0, 2.0, 3.0, 3.0, 3.0, 1.0, 2.0, 0.0, 0.0, 0.0, 0.0, 0.0, 0.0, 0.0, 0.0, 0.0, 0.0, 0.0, 0.0, 0.0, 0.0, 0.0, 0.0, 0.0, 0.0, 0.0, 0.0, 0.0, 0.0, 0.0, 0.0, 0.0, 0.0, 0.0, 0.0, 0.0, 0.0, 0.0, 0.0, 0.0, 0.0, 0.0, 0.0, 0.0, 0.0, 0.0, 0.0, 0.0, 0.0, 0.0, 0.0, 0.0, 0.0, 0.0, 0.0, 0.0, 0.0, 0.0, 0.0, 0.0, 0.0, 0.0, 0.0, 0.0, 0.0, null, 1.0, 1.0, 1.0, 0.0, 0.0, 0.0, 0.0, 0.0, 0.0, 0.0, 0.0, 0.0, 0.0, 0.0, 0.0, 0.0, 0.0, 0.0, 0.0, 0.0, 0.0, 1.0, null, null, null, null, null, null, 0.0, 0.0, 0.0, 0.0, 0.0, 0.0, 0.0, 0.0, 0.0, 1.0, 1.0, 1.0, 1.0, 1.0, 1.0, 1.0, 1.0, 1.0, 0.0, 0.0, 0.0, 1.0, 0.0, 0.0, 0.0, 1.0, 0.0, 1.0, 0.0, 0.0, 0.0, 2.0, 0.0, 0.0, 0.0, 2.0, 0.0, 2.0, 1.0, 1.0, 2.0, 1.0, 1.0, 1.0, 1.0, 2.0, 1.0, 0.0, 0.0, 0.0, 2.0, 0.0, 0.0, 0.0, 1.0, 0.0, 2.0, 1.0, 1.0, 2.0, 2.0, 1.0, 1.0, 1.0, 1.0, 1.0, 1.0, 2.0, 0.0, 3.0, 0.0, 1.0, 0.0, 1.0, 0.0, 1.0, 1.0, 1.0, 1.0, 1.0, 1.0, 1.0, 1.0, 1.0, 2.0, 0.0, 1.0, 1.0, 2.0, 2.0, 1.0, 1.0, 1.0, 1.0, 1.0, 1.0, 1.0, 2.0, 0.0, 3.0, 0.0, 2.0, 0.0, 1.0, 1.0, 1.0, 2.0, 1.0, 1.0, 1.0, 1.0, 1.0, 1.0, 1.0, 1.0, 1.0, 1.0, 1.0, 1.0, 1.0, 1.0, 2.0, 1.0, 1.0, 2.0, 1.0, 2.0, 0.0, 3.0, 0.0, 0.0, 1.0, 2.0, 1.0, 2.0, 1.0, 1.0, 2.0, 2.0, 1.0, 1.0, 1.0, 1.0, 1.0, 1.0, 2.0, 0.0, 3.0, 0.0, 0.0, 1.0, 2.0, 1.0, 2.0, 1.0, 1.0, 2.0, 2.0, 1.0, 1.0, 1.0, 1.0, 1.0, 1.0, 1.0, null, 0.0, 0.0, 0.0, 0.0, 0.0, 0.0, 0.0, 0.0, 0.0, 0.0, 0.0, null, null, null, null, null, null, null, null, null, 0.0, 0.0, 0.0, 0.0, 0.0, 0.0, 0.0, 0.0, null, 0.0, null, 0.0, null, 0.0, null, null, null, null, null, null, null, 0.0, 0.0, 0.0, 0.0, 0.0, 0.0, 0.0, 0.0, 0.0, 0.0, 0.0, 0.0, null, null, null, null, null, null, null, null, null, null, 0.0, 0.0, 0.0, 0.0, 0.0, 0.0, 0.0, null, null, 0.0, 0.0, 0.0, 0.0, 0.0, 0.0, 0.0, 0.0, 0.0, 0.0, 1.0, 0.0, 0.0, null, 2.0, 1.0, 0.0, 0.0, 1.0, 0.0, 0.0, 0.0, 1.0, 0.0, 0.0, 0.0, 0.0, 1.0, 1.0, 0.0, 0.0, 0.0, 0.0, 1.0, 0.0, 0.0, 1.0, 0.0, 0.0, 0.0, 1.0, 2.0, null, 0.0, 2.0, 0.0, 1.0, 3.0, 0.0, 1.0, 0.0, 1.0, 1.0, 3.0, 0.0, 1.0, 0.0, 1.0, 0.0, 1.0, 0.0, 0.0, 0.0, 0.0, 0.0, 2.0, 2.0, 1.0, 0.0, 1.0, 2.0, 3.0, 2.0, 2.0, 3.0, 2.0, 2.0, 1.0, 0.0, 0.0, null, 3.0, 3.0, 1.0, 3.0, 3.0, 2.0, 2.0, 2.0, 1.0, 0.0, 1.0, 1.0, 3.0, 3.0, 0.0, 0.0, 1.0, 1.0, 2.0, 2.0, 1.0, null, 0.0, 3.0, 1.0, 3.0, 1.0, 1.0, 3.0, 3.0, 3.0, 3.0, 3.0, 2.0, 3.0, 0.0, 2.0, 0.0, 2.0, 1.0, 3.0, 0.0, 2.0, 1.0, 2.0, 1.0, 0.0, 0.0, 2.0, 1.0, 0.0, 1.0, 3.0, 0.0, 2.0, 1.0, 2.0, 0.0, 1.0, 0.0, 2.0, 1.0, 0.0, 1.0, 2.0, 2.0, 1.0, 2.0, 1.0, 1.0, 3.0, 3.0, 2.0, 3.0, 2.0, 2.0, 1.0, 3.0, 3.0, 1.0, 3.0, 3.0, 3.0, 3.0, 2.0, 3.0, 2.0, 2.0, 3.0, 2.0, 2.0, 1.0, 1.0, 2.0, 3.0, 0.0, 3.0, 1.0, 3.0, 3.0, 2.0, 1.0, 0.0, 1.0, 0.0, 1.0, 0.0, 1.0, 1.0, 1.0, 2.0, 2.0, 1.0, 2.0, 1.0, 1.0, 0.0, 1.0, 0.0, 1.0, 1.0, 1.0, 2.0, 2.0, 1.0, 1.0, 3.0, 2.0, 1.0, 3.0, 1.0, 1.0, 3.0, 3.0, 3.0, 3.0, 2.0, 2.0, 3.0, 1.0, 2.0, 0.0, 2.0, 1.0, 3.0, 2.0, 2.0, 1.0, 2.0, 3.0, 3.0, 3.0, 2.0, 1.0, 2.0, 0.0, 2.0, 1.0, 3.0, 1.0, 2.0, 1.0, 0.0, 2.0, 1.0, 1.0, 1.0, 2.0, 1.0, 3.0, 2.0, 2.0, 1.0, 2.0, 1.0, 1.0, 3.0, 3.0, 2.0, 3.0, 1.0, 3.0, 3.0, 3.0, 2.0, 1.0, 1.0, 3.0, 3.0, 2.0, 3.0, 2.0, 2.0, 3.0, 2.0, 2.0, 1.0, 1.0, 3.0, 2.0, 3.0, 3.0, 3.0, 3.0, 3.0, 2.0, 3.0, 1.0, 0.0, 1.0, 1.0, 1.0, 0.0, 1.0, 1.0, 1.0, 2.0, 2.0, 1.0, 3.0, 2.0, 2.0, 1.0, 2.0, 1.0, 1.0, 3.0, 3.0, 2.0, 3.0, 2.0, 1.0, 2.0, 3.0, 3.0, 3.0, 2.0, 3.0, 2.0, 3.0, 1.0, 3.0, 2.0, 2.0, 3.0, 1.0, 3.0, 3.0, 3.0, 3.0, 3.0, 2.0, 3.0, 3.0, 3.0, 3.0, 3.0, 1.0, 3.0, 2.0, 2.0, 3.0, 3.0, 2.0, 2.0, 1.0, 2.0, 1.0, 1.0, 3.0, 3.0, 2.0, 3.0, 2.0, 2.0, 3.0, 2.0, 2.0, 1.0, 1.0, 3.0, 3.0, 3.0, 3.0, 3.0, 2.0, 3.0, 0.0, 0.0, 0.0, 0.0, 0.0, 0.0, 0.0, 0.0, null, 0.0, 0.0, 0.0, 0.0, null, 0.0, 0.0, 0.0, 0.0, 0.0, 0.0, 0.0, 0.0, 0.0, 0.0, 0.0, 0.0, 0.0, 0.0, 0.0, 0.0, 0.0, 0.0, 0.0, null, 0.0, 0.0, 0.0, 0.0, 0.0, 0.0, 0.0, 0.0, 0.0, 0.0, 0.0, 0.0, 0.0, 0.0, 0.0, 0.0, 0.0, 0.0, 0.0, 0.0, null, 1.0, 0.0, 0.0, 0.0, 0.0, 0.0, 0.0, 0.0, 0.0, 0.0, 0.0, 0.0, 0.0, 0.0, 0.0, 0.0, 0.0, 0.0, 0.0, 0.0, 0.0, 0.0, 0.0, 0.0, 0.0, 0.0, 0.0, 0.0, 0.0, 0.0, 0.0, 0.0, 0.0, 0.0, 0.0, 0.0, 0.0, null, 1.0, 0.0, 0.0, 0.0, 0.0, null, 1.0, 0.0, 0.0, 0.0, 0.0, 1.0, 0.0, 0.0, 0.0, 0.0, null, 1.0, 0.0, 0.0, null, null, 0.0, 0.0, 0.0, 0.0, 0.0, null, 0.0, null, 0.0, null, 1.0, null, 0.0, null, 0.0, null, 3.0, null, 0.0, null, null, 3.0, null, 1.0, null, 2.0, 0.0, null, 0.0, 0.0, 0.0, null, 0.0, 0.0, 1.0, 0.0, 0.0, 0.0, 0.0, 1.0, 2.0, 0.0, 0.0, null, null, null, null, null, null, null, null, 0.0, 0.0, null, 0.0, 1.0, 1.0, 3.0, 0.0, 1.0, 0.0, 2.0, 1.0, null, 0.0, 1.0, 1.0, 2.0, 0.0, 0.0, 1.0, 0.0, 3.0, 0.0, 1.0, null, null, null, 0.0, 0.0, 0.0, null, null, null, null, null, 0.0, 2.0, 1.0, 3.0, 0.0, 1.0, 1.0, 2.0, 1.0, 2.0, 0.0, 1.0, 2.0, 1.0, 0.0, 0.0, 2.0, 3.0, 1.0, 2.0, 0.0, 1.0, 1.0, 1.0, 1.0, 1.0, 0.0, null, null, 1.0, 1.0, 1.0, null, null, null, null, null, null, 0.0, 0.0, 1.0, 0.0, 2.0, 0.0, 3.0, 3.0, 2.0, 3.0, 1.0, 2.0, 2.0, null, 2.0, 3.0, 0.0, 1.0, 3.0, 3.0, 2.0, 2.0, null, 3.0, 3.0, 2.0, 2.0, null, 3.0, 3.0, 2.0, 3.0, null, null, 3.0, 3.0, 2.0, 3.0, null, 3.0, 3.0, 3.0, 2.0, 3.0, null, 3.0, null, 2.0, 3.0, 2.0, 3.0, 3.0, 2.0, 3.0, 2.0, 3.0, 3.0, 3.0, 0.0, 0.0, 0.0, 0.0, 0.0, 0.0, 0.0, 0.0, 0.0, 0.0, 0.0, 0.0, 0.0, 0.0, 0.0, 0.0, 0.0, 0.0, 0.0, 0.0, null, 1.0, null, null, 0.0, null, null, 0.0, null, null, 0.0, null, null, 1.0, null, null, 0.0, 3.0, 1.0, 1.0, 0.0, 2.0, null, 1.0, 0.0, null, null, 0.0, 2.0, 1.0, 1.0, 2.0, 1.0, 1.0, 1.0, 1.0, 1.0, 1.0, 1.0, 1.0, 2.0, 2.0, 2.0, 1.0, 1.0, 2.0, 1.0, 1.0, 1.0, 1.0, 1.0, 1.0, 1.0, 3.0, 1.0, 2.0, 1.0, 1.0, 1.0, 1.0, 1.0, 1.0, 1.0, 3.0, 1.0, 2.0, 1.0, 3.0, 2.0, 2.0, 1.0, 1.0, 2.0, 1.0, 1.0, 1.0, 1.0, 3.0, 3.0, 3.0, 1.0, 3.0, 3.0, 3.0, 1.0, 1.0, 2.0, 2.0, 1.0, 1.0, 1.0, 1.0, 1.0, 3.0, 2.0, 1.0, 1.0, 1.0, 1.0, 1.0, 1.0, 1.0, 1.0, 1.0, 1.0, 1.0, 1.0, 1.0, 2.0, 2.0, 1.0, 1.0, 1.0, 1.0, 1.0, 3.0, 2.0, 1.0, 1.0, 1.0, 1.0, 1.0, 1.0, 1.0, 1.0, 1.0, 1.0, 1.0, 3.0, 3.0, 3.0, 3.0, 3.0, 3.0, 1.0, 1.0, 2.0, 2.0, 1.0, 1.0, 1.0, 1.0, 1.0, 3.0, 2.0, 1.0, 1.0, 1.0, 1.0, 1.0, 1.0, 1.0, 1.0, 1.0, 1.0, 1.0, 1.0, 1.0, 2.0, 2.0, 3.0, 1.0, 3.0, 1.0, 3.0, 1.0, 3.0, 1.0, 3.0, 1.0, 3.0, 3.0, 3.0, 2.0, 3.0, 1.0, 3.0, 1.0, 3.0, 1.0, 1.0, 1.0, 1.0, 3.0, 3.0, 3.0, 3.0, 3.0, 1.0, 1.0, 1.0, 1.0, 1.0, 3.0, 3.0, 3.0, 3.0, 3.0, 3.0, 3.0, 3.0, 3.0, 3.0, 1.0, 1.0, 1.0, 1.0, 1.0, 3.0, 3.0, 3.0, 1.0, 1.0, 3.0, 3.0, 3.0, 3.0, 3.0, 3.0, 3.0, 3.0, 0.0, 0.0, 0.0, 0.0, 0.0, 0.0, 0.0, null, 0.0, 0.0, null, 0.0, 0.0, 0.0, 0.0, 0.0, 0.0, 0.0, 0.0, 0.0, 0.0, 0.0, 0.0, 0.0, 0.0, 0.0, 0.0, 0.0, 0.0, 0.0, 0.0, null, null, null, null, null, 0.0, 0.0, null, 0.0, null, 0.0, null, 0.0, 0.0, 2.0, 0.0, 0.0, 0.0, 0.0, 0.0, 2.0, 0.0, 0.0, 0.0, 0.0, 0.0, 0.0, 0.0, 0.0, 0.0, 0.0, 0.0, null, null, null, 1.0, null, 0.0, 0.0, 0.0, 0.0, 0.0, 0.0, 0.0, 2.0, 2.0, 1.0, 2.0, 2.0, 2.0, 0.0, 2.0, 3.0, null, null, null, null, 1.0, null, 0.0, 0.0, null, 0.0, 0.0, 0.0, 0.0, 0.0], \"yaxis\": \"y\"}, {\"customdata\": [[23.0, \"Magdeleine\"], [23.0, \"Magdeleine\"], [23.0, \"Magdeleine\"], [23.0, \"Magdeleine\"], [23.0, \"Magdeleine\"], [23.0, \"Magdeleine\"], [23.0, \"Magdeleine\"], [23.0, \"Magdeleine\"], [32.0, \"Magdeleine\"], [32.0, \"Magdeleine\"], [32.0, \"Magdeleine\"], [32.0, \"Magdeleine\"], [32.0, \"Magdeleine\"], [32.0, \"Magdeleine\"], [32.0, \"Magdeleine\"], [32.0, \"Magdeleine\"], [32.0, \"Magdeleine\"], [32.0, \"Magdeleine\"], [32.0, \"Magdeleine\"], [32.0, \"Magdeleine\"], [32.0, \"Magdeleine\"], [32.0, \"Magdeleine\"], [32.0, \"Magdeleine\"], [32.0, \"Magdeleine\"], [32.0, \"Magdeleine\"], [32.0, \"Magdeleine\"], [32.0, \"Magdeleine\"], [32.0, \"Magdeleine\"], [32.0, \"Magdeleine\"], [32.0, \"Magdeleine\"], [32.0, \"Magdeleine\"], [32.0, \"Magdeleine\"], [32.0, \"Magdeleine\"], [33.0, \"Magdeleine\"], [33.0, \"Magdeleine\"], [33.0, \"Magdeleine\"], [33.0, \"Magdeleine\"], [33.0, \"Magdeleine\"], [33.0, \"Magdeleine\"], [33.0, \"Magdeleine\"], [33.0, \"Magdeleine\"], [33.0, \"Magdeleine\"], [33.0, \"Magdeleine\"], [33.0, \"Magdeleine\"], [33.0, \"Magdeleine\"], [33.0, \"Magdeleine\"], [33.0, \"Magdeleine\"], [33.0, \"Magdeleine\"], [33.0, \"Magdeleine\"], [33.0, \"Magdeleine\"], [33.0, \"Magdeleine\"], [33.0, \"Magdeleine\"], [33.0, \"Magdeleine\"], [33.0, \"Magdeleine\"], [33.0, \"Magdeleine\"], [33.0, \"Magdeleine\"], [33.0, \"Magdeleine\"], [33.0, \"Magdeleine\"], [13.5, \"Magdeleine\"], [13.5, \"Magdeleine\"], [13.5, \"Magdeleine\"], [13.5, \"Magdeleine\"], [13.5, \"Magdeleine\"], [13.5, \"Magdeleine\"], [13.5, \"Magdeleine\"], [13.5, \"Magdeleine\"], [10.5, \"Magdeleine\"], [10.5, \"Magdeleine\"], [10.5, \"Magdeleine\"], [10.5, \"Magdeleine\"], [10.5, \"Magdeleine\"], [10.5, \"Magdeleine\"], [10.5, \"Magdeleine\"], [10.5, \"Magdeleine\"], [10.5, \"Magdeleine\"], [12.0, \"Magdeleine\"], [12.0, \"Magdeleine\"], [12.0, \"Magdeleine\"], [12.0, \"Magdeleine\"], [12.0, \"Magdeleine\"], [12.0, \"Magdeleine\"], [12.0, \"Magdeleine\"], [12.0, \"Magdeleine\"], [12.0, \"Magdeleine\"], [33.0, \"Magdeleine\"], [33.0, \"Magdeleine\"], [33.0, \"Magdeleine\"], [33.0, \"Magdeleine\"], [33.0, \"Magdeleine\"], [33.0, \"Magdeleine\"], [33.0, \"Magdeleine\"], [33.0, \"Magdeleine\"], [33.0, \"Magdeleine\"], [35.0, \"Magdeleine\"], [35.0, \"Magdeleine\"], [35.0, \"Magdeleine\"], [35.0, \"Magdeleine\"], [35.0, \"Magdeleine\"], [35.0, \"Magdeleine\"], [35.0, \"Magdeleine\"], [35.0, \"Magdeleine\"], [35.0, \"Magdeleine\"], [6.0, \"Magdeleine\"], [6.0, \"Magdeleine\"], [6.0, \"Magdeleine\"], [6.0, \"Magdeleine\"], [6.0, \"Magdeleine\"], [6.0, \"Magdeleine\"], [6.0, \"Magdeleine\"], [6.0, \"Magdeleine\"], [6.0, \"Magdeleine\"], [6.0, \"Magdeleine\"], [6.0, \"Magdeleine\"], [6.0, \"Magdeleine\"], [6.0, \"Magdeleine\"], [6.0, \"Magdeleine\"], [6.0, \"Magdeleine\"], [6.0, \"Magdeleine\"], [6.0, \"Magdeleine\"], [6.0, \"Magdeleine\"], [6.0, \"Magdeleine\"], [6.0, \"Magdeleine\"], [16.0, \"Magdeleine\"], [16.0, \"Magdeleine\"], [16.0, \"Magdeleine\"], [16.0, \"Magdeleine\"], [16.0, \"Magdeleine\"], [16.0, \"Magdeleine\"], [16.0, \"Magdeleine\"], [16.0, \"Magdeleine\"], [16.0, \"Magdeleine\"], [16.0, \"Magdeleine\"], [16.0, \"Magdeleine\"], [16.0, \"Magdeleine\"], [16.0, \"Magdeleine\"], [16.0, \"Magdeleine\"], [16.0, \"Magdeleine\"], [16.0, \"Magdeleine\"], [16.0, \"Magdeleine\"], [16.0, \"Magdeleine\"], [16.0, \"Magdeleine\"], [16.0, \"Magdeleine\"], [17.0, \"Magdeleine\"], [17.0, \"Magdeleine\"], [17.0, \"Magdeleine\"], [17.0, \"Magdeleine\"], [17.0, \"Magdeleine\"], [17.0, \"Magdeleine\"], [17.0, \"Magdeleine\"], [17.0, \"Magdeleine\"], [17.0, \"Magdeleine\"], [17.0, \"Magdeleine\"], [17.0, \"Magdeleine\"], [17.0, \"Magdeleine\"], [17.0, \"Magdeleine\"], [17.0, \"Magdeleine\"], [17.0, \"Magdeleine\"], [17.0, \"Magdeleine\"], [17.0, \"Magdeleine\"], [17.0, \"Magdeleine\"], [17.0, \"Magdeleine\"], [17.0, \"Magdeleine\"], [18.0, \"Magdeleine\"], [18.0, \"Magdeleine\"], [18.0, \"Magdeleine\"], [18.0, \"Magdeleine\"], [18.0, \"Magdeleine\"], [18.0, \"Magdeleine\"], [18.0, \"Magdeleine\"], [18.0, \"Magdeleine\"], [18.0, \"Magdeleine\"], [18.0, \"Magdeleine\"], [18.0, \"Magdeleine\"], [18.0, \"Magdeleine\"], [18.0, \"Magdeleine\"], [18.0, \"Magdeleine\"], [18.0, \"Magdeleine\"], [18.0, \"Magdeleine\"], [18.0, \"Magdeleine\"], [18.0, \"Magdeleine\"], [18.0, \"Magdeleine\"], [18.0, \"Magdeleine\"], [25.0, \"Magdeleine\"], [25.0, \"Magdeleine\"], [25.0, \"Magdeleine\"], [25.0, \"Magdeleine\"], [25.0, \"Magdeleine\"], [25.0, \"Magdeleine\"], [25.0, \"Magdeleine\"], [25.0, \"Magdeleine\"], [25.0, \"Magdeleine\"], [29.0, \"Magdeleine\"], [29.0, \"Magdeleine\"], [29.0, \"Magdeleine\"], [29.0, \"Magdeleine\"], [29.0, \"Magdeleine\"], [29.0, \"Magdeleine\"], [29.0, \"Magdeleine\"], [29.0, \"Magdeleine\"], [29.0, \"Magdeleine\"], [31.0, \"Magdeleine\"], [31.0, \"Magdeleine\"], [31.0, \"Magdeleine\"], [31.0, \"Magdeleine\"], [31.0, \"Magdeleine\"], [31.0, \"Magdeleine\"], [31.0, \"Magdeleine\"], [31.0, \"Magdeleine\"], [31.0, \"Magdeleine\"], [33.0, \"Magdeleine\"], [33.0, \"Magdeleine\"], [33.0, \"Magdeleine\"], [33.0, \"Magdeleine\"], [33.0, \"Magdeleine\"], [33.0, \"Magdeleine\"], [33.0, \"Magdeleine\"], [33.0, \"Magdeleine\"], [33.0, \"Magdeleine\"], [33.0, \"Magdeleine\"], [33.0, \"Magdeleine\"], [33.0, \"Magdeleine\"], [33.0, \"Magdeleine\"], [33.0, \"Magdeleine\"], [33.0, \"Magdeleine\"], [33.0, \"Magdeleine\"], [33.0, \"Magdeleine\"], [33.0, \"Magdeleine\"], [35.0, \"Magdeleine\"], [35.0, \"Magdeleine\"], [35.0, \"Magdeleine\"], [35.0, \"Magdeleine\"], [35.0, \"Magdeleine\"], [35.0, \"Magdeleine\"], [35.0, \"Magdeleine\"], [35.0, \"Magdeleine\"], [35.0, \"Magdeleine\"], [5.0, \"Magdeleine\"], [5.0, \"Magdeleine\"], [5.0, \"Magdeleine\"], [5.0, \"Magdeleine\"], [5.0, \"Magdeleine\"], [5.0, \"Magdeleine\"], [5.0, \"Magdeleine\"], [5.0, \"Magdeleine\"], [5.0, \"Magdeleine\"], [5.5, \"Magdeleine\"], [5.5, \"Magdeleine\"], [5.5, \"Magdeleine\"], [5.5, \"Magdeleine\"], [5.5, \"Magdeleine\"], [5.5, \"Magdeleine\"], [5.5, \"Magdeleine\"], [5.5, \"Magdeleine\"], [5.5, \"Magdeleine\"], [null, \"Magdeleine\"], [null, \"Magdeleine\"], [null, \"Magdeleine\"], [null, \"Magdeleine\"], [null, \"Magdeleine\"], [null, \"Magdeleine\"], [null, \"Magdeleine\"], [null, \"Magdeleine\"], [null, \"Magdeleine\"], [33.0, \"Magdeleine\"], [33.0, \"Magdeleine\"], [33.0, \"Magdeleine\"], [33.0, \"Magdeleine\"], [33.0, \"Magdeleine\"], [33.0, \"Magdeleine\"], [33.0, \"Magdeleine\"], [33.0, \"Magdeleine\"], [33.0, \"Magdeleine\"], [35.0, \"Magdeleine\"], [35.0, \"Magdeleine\"], [35.0, \"Magdeleine\"], [35.0, \"Magdeleine\"], [35.0, \"Magdeleine\"], [35.0, \"Magdeleine\"], [35.0, \"Magdeleine\"], [35.0, \"Magdeleine\"], [35.0, \"Magdeleine\"], [5.0, \"Magdeleine\"], [5.0, \"Magdeleine\"], [5.0, \"Magdeleine\"], [5.0, \"Magdeleine\"], [5.0, \"Magdeleine\"], [5.0, \"Magdeleine\"], [5.0, \"Magdeleine\"], [5.0, \"Magdeleine\"], [5.0, \"Magdeleine\"], [9.0, \"Magdeleine\"], [9.0, \"Magdeleine\"], [9.0, \"Magdeleine\"], [9.0, \"Magdeleine\"], [9.0, \"Magdeleine\"], [9.0, \"Magdeleine\"], [9.0, \"Magdeleine\"], [9.0, \"Magdeleine\"], [9.0, \"Magdeleine\"], [11.0, \"Magdeleine\"], [11.0, \"Magdeleine\"], [11.0, \"Magdeleine\"], [11.0, \"Magdeleine\"], [11.0, \"Magdeleine\"], [11.0, \"Magdeleine\"], [11.0, \"Magdeleine\"], [11.0, \"Magdeleine\"], [11.0, \"Magdeleine\"], [19.0, \"Magdeleine\"], [19.0, \"Magdeleine\"], [19.0, \"Magdeleine\"], [19.0, \"Magdeleine\"], [19.0, \"Magdeleine\"], [19.0, \"Magdeleine\"], [19.0, \"Magdeleine\"], [19.0, \"Magdeleine\"], [19.0, \"Magdeleine\"], [19.0, \"Magdeleine\"], [19.0, \"Magdeleine\"], [19.0, \"Magdeleine\"], [19.0, \"Magdeleine\"], [19.0, \"Magdeleine\"], [19.0, \"Magdeleine\"], [19.0, \"Magdeleine\"], [19.0, \"Magdeleine\"], [19.0, \"Magdeleine\"], [19.0, \"Magdeleine\"], [19.0, \"Magdeleine\"], [19.0, \"Magdeleine\"], [33.0, \"Magdeleine\"], [33.0, \"Magdeleine\"], [33.0, \"Magdeleine\"], [33.0, \"Magdeleine\"], [33.0, \"Magdeleine\"], [33.0, \"Magdeleine\"], [33.0, \"Magdeleine\"], [33.0, \"Magdeleine\"], [33.0, \"Magdeleine\"], [33.0, \"Magdeleine\"], [33.0, \"Magdeleine\"], [33.0, \"Magdeleine\"], [33.0, \"Magdeleine\"], [33.0, \"Magdeleine\"], [33.0, \"Magdeleine\"], [33.0, \"Magdeleine\"], [33.0, \"Magdeleine\"], [33.0, \"Magdeleine\"], [33.0, \"Magdeleine\"], [33.0, \"Magdeleine\"], [33.0, \"Magdeleine\"], [33.0, \"Magdeleine\"], [33.0, \"Magdeleine\"], [33.0, \"Magdeleine\"], [33.0, \"Magdeleine\"], [33.0, \"Magdeleine\"], [33.0, \"Magdeleine\"], [33.0, \"Magdeleine\"], [33.0, \"Magdeleine\"], [33.0, \"Magdeleine\"], [33.0, \"Magdeleine\"], [33.0, \"Magdeleine\"], [33.0, \"Magdeleine\"], [33.0, \"Magdeleine\"], [33.0, \"Magdeleine\"], [33.0, \"Magdeleine\"], [33.0, \"Magdeleine\"], [33.0, \"Magdeleine\"], [33.0, \"Magdeleine\"], [33.0, \"Magdeleine\"], [33.0, \"Magdeleine\"], [33.0, \"Magdeleine\"], [33.0, \"Magdeleine\"], [33.0, \"Magdeleine\"], [33.0, \"Magdeleine\"], [33.0, \"Magdeleine\"], [33.0, \"Magdeleine\"], [33.0, \"Magdeleine\"], [33.0, \"Magdeleine\"], [33.0, \"Magdeleine\"], [33.0, \"Magdeleine\"], [33.0, \"Magdeleine\"], [33.0, \"Magdeleine\"], [33.0, \"Magdeleine\"], [33.0, \"Magdeleine\"], [33.0, \"Magdeleine\"], [33.0, \"Magdeleine\"], [33.0, \"Magdeleine\"], [33.0, \"Magdeleine\"], [33.0, \"Magdeleine\"], [33.0, \"Magdeleine\"], [33.0, \"Magdeleine\"], [33.0, \"Magdeleine\"], [33.0, \"Magdeleine\"], [33.0, \"Magdeleine\"], [33.0, \"Magdeleine\"], [33.0, \"Magdeleine\"], [33.0, \"Magdeleine\"], [33.0, \"Magdeleine\"], [33.0, \"Magdeleine\"], [33.0, \"Magdeleine\"], [33.0, \"Magdeleine\"], [33.0, \"Magdeleine\"], [33.0, \"Magdeleine\"], [33.0, \"Magdeleine\"], [33.0, \"Magdeleine\"], [33.0, \"Magdeleine\"], [33.0, \"Magdeleine\"], [33.0, \"Magdeleine\"], [33.0, \"Magdeleine\"], [33.0, \"Magdeleine\"], [33.0, \"Magdeleine\"], [33.0, \"Magdeleine\"], [33.0, \"Magdeleine\"], [33.0, \"Magdeleine\"], [33.0, \"Magdeleine\"], [33.0, \"Magdeleine\"], [33.0, \"Magdeleine\"], [33.0, \"Magdeleine\"], [33.0, \"Magdeleine\"], [33.0, \"Magdeleine\"], [33.0, \"Magdeleine\"], [33.0, \"Magdeleine\"], [33.0, \"Magdeleine\"], [33.0, \"Magdeleine\"], [33.0, \"Magdeleine\"], [33.0, \"Magdeleine\"], [33.0, \"Magdeleine\"], [33.0, \"Magdeleine\"], [33.0, \"Magdeleine\"], [33.0, \"Magdeleine\"], [33.0, \"Magdeleine\"], [33.0, \"Magdeleine\"], [33.0, \"Magdeleine\"], [33.0, \"Magdeleine\"], [33.0, \"Magdeleine\"], [33.0, \"Magdeleine\"], [33.0, \"Magdeleine\"], [33.0, \"Magdeleine\"], [33.0, \"Magdeleine\"], [33.0, \"Magdeleine\"], [33.0, \"Magdeleine\"], [33.0, \"Magdeleine\"], [33.0, \"Magdeleine\"], [33.0, \"Magdeleine\"], [33.0, \"Magdeleine\"], [33.0, \"Magdeleine\"], [33.0, \"Magdeleine\"], [33.0, \"Magdeleine\"], [33.0, \"Magdeleine\"], [33.0, \"Magdeleine\"], [33.0, \"Magdeleine\"], [33.0, \"Magdeleine\"], [33.0, \"Magdeleine\"], [33.0, \"Magdeleine\"], [33.0, \"Magdeleine\"], [36.0, \"Magdeleine\"], [36.0, \"Magdeleine\"], [36.0, \"Magdeleine\"], [36.0, \"Magdeleine\"], [36.0, \"Magdeleine\"], [36.0, \"Magdeleine\"], [36.0, \"Magdeleine\"], [36.0, \"Magdeleine\"], [36.0, \"Magdeleine\"], [36.5, \"Magdeleine\"], [36.5, \"Magdeleine\"], [36.5, \"Magdeleine\"], [36.5, \"Magdeleine\"], [36.5, \"Magdeleine\"], [36.5, \"Magdeleine\"], [36.5, \"Magdeleine\"], [36.5, \"Magdeleine\"], [36.5, \"Magdeleine\"], [36.5, \"Magdeleine\"], [36.5, \"Magdeleine\"], [36.5, \"Magdeleine\"], [36.5, \"Magdeleine\"], [36.5, \"Magdeleine\"], [36.5, \"Magdeleine\"], [36.5, \"Magdeleine\"], [36.5, \"Magdeleine\"], [36.5, \"Magdeleine\"], [36.5, \"Magdeleine\"], [36.5, \"Magdeleine\"], [36.5, \"Magdeleine\"], [36.5, \"Magdeleine\"], [36.5, \"Magdeleine\"], [36.5, \"Magdeleine\"], [36.5, \"Magdeleine\"], [36.5, \"Magdeleine\"], [13.5, \"Magdeleine\"], [13.5, \"Magdeleine\"], [13.5, \"Magdeleine\"], [13.5, \"Magdeleine\"], [13.5, \"Magdeleine\"], [13.5, \"Magdeleine\"], [13.5, \"Magdeleine\"], [13.5, \"Magdeleine\"], [13.5, \"Magdeleine\"], [15.0, \"Magdeleine\"], [15.0, \"Magdeleine\"], [15.0, \"Magdeleine\"], [15.0, \"Magdeleine\"], [15.0, \"Magdeleine\"], [15.0, \"Magdeleine\"], [15.0, \"Magdeleine\"], [15.0, \"Magdeleine\"], [15.0, \"Magdeleine\"], [17.0, \"Magdeleine\"], [17.0, \"Magdeleine\"], [17.0, \"Magdeleine\"], [17.0, \"Magdeleine\"], [17.0, \"Magdeleine\"], [17.0, \"Magdeleine\"], [17.0, \"Magdeleine\"], [17.0, \"Magdeleine\"], [17.0, \"Magdeleine\"], [17.0, \"Magdeleine\"], [17.0, \"Magdeleine\"], [17.0, \"Magdeleine\"], [17.0, \"Magdeleine\"], [17.0, \"Magdeleine\"], [17.0, \"Magdeleine\"], [17.0, \"Magdeleine\"], [17.0, \"Magdeleine\"], [17.0, \"Magdeleine\"], [17.0, \"Magdeleine\"], [17.0, \"Magdeleine\"], [17.0, \"Magdeleine\"], [17.0, \"Magdeleine\"], [17.0, \"Magdeleine\"], [17.0, \"Magdeleine\"], [17.0, \"Magdeleine\"], [17.0, \"Magdeleine\"], [17.0, \"Magdeleine\"], [17.0, \"Magdeleine\"], [17.0, \"Magdeleine\"], [17.0, \"Magdeleine\"], [17.0, \"Magdeleine\"], [18.0, \"Magdeleine\"], [18.0, \"Magdeleine\"], [18.0, \"Magdeleine\"], [18.0, \"Magdeleine\"], [18.0, \"Magdeleine\"], [18.0, \"Magdeleine\"], [18.0, \"Magdeleine\"], [18.0, \"Magdeleine\"], [18.0, \"Magdeleine\"], [18.5, \"Magdeleine\"], [18.5, \"Magdeleine\"], [18.5, \"Magdeleine\"], [18.5, \"Magdeleine\"], [18.5, \"Magdeleine\"], [18.5, \"Magdeleine\"], [18.5, \"Magdeleine\"], [18.5, \"Magdeleine\"], [18.5, \"Magdeleine\"], [18.5, \"Magdeleine\"], [18.5, \"Magdeleine\"], [18.5, \"Magdeleine\"], [18.5, \"Magdeleine\"], [18.5, \"Magdeleine\"], [18.5, \"Magdeleine\"], [18.5, \"Magdeleine\"], [18.5, \"Magdeleine\"], [18.5, \"Magdeleine\"], [18.5, \"Magdeleine\"], [18.5, \"Magdeleine\"], [18.5, \"Magdeleine\"], [18.5, \"Magdeleine\"], [27.0, \"Magdeleine\"], [27.0, \"Magdeleine\"], [27.0, \"Magdeleine\"], [27.0, \"Magdeleine\"], [27.0, \"Magdeleine\"], [27.0, \"Magdeleine\"], [27.0, \"Magdeleine\"], [27.0, \"Magdeleine\"], [27.0, \"Magdeleine\"], [27.0, \"Magdeleine\"], [27.0, \"Magdeleine\"], [27.0, \"Magdeleine\"], [30.0, \"Magdeleine\"], [30.0, \"Magdeleine\"], [30.0, \"Magdeleine\"], [30.0, \"Magdeleine\"], [30.0, \"Magdeleine\"], [30.0, \"Magdeleine\"], [30.0, \"Magdeleine\"], [30.0, \"Magdeleine\"], [30.0, \"Magdeleine\"], [30.0, \"Magdeleine\"], [30.0, \"Magdeleine\"], [30.0, \"Magdeleine\"], [10.0, \"Magdeleine\"], [10.0, \"Magdeleine\"], [10.0, \"Magdeleine\"], [10.0, \"Magdeleine\"], [10.0, \"Magdeleine\"], [10.0, \"Magdeleine\"], [10.0, \"Magdeleine\"], [10.0, \"Magdeleine\"], [10.0, \"Magdeleine\"], [14.5, \"Magdeleine\"], [14.5, \"Magdeleine\"], [14.5, \"Magdeleine\"], [14.5, \"Magdeleine\"], [14.5, \"Magdeleine\"], [14.5, \"Magdeleine\"], [14.5, \"Magdeleine\"], [14.5, \"Magdeleine\"], [14.5, \"Magdeleine\"], [17.5, \"Magdeleine\"], [17.5, \"Magdeleine\"], [17.5, \"Magdeleine\"], [17.5, \"Magdeleine\"], [17.5, \"Magdeleine\"], [17.5, \"Magdeleine\"], [17.5, \"Magdeleine\"], [17.5, \"Magdeleine\"], [17.5, \"Magdeleine\"], [17.5, \"Magdeleine\"], [17.5, \"Magdeleine\"], [17.5, \"Magdeleine\"], [17.5, \"Magdeleine\"], [17.5, \"Magdeleine\"], [17.5, \"Magdeleine\"], [17.5, \"Magdeleine\"], [17.5, \"Magdeleine\"], [17.5, \"Magdeleine\"], [17.5, \"Magdeleine\"], [17.5, \"Magdeleine\"], [17.5, \"Magdeleine\"], [17.5, \"Magdeleine\"], [17.5, \"Magdeleine\"], [17.5, \"Magdeleine\"], [17.5, \"Magdeleine\"], [18.0, \"Magdeleine\"], [18.0, \"Magdeleine\"], [18.0, \"Magdeleine\"], [18.0, \"Magdeleine\"], [18.0, \"Magdeleine\"], [18.0, \"Magdeleine\"], [18.0, \"Magdeleine\"], [18.0, \"Magdeleine\"], [18.0, \"Magdeleine\"], [18.0, \"Magdeleine\"], [18.0, \"Magdeleine\"], [18.0, \"Magdeleine\"], [18.0, \"Magdeleine\"], [18.0, \"Magdeleine\"], [18.0, \"Magdeleine\"], [19.0, \"Magdeleine\"], [19.0, \"Magdeleine\"], [19.0, \"Magdeleine\"], [19.0, \"Magdeleine\"], [19.0, \"Magdeleine\"], [19.0, \"Magdeleine\"], [19.0, \"Magdeleine\"], [19.0, \"Magdeleine\"], [19.0, \"Magdeleine\"], [19.0, \"Magdeleine\"], [19.0, \"Magdeleine\"], [19.0, \"Magdeleine\"], [19.0, \"Magdeleine\"], [19.0, \"Magdeleine\"], [19.0, \"Magdeleine\"], [19.0, \"Magdeleine\"], [19.0, \"Magdeleine\"], [19.0, \"Magdeleine\"], [19.0, \"Magdeleine\"], [19.0, \"Magdeleine\"], [19.0, \"Magdeleine\"], [19.0, \"Magdeleine\"], [19.0, \"Magdeleine\"], [19.0, \"Magdeleine\"], [19.0, \"Magdeleine\"], [36.5, \"Magdeleine\"], [36.5, \"Magdeleine\"], [36.5, \"Magdeleine\"], [36.5, \"Magdeleine\"], [36.5, \"Magdeleine\"], [36.5, \"Magdeleine\"], [36.5, \"Magdeleine\"], [36.5, \"Magdeleine\"], [36.5, \"Magdeleine\"], [36.5, \"Magdeleine\"], [36.5, \"Magdeleine\"], [36.5, \"Magdeleine\"], [36.5, \"Magdeleine\"], [36.5, \"Magdeleine\"], [36.5, \"Magdeleine\"], [36.5, \"Magdeleine\"], [36.5, \"Magdeleine\"], [36.5, \"Magdeleine\"], [36.5, \"Magdeleine\"], [36.5, \"Magdeleine\"], [36.5, \"Magdeleine\"], [36.5, \"Magdeleine\"], [36.5, \"Magdeleine\"], [36.5, \"Magdeleine\"], [36.5, \"Magdeleine\"], [36.5, \"Magdeleine\"], [28.0, \"Magdeleine\"], [28.0, \"Magdeleine\"], [28.0, \"Magdeleine\"], [28.0, \"Magdeleine\"], [28.0, \"Magdeleine\"], [28.0, \"Magdeleine\"], [28.0, \"Magdeleine\"], [28.0, \"Magdeleine\"], [28.0, \"Magdeleine\"], [28.0, \"Magdeleine\"], [28.0, \"Magdeleine\"], [28.0, \"Magdeleine\"], [28.0, \"Magdeleine\"], [28.0, \"Magdeleine\"], [28.0, \"Magdeleine\"], [28.0, \"Magdeleine\"], [28.0, \"Magdeleine\"], [28.0, \"Magdeleine\"], [28.0, \"Magdeleine\"], [28.0, \"Magdeleine\"], [28.0, \"Magdeleine\"], [28.0, \"Magdeleine\"], [28.0, \"Magdeleine\"], [28.0, \"Magdeleine\"], [28.0, \"Magdeleine\"], [28.0, \"Magdeleine\"], [30.0, \"Magdeleine\"], [30.0, \"Magdeleine\"], [30.0, \"Magdeleine\"], [30.0, \"Magdeleine\"], [30.0, \"Magdeleine\"], [30.0, \"Magdeleine\"], [30.0, \"Magdeleine\"], [30.0, \"Magdeleine\"], [30.0, \"Magdeleine\"], [30.0, \"Magdeleine\"], [30.0, \"Magdeleine\"], [30.0, \"Magdeleine\"], [30.0, \"Magdeleine\"], [30.0, \"Magdeleine\"], [30.0, \"Magdeleine\"], [30.0, \"Magdeleine\"], [30.0, \"Magdeleine\"], [30.0, \"Magdeleine\"], [30.0, \"Magdeleine\"], [30.0, \"Magdeleine\"], [30.0, \"Magdeleine\"], [30.0, \"Magdeleine\"], [30.0, \"Magdeleine\"], [30.0, \"Magdeleine\"], [30.0, \"Magdeleine\"], [30.0, \"Magdeleine\"], [32.0, \"Magdeleine\"], [32.0, \"Magdeleine\"], [32.0, \"Magdeleine\"], [32.0, \"Magdeleine\"], [32.0, \"Magdeleine\"], [32.0, \"Magdeleine\"], [32.0, \"Magdeleine\"], [32.0, \"Magdeleine\"], [32.0, \"Magdeleine\"], [32.0, \"Magdeleine\"], [32.0, \"Magdeleine\"], [32.0, \"Magdeleine\"], [32.0, \"Magdeleine\"], [32.0, \"Magdeleine\"], [32.0, \"Magdeleine\"], [32.0, \"Magdeleine\"], [33.0, \"Magdeleine\"], [33.0, \"Magdeleine\"], [33.0, \"Magdeleine\"], [33.0, \"Magdeleine\"], [33.0, \"Magdeleine\"], [33.0, \"Magdeleine\"], [33.0, \"Magdeleine\"], [33.0, \"Magdeleine\"], [33.0, \"Magdeleine\"], [33.0, \"Magdeleine\"], [33.0, \"Magdeleine\"], [33.0, \"Magdeleine\"], [33.0, \"Magdeleine\"], [33.0, \"Magdeleine\"], [33.0, \"Magdeleine\"], [33.0, \"Magdeleine\"], [33.0, \"Magdeleine\"], [33.0, \"Magdeleine\"], [33.0, \"Magdeleine\"], [33.0, \"Magdeleine\"], [33.0, \"Magdeleine\"], [33.0, \"Magdeleine\"], [33.0, \"Magdeleine\"], [33.0, \"Magdeleine\"], [33.0, \"Magdeleine\"], [33.0, \"Magdeleine\"], [33.0, \"Magdeleine\"], [33.0, \"Magdeleine\"], [33.0, \"Magdeleine\"], [33.0, \"Magdeleine\"], [33.0, \"Magdeleine\"], [33.0, \"Magdeleine\"], [33.0, \"Magdeleine\"], [33.0, \"Magdeleine\"], [33.0, \"Magdeleine\"], [33.0, \"Magdeleine\"], [33.0, \"Magdeleine\"], [33.0, \"Magdeleine\"], [33.0, \"Magdeleine\"], [33.0, \"Magdeleine\"], [33.0, \"Magdeleine\"], [33.0, \"Magdeleine\"], [33.0, \"Magdeleine\"], [33.0, \"Magdeleine\"], [33.0, \"Magdeleine\"], [33.0, \"Magdeleine\"], [33.0, \"Magdeleine\"], [33.0, \"Magdeleine\"], [33.0, \"Magdeleine\"], [33.0, \"Magdeleine\"], [33.0, \"Magdeleine\"], [33.0, \"Magdeleine\"], [33.0, \"Magdeleine\"], [33.0, \"Magdeleine\"], [33.0, \"Magdeleine\"], [33.0, \"Magdeleine\"], [33.0, \"Magdeleine\"], [33.0, \"Magdeleine\"], [33.0, \"Magdeleine\"], [33.0, \"Magdeleine\"], [33.0, \"Magdeleine\"], [33.0, \"Magdeleine\"], [33.0, \"Magdeleine\"], [33.0, \"Magdeleine\"], [33.0, \"Magdeleine\"], [33.0, \"Magdeleine\"], [33.0, \"Magdeleine\"], [33.0, \"Magdeleine\"], [33.0, \"Magdeleine\"], [33.0, \"Magdeleine\"], [33.0, \"Magdeleine\"], [33.0, \"Magdeleine\"], [33.0, \"Magdeleine\"], [33.0, \"Magdeleine\"], [33.0, \"Magdeleine\"], [33.0, \"Magdeleine\"], [33.0, \"Magdeleine\"], [33.0, \"Magdeleine\"], [35.0, \"Magdeleine\"], [35.0, \"Magdeleine\"], [35.0, \"Magdeleine\"], [35.0, \"Magdeleine\"], [35.0, \"Magdeleine\"], [35.0, \"Magdeleine\"], [35.0, \"Magdeleine\"], [35.0, \"Magdeleine\"], [35.0, \"Magdeleine\"], [35.0, \"Magdeleine\"], [35.0, \"Magdeleine\"], [35.0, \"Magdeleine\"], [35.0, \"Magdeleine\"], [35.0, \"Magdeleine\"], [35.0, \"Magdeleine\"], [35.0, \"Magdeleine\"], [35.0, \"Magdeleine\"], [35.0, \"Magdeleine\"], [35.0, \"Magdeleine\"], [35.0, \"Magdeleine\"], [35.0, \"Magdeleine\"], [35.0, \"Magdeleine\"], [35.0, \"Magdeleine\"], [35.0, \"Magdeleine\"], [35.0, \"Magdeleine\"], [35.0, \"Magdeleine\"], [35.0, \"Magdeleine\"], [35.0, \"Magdeleine\"], [35.0, \"Magdeleine\"], [35.0, \"Magdeleine\"], [35.0, \"Magdeleine\"]], \"hoverlabel\": {\"namelength\": 0}, \"hovertemplate\": \"domain_name=%{customdata[1]}<br>sprout=%{x}<br>mildew_leaves=%{y}<br>stage=%{customdata[0]}\", \"legendgroup\": \"domain_name=Magdeleine\", \"marker\": {\"color\": \"#EF553B\", \"symbol\": \"circle\"}, \"mode\": \"markers\", \"name\": \"domain_name=Magdeleine\", \"showlegend\": true, \"type\": \"scattergl\", \"x\": [21.0, 21.0, 21.0, 21.0, 21.0, 21.0, 21.0, 21.0, 17.0, 17.0, 17.0, 17.0, 17.0, 17.0, 17.0, 17.0, 23.0, 23.0, 23.0, 23.0, 23.0, 23.0, 23.0, 23.0, 23.0, 23.0, 23.0, 23.0, 23.0, 23.0, 23.0, 23.0, 23.0, 10.0, 10.0, 10.0, 10.0, 10.0, 10.0, 10.0, 10.0, 10.0, 10.0, 10.0, 10.0, 10.0, 10.0, 10.0, 10.0, 10.0, 1.0, 1.0, 1.0, 1.0, 1.0, 1.0, 1.0, 1.0, 1.0, 1.0, 1.0, 1.0, 1.0, 1.0, 1.0, 1.0, 2.0, 2.0, 2.0, 2.0, 2.0, 2.0, 2.0, 2.0, 2.0, 2.0, 2.0, 2.0, 2.0, 2.0, 2.0, 2.0, 2.0, 2.0, 0.0, 0.0, 0.0, 0.0, 0.0, 0.0, 0.0, 0.0, 0.0, 0.0, 0.0, 0.0, 0.0, 0.0, 0.0, 0.0, 0.0, 0.0, 1.0, 1.0, 1.0, 1.0, 1.0, 1.0, 1.0, 1.0, 1.0, 1.0, 1.0, 1.0, 1.0, 1.0, 1.0, 1.0, 1.0, 1.0, 1.0, 1.0, 14.0, 14.0, 14.0, 14.0, 14.0, 14.0, 14.0, 14.0, 14.0, 14.0, 14.0, 14.0, 14.0, 14.0, 14.0, 14.0, 14.0, 14.0, 14.0, 14.0, 10.0, 10.0, 10.0, 10.0, 10.0, 10.0, 10.0, 10.0, 10.0, 10.0, 10.0, 10.0, 10.0, 10.0, 10.0, 10.0, 10.0, 10.0, 10.0, 10.0, 38.0, 38.0, 38.0, 38.0, 38.0, 38.0, 38.0, 38.0, 38.0, 38.0, 38.0, 38.0, 38.0, 38.0, 38.0, 38.0, 38.0, 38.0, 38.0, 38.0, 38.0, 38.0, 38.0, 38.0, 38.0, 38.0, 38.0, 38.0, 38.0, 28.0, 28.0, 28.0, 28.0, 28.0, 28.0, 28.0, 28.0, 28.0, 33.0, 33.0, 33.0, 33.0, 33.0, 33.0, 33.0, 33.0, 33.0, 0.0, 0.0, 0.0, 0.0, 0.0, 0.0, 0.0, 0.0, 0.0, 0.0, 0.0, 0.0, 0.0, 0.0, 0.0, 0.0, 0.0, 0.0, 0.0, 0.0, 0.0, 0.0, 0.0, 0.0, 0.0, 0.0, 0.0, 0.0, 0.0, 0.0, 0.0, 0.0, 0.0, 0.0, 0.0, 0.0, null, null, null, null, null, null, null, null, null, null, null, null, null, null, null, null, null, null, null, null, null, null, null, null, null, null, null, null, null, null, null, null, null, null, null, null, 0.0, 0.0, 0.0, 0.0, 0.0, 0.0, 0.0, 0.0, 0.0, 0.0, 0.0, 0.0, 0.0, 0.0, 0.0, 0.0, 0.0, 0.0, 0.0, 0.0, 0.0, 0.0, 0.0, 0.0, 0.0, 0.0, 0.0, 3.6, 3.6, 3.6, 3.6, 3.6, 3.6, 3.6, 3.6, 3.6, 3.6, 3.6, 3.6, 3.6, 3.6, 3.6, 3.6, 3.6, 3.6, 3.6, 3.6, 3.6, 4.6, 4.6, 4.6, 4.6, 4.6, 4.6, 4.6, 4.6, 4.6, 4.6, 4.6, 4.6, 4.6, 4.6, 4.6, 4.6, 4.6, 4.6, 4.6, 4.6, 4.6, 4.6, 4.6, 4.6, 4.6, 4.6, 3.0, 3.0, 3.0, 3.0, 3.0, 3.0, 3.0, 3.0, 3.0, 3.0, 3.0, 3.0, 3.0, 3.0, 3.0, 3.0, 3.0, 3.0, 3.0, 3.0, 3.0, 3.0, 3.0, 3.0, 3.0, 3.0, 3.0, 3.0, 3.0, 3.0, 3.0, 3.0, 3.0, 3.0, 3.0, 3.0, 3.0, 2.0, 2.0, 2.0, 2.0, 2.0, 2.0, 2.0, 2.0, 2.0, 2.0, 2.0, 2.0, 2.0, 2.0, 2.0, 2.0, 2.0, 2.0, 2.0, 2.0, 2.0, 2.0, 2.0, 2.0, 2.0, 2.0, 2.0, 2.0, 2.0, 2.0, 2.0, 2.0, 2.0, 2.0, 2.0, 2.0, 2.0, 2.0, 2.0, 2.0, 2.0, 2.0, 2.0, 2.0, 2.0, 2.0, 2.0, 2.0, 2.0, 2.0, 2.0, 2.0, 2.0, 2.0, 2.0, 2.0, 2.0, 2.0, 2.0, 2.0, 2.0, 2.0, 2.0, null, null, null, null, null, null, null, null, null, null, null, null, null, null, null, null, null, null, null, null, null, null, null, null, null, null, null, null, null, null, null, null, null, null, null, 1.1, 1.1, 1.1, 1.1, 1.1, 1.1, 1.1, 1.1, 1.1, 1.8, 1.8, 1.8, 1.8, 1.8, 1.8, 1.8, 1.8, 1.8, 2.4, 2.4, 2.4, 2.4, 2.4, 2.4, 2.4, 2.4, 2.4, 2.4, 2.4, 2.4, 2.4, 2.4, 2.4, 2.4, 2.4, 2.4, 2.4, 2.4, 2.4, 2.4, 2.4, 2.4, 2.4, 2.4, 2.4, 2.4, 2.4, 2.4, 2.4, 4.7, 4.7, 4.7, 4.7, 4.7, 4.7, 4.7, 4.7, 4.7, 0.36, 0.36, 0.36, 0.36, 0.36, 0.36, 0.36, 0.36, 0.36, 0.36, 0.36, 0.36, 0.36, 0.36, 0.36, 0.36, 0.36, 0.36, 0.36, 0.36, 0.36, 0.36, 5.3, 5.3, 5.3, 5.3, 5.3, 5.3, 5.3, 5.3, 5.3, 5.3, 5.3, 5.3, 4.0, 4.0, 4.0, 4.0, 4.0, 4.0, 4.0, 4.0, 4.0, 4.0, 4.0, 4.0, 1.0, 1.0, 1.0, 1.0, 1.0, 1.0, 1.0, 1.0, 1.0, null, null, null, null, null, null, null, null, null, 1.0, 1.0, 1.0, 1.0, 1.0, 1.0, 1.0, 1.0, 1.0, 1.0, 1.0, 1.0, 1.0, 1.0, 1.0, 1.0, 1.0, 1.0, 1.0, 1.0, 1.0, 1.0, 1.0, 1.0, 1.0, null, null, null, null, null, null, null, null, null, null, null, null, null, null, null, null, null, null, null, null, null, null, null, null, null, null, null, null, null, null, null, null, null, null, null, null, null, null, null, null, 24.0, 24.0, 24.0, 24.0, 24.0, 24.0, 24.0, 24.0, 24.0, 24.0, 24.0, 24.0, 24.0, 24.0, 24.0, 24.0, 24.0, 24.0, 24.0, 24.0, 24.0, 24.0, 24.0, 24.0, 24.0, 24.0, 19.0, 19.0, 19.0, 19.0, 19.0, 19.0, 19.0, 19.0, 19.0, 19.0, 19.0, 19.0, 19.0, 19.0, 19.0, 19.0, 19.0, 19.0, 19.0, 19.0, 19.0, 19.0, 19.0, 19.0, 19.0, 19.0, 2.8, 2.8, 2.8, 2.8, 2.8, 2.8, 2.8, 2.8, 2.8, 2.8, 2.8, 2.8, 2.8, 2.8, 2.8, 2.8, 2.8, 2.8, 2.8, 2.8, 2.8, 2.8, 2.8, 2.8, 2.8, 2.8, 2.6, 2.6, 2.6, 2.6, 2.6, 2.6, 2.6, 2.6, 2.6, 2.6, 2.6, 2.6, 2.6, 2.6, 2.6, 2.6, 1.0, 1.0, 1.0, 1.0, 1.0, 1.0, 1.0, 1.0, 1.0, 1.0, 1.0, 1.0, 1.0, 1.0, 1.0, 1.0, 1.0, 1.0, 1.0, 1.0, 1.0, 1.0, 1.0, 1.0, 1.0, 1.0, 1.0, 1.0, 1.0, 1.0, 1.0, 1.0, 1.0, 1.0, 1.0, 1.0, 1.0, 1.0, 1.0, 1.0, 1.0, 1.0, 1.0, 1.0, 1.0, 1.0, 1.0, 1.0, 1.0, 1.0, 1.0, 1.0, 1.0, 1.0, 1.0, 1.0, 1.0, 1.0, 1.0, 1.0, 1.0, 1.0, 1.0, 1.0, 1.0, 1.0, 1.0, 1.0, 1.0, 1.0, 1.0, 1.0, 1.0, 1.0, 1.0, 1.0, 1.0, 1.0, null, null, null, null, null, null, null, null, null, null, null, null, null, null, null, null, null, null, null, null, null, null, null, null, null, null, null, null, null, null, null], \"xaxis\": \"x\", \"y\": [2.0, 1.0, 1.0, 1.0, 1.0, 1.0, 0.0, 2.0, 2.0, 2.0, 2.0, 2.0, 2.0, 2.0, 2.0, 2.0, null, 3.0, 2.0, 2.0, 2.0, 2.0, 2.0, 2.0, 2.0, 2.0, null, 3.0, null, null, null, null, null, 2.0, 2.0, 2.0, 2.0, 2.0, 2.0, 2.0, 2.0, null, 3.0, null, null, null, null, null, null, 3.0, 2.0, 2.0, 2.0, 2.0, 2.0, 2.0, 2.0, 2.0, 0.0, 0.0, 0.0, 0.0, 0.0, 0.0, 0.0, 0.0, 0.0, 0.0, 0.0, 0.0, 0.0, 0.0, 0.0, 0.0, 0.0, 0.0, 0.0, 0.0, 0.0, 0.0, 0.0, 0.0, 0.0, 0.0, 0.0, 0.0, 0.0, 0.0, 0.0, 0.0, 0.0, 0.0, 0.0, 1.0, 1.0, 3.0, 3.0, 3.0, 0.0, 3.0, 3.0, 3.0, 0.0, 0.0, 0.0, 0.0, 0.0, 0.0, 0.0, 0.0, 0.0, 0.0, 0.0, 0.0, 0.0, 0.0, 0.0, 0.0, 0.0, 0.0, 0.0, 0.0, 1.0, 2.0, 2.0, 2.0, 1.0, 2.0, 2.0, 2.0, 2.0, 2.0, 2.0, 2.0, 1.0, 0.0, 1.0, 1.0, 0.0, 1.0, 0.0, 1.0, 2.0, 2.0, 2.0, 2.0, 2.0, 2.0, 2.0, 2.0, 2.0, 2.0, 1.0, 1.0, 1.0, 0.0, 1.0, 0.0, 1.0, 1.0, 3.0, 2.0, 1.0, 1.0, 1.0, 1.0, 2.0, 1.0, 1.0, 1.0, 0.0, 1.0, null, 1.0, 1.0, 3.0, 2.0, 1.0, 1.0, 1.0, 1.0, 1.0, 1.0, 1.0, 1.0, 1.0, 1.0, 1.0, 1.0, 1.0, 1.0, 1.0, 1.0, 1.0, 1.0, 1.0, 1.0, 1.0, null, 1.0, 1.0, 1.0, 1.0, 1.0, 1.0, 1.0, 1.0, 1.0, 1.0, 1.0, 1.0, 1.0, 1.0, 1.0, 1.0, 1.0, 1.0, 1.0, 1.0, 1.0, 1.0, 1.0, 1.0, 1.0, 1.0, 1.0, 1.0, 1.0, 1.0, 1.0, 1.0, 1.0, 1.0, 1.0, 1.0, 1.0, null, null, null, null, null, null, null, null, null, null, null, null, null, null, null, null, null, null, 1.0, 1.0, 1.0, 1.0, 1.0, 1.0, 1.0, 1.0, 1.0, 1.0, 1.0, 1.0, 1.0, 1.0, 1.0, 1.0, 1.0, 1.0, 1.0, 1.0, 1.0, 1.0, 1.0, 1.0, 1.0, 1.0, 1.0, null, null, null, null, null, null, null, null, null, 0.0, 0.0, 0.0, 0.0, 0.0, 0.0, 0.0, 0.0, 0.0, 0.0, 0.0, 0.0, 0.0, 0.0, 0.0, 0.0, 0.0, 0.0, 0.0, 0.0, 0.0, 0.0, 0.0, 0.0, 0.0, 0.0, 0.0, null, 0.0, 0.0, 0.0, 0.0, 0.0, 0.0, 0.0, 0.0, 0.0, 0.0, 0.0, 1.0, 0.0, 1.0, 1.0, 0.0, 1.0, 1.0, 1.0, 1.0, null, null, 1.0, 1.0, 1.0, null, null, null, null, null, null, 0.0, null, null, 1.0, 1.0, 0.0, 3.0, 0.0, 1.0, 1.0, 0.0, 1.0, 2.0, 1.0, 0.0, 0.0, 3.0, 1.0, 3.0, 0.0, 2.0, 1.0, 1.0, 1.0, 1.0, 1.0, 1.0, null, null, 1.0, 1.0, 1.0, null, null, null, null, null, null, 0.0, null, null, 0.0, 2.0, null, 1.0, 1.0, 1.0, null, null, null, 1.0, null, 1.0, null, 0.0, null, 1.0, 0.0, 0.0, null, 1.0, null, 1.0, 0.0, 1.0, 1.0, 1.0, 1.0, null, 1.0, 1.0, 2.0, 2.0, 3.0, 2.0, 2.0, 2.0, 2.0, 2.0, 1.0, 2.0, 1.0, 2.0, 3.0, 2.0, 3.0, 3.0, 2.0, 1.0, 3.0, 1.0, 2.0, 0.0, 3.0, 1.0, 3.0, 1.0, 1.0, 1.0, null, 1.0, 1.0, 1.0, null, null, 1.0, 1.0, 1.0, 1.0, 1.0, 1.0, 1.0, 1.0, 1.0, 1.0, 1.0, 1.0, 0.0, 1.0, 1.0, 1.0, 1.0, null, 1.0, 1.0, 1.0, null, null, 1.0, 1.0, 1.0, 2.0, 2.0, 2.0, 2.0, 2.0, 2.0, 2.0, 1.0, 2.0, 1.0, 0.0, 0.0, 0.0, 0.0, 0.0, 0.0, 0.0, 0.0, 0.0, 0.0, 0.0, 0.0, 0.0, 0.0, 0.0, 0.0, 0.0, 0.0, 0.0, 0.0, 0.0, 1.0, 0.0, null, 0.0, 1.0, 0.0, null, 0.0, null, 0.0, null, 0.0, null, 0.0, null, 0.0, null, 0.0, 3.0, 0.0, 3.0, 0.0, 0.0, 0.0, 0.0, 0.0, 0.0, 0.0, 0.0, 0.0, 0.0, 0.0, 0.0, 0.0, 0.0, 0.0, 0.0, 0.0, 0.0, 2.0, 2.0, 1.0, 1.0, 1.0, 1.0, 1.0, 2.0, 2.0, 1.0, 1.0, 1.0, 1.0, null, 0.0, null, 0.0, 0.0, 0.0, 0.0, 2.0, 1.0, 1.0, 1.0, 1.0, 2.0, 1.0, 1.0, 1.0, 1.0, 1.0, 1.0, 2.0, 1.0, 1.0, 1.0, 1.0, 1.0, 1.0, 2.0, 1.0, 1.0, 1.0, 1.0, 0.0, 0.0, 0.0, 0.0, 0.0, 0.0, 0.0, 0.0, 0.0, 0.0, 0.0, 0.0, 0.0, 0.0, 0.0, 0.0, 0.0, 0.0, 0.0, 0.0, 0.0, 0.0, 0.0, 0.0, 0.0, 0.0, 0.0, 0.0, 0.0, 0.0, 2.0, 0.0, 0.0, 2.0, 0.0, 0.0, 0.0, 0.0, 0.0, 0.0, 0.0, 0.0, 0.0, 0.0, 0.0, null, 0.0, 0.0, 0.0, 0.0, 0.0, 0.0, 0.0, 0.0, 0.0, 0.0, 0.0, 0.0, 0.0, 0.0, 2.0, null, 0.0, 0.0, 2.0, 0.0, 3.0, 0.0, null, 0.0, 0.0, 0.0, 0.0, 0.0, 0.0, 0.0, 0.0, 0.0, 2.0, 2.0, 1.0, 2.0, 2.0, 3.0, null, 0.0, 0.0, 1.0, 0.0, 0.0, 0.0, 0.0, 0.0, 0.0, 0.0, 0.0, 1.0, 0.0, 1.0, 0.0, 0.0, 2.0, 2.0, 2.0, 2.0, 2.0, 2.0, 2.0, 2.0, 1.0, 0.0, 1.0, 0.0, 2.0, 0.0, 2.0, 1.0, 3.0, 1.0, null, 1.0, 0.0, 1.0, 1.0, 1.0, 1.0, 1.0, 1.0, 1.0, 2.0, 2.0, 2.0, 2.0, 2.0, 2.0, 1.0, 1.0, 1.0, 1.0, 1.0, 1.0, 1.0, 1.0, 0.0, 1.0, 1.0, 1.0, 1.0, 1.0, 1.0, 1.0, 2.0, 2.0, 2.0, 2.0, 2.0, 2.0, 2.0, 2.0, 3.0, null, 1.0, 1.0, 1.0, 1.0, 1.0, 1.0, 1.0, 1.0, 1.0, 1.0, 0.0, 1.0, 1.0, 1.0, 1.0, 1.0, 1.0, 2.0, 1.0, 1.0, 1.0, 1.0, 1.0, 1.0, 1.0, 1.0, 1.0, 1.0, 1.0, 1.0, 1.0, 1.0, 1.0, 1.0, 1.0, 1.0, 1.0, 1.0, 1.0, 1.0, 2.0, 1.0, 1.0, 1.0, 2.0, 2.0, 1.0, 1.0, 1.0, 1.0, 1.0, 1.0, 1.0, 1.0, 1.0, 1.0, 1.0, 1.0, 1.0, 1.0, 1.0, 1.0, 1.0, 1.0, 2.0, 1.0, 1.0, 1.0, 2.0, 2.0, 1.0, 1.0, 2.0, 1.0, 1.0, 1.0, 1.0, 1.0, 1.0, 1.0, 1.0, 1.0, 1.0, 1.0, 1.0, 1.0, 1.0, 1.0, 1.0, 1.0, 1.0, 1.0, 1.0, 1.0, 1.0, 1.0, null, null, 1.0, null, 2.0, null, 1.0, null, 1.0, 1.0, 1.0, 1.0, 1.0, 1.0, 1.0, 1.0, 1.0, 1.0, 1.0, 1.0, 1.0, 2.0, 1.0, 1.0, 1.0, 2.0, 2.0, 1.0, 1.0], \"yaxis\": \"y\"}],\n",
              "                        {\"legend\": {\"tracegroupgap\": 0}, \"margin\": {\"t\": 60}, \"template\": {\"data\": {\"bar\": [{\"error_x\": {\"color\": \"#2a3f5f\"}, \"error_y\": {\"color\": \"#2a3f5f\"}, \"marker\": {\"line\": {\"color\": \"#E5ECF6\", \"width\": 0.5}}, \"type\": \"bar\"}], \"barpolar\": [{\"marker\": {\"line\": {\"color\": \"#E5ECF6\", \"width\": 0.5}}, \"type\": \"barpolar\"}], \"carpet\": [{\"aaxis\": {\"endlinecolor\": \"#2a3f5f\", \"gridcolor\": \"white\", \"linecolor\": \"white\", \"minorgridcolor\": \"white\", \"startlinecolor\": \"#2a3f5f\"}, \"baxis\": {\"endlinecolor\": \"#2a3f5f\", \"gridcolor\": \"white\", \"linecolor\": \"white\", \"minorgridcolor\": \"white\", \"startlinecolor\": \"#2a3f5f\"}, \"type\": \"carpet\"}], \"choropleth\": [{\"colorbar\": {\"outlinewidth\": 0, \"ticks\": \"\"}, \"type\": \"choropleth\"}], \"contour\": [{\"colorbar\": {\"outlinewidth\": 0, \"ticks\": \"\"}, \"colorscale\": [[0.0, \"#0d0887\"], [0.1111111111111111, \"#46039f\"], [0.2222222222222222, \"#7201a8\"], [0.3333333333333333, \"#9c179e\"], [0.4444444444444444, \"#bd3786\"], [0.5555555555555556, \"#d8576b\"], [0.6666666666666666, \"#ed7953\"], [0.7777777777777778, \"#fb9f3a\"], [0.8888888888888888, \"#fdca26\"], [1.0, \"#f0f921\"]], \"type\": \"contour\"}], \"contourcarpet\": [{\"colorbar\": {\"outlinewidth\": 0, \"ticks\": \"\"}, \"type\": \"contourcarpet\"}], \"heatmap\": [{\"colorbar\": {\"outlinewidth\": 0, \"ticks\": \"\"}, \"colorscale\": [[0.0, \"#0d0887\"], [0.1111111111111111, \"#46039f\"], [0.2222222222222222, \"#7201a8\"], [0.3333333333333333, \"#9c179e\"], [0.4444444444444444, \"#bd3786\"], [0.5555555555555556, \"#d8576b\"], [0.6666666666666666, \"#ed7953\"], [0.7777777777777778, \"#fb9f3a\"], [0.8888888888888888, \"#fdca26\"], [1.0, \"#f0f921\"]], \"type\": \"heatmap\"}], \"heatmapgl\": [{\"colorbar\": {\"outlinewidth\": 0, \"ticks\": \"\"}, \"colorscale\": [[0.0, \"#0d0887\"], [0.1111111111111111, \"#46039f\"], [0.2222222222222222, \"#7201a8\"], [0.3333333333333333, \"#9c179e\"], [0.4444444444444444, \"#bd3786\"], [0.5555555555555556, \"#d8576b\"], [0.6666666666666666, \"#ed7953\"], [0.7777777777777778, \"#fb9f3a\"], [0.8888888888888888, \"#fdca26\"], [1.0, \"#f0f921\"]], \"type\": \"heatmapgl\"}], \"histogram\": [{\"marker\": {\"colorbar\": {\"outlinewidth\": 0, \"ticks\": \"\"}}, \"type\": \"histogram\"}], \"histogram2d\": [{\"colorbar\": {\"outlinewidth\": 0, \"ticks\": \"\"}, \"colorscale\": [[0.0, \"#0d0887\"], [0.1111111111111111, \"#46039f\"], [0.2222222222222222, \"#7201a8\"], [0.3333333333333333, \"#9c179e\"], [0.4444444444444444, \"#bd3786\"], [0.5555555555555556, \"#d8576b\"], [0.6666666666666666, \"#ed7953\"], [0.7777777777777778, \"#fb9f3a\"], [0.8888888888888888, \"#fdca26\"], [1.0, \"#f0f921\"]], \"type\": \"histogram2d\"}], \"histogram2dcontour\": [{\"colorbar\": {\"outlinewidth\": 0, \"ticks\": \"\"}, \"colorscale\": [[0.0, \"#0d0887\"], [0.1111111111111111, \"#46039f\"], [0.2222222222222222, \"#7201a8\"], [0.3333333333333333, \"#9c179e\"], [0.4444444444444444, \"#bd3786\"], [0.5555555555555556, \"#d8576b\"], [0.6666666666666666, \"#ed7953\"], [0.7777777777777778, \"#fb9f3a\"], [0.8888888888888888, \"#fdca26\"], [1.0, \"#f0f921\"]], \"type\": \"histogram2dcontour\"}], \"mesh3d\": [{\"colorbar\": {\"outlinewidth\": 0, \"ticks\": \"\"}, \"type\": \"mesh3d\"}], \"parcoords\": [{\"line\": {\"colorbar\": {\"outlinewidth\": 0, \"ticks\": \"\"}}, \"type\": \"parcoords\"}], \"pie\": [{\"automargin\": true, \"type\": \"pie\"}], \"scatter\": [{\"marker\": {\"colorbar\": {\"outlinewidth\": 0, \"ticks\": \"\"}}, \"type\": \"scatter\"}], \"scatter3d\": [{\"line\": {\"colorbar\": {\"outlinewidth\": 0, \"ticks\": \"\"}}, \"marker\": {\"colorbar\": {\"outlinewidth\": 0, \"ticks\": \"\"}}, \"type\": \"scatter3d\"}], \"scattercarpet\": [{\"marker\": {\"colorbar\": {\"outlinewidth\": 0, \"ticks\": \"\"}}, \"type\": \"scattercarpet\"}], \"scattergeo\": [{\"marker\": {\"colorbar\": {\"outlinewidth\": 0, \"ticks\": \"\"}}, \"type\": \"scattergeo\"}], \"scattergl\": [{\"marker\": {\"colorbar\": {\"outlinewidth\": 0, \"ticks\": \"\"}}, \"type\": \"scattergl\"}], \"scattermapbox\": [{\"marker\": {\"colorbar\": {\"outlinewidth\": 0, \"ticks\": \"\"}}, \"type\": \"scattermapbox\"}], \"scatterpolar\": [{\"marker\": {\"colorbar\": {\"outlinewidth\": 0, \"ticks\": \"\"}}, \"type\": \"scatterpolar\"}], \"scatterpolargl\": [{\"marker\": {\"colorbar\": {\"outlinewidth\": 0, \"ticks\": \"\"}}, \"type\": \"scatterpolargl\"}], \"scatterternary\": [{\"marker\": {\"colorbar\": {\"outlinewidth\": 0, \"ticks\": \"\"}}, \"type\": \"scatterternary\"}], \"surface\": [{\"colorbar\": {\"outlinewidth\": 0, \"ticks\": \"\"}, \"colorscale\": [[0.0, \"#0d0887\"], [0.1111111111111111, \"#46039f\"], [0.2222222222222222, \"#7201a8\"], [0.3333333333333333, \"#9c179e\"], [0.4444444444444444, \"#bd3786\"], [0.5555555555555556, \"#d8576b\"], [0.6666666666666666, \"#ed7953\"], [0.7777777777777778, \"#fb9f3a\"], [0.8888888888888888, \"#fdca26\"], [1.0, \"#f0f921\"]], \"type\": \"surface\"}], \"table\": [{\"cells\": {\"fill\": {\"color\": \"#EBF0F8\"}, \"line\": {\"color\": \"white\"}}, \"header\": {\"fill\": {\"color\": \"#C8D4E3\"}, \"line\": {\"color\": \"white\"}}, \"type\": \"table\"}]}, \"layout\": {\"annotationdefaults\": {\"arrowcolor\": \"#2a3f5f\", \"arrowhead\": 0, \"arrowwidth\": 1}, \"coloraxis\": {\"colorbar\": {\"outlinewidth\": 0, \"ticks\": \"\"}}, \"colorscale\": {\"diverging\": [[0, \"#8e0152\"], [0.1, \"#c51b7d\"], [0.2, \"#de77ae\"], [0.3, \"#f1b6da\"], [0.4, \"#fde0ef\"], [0.5, \"#f7f7f7\"], [0.6, \"#e6f5d0\"], [0.7, \"#b8e186\"], [0.8, \"#7fbc41\"], [0.9, \"#4d9221\"], [1, \"#276419\"]], \"sequential\": [[0.0, \"#0d0887\"], [0.1111111111111111, \"#46039f\"], [0.2222222222222222, \"#7201a8\"], [0.3333333333333333, \"#9c179e\"], [0.4444444444444444, \"#bd3786\"], [0.5555555555555556, \"#d8576b\"], [0.6666666666666666, \"#ed7953\"], [0.7777777777777778, \"#fb9f3a\"], [0.8888888888888888, \"#fdca26\"], [1.0, \"#f0f921\"]], \"sequentialminus\": [[0.0, \"#0d0887\"], [0.1111111111111111, \"#46039f\"], [0.2222222222222222, \"#7201a8\"], [0.3333333333333333, \"#9c179e\"], [0.4444444444444444, \"#bd3786\"], [0.5555555555555556, \"#d8576b\"], [0.6666666666666666, \"#ed7953\"], [0.7777777777777778, \"#fb9f3a\"], [0.8888888888888888, \"#fdca26\"], [1.0, \"#f0f921\"]]}, \"colorway\": [\"#636efa\", \"#EF553B\", \"#00cc96\", \"#ab63fa\", \"#FFA15A\", \"#19d3f3\", \"#FF6692\", \"#B6E880\", \"#FF97FF\", \"#FECB52\"], \"font\": {\"color\": \"#2a3f5f\"}, \"geo\": {\"bgcolor\": \"white\", \"lakecolor\": \"white\", \"landcolor\": \"#E5ECF6\", \"showlakes\": true, \"showland\": true, \"subunitcolor\": \"white\"}, \"hoverlabel\": {\"align\": \"left\"}, \"hovermode\": \"closest\", \"mapbox\": {\"style\": \"light\"}, \"paper_bgcolor\": \"white\", \"plot_bgcolor\": \"#E5ECF6\", \"polar\": {\"angularaxis\": {\"gridcolor\": \"white\", \"linecolor\": \"white\", \"ticks\": \"\"}, \"bgcolor\": \"#E5ECF6\", \"radialaxis\": {\"gridcolor\": \"white\", \"linecolor\": \"white\", \"ticks\": \"\"}}, \"scene\": {\"xaxis\": {\"backgroundcolor\": \"#E5ECF6\", \"gridcolor\": \"white\", \"gridwidth\": 2, \"linecolor\": \"white\", \"showbackground\": true, \"ticks\": \"\", \"zerolinecolor\": \"white\"}, \"yaxis\": {\"backgroundcolor\": \"#E5ECF6\", \"gridcolor\": \"white\", \"gridwidth\": 2, \"linecolor\": \"white\", \"showbackground\": true, \"ticks\": \"\", \"zerolinecolor\": \"white\"}, \"zaxis\": {\"backgroundcolor\": \"#E5ECF6\", \"gridcolor\": \"white\", \"gridwidth\": 2, \"linecolor\": \"white\", \"showbackground\": true, \"ticks\": \"\", \"zerolinecolor\": \"white\"}}, \"shapedefaults\": {\"line\": {\"color\": \"#2a3f5f\"}}, \"ternary\": {\"aaxis\": {\"gridcolor\": \"white\", \"linecolor\": \"white\", \"ticks\": \"\"}, \"baxis\": {\"gridcolor\": \"white\", \"linecolor\": \"white\", \"ticks\": \"\"}, \"bgcolor\": \"#E5ECF6\", \"caxis\": {\"gridcolor\": \"white\", \"linecolor\": \"white\", \"ticks\": \"\"}}, \"title\": {\"x\": 0.05}, \"xaxis\": {\"automargin\": true, \"gridcolor\": \"white\", \"linecolor\": \"white\", \"ticks\": \"\", \"title\": {\"standoff\": 15}, \"zerolinecolor\": \"white\", \"zerolinewidth\": 2}, \"yaxis\": {\"automargin\": true, \"gridcolor\": \"white\", \"linecolor\": \"white\", \"ticks\": \"\", \"title\": {\"standoff\": 15}, \"zerolinecolor\": \"white\", \"zerolinewidth\": 2}}}, \"xaxis\": {\"anchor\": \"y\", \"domain\": [0.0, 1.0], \"title\": {\"text\": \"sprout\"}}, \"yaxis\": {\"anchor\": \"x\", \"domain\": [0.0, 1.0], \"title\": {\"text\": \"mildew_leaves\"}}},\n",
              "                        {\"responsive\": true}\n",
              "                    ).then(function(){\n",
              "                            \n",
              "var gd = document.getElementById('646dcca8-0adc-48a6-bd8e-a1cc71557098');\n",
              "var x = new MutationObserver(function (mutations, observer) {{\n",
              "        var display = window.getComputedStyle(gd).display;\n",
              "        if (!display || display === 'none') {{\n",
              "            console.log([gd, 'removed!']);\n",
              "            Plotly.purge(gd);\n",
              "            observer.disconnect();\n",
              "        }}\n",
              "}});\n",
              "\n",
              "// Listen for the removal of the full notebook cells\n",
              "var notebookContainer = gd.closest('#notebook-container');\n",
              "if (notebookContainer) {{\n",
              "    x.observe(notebookContainer, {childList: true});\n",
              "}}\n",
              "\n",
              "// Listen for the clearing of the current output cell\n",
              "var outputEl = gd.closest('.output');\n",
              "if (outputEl) {{\n",
              "    x.observe(outputEl, {childList: true});\n",
              "}}\n",
              "\n",
              "                        })\n",
              "                };\n",
              "                \n",
              "            </script>\n",
              "        </div>\n",
              "</body>\n",
              "</html>"
            ]
          },
          "metadata": {
            "tags": []
          }
        }
      ]
    },
    {
      "cell_type": "markdown",
      "metadata": {
        "id": "tS7djyZ_XW_U",
        "colab_type": "text"
      },
      "source": [
        "# Prediction mildew"
      ]
    },
    {
      "cell_type": "code",
      "metadata": {
        "id": "7ggvOJX8FfAw",
        "colab_type": "code",
        "colab": {}
      },
      "source": [
        "from sklearn.neighbors import KNeighborsRegressor, RadiusNeighborsRegressor\n",
        "from sklearn.metrics import mean_squared_error\n",
        "from sklearn.gaussian_process import GaussianProcessRegressor\n",
        "from sklearn.gaussian_process.kernels import RBF, ConstantKernel as C\n",
        "from sklearn.gaussian_process.kernels import DotProduct, WhiteKernel\n",
        "from sklearn.svm import SVR\n",
        "from sklearn import ensemble\n",
        "from sklearn.feature_selection import SelectKBest, chi2\n",
        "\n",
        "from sklearn.utils import shuffle\n",
        "import random\n",
        "from sklearn.model_selection import KFold"
      ],
      "execution_count": 0,
      "outputs": []
    },
    {
      "cell_type": "code",
      "metadata": {
        "id": "2DNnWCGBf0vr",
        "colab_type": "code",
        "colab": {}
      },
      "source": [
        "parcel_names = gandourie.parcel_name.unique()"
      ],
      "execution_count": 0,
      "outputs": []
    },
    {
      "cell_type": "code",
      "metadata": {
        "id": "WlwNpdrf5qJk",
        "colab_type": "code",
        "colab": {
          "base_uri": "https://localhost:8080/",
          "height": 34
        },
        "outputId": "be4a7d29-d419-4a9d-8aa9-161ad3bfdbb2"
      },
      "source": [
        "gandourie['domain_name'].unique()"
      ],
      "execution_count": 214,
      "outputs": [
        {
          "output_type": "execute_result",
          "data": {
            "text/plain": [
              "array(['Ligniere', 'Magdeleine'], dtype=object)"
            ]
          },
          "metadata": {
            "tags": []
          },
          "execution_count": 214
        }
      ]
    },
    {
      "cell_type": "code",
      "metadata": {
        "id": "Du5nl4EaCguo",
        "colab_type": "code",
        "colab": {}
      },
      "source": [
        "import datetime as dt\n",
        "np.random.seed(0)\n",
        "\n",
        "gandourie['date'] = pd.to_datetime(gandourie['date'])\n",
        "\n",
        "gandourie['annee'] = gandourie['date'].dt.year\n",
        "gandourie['mois'] = gandourie['date'].dt.month\n",
        "gandourie['jour'] = gandourie['date'].dt.day\n",
        "gandourie['index_year'] = [0 for i in range(len(gandourie))]\n"
      ],
      "execution_count": 0,
      "outputs": []
    },
    {
      "cell_type": "code",
      "metadata": {
        "id": "H_TRtExf5M_F",
        "colab_type": "code",
        "colab": {
          "base_uri": "https://localhost:8080/",
          "height": 34
        },
        "outputId": "d0770eda-5122-4d56-ad1b-9d1185870aa5"
      },
      "source": [
        "def get_history_data(data, domain, parcel, features_choosed, annee, length_history):\n",
        "    assert domain in ['Ligniere', 'Magdeleine', 'Galliene']\n",
        "    X_historic_temp = []\n",
        "    y_next_temp = []\n",
        "    X_all = data.loc[data['domain_name'] == domain].loc[data['parcel_name'] == parcel][features_choosed+['date', 'annee']].loc[data['annee'] == annee].sort_values('date')\n",
        "    if len(X_all) > length_history:\n",
        "        # print(domain, parcel, annee)\n",
        "        for feat in features_choosed:\n",
        "            X_all[feat] = X_all[feat].fillna(X_all[feat].mean())\n",
        "            \n",
        "        for h in range(length_history, len(X_all)-1):\n",
        "            X_historic_temp.append(X_all.iloc[h-length_history:h][features_choosed].to_numpy())\n",
        "            y_next_temp.append(X_all.iloc[h][\"mildew_leaves\"])\n",
        "\n",
        "    return X_historic_temp, y_next_temp\n",
        "\n",
        "get_history_data(gandourie, 'Ligniere', 'bois naudin', features_choosed, 2015, 3)[1]\n"
      ],
      "execution_count": 301,
      "outputs": [
        {
          "output_type": "execute_result",
          "data": {
            "text/plain": [
              "[0.0, 0.0, 0.0, 0.0, 0.0, 1.0, 1.0]"
            ]
          },
          "metadata": {
            "tags": []
          },
          "execution_count": 301
        }
      ]
    },
    {
      "cell_type": "code",
      "metadata": {
        "id": "P4PIyqExkCYi",
        "colab_type": "code",
        "colab": {}
      },
      "source": [
        "gandourie = shuffle(gandourie)\n",
        "\n",
        "features_choosed = all_fields + ['mildew_leaves', 'mildew_bunches', 'stage']\n",
        "X_historic = []\n",
        "y_next = []\n",
        "length_hist = 5\n",
        "\n",
        "for dom in ['Ligniere' , 'Magdeleine', 'Galliene']: #['Ligniere', 'Magdeleine']\n",
        "    for annee in range(2012,2020):\n",
        "        for parcel in parcel_names:\n",
        "            X, y = get_history_data(gandourie, dom, parcel, features_choosed, annee, length_hist)\n",
        "            X_historic = [*X_historic, *X]\n",
        "            y_next = [*y_next, *y]\n",
        "               "
      ],
      "execution_count": 0,
      "outputs": []
    },
    {
      "cell_type": "code",
      "metadata": {
        "id": "D1Nt34Wv5__r",
        "colab_type": "code",
        "colab": {
          "base_uri": "https://localhost:8080/",
          "height": 34
        },
        "outputId": "2617b658-87c5-4c3d-ad91-04b99df8b388"
      },
      "source": [
        "X_historic_array = np.array(X_historic).reshape(len(X_historic), -1)\n",
        "X_historic_array.shape\n",
        "y_next_array = np.array(y_next).reshape(len(y_next), 1)/3\n",
        "y_next_array\n",
        "\n",
        "\n",
        "col_mean = np.nanmean(X_historic_array, axis=0)\n",
        "inds = np.where(np.isnan(X_historic_array))\n",
        "\n",
        "X_historic_array[inds] = np.take(col_mean, inds[1])\n",
        "\n",
        "col_mean = np.nanmean(y_next_array, axis=0)\n",
        "inds = np.where(np.isnan(y_next_array))\n",
        "\n",
        "y_next_array[inds] = np.take(col_mean, inds[1])\n",
        "\n",
        "indices = np.arange(X_historic_array.shape[0])\n",
        "np.random.shuffle(indices)\n",
        "\n",
        "X_historic_array = X_historic_array[indices]\n",
        "y_next_array = y_next_array[indices]\n",
        "\n",
        "\n",
        "split = 0.8\n",
        "N = len(X_historic)\n",
        "\n",
        "X_train = X_historic_array[:int(N*split)]\n",
        "X_test = X_historic_array[int(N*split):]\n",
        "\n",
        "y_train = y_next_array[:int(N*split)]\n",
        "y_test = y_next_array[int(N*split):]\n",
        "\n",
        "X_valid, X_test = X_test[:int(len(X_test)*0.5)], X_test[int(len(X_test)*0.5):]\n",
        "y_valid, y_test = y_test[:int(len(y_test)*0.5)], y_test[int(len(y_test)*0.5):]\n",
        "\n",
        "X_historic_array.shape"
      ],
      "execution_count": 308,
      "outputs": [
        {
          "output_type": "execute_result",
          "data": {
            "text/plain": [
              "(1108, 40)"
            ]
          },
          "metadata": {
            "tags": []
          },
          "execution_count": 308
        }
      ]
    },
    {
      "cell_type": "code",
      "metadata": {
        "id": "uIhuYEADEm3q",
        "colab_type": "code",
        "colab": {}
      },
      "source": [
        "kf = KFold(n_splits=2)"
      ],
      "execution_count": 0,
      "outputs": []
    },
    {
      "cell_type": "code",
      "metadata": {
        "id": "QSBlwDlMGUyy",
        "colab_type": "code",
        "colab": {
          "base_uri": "https://localhost:8080/",
          "height": 1000
        },
        "outputId": "3ddeb911-33c6-430b-f917-0c611b11f132"
      },
      "source": [
        "params = {'n_estimators': 500, 'max_depth': 100, 'min_samples_split': 10,\n",
        "        'learning_rate': 0.01, 'loss': 'huber'}\n",
        "model = ensemble.GradientBoostingRegressor(**params)\n",
        "\n",
        "model.fit(X_train, y_train.reshape(-1).ravel())\n",
        "predictions_test = model.predict(X_test)\n",
        "mse = (((predictions_test.reshape(-1) - y_test.reshape(-1)) ** 2).sum()) / len(predictions_test)\n",
        "\n",
        "print(\"MSE : \", mse)\n",
        "\n",
        "fig = go.Figure()\n",
        "\n",
        "fig.add_trace(go.Scatter(y=np.around(y_test.reshape(-1)), name='True'))\n",
        "fig.add_trace(go.Scatter(y=np.around(predictions_test).reshape(-1), name='Predicted'))\n",
        "fig.show()\n",
        "\n",
        "fig2 = go.Figure()\n",
        "fig2.add_trace(go.Scatter(y=np.around(y_test.reshape(-1))-np.around(predictions_test).reshape(-1), name='True'))\n",
        "fig2.show()\n",
        "\n",
        "print(\"Accuracy : {}%\".format((1-np.count_nonzero(np.around(y_test.reshape(-1)*3)-np.around(predictions_test.reshape(-1)*3))/len(predictions_test))*100))"
      ],
      "execution_count": 310,
      "outputs": [
        {
          "output_type": "stream",
          "text": [
            "MSE :  0.017268697379941914\n"
          ],
          "name": "stdout"
        },
        {
          "output_type": "display_data",
          "data": {
            "text/html": [
              "<html>\n",
              "<head><meta charset=\"utf-8\" /></head>\n",
              "<body>\n",
              "    <div>\n",
              "            <script src=\"https://cdnjs.cloudflare.com/ajax/libs/mathjax/2.7.5/MathJax.js?config=TeX-AMS-MML_SVG\"></script><script type=\"text/javascript\">if (window.MathJax) {MathJax.Hub.Config({SVG: {font: \"STIX-Web\"}});}</script>\n",
              "                <script type=\"text/javascript\">window.PlotlyConfig = {MathJaxConfig: 'local'};</script>\n",
              "        <script src=\"https://cdn.plot.ly/plotly-latest.min.js\"></script>    \n",
              "            <div id=\"76064606-97b6-4fdc-baed-cf725b8a05e8\" class=\"plotly-graph-div\" style=\"height:525px; width:100%;\"></div>\n",
              "            <script type=\"text/javascript\">\n",
              "                \n",
              "                    window.PLOTLYENV=window.PLOTLYENV || {};\n",
              "                    \n",
              "                if (document.getElementById(\"76064606-97b6-4fdc-baed-cf725b8a05e8\")) {\n",
              "                    Plotly.newPlot(\n",
              "                        '76064606-97b6-4fdc-baed-cf725b8a05e8',\n",
              "                        [{\"name\": \"True\", \"type\": \"scatter\", \"y\": [0.0, 0.0, 0.0, 0.0, 1.0, 0.0, 1.0, 0.0, 0.0, 0.0, 1.0, 0.0, 1.0, 0.0, 0.0, 0.0, 1.0, 1.0, 0.0, 0.0, 0.0, 0.0, 0.0, 0.0, 0.0, 0.0, 1.0, 0.0, 0.0, 0.0, 1.0, 1.0, 0.0, 0.0, 1.0, 1.0, 0.0, 0.0, 0.0, 0.0, 0.0, 0.0, 0.0, 0.0, 0.0, 0.0, 1.0, 0.0, 0.0, 0.0, 0.0, 0.0, 0.0, 0.0, 0.0, 0.0, 0.0, 0.0, 1.0, 0.0, 0.0, 1.0, 1.0, 1.0, 1.0, 0.0, 0.0, 0.0, 0.0, 0.0, 0.0, 0.0, 0.0, 1.0, 1.0, 0.0, 0.0, 0.0, 1.0, 0.0, 0.0, 1.0, 1.0, 1.0, 0.0, 1.0, 0.0, 0.0, 1.0, 0.0, 0.0, 1.0, 0.0, 0.0, 0.0, 0.0, 0.0, 0.0, 0.0, 0.0, 0.0, 0.0, 0.0, 0.0, 0.0, 0.0, 0.0, 0.0, 0.0, 0.0, 0.0]}, {\"name\": \"Predicted\", \"type\": \"scatter\", \"y\": [0.0, 0.0, 0.0, 0.0, 1.0, 0.0, 1.0, 0.0, 0.0, 0.0, 0.0, 0.0, 1.0, 0.0, 0.0, 1.0, 1.0, 1.0, 0.0, 0.0, 0.0, 0.0, 0.0, 0.0, 0.0, 0.0, 1.0, 0.0, 0.0, 0.0, 1.0, 1.0, 0.0, 0.0, 1.0, 1.0, 0.0, 0.0, 0.0, 0.0, 0.0, 0.0, 0.0, 0.0, 0.0, 0.0, 1.0, 0.0, 0.0, 0.0, 0.0, 0.0, 0.0, 0.0, 0.0, 0.0, 0.0, 0.0, 1.0, 0.0, 0.0, 1.0, 1.0, 1.0, 1.0, 0.0, 0.0, 0.0, 0.0, 0.0, 0.0, 0.0, 0.0, 1.0, 1.0, 0.0, 0.0, 0.0, 1.0, 0.0, 0.0, 1.0, 1.0, 1.0, 0.0, 1.0, 0.0, 0.0, 1.0, 0.0, 0.0, 1.0, 0.0, 0.0, 0.0, 0.0, 0.0, 0.0, 0.0, 0.0, 0.0, 0.0, 1.0, 1.0, 0.0, 0.0, 0.0, 0.0, 0.0, 0.0, 0.0]}],\n",
              "                        {\"template\": {\"data\": {\"bar\": [{\"error_x\": {\"color\": \"#2a3f5f\"}, \"error_y\": {\"color\": \"#2a3f5f\"}, \"marker\": {\"line\": {\"color\": \"#E5ECF6\", \"width\": 0.5}}, \"type\": \"bar\"}], \"barpolar\": [{\"marker\": {\"line\": {\"color\": \"#E5ECF6\", \"width\": 0.5}}, \"type\": \"barpolar\"}], \"carpet\": [{\"aaxis\": {\"endlinecolor\": \"#2a3f5f\", \"gridcolor\": \"white\", \"linecolor\": \"white\", \"minorgridcolor\": \"white\", \"startlinecolor\": \"#2a3f5f\"}, \"baxis\": {\"endlinecolor\": \"#2a3f5f\", \"gridcolor\": \"white\", \"linecolor\": \"white\", \"minorgridcolor\": \"white\", \"startlinecolor\": \"#2a3f5f\"}, \"type\": \"carpet\"}], \"choropleth\": [{\"colorbar\": {\"outlinewidth\": 0, \"ticks\": \"\"}, \"type\": \"choropleth\"}], \"contour\": [{\"colorbar\": {\"outlinewidth\": 0, \"ticks\": \"\"}, \"colorscale\": [[0.0, \"#0d0887\"], [0.1111111111111111, \"#46039f\"], [0.2222222222222222, \"#7201a8\"], [0.3333333333333333, \"#9c179e\"], [0.4444444444444444, \"#bd3786\"], [0.5555555555555556, \"#d8576b\"], [0.6666666666666666, \"#ed7953\"], [0.7777777777777778, \"#fb9f3a\"], [0.8888888888888888, \"#fdca26\"], [1.0, \"#f0f921\"]], \"type\": \"contour\"}], \"contourcarpet\": [{\"colorbar\": {\"outlinewidth\": 0, \"ticks\": \"\"}, \"type\": \"contourcarpet\"}], \"heatmap\": [{\"colorbar\": {\"outlinewidth\": 0, \"ticks\": \"\"}, \"colorscale\": [[0.0, \"#0d0887\"], [0.1111111111111111, \"#46039f\"], [0.2222222222222222, \"#7201a8\"], [0.3333333333333333, \"#9c179e\"], [0.4444444444444444, \"#bd3786\"], [0.5555555555555556, \"#d8576b\"], [0.6666666666666666, \"#ed7953\"], [0.7777777777777778, \"#fb9f3a\"], [0.8888888888888888, \"#fdca26\"], [1.0, \"#f0f921\"]], \"type\": \"heatmap\"}], \"heatmapgl\": [{\"colorbar\": {\"outlinewidth\": 0, \"ticks\": \"\"}, \"colorscale\": [[0.0, \"#0d0887\"], [0.1111111111111111, \"#46039f\"], [0.2222222222222222, \"#7201a8\"], [0.3333333333333333, \"#9c179e\"], [0.4444444444444444, \"#bd3786\"], [0.5555555555555556, \"#d8576b\"], [0.6666666666666666, \"#ed7953\"], [0.7777777777777778, \"#fb9f3a\"], [0.8888888888888888, \"#fdca26\"], [1.0, \"#f0f921\"]], \"type\": \"heatmapgl\"}], \"histogram\": [{\"marker\": {\"colorbar\": {\"outlinewidth\": 0, \"ticks\": \"\"}}, \"type\": \"histogram\"}], \"histogram2d\": [{\"colorbar\": {\"outlinewidth\": 0, \"ticks\": \"\"}, \"colorscale\": [[0.0, \"#0d0887\"], [0.1111111111111111, \"#46039f\"], [0.2222222222222222, \"#7201a8\"], [0.3333333333333333, \"#9c179e\"], [0.4444444444444444, \"#bd3786\"], [0.5555555555555556, \"#d8576b\"], [0.6666666666666666, \"#ed7953\"], [0.7777777777777778, \"#fb9f3a\"], [0.8888888888888888, \"#fdca26\"], [1.0, \"#f0f921\"]], \"type\": \"histogram2d\"}], \"histogram2dcontour\": [{\"colorbar\": {\"outlinewidth\": 0, \"ticks\": \"\"}, \"colorscale\": [[0.0, \"#0d0887\"], [0.1111111111111111, \"#46039f\"], [0.2222222222222222, \"#7201a8\"], [0.3333333333333333, \"#9c179e\"], [0.4444444444444444, \"#bd3786\"], [0.5555555555555556, \"#d8576b\"], [0.6666666666666666, \"#ed7953\"], [0.7777777777777778, \"#fb9f3a\"], [0.8888888888888888, \"#fdca26\"], [1.0, \"#f0f921\"]], \"type\": \"histogram2dcontour\"}], \"mesh3d\": [{\"colorbar\": {\"outlinewidth\": 0, \"ticks\": \"\"}, \"type\": \"mesh3d\"}], \"parcoords\": [{\"line\": {\"colorbar\": {\"outlinewidth\": 0, \"ticks\": \"\"}}, \"type\": \"parcoords\"}], \"pie\": [{\"automargin\": true, \"type\": \"pie\"}], \"scatter\": [{\"marker\": {\"colorbar\": {\"outlinewidth\": 0, \"ticks\": \"\"}}, \"type\": \"scatter\"}], \"scatter3d\": [{\"line\": {\"colorbar\": {\"outlinewidth\": 0, \"ticks\": \"\"}}, \"marker\": {\"colorbar\": {\"outlinewidth\": 0, \"ticks\": \"\"}}, \"type\": \"scatter3d\"}], \"scattercarpet\": [{\"marker\": {\"colorbar\": {\"outlinewidth\": 0, \"ticks\": \"\"}}, \"type\": \"scattercarpet\"}], \"scattergeo\": [{\"marker\": {\"colorbar\": {\"outlinewidth\": 0, \"ticks\": \"\"}}, \"type\": \"scattergeo\"}], \"scattergl\": [{\"marker\": {\"colorbar\": {\"outlinewidth\": 0, \"ticks\": \"\"}}, \"type\": \"scattergl\"}], \"scattermapbox\": [{\"marker\": {\"colorbar\": {\"outlinewidth\": 0, \"ticks\": \"\"}}, \"type\": \"scattermapbox\"}], \"scatterpolar\": [{\"marker\": {\"colorbar\": {\"outlinewidth\": 0, \"ticks\": \"\"}}, \"type\": \"scatterpolar\"}], \"scatterpolargl\": [{\"marker\": {\"colorbar\": {\"outlinewidth\": 0, \"ticks\": \"\"}}, \"type\": \"scatterpolargl\"}], \"scatterternary\": [{\"marker\": {\"colorbar\": {\"outlinewidth\": 0, \"ticks\": \"\"}}, \"type\": \"scatterternary\"}], \"surface\": [{\"colorbar\": {\"outlinewidth\": 0, \"ticks\": \"\"}, \"colorscale\": [[0.0, \"#0d0887\"], [0.1111111111111111, \"#46039f\"], [0.2222222222222222, \"#7201a8\"], [0.3333333333333333, \"#9c179e\"], [0.4444444444444444, \"#bd3786\"], [0.5555555555555556, \"#d8576b\"], [0.6666666666666666, \"#ed7953\"], [0.7777777777777778, \"#fb9f3a\"], [0.8888888888888888, \"#fdca26\"], [1.0, \"#f0f921\"]], \"type\": \"surface\"}], \"table\": [{\"cells\": {\"fill\": {\"color\": \"#EBF0F8\"}, \"line\": {\"color\": \"white\"}}, \"header\": {\"fill\": {\"color\": \"#C8D4E3\"}, \"line\": {\"color\": \"white\"}}, \"type\": \"table\"}]}, \"layout\": {\"annotationdefaults\": {\"arrowcolor\": \"#2a3f5f\", \"arrowhead\": 0, \"arrowwidth\": 1}, \"coloraxis\": {\"colorbar\": {\"outlinewidth\": 0, \"ticks\": \"\"}}, \"colorscale\": {\"diverging\": [[0, \"#8e0152\"], [0.1, \"#c51b7d\"], [0.2, \"#de77ae\"], [0.3, \"#f1b6da\"], [0.4, \"#fde0ef\"], [0.5, \"#f7f7f7\"], [0.6, \"#e6f5d0\"], [0.7, \"#b8e186\"], [0.8, \"#7fbc41\"], [0.9, \"#4d9221\"], [1, \"#276419\"]], \"sequential\": [[0.0, \"#0d0887\"], [0.1111111111111111, \"#46039f\"], [0.2222222222222222, \"#7201a8\"], [0.3333333333333333, \"#9c179e\"], [0.4444444444444444, \"#bd3786\"], [0.5555555555555556, \"#d8576b\"], [0.6666666666666666, \"#ed7953\"], [0.7777777777777778, \"#fb9f3a\"], [0.8888888888888888, \"#fdca26\"], [1.0, \"#f0f921\"]], \"sequentialminus\": [[0.0, \"#0d0887\"], [0.1111111111111111, \"#46039f\"], [0.2222222222222222, \"#7201a8\"], [0.3333333333333333, \"#9c179e\"], [0.4444444444444444, \"#bd3786\"], [0.5555555555555556, \"#d8576b\"], [0.6666666666666666, \"#ed7953\"], [0.7777777777777778, \"#fb9f3a\"], [0.8888888888888888, \"#fdca26\"], [1.0, \"#f0f921\"]]}, \"colorway\": [\"#636efa\", \"#EF553B\", \"#00cc96\", \"#ab63fa\", \"#FFA15A\", \"#19d3f3\", \"#FF6692\", \"#B6E880\", \"#FF97FF\", \"#FECB52\"], \"font\": {\"color\": \"#2a3f5f\"}, \"geo\": {\"bgcolor\": \"white\", \"lakecolor\": \"white\", \"landcolor\": \"#E5ECF6\", \"showlakes\": true, \"showland\": true, \"subunitcolor\": \"white\"}, \"hoverlabel\": {\"align\": \"left\"}, \"hovermode\": \"closest\", \"mapbox\": {\"style\": \"light\"}, \"paper_bgcolor\": \"white\", \"plot_bgcolor\": \"#E5ECF6\", \"polar\": {\"angularaxis\": {\"gridcolor\": \"white\", \"linecolor\": \"white\", \"ticks\": \"\"}, \"bgcolor\": \"#E5ECF6\", \"radialaxis\": {\"gridcolor\": \"white\", \"linecolor\": \"white\", \"ticks\": \"\"}}, \"scene\": {\"xaxis\": {\"backgroundcolor\": \"#E5ECF6\", \"gridcolor\": \"white\", \"gridwidth\": 2, \"linecolor\": \"white\", \"showbackground\": true, \"ticks\": \"\", \"zerolinecolor\": \"white\"}, \"yaxis\": {\"backgroundcolor\": \"#E5ECF6\", \"gridcolor\": \"white\", \"gridwidth\": 2, \"linecolor\": \"white\", \"showbackground\": true, \"ticks\": \"\", \"zerolinecolor\": \"white\"}, \"zaxis\": {\"backgroundcolor\": \"#E5ECF6\", \"gridcolor\": \"white\", \"gridwidth\": 2, \"linecolor\": \"white\", \"showbackground\": true, \"ticks\": \"\", \"zerolinecolor\": \"white\"}}, \"shapedefaults\": {\"line\": {\"color\": \"#2a3f5f\"}}, \"ternary\": {\"aaxis\": {\"gridcolor\": \"white\", \"linecolor\": \"white\", \"ticks\": \"\"}, \"baxis\": {\"gridcolor\": \"white\", \"linecolor\": \"white\", \"ticks\": \"\"}, \"bgcolor\": \"#E5ECF6\", \"caxis\": {\"gridcolor\": \"white\", \"linecolor\": \"white\", \"ticks\": \"\"}}, \"title\": {\"x\": 0.05}, \"xaxis\": {\"automargin\": true, \"gridcolor\": \"white\", \"linecolor\": \"white\", \"ticks\": \"\", \"title\": {\"standoff\": 15}, \"zerolinecolor\": \"white\", \"zerolinewidth\": 2}, \"yaxis\": {\"automargin\": true, \"gridcolor\": \"white\", \"linecolor\": \"white\", \"ticks\": \"\", \"title\": {\"standoff\": 15}, \"zerolinecolor\": \"white\", \"zerolinewidth\": 2}}}},\n",
              "                        {\"responsive\": true}\n",
              "                    ).then(function(){\n",
              "                            \n",
              "var gd = document.getElementById('76064606-97b6-4fdc-baed-cf725b8a05e8');\n",
              "var x = new MutationObserver(function (mutations, observer) {{\n",
              "        var display = window.getComputedStyle(gd).display;\n",
              "        if (!display || display === 'none') {{\n",
              "            console.log([gd, 'removed!']);\n",
              "            Plotly.purge(gd);\n",
              "            observer.disconnect();\n",
              "        }}\n",
              "}});\n",
              "\n",
              "// Listen for the removal of the full notebook cells\n",
              "var notebookContainer = gd.closest('#notebook-container');\n",
              "if (notebookContainer) {{\n",
              "    x.observe(notebookContainer, {childList: true});\n",
              "}}\n",
              "\n",
              "// Listen for the clearing of the current output cell\n",
              "var outputEl = gd.closest('.output');\n",
              "if (outputEl) {{\n",
              "    x.observe(outputEl, {childList: true});\n",
              "}}\n",
              "\n",
              "                        })\n",
              "                };\n",
              "                \n",
              "            </script>\n",
              "        </div>\n",
              "</body>\n",
              "</html>"
            ]
          },
          "metadata": {
            "tags": []
          }
        },
        {
          "output_type": "display_data",
          "data": {
            "text/html": [
              "<html>\n",
              "<head><meta charset=\"utf-8\" /></head>\n",
              "<body>\n",
              "    <div>\n",
              "            <script src=\"https://cdnjs.cloudflare.com/ajax/libs/mathjax/2.7.5/MathJax.js?config=TeX-AMS-MML_SVG\"></script><script type=\"text/javascript\">if (window.MathJax) {MathJax.Hub.Config({SVG: {font: \"STIX-Web\"}});}</script>\n",
              "                <script type=\"text/javascript\">window.PlotlyConfig = {MathJaxConfig: 'local'};</script>\n",
              "        <script src=\"https://cdn.plot.ly/plotly-latest.min.js\"></script>    \n",
              "            <div id=\"e104a47c-de7a-4717-93fa-f1fc4792a3ab\" class=\"plotly-graph-div\" style=\"height:525px; width:100%;\"></div>\n",
              "            <script type=\"text/javascript\">\n",
              "                \n",
              "                    window.PLOTLYENV=window.PLOTLYENV || {};\n",
              "                    \n",
              "                if (document.getElementById(\"e104a47c-de7a-4717-93fa-f1fc4792a3ab\")) {\n",
              "                    Plotly.newPlot(\n",
              "                        'e104a47c-de7a-4717-93fa-f1fc4792a3ab',\n",
              "                        [{\"name\": \"True\", \"type\": \"scatter\", \"y\": [0.0, 0.0, 0.0, 0.0, 0.0, 0.0, 0.0, 0.0, 0.0, 0.0, 1.0, 0.0, 0.0, 0.0, 0.0, -1.0, 0.0, 0.0, 0.0, 0.0, 0.0, 0.0, 0.0, 0.0, 0.0, 0.0, 0.0, 0.0, 0.0, 0.0, 0.0, 0.0, 0.0, 0.0, 0.0, 0.0, 0.0, 0.0, 0.0, 0.0, 0.0, 0.0, 0.0, 0.0, 0.0, 0.0, 0.0, 0.0, 0.0, 0.0, 0.0, 0.0, 0.0, 0.0, 0.0, 0.0, 0.0, 0.0, 0.0, 0.0, 0.0, 0.0, 0.0, 0.0, 0.0, 0.0, 0.0, 0.0, 0.0, 0.0, 0.0, 0.0, 0.0, 0.0, 0.0, 0.0, 0.0, 0.0, 0.0, 0.0, 0.0, 0.0, 0.0, 0.0, 0.0, 0.0, 0.0, 0.0, 0.0, 0.0, 0.0, 0.0, 0.0, 0.0, 0.0, 0.0, 0.0, 0.0, 0.0, 0.0, 0.0, 0.0, -1.0, -1.0, 0.0, 0.0, 0.0, 0.0, 0.0, 0.0, 0.0]}],\n",
              "                        {\"template\": {\"data\": {\"bar\": [{\"error_x\": {\"color\": \"#2a3f5f\"}, \"error_y\": {\"color\": \"#2a3f5f\"}, \"marker\": {\"line\": {\"color\": \"#E5ECF6\", \"width\": 0.5}}, \"type\": \"bar\"}], \"barpolar\": [{\"marker\": {\"line\": {\"color\": \"#E5ECF6\", \"width\": 0.5}}, \"type\": \"barpolar\"}], \"carpet\": [{\"aaxis\": {\"endlinecolor\": \"#2a3f5f\", \"gridcolor\": \"white\", \"linecolor\": \"white\", \"minorgridcolor\": \"white\", \"startlinecolor\": \"#2a3f5f\"}, \"baxis\": {\"endlinecolor\": \"#2a3f5f\", \"gridcolor\": \"white\", \"linecolor\": \"white\", \"minorgridcolor\": \"white\", \"startlinecolor\": \"#2a3f5f\"}, \"type\": \"carpet\"}], \"choropleth\": [{\"colorbar\": {\"outlinewidth\": 0, \"ticks\": \"\"}, \"type\": \"choropleth\"}], \"contour\": [{\"colorbar\": {\"outlinewidth\": 0, \"ticks\": \"\"}, \"colorscale\": [[0.0, \"#0d0887\"], [0.1111111111111111, \"#46039f\"], [0.2222222222222222, \"#7201a8\"], [0.3333333333333333, \"#9c179e\"], [0.4444444444444444, \"#bd3786\"], [0.5555555555555556, \"#d8576b\"], [0.6666666666666666, \"#ed7953\"], [0.7777777777777778, \"#fb9f3a\"], [0.8888888888888888, \"#fdca26\"], [1.0, \"#f0f921\"]], \"type\": \"contour\"}], \"contourcarpet\": [{\"colorbar\": {\"outlinewidth\": 0, \"ticks\": \"\"}, \"type\": \"contourcarpet\"}], \"heatmap\": [{\"colorbar\": {\"outlinewidth\": 0, \"ticks\": \"\"}, \"colorscale\": [[0.0, \"#0d0887\"], [0.1111111111111111, \"#46039f\"], [0.2222222222222222, \"#7201a8\"], [0.3333333333333333, \"#9c179e\"], [0.4444444444444444, \"#bd3786\"], [0.5555555555555556, \"#d8576b\"], [0.6666666666666666, \"#ed7953\"], [0.7777777777777778, \"#fb9f3a\"], [0.8888888888888888, \"#fdca26\"], [1.0, \"#f0f921\"]], \"type\": \"heatmap\"}], \"heatmapgl\": [{\"colorbar\": {\"outlinewidth\": 0, \"ticks\": \"\"}, \"colorscale\": [[0.0, \"#0d0887\"], [0.1111111111111111, \"#46039f\"], [0.2222222222222222, \"#7201a8\"], [0.3333333333333333, \"#9c179e\"], [0.4444444444444444, \"#bd3786\"], [0.5555555555555556, \"#d8576b\"], [0.6666666666666666, \"#ed7953\"], [0.7777777777777778, \"#fb9f3a\"], [0.8888888888888888, \"#fdca26\"], [1.0, \"#f0f921\"]], \"type\": \"heatmapgl\"}], \"histogram\": [{\"marker\": {\"colorbar\": {\"outlinewidth\": 0, \"ticks\": \"\"}}, \"type\": \"histogram\"}], \"histogram2d\": [{\"colorbar\": {\"outlinewidth\": 0, \"ticks\": \"\"}, \"colorscale\": [[0.0, \"#0d0887\"], [0.1111111111111111, \"#46039f\"], [0.2222222222222222, \"#7201a8\"], [0.3333333333333333, \"#9c179e\"], [0.4444444444444444, \"#bd3786\"], [0.5555555555555556, \"#d8576b\"], [0.6666666666666666, \"#ed7953\"], [0.7777777777777778, \"#fb9f3a\"], [0.8888888888888888, \"#fdca26\"], [1.0, \"#f0f921\"]], \"type\": \"histogram2d\"}], \"histogram2dcontour\": [{\"colorbar\": {\"outlinewidth\": 0, \"ticks\": \"\"}, \"colorscale\": [[0.0, \"#0d0887\"], [0.1111111111111111, \"#46039f\"], [0.2222222222222222, \"#7201a8\"], [0.3333333333333333, \"#9c179e\"], [0.4444444444444444, \"#bd3786\"], [0.5555555555555556, \"#d8576b\"], [0.6666666666666666, \"#ed7953\"], [0.7777777777777778, \"#fb9f3a\"], [0.8888888888888888, \"#fdca26\"], [1.0, \"#f0f921\"]], \"type\": \"histogram2dcontour\"}], \"mesh3d\": [{\"colorbar\": {\"outlinewidth\": 0, \"ticks\": \"\"}, \"type\": \"mesh3d\"}], \"parcoords\": [{\"line\": {\"colorbar\": {\"outlinewidth\": 0, \"ticks\": \"\"}}, \"type\": \"parcoords\"}], \"pie\": [{\"automargin\": true, \"type\": \"pie\"}], \"scatter\": [{\"marker\": {\"colorbar\": {\"outlinewidth\": 0, \"ticks\": \"\"}}, \"type\": \"scatter\"}], \"scatter3d\": [{\"line\": {\"colorbar\": {\"outlinewidth\": 0, \"ticks\": \"\"}}, \"marker\": {\"colorbar\": {\"outlinewidth\": 0, \"ticks\": \"\"}}, \"type\": \"scatter3d\"}], \"scattercarpet\": [{\"marker\": {\"colorbar\": {\"outlinewidth\": 0, \"ticks\": \"\"}}, \"type\": \"scattercarpet\"}], \"scattergeo\": [{\"marker\": {\"colorbar\": {\"outlinewidth\": 0, \"ticks\": \"\"}}, \"type\": \"scattergeo\"}], \"scattergl\": [{\"marker\": {\"colorbar\": {\"outlinewidth\": 0, \"ticks\": \"\"}}, \"type\": \"scattergl\"}], \"scattermapbox\": [{\"marker\": {\"colorbar\": {\"outlinewidth\": 0, \"ticks\": \"\"}}, \"type\": \"scattermapbox\"}], \"scatterpolar\": [{\"marker\": {\"colorbar\": {\"outlinewidth\": 0, \"ticks\": \"\"}}, \"type\": \"scatterpolar\"}], \"scatterpolargl\": [{\"marker\": {\"colorbar\": {\"outlinewidth\": 0, \"ticks\": \"\"}}, \"type\": \"scatterpolargl\"}], \"scatterternary\": [{\"marker\": {\"colorbar\": {\"outlinewidth\": 0, \"ticks\": \"\"}}, \"type\": \"scatterternary\"}], \"surface\": [{\"colorbar\": {\"outlinewidth\": 0, \"ticks\": \"\"}, \"colorscale\": [[0.0, \"#0d0887\"], [0.1111111111111111, \"#46039f\"], [0.2222222222222222, \"#7201a8\"], [0.3333333333333333, \"#9c179e\"], [0.4444444444444444, \"#bd3786\"], [0.5555555555555556, \"#d8576b\"], [0.6666666666666666, \"#ed7953\"], [0.7777777777777778, \"#fb9f3a\"], [0.8888888888888888, \"#fdca26\"], [1.0, \"#f0f921\"]], \"type\": \"surface\"}], \"table\": [{\"cells\": {\"fill\": {\"color\": \"#EBF0F8\"}, \"line\": {\"color\": \"white\"}}, \"header\": {\"fill\": {\"color\": \"#C8D4E3\"}, \"line\": {\"color\": \"white\"}}, \"type\": \"table\"}]}, \"layout\": {\"annotationdefaults\": {\"arrowcolor\": \"#2a3f5f\", \"arrowhead\": 0, \"arrowwidth\": 1}, \"coloraxis\": {\"colorbar\": {\"outlinewidth\": 0, \"ticks\": \"\"}}, \"colorscale\": {\"diverging\": [[0, \"#8e0152\"], [0.1, \"#c51b7d\"], [0.2, \"#de77ae\"], [0.3, \"#f1b6da\"], [0.4, \"#fde0ef\"], [0.5, \"#f7f7f7\"], [0.6, \"#e6f5d0\"], [0.7, \"#b8e186\"], [0.8, \"#7fbc41\"], [0.9, \"#4d9221\"], [1, \"#276419\"]], \"sequential\": [[0.0, \"#0d0887\"], [0.1111111111111111, \"#46039f\"], [0.2222222222222222, \"#7201a8\"], [0.3333333333333333, \"#9c179e\"], [0.4444444444444444, \"#bd3786\"], [0.5555555555555556, \"#d8576b\"], [0.6666666666666666, \"#ed7953\"], [0.7777777777777778, \"#fb9f3a\"], [0.8888888888888888, \"#fdca26\"], [1.0, \"#f0f921\"]], \"sequentialminus\": [[0.0, \"#0d0887\"], [0.1111111111111111, \"#46039f\"], [0.2222222222222222, \"#7201a8\"], [0.3333333333333333, \"#9c179e\"], [0.4444444444444444, \"#bd3786\"], [0.5555555555555556, \"#d8576b\"], [0.6666666666666666, \"#ed7953\"], [0.7777777777777778, \"#fb9f3a\"], [0.8888888888888888, \"#fdca26\"], [1.0, \"#f0f921\"]]}, \"colorway\": [\"#636efa\", \"#EF553B\", \"#00cc96\", \"#ab63fa\", \"#FFA15A\", \"#19d3f3\", \"#FF6692\", \"#B6E880\", \"#FF97FF\", \"#FECB52\"], \"font\": {\"color\": \"#2a3f5f\"}, \"geo\": {\"bgcolor\": \"white\", \"lakecolor\": \"white\", \"landcolor\": \"#E5ECF6\", \"showlakes\": true, \"showland\": true, \"subunitcolor\": \"white\"}, \"hoverlabel\": {\"align\": \"left\"}, \"hovermode\": \"closest\", \"mapbox\": {\"style\": \"light\"}, \"paper_bgcolor\": \"white\", \"plot_bgcolor\": \"#E5ECF6\", \"polar\": {\"angularaxis\": {\"gridcolor\": \"white\", \"linecolor\": \"white\", \"ticks\": \"\"}, \"bgcolor\": \"#E5ECF6\", \"radialaxis\": {\"gridcolor\": \"white\", \"linecolor\": \"white\", \"ticks\": \"\"}}, \"scene\": {\"xaxis\": {\"backgroundcolor\": \"#E5ECF6\", \"gridcolor\": \"white\", \"gridwidth\": 2, \"linecolor\": \"white\", \"showbackground\": true, \"ticks\": \"\", \"zerolinecolor\": \"white\"}, \"yaxis\": {\"backgroundcolor\": \"#E5ECF6\", \"gridcolor\": \"white\", \"gridwidth\": 2, \"linecolor\": \"white\", \"showbackground\": true, \"ticks\": \"\", \"zerolinecolor\": \"white\"}, \"zaxis\": {\"backgroundcolor\": \"#E5ECF6\", \"gridcolor\": \"white\", \"gridwidth\": 2, \"linecolor\": \"white\", \"showbackground\": true, \"ticks\": \"\", \"zerolinecolor\": \"white\"}}, \"shapedefaults\": {\"line\": {\"color\": \"#2a3f5f\"}}, \"ternary\": {\"aaxis\": {\"gridcolor\": \"white\", \"linecolor\": \"white\", \"ticks\": \"\"}, \"baxis\": {\"gridcolor\": \"white\", \"linecolor\": \"white\", \"ticks\": \"\"}, \"bgcolor\": \"#E5ECF6\", \"caxis\": {\"gridcolor\": \"white\", \"linecolor\": \"white\", \"ticks\": \"\"}}, \"title\": {\"x\": 0.05}, \"xaxis\": {\"automargin\": true, \"gridcolor\": \"white\", \"linecolor\": \"white\", \"ticks\": \"\", \"title\": {\"standoff\": 15}, \"zerolinecolor\": \"white\", \"zerolinewidth\": 2}, \"yaxis\": {\"automargin\": true, \"gridcolor\": \"white\", \"linecolor\": \"white\", \"ticks\": \"\", \"title\": {\"standoff\": 15}, \"zerolinecolor\": \"white\", \"zerolinewidth\": 2}}}},\n",
              "                        {\"responsive\": true}\n",
              "                    ).then(function(){\n",
              "                            \n",
              "var gd = document.getElementById('e104a47c-de7a-4717-93fa-f1fc4792a3ab');\n",
              "var x = new MutationObserver(function (mutations, observer) {{\n",
              "        var display = window.getComputedStyle(gd).display;\n",
              "        if (!display || display === 'none') {{\n",
              "            console.log([gd, 'removed!']);\n",
              "            Plotly.purge(gd);\n",
              "            observer.disconnect();\n",
              "        }}\n",
              "}});\n",
              "\n",
              "// Listen for the removal of the full notebook cells\n",
              "var notebookContainer = gd.closest('#notebook-container');\n",
              "if (notebookContainer) {{\n",
              "    x.observe(notebookContainer, {childList: true});\n",
              "}}\n",
              "\n",
              "// Listen for the clearing of the current output cell\n",
              "var outputEl = gd.closest('.output');\n",
              "if (outputEl) {{\n",
              "    x.observe(outputEl, {childList: true});\n",
              "}}\n",
              "\n",
              "                        })\n",
              "                };\n",
              "                \n",
              "            </script>\n",
              "        </div>\n",
              "</body>\n",
              "</html>"
            ]
          },
          "metadata": {
            "tags": []
          }
        },
        {
          "output_type": "stream",
          "text": [
            "Accuracy : 87.38738738738738%\n"
          ],
          "name": "stdout"
        }
      ]
    },
    {
      "cell_type": "code",
      "metadata": {
        "id": "EC_6WVL43P0Q",
        "colab_type": "code",
        "colab": {
          "base_uri": "https://localhost:8080/",
          "height": 1000
        },
        "outputId": "44b60a05-b0f2-41c6-888f-75a1e01e703d"
      },
      "source": [
        "import datetime as dt\n",
        "np.random.seed(0)\n",
        "\n",
        "gandourie['date'] = pd.to_datetime(gandourie['date'])\n",
        "\n",
        "gandourie['annee'] = gandourie['date'].dt.year\n",
        "gandourie['mois'] = gandourie['date'].dt.month\n",
        "gandourie['jour'] = gandourie['date'].dt.day\n",
        "gandourie['index_year'] = [0 for i in range(len(gandourie))]\n",
        "\n",
        "gandourie = shuffle(gandourie)\n",
        "\n",
        "features_choosed = ['stage', 'pluvio', 'sprout', 'gab_arcures', 'blackrot_bunches', 'blackrot_leaves', 'temperature']\n",
        "features_choosed = all_fields + ['mildew_leaves', 'mildew_bunches', 'stage']\n",
        "X_historic = []\n",
        "y_next = []\n",
        "length_hist = 7\n",
        "\n",
        "for dom in ['Magdeleine']:\n",
        "    for annee in range(2012,2020):\n",
        "        for parcel in parcel_names:\n",
        "            parcel_domain_temp = gandourie.loc[gandourie['parcel_name'] == parcel][gandourie['domain_name'] == dom]\n",
        "            if len(parcel_domain_temp) !=0:\n",
        "                parcel_domain_year_temp = parcel_domain_temp[parcel_domain_temp['annee'] == annee].sort_values(by='date')\n",
        "                for feat in features_choosed:\n",
        "                    parcel_domain_year_temp[feat] = parcel_domain_year_temp[feat].fillna(parcel_domain_year_temp[feat].mean())\n",
        "                if len(parcel_domain_year_temp) > length_hist:\n",
        "                    for i in range(length_hist, len(parcel_domain_year_temp)-1):\n",
        "                        X_historic.append(parcel_domain_year_temp.iloc[i-length_hist:i][features_choosed].to_numpy())\n",
        "                        y_next.append(parcel_domain_year_temp.fillna(0.0).iloc[i]['mildew_leaves'])\n",
        "\n",
        "X_historic_array = np.array(X_historic).reshape(len(X_historic), -1)\n",
        "X_historic_array.shape\n",
        "y_next_array = np.array(y_next).reshape(len(y_next), 1)\n",
        "y_next_array\n",
        "\n",
        "\n",
        "col_mean = np.nanmean(X_historic_array, axis=0)\n",
        "inds = np.where(np.isnan(X_historic_array))\n",
        "\n",
        "X_historic_array[inds] = np.take(col_mean, inds[1])\n",
        "\n",
        "col_mean = np.nanmean(y_next_array, axis=0)\n",
        "inds = np.where(np.isnan(y_next_array))\n",
        "\n",
        "y_next_array[inds] = np.take(col_mean, inds[1])\n",
        "\n",
        "indices = np.arange(X_historic_array.shape[0])\n",
        "np.random.shuffle(indices)\n",
        "\n",
        "X_historic_array = X_historic_array[indices]\n",
        "y_next_array = y_next_array[indices]\n",
        "\n",
        "\n",
        "split = 0.8\n",
        "N = len(X_historic)\n",
        "\n",
        "X_train = X_historic_array[:int(N*split)]\n",
        "X_test = X_historic_array[int(N*split):]\n",
        "\n",
        "y_train = y_next_array[:int(N*split)]\n",
        "y_test = y_next_array[int(N*split):]\n",
        "\n",
        "X_valid, X_test = X_test[:int(len(X_test)*0.5)], X_test[int(len(X_test)*0.5):]\n",
        "y_valid, y_test = y_test[:int(len(y_test)*0.5)], y_test[int(len(y_test)*0.5):]\n",
        "\n",
        "print(X_historic_array.shape)\n",
        "\n",
        "\n",
        "predictions_test = model.predict(X_train)\n",
        "mse = (((predictions_test.reshape(-1) - y_train.reshape(-1)) ** 2).sum()) / len(predictions_test)\n",
        "print(\"MSE : \", mse)\n",
        "# plt.plot(y_valid*3)\n",
        "# plt.plot(np.floor(predictions_test*3))*\n",
        "fig = go.Figure()\n",
        "\n",
        "fig.add_trace(go.Scatter(y=np.around(y_train.reshape(-1)), name='True'))\n",
        "fig.add_trace(go.Scatter(y=np.around(predictions_test).reshape(-1), name='Predicted'))\n",
        "fig.show()\n",
        "\n",
        "fig2 = go.Figure()\n",
        "fig2.add_trace(go.Scatter(y=np.around(y_train.reshape(-1))-np.around(predictions_test).reshape(-1), name='True'))\n",
        "fig2.show()\n",
        "\n",
        "print(\"Accuracy : {}%\".format((1-np.count_nonzero(np.around(y_train.reshape(-1)*3)-np.around(predictions_test.reshape(-1)*3))/len(predictions_test))*100))"
      ],
      "execution_count": 208,
      "outputs": [
        {
          "output_type": "stream",
          "text": [
            "/usr/local/lib/python3.6/dist-packages/ipykernel_launcher.py:22: UserWarning:\n",
            "\n",
            "Boolean Series key will be reindexed to match DataFrame index.\n",
            "\n"
          ],
          "name": "stderr"
        },
        {
          "output_type": "stream",
          "text": [
            "(83, 56)\n",
            "MSE :  0.1793983159722176\n"
          ],
          "name": "stdout"
        },
        {
          "output_type": "display_data",
          "data": {
            "text/html": [
              "<html>\n",
              "<head><meta charset=\"utf-8\" /></head>\n",
              "<body>\n",
              "    <div>\n",
              "            <script src=\"https://cdnjs.cloudflare.com/ajax/libs/mathjax/2.7.5/MathJax.js?config=TeX-AMS-MML_SVG\"></script><script type=\"text/javascript\">if (window.MathJax) {MathJax.Hub.Config({SVG: {font: \"STIX-Web\"}});}</script>\n",
              "                <script type=\"text/javascript\">window.PlotlyConfig = {MathJaxConfig: 'local'};</script>\n",
              "        <script src=\"https://cdn.plot.ly/plotly-latest.min.js\"></script>    \n",
              "            <div id=\"2fdc7990-93c1-4e2b-8950-4aa5c746c3aa\" class=\"plotly-graph-div\" style=\"height:525px; width:100%;\"></div>\n",
              "            <script type=\"text/javascript\">\n",
              "                \n",
              "                    window.PLOTLYENV=window.PLOTLYENV || {};\n",
              "                    \n",
              "                if (document.getElementById(\"2fdc7990-93c1-4e2b-8950-4aa5c746c3aa\")) {\n",
              "                    Plotly.newPlot(\n",
              "                        '2fdc7990-93c1-4e2b-8950-4aa5c746c3aa',\n",
              "                        [{\"name\": \"True\", \"type\": \"scatter\", \"y\": [1.0, 1.0, 1.0, 1.0, 1.0, 1.0, 1.0, 1.0, 1.0, 1.0, 1.0, 1.0, 1.0, 1.0, 1.0, 1.0, 1.0, 1.0, 1.0, 1.0, 1.0, 1.0, 1.0, 1.0, 1.0, 1.0, 1.0, 1.0, 1.0, 1.0, 1.0, 1.0, 1.0, 1.0, 1.0, 1.0, 1.0, 2.0, 1.0, 1.0, 1.0, 1.0, 1.0, 1.0, 1.0, 1.0, 1.0, 1.0, 1.0, 1.0, 1.0, 1.0, 1.0, 1.0, 1.0, 1.0, 0.0, 1.0, 1.0, 1.0, 1.0, 1.0, 1.0, 1.0, 1.0, 1.0]}, {\"name\": \"Predicted\", \"type\": \"scatter\", \"y\": [1.0, 2.0, 1.0, 1.0, 1.0, 1.0, 1.0, 2.0, 2.0, 1.0, 1.0, 1.0, 1.0, 1.0, 1.0, 1.0, 1.0, 1.0, 1.0, 1.0, 1.0, 2.0, 1.0, 2.0, 1.0, 1.0, 1.0, 1.0, 2.0, 1.0, 1.0, 1.0, 1.0, 1.0, 1.0, 1.0, 2.0, 1.0, 2.0, 1.0, 1.0, 1.0, 1.0, 2.0, 1.0, 1.0, 1.0, 2.0, 1.0, 1.0, 1.0, 1.0, 1.0, 1.0, 1.0, 1.0, 0.0, 0.0, 2.0, 2.0, 1.0, 1.0, 1.0, 1.0, 1.0, 2.0]}],\n",
              "                        {\"template\": {\"data\": {\"bar\": [{\"error_x\": {\"color\": \"#2a3f5f\"}, \"error_y\": {\"color\": \"#2a3f5f\"}, \"marker\": {\"line\": {\"color\": \"#E5ECF6\", \"width\": 0.5}}, \"type\": \"bar\"}], \"barpolar\": [{\"marker\": {\"line\": {\"color\": \"#E5ECF6\", \"width\": 0.5}}, \"type\": \"barpolar\"}], \"carpet\": [{\"aaxis\": {\"endlinecolor\": \"#2a3f5f\", \"gridcolor\": \"white\", \"linecolor\": \"white\", \"minorgridcolor\": \"white\", \"startlinecolor\": \"#2a3f5f\"}, \"baxis\": {\"endlinecolor\": \"#2a3f5f\", \"gridcolor\": \"white\", \"linecolor\": \"white\", \"minorgridcolor\": \"white\", \"startlinecolor\": \"#2a3f5f\"}, \"type\": \"carpet\"}], \"choropleth\": [{\"colorbar\": {\"outlinewidth\": 0, \"ticks\": \"\"}, \"type\": \"choropleth\"}], \"contour\": [{\"colorbar\": {\"outlinewidth\": 0, \"ticks\": \"\"}, \"colorscale\": [[0.0, \"#0d0887\"], [0.1111111111111111, \"#46039f\"], [0.2222222222222222, \"#7201a8\"], [0.3333333333333333, \"#9c179e\"], [0.4444444444444444, \"#bd3786\"], [0.5555555555555556, \"#d8576b\"], [0.6666666666666666, \"#ed7953\"], [0.7777777777777778, \"#fb9f3a\"], [0.8888888888888888, \"#fdca26\"], [1.0, \"#f0f921\"]], \"type\": \"contour\"}], \"contourcarpet\": [{\"colorbar\": {\"outlinewidth\": 0, \"ticks\": \"\"}, \"type\": \"contourcarpet\"}], \"heatmap\": [{\"colorbar\": {\"outlinewidth\": 0, \"ticks\": \"\"}, \"colorscale\": [[0.0, \"#0d0887\"], [0.1111111111111111, \"#46039f\"], [0.2222222222222222, \"#7201a8\"], [0.3333333333333333, \"#9c179e\"], [0.4444444444444444, \"#bd3786\"], [0.5555555555555556, \"#d8576b\"], [0.6666666666666666, \"#ed7953\"], [0.7777777777777778, \"#fb9f3a\"], [0.8888888888888888, \"#fdca26\"], [1.0, \"#f0f921\"]], \"type\": \"heatmap\"}], \"heatmapgl\": [{\"colorbar\": {\"outlinewidth\": 0, \"ticks\": \"\"}, \"colorscale\": [[0.0, \"#0d0887\"], [0.1111111111111111, \"#46039f\"], [0.2222222222222222, \"#7201a8\"], [0.3333333333333333, \"#9c179e\"], [0.4444444444444444, \"#bd3786\"], [0.5555555555555556, \"#d8576b\"], [0.6666666666666666, \"#ed7953\"], [0.7777777777777778, \"#fb9f3a\"], [0.8888888888888888, \"#fdca26\"], [1.0, \"#f0f921\"]], \"type\": \"heatmapgl\"}], \"histogram\": [{\"marker\": {\"colorbar\": {\"outlinewidth\": 0, \"ticks\": \"\"}}, \"type\": \"histogram\"}], \"histogram2d\": [{\"colorbar\": {\"outlinewidth\": 0, \"ticks\": \"\"}, \"colorscale\": [[0.0, \"#0d0887\"], [0.1111111111111111, \"#46039f\"], [0.2222222222222222, \"#7201a8\"], [0.3333333333333333, \"#9c179e\"], [0.4444444444444444, \"#bd3786\"], [0.5555555555555556, \"#d8576b\"], [0.6666666666666666, \"#ed7953\"], [0.7777777777777778, \"#fb9f3a\"], [0.8888888888888888, \"#fdca26\"], [1.0, \"#f0f921\"]], \"type\": \"histogram2d\"}], \"histogram2dcontour\": [{\"colorbar\": {\"outlinewidth\": 0, \"ticks\": \"\"}, \"colorscale\": [[0.0, \"#0d0887\"], [0.1111111111111111, \"#46039f\"], [0.2222222222222222, \"#7201a8\"], [0.3333333333333333, \"#9c179e\"], [0.4444444444444444, \"#bd3786\"], [0.5555555555555556, \"#d8576b\"], [0.6666666666666666, \"#ed7953\"], [0.7777777777777778, \"#fb9f3a\"], [0.8888888888888888, \"#fdca26\"], [1.0, \"#f0f921\"]], \"type\": \"histogram2dcontour\"}], \"mesh3d\": [{\"colorbar\": {\"outlinewidth\": 0, \"ticks\": \"\"}, \"type\": \"mesh3d\"}], \"parcoords\": [{\"line\": {\"colorbar\": {\"outlinewidth\": 0, \"ticks\": \"\"}}, \"type\": \"parcoords\"}], \"pie\": [{\"automargin\": true, \"type\": \"pie\"}], \"scatter\": [{\"marker\": {\"colorbar\": {\"outlinewidth\": 0, \"ticks\": \"\"}}, \"type\": \"scatter\"}], \"scatter3d\": [{\"line\": {\"colorbar\": {\"outlinewidth\": 0, \"ticks\": \"\"}}, \"marker\": {\"colorbar\": {\"outlinewidth\": 0, \"ticks\": \"\"}}, \"type\": \"scatter3d\"}], \"scattercarpet\": [{\"marker\": {\"colorbar\": {\"outlinewidth\": 0, \"ticks\": \"\"}}, \"type\": \"scattercarpet\"}], \"scattergeo\": [{\"marker\": {\"colorbar\": {\"outlinewidth\": 0, \"ticks\": \"\"}}, \"type\": \"scattergeo\"}], \"scattergl\": [{\"marker\": {\"colorbar\": {\"outlinewidth\": 0, \"ticks\": \"\"}}, \"type\": \"scattergl\"}], \"scattermapbox\": [{\"marker\": {\"colorbar\": {\"outlinewidth\": 0, \"ticks\": \"\"}}, \"type\": \"scattermapbox\"}], \"scatterpolar\": [{\"marker\": {\"colorbar\": {\"outlinewidth\": 0, \"ticks\": \"\"}}, \"type\": \"scatterpolar\"}], \"scatterpolargl\": [{\"marker\": {\"colorbar\": {\"outlinewidth\": 0, \"ticks\": \"\"}}, \"type\": \"scatterpolargl\"}], \"scatterternary\": [{\"marker\": {\"colorbar\": {\"outlinewidth\": 0, \"ticks\": \"\"}}, \"type\": \"scatterternary\"}], \"surface\": [{\"colorbar\": {\"outlinewidth\": 0, \"ticks\": \"\"}, \"colorscale\": [[0.0, \"#0d0887\"], [0.1111111111111111, \"#46039f\"], [0.2222222222222222, \"#7201a8\"], [0.3333333333333333, \"#9c179e\"], [0.4444444444444444, \"#bd3786\"], [0.5555555555555556, \"#d8576b\"], [0.6666666666666666, \"#ed7953\"], [0.7777777777777778, \"#fb9f3a\"], [0.8888888888888888, \"#fdca26\"], [1.0, \"#f0f921\"]], \"type\": \"surface\"}], \"table\": [{\"cells\": {\"fill\": {\"color\": \"#EBF0F8\"}, \"line\": {\"color\": \"white\"}}, \"header\": {\"fill\": {\"color\": \"#C8D4E3\"}, \"line\": {\"color\": \"white\"}}, \"type\": \"table\"}]}, \"layout\": {\"annotationdefaults\": {\"arrowcolor\": \"#2a3f5f\", \"arrowhead\": 0, \"arrowwidth\": 1}, \"coloraxis\": {\"colorbar\": {\"outlinewidth\": 0, \"ticks\": \"\"}}, \"colorscale\": {\"diverging\": [[0, \"#8e0152\"], [0.1, \"#c51b7d\"], [0.2, \"#de77ae\"], [0.3, \"#f1b6da\"], [0.4, \"#fde0ef\"], [0.5, \"#f7f7f7\"], [0.6, \"#e6f5d0\"], [0.7, \"#b8e186\"], [0.8, \"#7fbc41\"], [0.9, \"#4d9221\"], [1, \"#276419\"]], \"sequential\": [[0.0, \"#0d0887\"], [0.1111111111111111, \"#46039f\"], [0.2222222222222222, \"#7201a8\"], [0.3333333333333333, \"#9c179e\"], [0.4444444444444444, \"#bd3786\"], [0.5555555555555556, \"#d8576b\"], [0.6666666666666666, \"#ed7953\"], [0.7777777777777778, \"#fb9f3a\"], [0.8888888888888888, \"#fdca26\"], [1.0, \"#f0f921\"]], \"sequentialminus\": [[0.0, \"#0d0887\"], [0.1111111111111111, \"#46039f\"], [0.2222222222222222, \"#7201a8\"], [0.3333333333333333, \"#9c179e\"], [0.4444444444444444, \"#bd3786\"], [0.5555555555555556, \"#d8576b\"], [0.6666666666666666, \"#ed7953\"], [0.7777777777777778, \"#fb9f3a\"], [0.8888888888888888, \"#fdca26\"], [1.0, \"#f0f921\"]]}, \"colorway\": [\"#636efa\", \"#EF553B\", \"#00cc96\", \"#ab63fa\", \"#FFA15A\", \"#19d3f3\", \"#FF6692\", \"#B6E880\", \"#FF97FF\", \"#FECB52\"], \"font\": {\"color\": \"#2a3f5f\"}, \"geo\": {\"bgcolor\": \"white\", \"lakecolor\": \"white\", \"landcolor\": \"#E5ECF6\", \"showlakes\": true, \"showland\": true, \"subunitcolor\": \"white\"}, \"hoverlabel\": {\"align\": \"left\"}, \"hovermode\": \"closest\", \"mapbox\": {\"style\": \"light\"}, \"paper_bgcolor\": \"white\", \"plot_bgcolor\": \"#E5ECF6\", \"polar\": {\"angularaxis\": {\"gridcolor\": \"white\", \"linecolor\": \"white\", \"ticks\": \"\"}, \"bgcolor\": \"#E5ECF6\", \"radialaxis\": {\"gridcolor\": \"white\", \"linecolor\": \"white\", \"ticks\": \"\"}}, \"scene\": {\"xaxis\": {\"backgroundcolor\": \"#E5ECF6\", \"gridcolor\": \"white\", \"gridwidth\": 2, \"linecolor\": \"white\", \"showbackground\": true, \"ticks\": \"\", \"zerolinecolor\": \"white\"}, \"yaxis\": {\"backgroundcolor\": \"#E5ECF6\", \"gridcolor\": \"white\", \"gridwidth\": 2, \"linecolor\": \"white\", \"showbackground\": true, \"ticks\": \"\", \"zerolinecolor\": \"white\"}, \"zaxis\": {\"backgroundcolor\": \"#E5ECF6\", \"gridcolor\": \"white\", \"gridwidth\": 2, \"linecolor\": \"white\", \"showbackground\": true, \"ticks\": \"\", \"zerolinecolor\": \"white\"}}, \"shapedefaults\": {\"line\": {\"color\": \"#2a3f5f\"}}, \"ternary\": {\"aaxis\": {\"gridcolor\": \"white\", \"linecolor\": \"white\", \"ticks\": \"\"}, \"baxis\": {\"gridcolor\": \"white\", \"linecolor\": \"white\", \"ticks\": \"\"}, \"bgcolor\": \"#E5ECF6\", \"caxis\": {\"gridcolor\": \"white\", \"linecolor\": \"white\", \"ticks\": \"\"}}, \"title\": {\"x\": 0.05}, \"xaxis\": {\"automargin\": true, \"gridcolor\": \"white\", \"linecolor\": \"white\", \"ticks\": \"\", \"title\": {\"standoff\": 15}, \"zerolinecolor\": \"white\", \"zerolinewidth\": 2}, \"yaxis\": {\"automargin\": true, \"gridcolor\": \"white\", \"linecolor\": \"white\", \"ticks\": \"\", \"title\": {\"standoff\": 15}, \"zerolinecolor\": \"white\", \"zerolinewidth\": 2}}}},\n",
              "                        {\"responsive\": true}\n",
              "                    ).then(function(){\n",
              "                            \n",
              "var gd = document.getElementById('2fdc7990-93c1-4e2b-8950-4aa5c746c3aa');\n",
              "var x = new MutationObserver(function (mutations, observer) {{\n",
              "        var display = window.getComputedStyle(gd).display;\n",
              "        if (!display || display === 'none') {{\n",
              "            console.log([gd, 'removed!']);\n",
              "            Plotly.purge(gd);\n",
              "            observer.disconnect();\n",
              "        }}\n",
              "}});\n",
              "\n",
              "// Listen for the removal of the full notebook cells\n",
              "var notebookContainer = gd.closest('#notebook-container');\n",
              "if (notebookContainer) {{\n",
              "    x.observe(notebookContainer, {childList: true});\n",
              "}}\n",
              "\n",
              "// Listen for the clearing of the current output cell\n",
              "var outputEl = gd.closest('.output');\n",
              "if (outputEl) {{\n",
              "    x.observe(outputEl, {childList: true});\n",
              "}}\n",
              "\n",
              "                        })\n",
              "                };\n",
              "                \n",
              "            </script>\n",
              "        </div>\n",
              "</body>\n",
              "</html>"
            ]
          },
          "metadata": {
            "tags": []
          }
        },
        {
          "output_type": "display_data",
          "data": {
            "text/html": [
              "<html>\n",
              "<head><meta charset=\"utf-8\" /></head>\n",
              "<body>\n",
              "    <div>\n",
              "            <script src=\"https://cdnjs.cloudflare.com/ajax/libs/mathjax/2.7.5/MathJax.js?config=TeX-AMS-MML_SVG\"></script><script type=\"text/javascript\">if (window.MathJax) {MathJax.Hub.Config({SVG: {font: \"STIX-Web\"}});}</script>\n",
              "                <script type=\"text/javascript\">window.PlotlyConfig = {MathJaxConfig: 'local'};</script>\n",
              "        <script src=\"https://cdn.plot.ly/plotly-latest.min.js\"></script>    \n",
              "            <div id=\"3b64b0e7-78e0-4a90-adc8-1b497f122b45\" class=\"plotly-graph-div\" style=\"height:525px; width:100%;\"></div>\n",
              "            <script type=\"text/javascript\">\n",
              "                \n",
              "                    window.PLOTLYENV=window.PLOTLYENV || {};\n",
              "                    \n",
              "                if (document.getElementById(\"3b64b0e7-78e0-4a90-adc8-1b497f122b45\")) {\n",
              "                    Plotly.newPlot(\n",
              "                        '3b64b0e7-78e0-4a90-adc8-1b497f122b45',\n",
              "                        [{\"name\": \"True\", \"type\": \"scatter\", \"y\": [0.0, -1.0, 0.0, 0.0, 0.0, 0.0, 0.0, -1.0, -1.0, 0.0, 0.0, 0.0, 0.0, 0.0, 0.0, 0.0, 0.0, 0.0, 0.0, 0.0, 0.0, -1.0, 0.0, -1.0, 0.0, 0.0, 0.0, 0.0, -1.0, 0.0, 0.0, 0.0, 0.0, 0.0, 0.0, 0.0, -1.0, 1.0, -1.0, 0.0, 0.0, 0.0, 0.0, -1.0, 0.0, 0.0, 0.0, -1.0, 0.0, 0.0, 0.0, 0.0, 0.0, 0.0, 0.0, 0.0, 0.0, 1.0, -1.0, -1.0, 0.0, 0.0, 0.0, 0.0, 0.0, -1.0]}],\n",
              "                        {\"template\": {\"data\": {\"bar\": [{\"error_x\": {\"color\": \"#2a3f5f\"}, \"error_y\": {\"color\": \"#2a3f5f\"}, \"marker\": {\"line\": {\"color\": \"#E5ECF6\", \"width\": 0.5}}, \"type\": \"bar\"}], \"barpolar\": [{\"marker\": {\"line\": {\"color\": \"#E5ECF6\", \"width\": 0.5}}, \"type\": \"barpolar\"}], \"carpet\": [{\"aaxis\": {\"endlinecolor\": \"#2a3f5f\", \"gridcolor\": \"white\", \"linecolor\": \"white\", \"minorgridcolor\": \"white\", \"startlinecolor\": \"#2a3f5f\"}, \"baxis\": {\"endlinecolor\": \"#2a3f5f\", \"gridcolor\": \"white\", \"linecolor\": \"white\", \"minorgridcolor\": \"white\", \"startlinecolor\": \"#2a3f5f\"}, \"type\": \"carpet\"}], \"choropleth\": [{\"colorbar\": {\"outlinewidth\": 0, \"ticks\": \"\"}, \"type\": \"choropleth\"}], \"contour\": [{\"colorbar\": {\"outlinewidth\": 0, \"ticks\": \"\"}, \"colorscale\": [[0.0, \"#0d0887\"], [0.1111111111111111, \"#46039f\"], [0.2222222222222222, \"#7201a8\"], [0.3333333333333333, \"#9c179e\"], [0.4444444444444444, \"#bd3786\"], [0.5555555555555556, \"#d8576b\"], [0.6666666666666666, \"#ed7953\"], [0.7777777777777778, \"#fb9f3a\"], [0.8888888888888888, \"#fdca26\"], [1.0, \"#f0f921\"]], \"type\": \"contour\"}], \"contourcarpet\": [{\"colorbar\": {\"outlinewidth\": 0, \"ticks\": \"\"}, \"type\": \"contourcarpet\"}], \"heatmap\": [{\"colorbar\": {\"outlinewidth\": 0, \"ticks\": \"\"}, \"colorscale\": [[0.0, \"#0d0887\"], [0.1111111111111111, \"#46039f\"], [0.2222222222222222, \"#7201a8\"], [0.3333333333333333, \"#9c179e\"], [0.4444444444444444, \"#bd3786\"], [0.5555555555555556, \"#d8576b\"], [0.6666666666666666, \"#ed7953\"], [0.7777777777777778, \"#fb9f3a\"], [0.8888888888888888, \"#fdca26\"], [1.0, \"#f0f921\"]], \"type\": \"heatmap\"}], \"heatmapgl\": [{\"colorbar\": {\"outlinewidth\": 0, \"ticks\": \"\"}, \"colorscale\": [[0.0, \"#0d0887\"], [0.1111111111111111, \"#46039f\"], [0.2222222222222222, \"#7201a8\"], [0.3333333333333333, \"#9c179e\"], [0.4444444444444444, \"#bd3786\"], [0.5555555555555556, \"#d8576b\"], [0.6666666666666666, \"#ed7953\"], [0.7777777777777778, \"#fb9f3a\"], [0.8888888888888888, \"#fdca26\"], [1.0, \"#f0f921\"]], \"type\": \"heatmapgl\"}], \"histogram\": [{\"marker\": {\"colorbar\": {\"outlinewidth\": 0, \"ticks\": \"\"}}, \"type\": \"histogram\"}], \"histogram2d\": [{\"colorbar\": {\"outlinewidth\": 0, \"ticks\": \"\"}, \"colorscale\": [[0.0, \"#0d0887\"], [0.1111111111111111, \"#46039f\"], [0.2222222222222222, \"#7201a8\"], [0.3333333333333333, \"#9c179e\"], [0.4444444444444444, \"#bd3786\"], [0.5555555555555556, \"#d8576b\"], [0.6666666666666666, \"#ed7953\"], [0.7777777777777778, \"#fb9f3a\"], [0.8888888888888888, \"#fdca26\"], [1.0, \"#f0f921\"]], \"type\": \"histogram2d\"}], \"histogram2dcontour\": [{\"colorbar\": {\"outlinewidth\": 0, \"ticks\": \"\"}, \"colorscale\": [[0.0, \"#0d0887\"], [0.1111111111111111, \"#46039f\"], [0.2222222222222222, \"#7201a8\"], [0.3333333333333333, \"#9c179e\"], [0.4444444444444444, \"#bd3786\"], [0.5555555555555556, \"#d8576b\"], [0.6666666666666666, \"#ed7953\"], [0.7777777777777778, \"#fb9f3a\"], [0.8888888888888888, \"#fdca26\"], [1.0, \"#f0f921\"]], \"type\": \"histogram2dcontour\"}], \"mesh3d\": [{\"colorbar\": {\"outlinewidth\": 0, \"ticks\": \"\"}, \"type\": \"mesh3d\"}], \"parcoords\": [{\"line\": {\"colorbar\": {\"outlinewidth\": 0, \"ticks\": \"\"}}, \"type\": \"parcoords\"}], \"pie\": [{\"automargin\": true, \"type\": \"pie\"}], \"scatter\": [{\"marker\": {\"colorbar\": {\"outlinewidth\": 0, \"ticks\": \"\"}}, \"type\": \"scatter\"}], \"scatter3d\": [{\"line\": {\"colorbar\": {\"outlinewidth\": 0, \"ticks\": \"\"}}, \"marker\": {\"colorbar\": {\"outlinewidth\": 0, \"ticks\": \"\"}}, \"type\": \"scatter3d\"}], \"scattercarpet\": [{\"marker\": {\"colorbar\": {\"outlinewidth\": 0, \"ticks\": \"\"}}, \"type\": \"scattercarpet\"}], \"scattergeo\": [{\"marker\": {\"colorbar\": {\"outlinewidth\": 0, \"ticks\": \"\"}}, \"type\": \"scattergeo\"}], \"scattergl\": [{\"marker\": {\"colorbar\": {\"outlinewidth\": 0, \"ticks\": \"\"}}, \"type\": \"scattergl\"}], \"scattermapbox\": [{\"marker\": {\"colorbar\": {\"outlinewidth\": 0, \"ticks\": \"\"}}, \"type\": \"scattermapbox\"}], \"scatterpolar\": [{\"marker\": {\"colorbar\": {\"outlinewidth\": 0, \"ticks\": \"\"}}, \"type\": \"scatterpolar\"}], \"scatterpolargl\": [{\"marker\": {\"colorbar\": {\"outlinewidth\": 0, \"ticks\": \"\"}}, \"type\": \"scatterpolargl\"}], \"scatterternary\": [{\"marker\": {\"colorbar\": {\"outlinewidth\": 0, \"ticks\": \"\"}}, \"type\": \"scatterternary\"}], \"surface\": [{\"colorbar\": {\"outlinewidth\": 0, \"ticks\": \"\"}, \"colorscale\": [[0.0, \"#0d0887\"], [0.1111111111111111, \"#46039f\"], [0.2222222222222222, \"#7201a8\"], [0.3333333333333333, \"#9c179e\"], [0.4444444444444444, \"#bd3786\"], [0.5555555555555556, \"#d8576b\"], [0.6666666666666666, \"#ed7953\"], [0.7777777777777778, \"#fb9f3a\"], [0.8888888888888888, \"#fdca26\"], [1.0, \"#f0f921\"]], \"type\": \"surface\"}], \"table\": [{\"cells\": {\"fill\": {\"color\": \"#EBF0F8\"}, \"line\": {\"color\": \"white\"}}, \"header\": {\"fill\": {\"color\": \"#C8D4E3\"}, \"line\": {\"color\": \"white\"}}, \"type\": \"table\"}]}, \"layout\": {\"annotationdefaults\": {\"arrowcolor\": \"#2a3f5f\", \"arrowhead\": 0, \"arrowwidth\": 1}, \"coloraxis\": {\"colorbar\": {\"outlinewidth\": 0, \"ticks\": \"\"}}, \"colorscale\": {\"diverging\": [[0, \"#8e0152\"], [0.1, \"#c51b7d\"], [0.2, \"#de77ae\"], [0.3, \"#f1b6da\"], [0.4, \"#fde0ef\"], [0.5, \"#f7f7f7\"], [0.6, \"#e6f5d0\"], [0.7, \"#b8e186\"], [0.8, \"#7fbc41\"], [0.9, \"#4d9221\"], [1, \"#276419\"]], \"sequential\": [[0.0, \"#0d0887\"], [0.1111111111111111, \"#46039f\"], [0.2222222222222222, \"#7201a8\"], [0.3333333333333333, \"#9c179e\"], [0.4444444444444444, \"#bd3786\"], [0.5555555555555556, \"#d8576b\"], [0.6666666666666666, \"#ed7953\"], [0.7777777777777778, \"#fb9f3a\"], [0.8888888888888888, \"#fdca26\"], [1.0, \"#f0f921\"]], \"sequentialminus\": [[0.0, \"#0d0887\"], [0.1111111111111111, \"#46039f\"], [0.2222222222222222, \"#7201a8\"], [0.3333333333333333, \"#9c179e\"], [0.4444444444444444, \"#bd3786\"], [0.5555555555555556, \"#d8576b\"], [0.6666666666666666, \"#ed7953\"], [0.7777777777777778, \"#fb9f3a\"], [0.8888888888888888, \"#fdca26\"], [1.0, \"#f0f921\"]]}, \"colorway\": [\"#636efa\", \"#EF553B\", \"#00cc96\", \"#ab63fa\", \"#FFA15A\", \"#19d3f3\", \"#FF6692\", \"#B6E880\", \"#FF97FF\", \"#FECB52\"], \"font\": {\"color\": \"#2a3f5f\"}, \"geo\": {\"bgcolor\": \"white\", \"lakecolor\": \"white\", \"landcolor\": \"#E5ECF6\", \"showlakes\": true, \"showland\": true, \"subunitcolor\": \"white\"}, \"hoverlabel\": {\"align\": \"left\"}, \"hovermode\": \"closest\", \"mapbox\": {\"style\": \"light\"}, \"paper_bgcolor\": \"white\", \"plot_bgcolor\": \"#E5ECF6\", \"polar\": {\"angularaxis\": {\"gridcolor\": \"white\", \"linecolor\": \"white\", \"ticks\": \"\"}, \"bgcolor\": \"#E5ECF6\", \"radialaxis\": {\"gridcolor\": \"white\", \"linecolor\": \"white\", \"ticks\": \"\"}}, \"scene\": {\"xaxis\": {\"backgroundcolor\": \"#E5ECF6\", \"gridcolor\": \"white\", \"gridwidth\": 2, \"linecolor\": \"white\", \"showbackground\": true, \"ticks\": \"\", \"zerolinecolor\": \"white\"}, \"yaxis\": {\"backgroundcolor\": \"#E5ECF6\", \"gridcolor\": \"white\", \"gridwidth\": 2, \"linecolor\": \"white\", \"showbackground\": true, \"ticks\": \"\", \"zerolinecolor\": \"white\"}, \"zaxis\": {\"backgroundcolor\": \"#E5ECF6\", \"gridcolor\": \"white\", \"gridwidth\": 2, \"linecolor\": \"white\", \"showbackground\": true, \"ticks\": \"\", \"zerolinecolor\": \"white\"}}, \"shapedefaults\": {\"line\": {\"color\": \"#2a3f5f\"}}, \"ternary\": {\"aaxis\": {\"gridcolor\": \"white\", \"linecolor\": \"white\", \"ticks\": \"\"}, \"baxis\": {\"gridcolor\": \"white\", \"linecolor\": \"white\", \"ticks\": \"\"}, \"bgcolor\": \"#E5ECF6\", \"caxis\": {\"gridcolor\": \"white\", \"linecolor\": \"white\", \"ticks\": \"\"}}, \"title\": {\"x\": 0.05}, \"xaxis\": {\"automargin\": true, \"gridcolor\": \"white\", \"linecolor\": \"white\", \"ticks\": \"\", \"title\": {\"standoff\": 15}, \"zerolinecolor\": \"white\", \"zerolinewidth\": 2}, \"yaxis\": {\"automargin\": true, \"gridcolor\": \"white\", \"linecolor\": \"white\", \"ticks\": \"\", \"title\": {\"standoff\": 15}, \"zerolinecolor\": \"white\", \"zerolinewidth\": 2}}}},\n",
              "                        {\"responsive\": true}\n",
              "                    ).then(function(){\n",
              "                            \n",
              "var gd = document.getElementById('3b64b0e7-78e0-4a90-adc8-1b497f122b45');\n",
              "var x = new MutationObserver(function (mutations, observer) {{\n",
              "        var display = window.getComputedStyle(gd).display;\n",
              "        if (!display || display === 'none') {{\n",
              "            console.log([gd, 'removed!']);\n",
              "            Plotly.purge(gd);\n",
              "            observer.disconnect();\n",
              "        }}\n",
              "}});\n",
              "\n",
              "// Listen for the removal of the full notebook cells\n",
              "var notebookContainer = gd.closest('#notebook-container');\n",
              "if (notebookContainer) {{\n",
              "    x.observe(notebookContainer, {childList: true});\n",
              "}}\n",
              "\n",
              "// Listen for the clearing of the current output cell\n",
              "var outputEl = gd.closest('.output');\n",
              "if (outputEl) {{\n",
              "    x.observe(outputEl, {childList: true});\n",
              "}}\n",
              "\n",
              "                        })\n",
              "                };\n",
              "                \n",
              "            </script>\n",
              "        </div>\n",
              "</body>\n",
              "</html>"
            ]
          },
          "metadata": {
            "tags": []
          }
        },
        {
          "output_type": "stream",
          "text": [
            "Accuracy : 74.24242424242425%\n"
          ],
          "name": "stdout"
        }
      ]
    },
    {
      "cell_type": "markdown",
      "metadata": {
        "id": "Gjs_bwIemGhY",
        "colab_type": "text"
      },
      "source": [
        "# Search Best length history"
      ]
    },
    {
      "cell_type": "code",
      "metadata": {
        "id": "ZiQTwntjmFiV",
        "colab_type": "code",
        "colab": {
          "base_uri": "https://localhost:8080/",
          "height": 697
        },
        "outputId": "af8e72ff-696d-4110-c220-fbc5daf0d995"
      },
      "source": [
        "import datetime as dt\n",
        "\n",
        "#https://www.ethanrosenthal.com/2019/02/18/time-series-for-scikit-learn-people-part3/ FOR GETTING FIXED LENGTH HISTORY\n",
        "\n",
        "gandourie['date'] = pd.to_datetime(gandourie['date'])\n",
        "\n",
        "gandourie['annee'] = gandourie['date'].dt.year\n",
        "gandourie['mois'] = gandourie['date'].dt.month\n",
        "gandourie['jour'] = gandourie['date'].dt.day\n",
        "gandourie['index_year'] = [0 for i in range(len(gandourie))]\n",
        "\n",
        "# gandourie = shuffle(gandourie)\n",
        "\n",
        "features_choosed = ['mildew_leaves', 'mildew_bunches', 'stage', 'pluvio', 'sprout', 'gab_arcures', 'blackrot_bunches', 'blackrot_leaves', 'temperature']\n",
        "mse_history = []\n",
        "for h in range(2,12):\n",
        "    X_historic = []\n",
        "    y_next = []\n",
        "    length_hist = h\n",
        "\n",
        "    for dom in ['Ligniere', 'Magdeleine']:\n",
        "        for annee in range(2012,2020):\n",
        "            for parcel in parcel_names:\n",
        "                parcel_domain_temp = gandourie.loc[gandourie['parcel_name'] == parcel][gandourie['domain_name'] == dom]\n",
        "                if len(parcel_domain_temp) !=0:\n",
        "                    parcel_domain_year_temp = parcel_domain_temp[parcel_domain_temp['annee'] == 2012].sort_values(by='date')\n",
        "                    for feat in features_choosed:\n",
        "                        parcel_domain_year_temp[feat] = parcel_domain_year_temp[feat].fillna(parcel_domain_year_temp[feat].mean())\n",
        "                    if len(parcel_domain_year_temp) > length_hist:\n",
        "                        for i in range(length_hist, len(parcel_domain_year_temp)-1):\n",
        "                            X_historic.append(parcel_domain_year_temp.iloc[i-length_hist:i][features_choosed].to_numpy())\n",
        "                            y_next.append(parcel_domain_year_temp.iloc[i]['mildew_leaves'])\n",
        "\n",
        "    X_historic_array = np.array(X_historic).reshape(len(X_historic), -1)\n",
        "    X_historic_array.shape\n",
        "    y_next_array = np.array(y_next).reshape(len(y_next), 1)/3\n",
        "    y_next_array\n",
        "\n",
        "    indices = np.arange(X_historic_array.shape[0])\n",
        "    np.random.shuffle(indices)\n",
        "\n",
        "    X_historic_array = X_historic_array[indices]\n",
        "    y_next_array = y_next_array[indices]\n",
        "\n",
        "\n",
        "    split = 0.8\n",
        "    N = len(X_historic)\n",
        "\n",
        "    X_train = X_historic_array[:int(N*split)]\n",
        "    X_test = X_historic_array[int(N*split):]\n",
        "\n",
        "    y_train = y_next_array[:int(N*split)]\n",
        "    y_test = y_next_array[int(N*split):]\n",
        "\n",
        "    X_valid, X_test = X_test[:int(len(X_test)*0.5)], X_test[int(len(X_test)*0.5):]\n",
        "    y_valid, y_test = y_test[:int(len(y_test)*0.5)], y_test[int(len(y_test)*0.5):]\n",
        "\n",
        "    ns = []\n",
        "    mses = []\n",
        "\n",
        "    h_val = []\n",
        "\n",
        "    params = {'n_estimators': 500, 'max_depth': 4, 'min_samples_split': 2,\n",
        "          'learning_rate': 0.005, 'loss': 'huber'}\n",
        "    model = ensemble.GradientBoostingRegressor(**params)\n",
        "\n",
        "    model.fit(X_train, y_train.reshape(-1).ravel())\n",
        "\n",
        "    predictions_test = model.predict(X_test)\n",
        "    mse = (((np.around(predictions_test).reshape(-1) - y_test.reshape(-1)) ** 2).sum()) / len(predictions_test)\n",
        "    mse_history.append(mse)\n",
        "    h_val.append(h)"
      ],
      "execution_count": 94,
      "outputs": [
        {
          "output_type": "stream",
          "text": [
            "/usr/local/lib/python3.6/dist-packages/ipykernel_launcher.py:24: UserWarning:\n",
            "\n",
            "Boolean Series key will be reindexed to match DataFrame index.\n",
            "\n",
            "/usr/local/lib/python3.6/dist-packages/ipykernel_launcher.py:24: UserWarning:\n",
            "\n",
            "Boolean Series key will be reindexed to match DataFrame index.\n",
            "\n",
            "/usr/local/lib/python3.6/dist-packages/ipykernel_launcher.py:24: UserWarning:\n",
            "\n",
            "Boolean Series key will be reindexed to match DataFrame index.\n",
            "\n",
            "/usr/local/lib/python3.6/dist-packages/ipykernel_launcher.py:24: UserWarning:\n",
            "\n",
            "Boolean Series key will be reindexed to match DataFrame index.\n",
            "\n",
            "/usr/local/lib/python3.6/dist-packages/ipykernel_launcher.py:24: UserWarning:\n",
            "\n",
            "Boolean Series key will be reindexed to match DataFrame index.\n",
            "\n",
            "/usr/local/lib/python3.6/dist-packages/ipykernel_launcher.py:24: UserWarning:\n",
            "\n",
            "Boolean Series key will be reindexed to match DataFrame index.\n",
            "\n",
            "/usr/local/lib/python3.6/dist-packages/ipykernel_launcher.py:24: UserWarning:\n",
            "\n",
            "Boolean Series key will be reindexed to match DataFrame index.\n",
            "\n",
            "/usr/local/lib/python3.6/dist-packages/ipykernel_launcher.py:24: UserWarning:\n",
            "\n",
            "Boolean Series key will be reindexed to match DataFrame index.\n",
            "\n",
            "/usr/local/lib/python3.6/dist-packages/ipykernel_launcher.py:24: UserWarning:\n",
            "\n",
            "Boolean Series key will be reindexed to match DataFrame index.\n",
            "\n",
            "/usr/local/lib/python3.6/dist-packages/ipykernel_launcher.py:24: UserWarning:\n",
            "\n",
            "Boolean Series key will be reindexed to match DataFrame index.\n",
            "\n"
          ],
          "name": "stderr"
        }
      ]
    },
    {
      "cell_type": "code",
      "metadata": {
        "id": "JAtRH9UunHox",
        "colab_type": "code",
        "colab": {
          "base_uri": "https://localhost:8080/",
          "height": 712
        },
        "outputId": "730d5716-b628-4ec7-c6f8-d865dd30b5fc"
      },
      "source": [
        "fig = go.Figure()\n",
        "fig = px.scatter(y=mse_history)\n",
        "fig.show()\n",
        "mse_history"
      ],
      "execution_count": 96,
      "outputs": [
        {
          "output_type": "display_data",
          "data": {
            "text/html": [
              "<html>\n",
              "<head><meta charset=\"utf-8\" /></head>\n",
              "<body>\n",
              "    <div>\n",
              "            <script src=\"https://cdnjs.cloudflare.com/ajax/libs/mathjax/2.7.5/MathJax.js?config=TeX-AMS-MML_SVG\"></script><script type=\"text/javascript\">if (window.MathJax) {MathJax.Hub.Config({SVG: {font: \"STIX-Web\"}});}</script>\n",
              "                <script type=\"text/javascript\">window.PlotlyConfig = {MathJaxConfig: 'local'};</script>\n",
              "        <script src=\"https://cdn.plot.ly/plotly-latest.min.js\"></script>    \n",
              "            <div id=\"eab3581f-a989-48d5-acfc-b8998b1a49b1\" class=\"plotly-graph-div\" style=\"height:525px; width:100%;\"></div>\n",
              "            <script type=\"text/javascript\">\n",
              "                \n",
              "                    window.PLOTLYENV=window.PLOTLYENV || {};\n",
              "                    \n",
              "                if (document.getElementById(\"eab3581f-a989-48d5-acfc-b8998b1a49b1\")) {\n",
              "                    Plotly.newPlot(\n",
              "                        'eab3581f-a989-48d5-acfc-b8998b1a49b1',\n",
              "                        [{\"hoverlabel\": {\"namelength\": 0}, \"hovertemplate\": \"y=%{y}\", \"legendgroup\": \"\", \"marker\": {\"color\": \"#636efa\", \"symbol\": \"circle\"}, \"mode\": \"markers\", \"name\": \"\", \"showlegend\": false, \"type\": \"scatter\", \"xaxis\": \"x\", \"y\": [0.08788686434914839, 0.0889412263221787, 0.10529950685060682, 0.09242870580330897, 0.08905377137935279, 0.08575606785924249, 0.07643650221031174, 0.06249966653327997, 0.05333319835870857, 0.05317085318192738], \"yaxis\": \"y\"}],\n",
              "                        {\"legend\": {\"tracegroupgap\": 0}, \"margin\": {\"t\": 60}, \"template\": {\"data\": {\"bar\": [{\"error_x\": {\"color\": \"#2a3f5f\"}, \"error_y\": {\"color\": \"#2a3f5f\"}, \"marker\": {\"line\": {\"color\": \"#E5ECF6\", \"width\": 0.5}}, \"type\": \"bar\"}], \"barpolar\": [{\"marker\": {\"line\": {\"color\": \"#E5ECF6\", \"width\": 0.5}}, \"type\": \"barpolar\"}], \"carpet\": [{\"aaxis\": {\"endlinecolor\": \"#2a3f5f\", \"gridcolor\": \"white\", \"linecolor\": \"white\", \"minorgridcolor\": \"white\", \"startlinecolor\": \"#2a3f5f\"}, \"baxis\": {\"endlinecolor\": \"#2a3f5f\", \"gridcolor\": \"white\", \"linecolor\": \"white\", \"minorgridcolor\": \"white\", \"startlinecolor\": \"#2a3f5f\"}, \"type\": \"carpet\"}], \"choropleth\": [{\"colorbar\": {\"outlinewidth\": 0, \"ticks\": \"\"}, \"type\": \"choropleth\"}], \"contour\": [{\"colorbar\": {\"outlinewidth\": 0, \"ticks\": \"\"}, \"colorscale\": [[0.0, \"#0d0887\"], [0.1111111111111111, \"#46039f\"], [0.2222222222222222, \"#7201a8\"], [0.3333333333333333, \"#9c179e\"], [0.4444444444444444, \"#bd3786\"], [0.5555555555555556, \"#d8576b\"], [0.6666666666666666, \"#ed7953\"], [0.7777777777777778, \"#fb9f3a\"], [0.8888888888888888, \"#fdca26\"], [1.0, \"#f0f921\"]], \"type\": \"contour\"}], \"contourcarpet\": [{\"colorbar\": {\"outlinewidth\": 0, \"ticks\": \"\"}, \"type\": \"contourcarpet\"}], \"heatmap\": [{\"colorbar\": {\"outlinewidth\": 0, \"ticks\": \"\"}, \"colorscale\": [[0.0, \"#0d0887\"], [0.1111111111111111, \"#46039f\"], [0.2222222222222222, \"#7201a8\"], [0.3333333333333333, \"#9c179e\"], [0.4444444444444444, \"#bd3786\"], [0.5555555555555556, \"#d8576b\"], [0.6666666666666666, \"#ed7953\"], [0.7777777777777778, \"#fb9f3a\"], [0.8888888888888888, \"#fdca26\"], [1.0, \"#f0f921\"]], \"type\": \"heatmap\"}], \"heatmapgl\": [{\"colorbar\": {\"outlinewidth\": 0, \"ticks\": \"\"}, \"colorscale\": [[0.0, \"#0d0887\"], [0.1111111111111111, \"#46039f\"], [0.2222222222222222, \"#7201a8\"], [0.3333333333333333, \"#9c179e\"], [0.4444444444444444, \"#bd3786\"], [0.5555555555555556, \"#d8576b\"], [0.6666666666666666, \"#ed7953\"], [0.7777777777777778, \"#fb9f3a\"], [0.8888888888888888, \"#fdca26\"], [1.0, \"#f0f921\"]], \"type\": \"heatmapgl\"}], \"histogram\": [{\"marker\": {\"colorbar\": {\"outlinewidth\": 0, \"ticks\": \"\"}}, \"type\": \"histogram\"}], \"histogram2d\": [{\"colorbar\": {\"outlinewidth\": 0, \"ticks\": \"\"}, \"colorscale\": [[0.0, \"#0d0887\"], [0.1111111111111111, \"#46039f\"], [0.2222222222222222, \"#7201a8\"], [0.3333333333333333, \"#9c179e\"], [0.4444444444444444, \"#bd3786\"], [0.5555555555555556, \"#d8576b\"], [0.6666666666666666, \"#ed7953\"], [0.7777777777777778, \"#fb9f3a\"], [0.8888888888888888, \"#fdca26\"], [1.0, \"#f0f921\"]], \"type\": \"histogram2d\"}], \"histogram2dcontour\": [{\"colorbar\": {\"outlinewidth\": 0, \"ticks\": \"\"}, \"colorscale\": [[0.0, \"#0d0887\"], [0.1111111111111111, \"#46039f\"], [0.2222222222222222, \"#7201a8\"], [0.3333333333333333, \"#9c179e\"], [0.4444444444444444, \"#bd3786\"], [0.5555555555555556, \"#d8576b\"], [0.6666666666666666, \"#ed7953\"], [0.7777777777777778, \"#fb9f3a\"], [0.8888888888888888, \"#fdca26\"], [1.0, \"#f0f921\"]], \"type\": \"histogram2dcontour\"}], \"mesh3d\": [{\"colorbar\": {\"outlinewidth\": 0, \"ticks\": \"\"}, \"type\": \"mesh3d\"}], \"parcoords\": [{\"line\": {\"colorbar\": {\"outlinewidth\": 0, \"ticks\": \"\"}}, \"type\": \"parcoords\"}], \"pie\": [{\"automargin\": true, \"type\": \"pie\"}], \"scatter\": [{\"marker\": {\"colorbar\": {\"outlinewidth\": 0, \"ticks\": \"\"}}, \"type\": \"scatter\"}], \"scatter3d\": [{\"line\": {\"colorbar\": {\"outlinewidth\": 0, \"ticks\": \"\"}}, \"marker\": {\"colorbar\": {\"outlinewidth\": 0, \"ticks\": \"\"}}, \"type\": \"scatter3d\"}], \"scattercarpet\": [{\"marker\": {\"colorbar\": {\"outlinewidth\": 0, \"ticks\": \"\"}}, \"type\": \"scattercarpet\"}], \"scattergeo\": [{\"marker\": {\"colorbar\": {\"outlinewidth\": 0, \"ticks\": \"\"}}, \"type\": \"scattergeo\"}], \"scattergl\": [{\"marker\": {\"colorbar\": {\"outlinewidth\": 0, \"ticks\": \"\"}}, \"type\": \"scattergl\"}], \"scattermapbox\": [{\"marker\": {\"colorbar\": {\"outlinewidth\": 0, \"ticks\": \"\"}}, \"type\": \"scattermapbox\"}], \"scatterpolar\": [{\"marker\": {\"colorbar\": {\"outlinewidth\": 0, \"ticks\": \"\"}}, \"type\": \"scatterpolar\"}], \"scatterpolargl\": [{\"marker\": {\"colorbar\": {\"outlinewidth\": 0, \"ticks\": \"\"}}, \"type\": \"scatterpolargl\"}], \"scatterternary\": [{\"marker\": {\"colorbar\": {\"outlinewidth\": 0, \"ticks\": \"\"}}, \"type\": \"scatterternary\"}], \"surface\": [{\"colorbar\": {\"outlinewidth\": 0, \"ticks\": \"\"}, \"colorscale\": [[0.0, \"#0d0887\"], [0.1111111111111111, \"#46039f\"], [0.2222222222222222, \"#7201a8\"], [0.3333333333333333, \"#9c179e\"], [0.4444444444444444, \"#bd3786\"], [0.5555555555555556, \"#d8576b\"], [0.6666666666666666, \"#ed7953\"], [0.7777777777777778, \"#fb9f3a\"], [0.8888888888888888, \"#fdca26\"], [1.0, \"#f0f921\"]], \"type\": \"surface\"}], \"table\": [{\"cells\": {\"fill\": {\"color\": \"#EBF0F8\"}, \"line\": {\"color\": \"white\"}}, \"header\": {\"fill\": {\"color\": \"#C8D4E3\"}, \"line\": {\"color\": \"white\"}}, \"type\": \"table\"}]}, \"layout\": {\"annotationdefaults\": {\"arrowcolor\": \"#2a3f5f\", \"arrowhead\": 0, \"arrowwidth\": 1}, \"coloraxis\": {\"colorbar\": {\"outlinewidth\": 0, \"ticks\": \"\"}}, \"colorscale\": {\"diverging\": [[0, \"#8e0152\"], [0.1, \"#c51b7d\"], [0.2, \"#de77ae\"], [0.3, \"#f1b6da\"], [0.4, \"#fde0ef\"], [0.5, \"#f7f7f7\"], [0.6, \"#e6f5d0\"], [0.7, \"#b8e186\"], [0.8, \"#7fbc41\"], [0.9, \"#4d9221\"], [1, \"#276419\"]], \"sequential\": [[0.0, \"#0d0887\"], [0.1111111111111111, \"#46039f\"], [0.2222222222222222, \"#7201a8\"], [0.3333333333333333, \"#9c179e\"], [0.4444444444444444, \"#bd3786\"], [0.5555555555555556, \"#d8576b\"], [0.6666666666666666, \"#ed7953\"], [0.7777777777777778, \"#fb9f3a\"], [0.8888888888888888, \"#fdca26\"], [1.0, \"#f0f921\"]], \"sequentialminus\": [[0.0, \"#0d0887\"], [0.1111111111111111, \"#46039f\"], [0.2222222222222222, \"#7201a8\"], [0.3333333333333333, \"#9c179e\"], [0.4444444444444444, \"#bd3786\"], [0.5555555555555556, \"#d8576b\"], [0.6666666666666666, \"#ed7953\"], [0.7777777777777778, \"#fb9f3a\"], [0.8888888888888888, \"#fdca26\"], [1.0, \"#f0f921\"]]}, \"colorway\": [\"#636efa\", \"#EF553B\", \"#00cc96\", \"#ab63fa\", \"#FFA15A\", \"#19d3f3\", \"#FF6692\", \"#B6E880\", \"#FF97FF\", \"#FECB52\"], \"font\": {\"color\": \"#2a3f5f\"}, \"geo\": {\"bgcolor\": \"white\", \"lakecolor\": \"white\", \"landcolor\": \"#E5ECF6\", \"showlakes\": true, \"showland\": true, \"subunitcolor\": \"white\"}, \"hoverlabel\": {\"align\": \"left\"}, \"hovermode\": \"closest\", \"mapbox\": {\"style\": \"light\"}, \"paper_bgcolor\": \"white\", \"plot_bgcolor\": \"#E5ECF6\", \"polar\": {\"angularaxis\": {\"gridcolor\": \"white\", \"linecolor\": \"white\", \"ticks\": \"\"}, \"bgcolor\": \"#E5ECF6\", \"radialaxis\": {\"gridcolor\": \"white\", \"linecolor\": \"white\", \"ticks\": \"\"}}, \"scene\": {\"xaxis\": {\"backgroundcolor\": \"#E5ECF6\", \"gridcolor\": \"white\", \"gridwidth\": 2, \"linecolor\": \"white\", \"showbackground\": true, \"ticks\": \"\", \"zerolinecolor\": \"white\"}, \"yaxis\": {\"backgroundcolor\": \"#E5ECF6\", \"gridcolor\": \"white\", \"gridwidth\": 2, \"linecolor\": \"white\", \"showbackground\": true, \"ticks\": \"\", \"zerolinecolor\": \"white\"}, \"zaxis\": {\"backgroundcolor\": \"#E5ECF6\", \"gridcolor\": \"white\", \"gridwidth\": 2, \"linecolor\": \"white\", \"showbackground\": true, \"ticks\": \"\", \"zerolinecolor\": \"white\"}}, \"shapedefaults\": {\"line\": {\"color\": \"#2a3f5f\"}}, \"ternary\": {\"aaxis\": {\"gridcolor\": \"white\", \"linecolor\": \"white\", \"ticks\": \"\"}, \"baxis\": {\"gridcolor\": \"white\", \"linecolor\": \"white\", \"ticks\": \"\"}, \"bgcolor\": \"#E5ECF6\", \"caxis\": {\"gridcolor\": \"white\", \"linecolor\": \"white\", \"ticks\": \"\"}}, \"title\": {\"x\": 0.05}, \"xaxis\": {\"automargin\": true, \"gridcolor\": \"white\", \"linecolor\": \"white\", \"ticks\": \"\", \"title\": {\"standoff\": 15}, \"zerolinecolor\": \"white\", \"zerolinewidth\": 2}, \"yaxis\": {\"automargin\": true, \"gridcolor\": \"white\", \"linecolor\": \"white\", \"ticks\": \"\", \"title\": {\"standoff\": 15}, \"zerolinecolor\": \"white\", \"zerolinewidth\": 2}}}, \"xaxis\": {\"anchor\": \"y\", \"domain\": [0.0, 1.0]}, \"yaxis\": {\"anchor\": \"x\", \"domain\": [0.0, 1.0], \"title\": {\"text\": \"y\"}}},\n",
              "                        {\"responsive\": true}\n",
              "                    ).then(function(){\n",
              "                            \n",
              "var gd = document.getElementById('eab3581f-a989-48d5-acfc-b8998b1a49b1');\n",
              "var x = new MutationObserver(function (mutations, observer) {{\n",
              "        var display = window.getComputedStyle(gd).display;\n",
              "        if (!display || display === 'none') {{\n",
              "            console.log([gd, 'removed!']);\n",
              "            Plotly.purge(gd);\n",
              "            observer.disconnect();\n",
              "        }}\n",
              "}});\n",
              "\n",
              "// Listen for the removal of the full notebook cells\n",
              "var notebookContainer = gd.closest('#notebook-container');\n",
              "if (notebookContainer) {{\n",
              "    x.observe(notebookContainer, {childList: true});\n",
              "}}\n",
              "\n",
              "// Listen for the clearing of the current output cell\n",
              "var outputEl = gd.closest('.output');\n",
              "if (outputEl) {{\n",
              "    x.observe(outputEl, {childList: true});\n",
              "}}\n",
              "\n",
              "                        })\n",
              "                };\n",
              "                \n",
              "            </script>\n",
              "        </div>\n",
              "</body>\n",
              "</html>"
            ]
          },
          "metadata": {
            "tags": []
          }
        },
        {
          "output_type": "execute_result",
          "data": {
            "text/plain": [
              "[0.08788686434914839,\n",
              " 0.0889412263221787,\n",
              " 0.10529950685060682,\n",
              " 0.09242870580330897,\n",
              " 0.08905377137935279,\n",
              " 0.08575606785924249,\n",
              " 0.07643650221031174,\n",
              " 0.06249966653327997,\n",
              " 0.05333319835870857,\n",
              " 0.05317085318192738]"
            ]
          },
          "metadata": {
            "tags": []
          },
          "execution_count": 96
        }
      ]
    },
    {
      "cell_type": "markdown",
      "metadata": {
        "id": "Y3ZPMelhFE1o",
        "colab_type": "text"
      },
      "source": [
        "# Bin"
      ]
    },
    {
      "cell_type": "code",
      "metadata": {
        "id": "kX8fAB3j3leh",
        "colab_type": "code",
        "colab": {}
      },
      "source": [
        "from statsmodels.tsa.arima_model import ARIMA\n",
        "\n",
        "#https://medium.com/spikelab/forecasting-multiples-time-series-using-prophet-in-parallel-2515abd1a245 \n",
        "\n",
        "#https://www.ethanrosenthal.com/2019/02/18/time-series-for-scikit-learn-people-part3/ FOR GETTING FIXED LENGTH HISTORY\n"
      ],
      "execution_count": 0,
      "outputs": []
    },
    {
      "cell_type": "code",
      "metadata": {
        "id": "Y5Kv62m0FgCP",
        "colab_type": "code",
        "colab": {}
      },
      "source": [
        "ns = []\n",
        "mses = []\n",
        "\n",
        "for i in range(2,15):\n",
        "    # model = KNeighborsRegressor(n_neighbors=i, p = 2, n_jobs =16, leaf_size=15)\n",
        "\n",
        "    # params = {'n_estimators': 500, 'max_depth': i, 'min_samples_split': 2,\n",
        "    #       'learning_rate': 0.005, 'loss': 'huber'}\n",
        "    # model = ensemble.GradientBoostingRegressor(**params)\n",
        "\n",
        "    model = ensemble.BaggingRegressor(base_estimator=ensemble.GradientBoostingRegressor(), n_estimators=i*10, random_state=0)\n",
        "    \n",
        "    model.fit(X_train, y_train.reshape(-1).ravel())\n",
        "\n",
        "    predictions = model.predict(X_train)\n",
        "    mse = (((predictions.reshape(-1) - y_train.reshape(-1)) ** 2).sum()) / len(predictions)\n",
        "    ns.append(i)\n",
        "    mses.append(mse)\n",
        "\n",
        "fig = go.Figure()\n",
        "print(min(mses))\n",
        "print(mses.index(min(mses))+1)\n",
        "fig = px.scatter(x=ns, y=mses)\n",
        "fig.show()"
      ],
      "execution_count": 0,
      "outputs": []
    }
  ]
}